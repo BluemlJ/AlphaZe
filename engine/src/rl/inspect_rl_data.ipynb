{
 "cells": [
  {
   "cell_type": "code",
   "execution_count": null,
   "metadata": {},
   "outputs": [],
   "source": [
    "import sys\n",
    "import mxnet as mx\n",
    "sys.path.append('../../../')\n",
    "from DeepCrazyhouse.src.preprocessing.dataset_loader import load_pgn_dataset\n",
    "from DeepCrazyhouse.src.runtime.color_logger import enable_color_logging\n",
    "from DeepCrazyhouse.src.training.crossentropy import *\n",
    "\n",
    "import DeepCrazyhouse.src.domain.variants.constants as constants\n",
    "import DeepCrazyhouse.src.domain.variants.plane_policy_representation\n",
    "import zarr\n",
    "import numpy as np\n",
    "import matplotlib.pyplot as plt\n",
    "%matplotlib inline"
   ]
  },
  {
   "cell_type": "code",
   "execution_count": null,
   "metadata": {},
   "outputs": [],
   "source": [
    "enable_color_logging()"
   ]
  },
  {
   "cell_type": "code",
   "execution_count": null,
   "metadata": {},
   "outputs": [],
   "source": [
    "start_indices, x, y_value, y_policy, _, _ = load_pgn_dataset(dataset_type=\"train\",\n",
    "                                                         part_id=0,\n",
    "                                                         normalize=True,\n",
    "                                                         verbose=True)"
   ]
  },
  {
   "cell_type": "markdown",
   "metadata": {},
   "source": [
    "### This is how you would load the data from uncompressed form"
   ]
  },
  {
   "cell_type": "markdown",
   "metadata": {
    "collapsed": true
   },
   "source": [
    "data = zarr.load('/media/queensgambit/Volume/Deep_Learning/projects/CrazyAra/engine/src/rl/data_gpu_0.zarr')\n",
    "start_indices = data['start_indices']\n",
    "x = data['x']\n",
    "y_policy = data['y_policy']\n",
    "y_value = data['y_value']\n",
    "y_best_move_q = data['y_best_move_q']"
   ]
  },
  {
   "cell_type": "code",
   "execution_count": null,
   "metadata": {},
   "outputs": [],
   "source": [
    "start_indices"
   ]
  },
  {
   "cell_type": "markdown",
   "metadata": {},
   "source": [
    "### Check for possible NaN values"
   ]
  },
  {
   "cell_type": "code",
   "execution_count": null,
   "metadata": {},
   "outputs": [],
   "source": [
    "nan_idx = np.isnan(y_policy).argmax()\n",
    "nan_idx //= y_policy.shape[1]\n",
    "nan_idx"
   ]
  },
  {
   "cell_type": "code",
   "execution_count": null,
   "metadata": {},
   "outputs": [],
   "source": [
    "path = \"/media/queensgambit/Volume/Deep_Learning/data/RL/weights/\""
   ]
  },
  {
   "cell_type": "markdown",
   "metadata": {},
   "source": [
    "## load gluon model from MXNet checkpoint"
   ]
  },
  {
   "cell_type": "code",
   "execution_count": null,
   "metadata": {},
   "outputs": [],
   "source": [
    "def load_gluon_net_from_mxnet_checkpoint(symbol_file: str, param_file: str, ctx, input_name='data'):\n",
    "    \"\"\"\n",
    "    Loads a gluon style net based on a checkpoint which was initially created in MXNet symbol format.\n",
    "    The alternative standard gluon.nn.SymbolBlock.imports() returns an error that the parameter for the labels are missing.\n",
    "    :param symbol_file: Filename of the symbol architecture to load\n",
    "    :param param_file: Filename of the parameter weights\n",
    "    :param ctx: Context to use\n",
    "    :param input_name: Input name for the data of the model\n",
    "    :return:\n",
    "    \"\"\"\n",
    "    symbol = mx.sym.load(symbol_file)\n",
    "    inputs = mx.sym.var(input_name, dtype='float32')\n",
    "    value_out = symbol.get_internals()['value_tanh0_output']#['value_output']\n",
    "    policy_out = symbol.get_internals()['flatten0_output']#['policy_output']\n",
    "    policy_out = mx.sym.SoftmaxActivation(data=policy_out, name='policy')\n",
    "    sym = mx.symbol.Group([value_out, policy_out])\n",
    "    net = mx.gluon.SymbolBlock(sym, inputs)\n",
    "    # we need to init all params first, otherwise we get an error that \"*_label\" has not been initialized\n",
    "    #net.initialize(ctx=ctx)\n",
    "    net.collect_params('.*weight|.*bias|.*gamma|.*beta|.*mean|.*var').load(param_file, ctx)\n",
    "    return net"
   ]
  },
  {
   "cell_type": "code",
   "execution_count": null,
   "metadata": {},
   "outputs": [],
   "source": [
    "path = \"/media/queensgambit/Volume/Deep_Learning/data/RL/weights/\""
   ]
  },
  {
   "cell_type": "code",
   "execution_count": null,
   "metadata": {},
   "outputs": [],
   "source": [
    "model_arch_path = path+\"model-1.29188-1.000-symbol.json\"\n",
    "model_params_path = path+\"model-1.29188-1.000-0008.params\""
   ]
  },
  {
   "cell_type": "code",
   "execution_count": null,
   "metadata": {},
   "outputs": [],
   "source": [
    "net = load_gluon_net_from_mxnet_checkpoint(model_arch_path, model_params_path, mx.gpu())"
   ]
  },
  {
   "cell_type": "code",
   "execution_count": null,
   "metadata": {},
   "outputs": [],
   "source": [
    "net.export('model-1.29188-1.000-softmax', epoch=8)"
   ]
  },
  {
   "cell_type": "markdown",
   "metadata": {},
   "source": [
    "## be careful argmax() isn't necessarily the choosen move in game"
   ]
  },
  {
   "cell_type": "code",
   "execution_count": null,
   "metadata": {
    "scrolled": false
   },
   "outputs": [],
   "source": [
    "idx = 0\n",
    "for i in range(idx, idx+15):\n",
    "    plt.imshow(plane_representation.get_plane_vis(x[i]), cmap='coolwarm_r')\n",
    "    plt.show()\n",
    "    \n",
    "    max_idx = y_policy[i].argmax()\n",
    "    max_val = y_policy[i][max_idx]\n",
    "    y_policy[i][max_idx] = 0\n",
    "    second_max_idx = y_policy[i].argmax()\n",
    "    y_policy[i][max_idx] = max_val\n",
    "\n",
    "    if i % 2 == 0:\n",
    "        print(constants.LABELS[max_idx], y_policy[i][max_idx])\n",
    "        print(constants.LABELS[second_max_idx], y_policy[i][second_max_idx])\n",
    "    else:\n",
    "        print(constants.LABELS_MIRRORED[max_idx], y_policy[i][max_idx])\n",
    "        print(constants.LABELS_MIRRORED[second_max_idx], y_policy[i][second_max_idx])\n",
    "\n",
    "    #print(y_best_move_q[i])\n",
    "    print(y_value[i])"
   ]
  },
  {
   "cell_type": "code",
   "execution_count": null,
   "metadata": {},
   "outputs": [],
   "source": [
    "second_max_policy = y_policy[1]"
   ]
  },
  {
   "cell_type": "code",
   "execution_count": null,
   "metadata": {},
   "outputs": [],
   "source": [
    "second_max_policy[second_max_policy.argmax()] = 0"
   ]
  },
  {
   "cell_type": "code",
   "execution_count": null,
   "metadata": {},
   "outputs": [],
   "source": [
    "constants.LABELS_MIRRORED[second_max_policy.argmax()]"
   ]
  },
  {
   "cell_type": "code",
   "execution_count": null,
   "metadata": {},
   "outputs": [],
   "source": [
    "plt.plot(y_policy[1])"
   ]
  },
  {
   "cell_type": "code",
   "execution_count": null,
   "metadata": {},
   "outputs": [],
   "source": [
    "y_value[:14]"
   ]
  },
  {
   "cell_type": "code",
   "execution_count": null,
   "metadata": {},
   "outputs": [],
   "source": [
    "plt.plot(y_best_move_q[:14], 'o-')"
   ]
  },
  {
   "cell_type": "code",
   "execution_count": null,
   "metadata": {},
   "outputs": [],
   "source": [
    "plt.plot(y_value[:14], 'o-')"
   ]
  },
  {
   "cell_type": "code",
   "execution_count": null,
   "metadata": {},
   "outputs": [],
   "source": [
    "start_indices"
   ]
  },
  {
   "cell_type": "code",
   "execution_count": null,
   "metadata": {},
   "outputs": [],
   "source": [
    "len(y_value)"
   ]
  },
  {
   "cell_type": "code",
   "execution_count": null,
   "metadata": {},
   "outputs": [],
   "source": [
    "plt.plot(y_value[idx:idx+14], 'o-')"
   ]
  },
  {
   "cell_type": "code",
   "execution_count": null,
   "metadata": {},
   "outputs": [],
   "source": []
  }
 ],
 "metadata": {
  "kernelspec": {
   "display_name": "Python 3",
   "language": "python",
   "name": "python3"
  },
  "language_info": {
   "codemirror_mode": {
    "name": "ipython",
    "version": 3
   },
   "file_extension": ".py",
   "mimetype": "text/x-python",
   "name": "python",
   "nbconvert_exporter": "python",
   "pygments_lexer": "ipython3",
   "version": "3.8.3"
  }
 },
 "nbformat": 4,
 "nbformat_minor": 2
}

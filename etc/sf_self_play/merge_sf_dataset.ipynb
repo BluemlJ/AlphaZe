{
 "cells": [
  {
   "cell_type": "markdown",
   "metadata": {},
   "source": [
    "### Merge Stockfish self play dataset\n",
    "\n",
    "Merges the different parts of the generated games uploaded by \n",
    "crazyhorse, ObiWanBenoni, Pichau,varvarakh and queensgambit\n",
    "\n",
    "* author: QueensGambit\n",
    "* parts of the code are based on a template written by `Matuiss2` on discord\n",
    "* This code only works for single thread but given the dataset is realtively small it's should execute in < 3min"
   ]
  },
  {
   "cell_type": "code",
   "execution_count": 1,
   "metadata": {
    "collapsed": true
   },
   "outputs": [],
   "source": [
    "import chess.pgn\n",
    "import glob\n",
    "import matplotlib.pyplot as plt\n",
    "from sklearn.model_selection import train_test_split\n",
    "%matplotlib inline\n",
    "plt.style.use('seaborn-whitegrid')"
   ]
  },
  {
   "cell_type": "markdown",
   "metadata": {},
   "source": [
    "### Settings"
   ]
  },
  {
   "cell_type": "code",
   "execution_count": 2,
   "metadata": {
    "collapsed": true
   },
   "outputs": [],
   "source": [
    "dataset_dir = \"/media/queensgambit/5C483A84483A5CC8/Deep_Learning/data/stockfish/sf_vs_sf_selfplay/parts/\"\n",
    "export_full_dataset = True\n",
    "export_plots = True"
   ]
  },
  {
   "cell_type": "code",
   "execution_count": 3,
   "metadata": {
    "collapsed": true
   },
   "outputs": [],
   "source": [
    "pgns = glob.glob(dataset_dir + '*.pgn')"
   ]
  },
  {
   "cell_type": "code",
   "execution_count": 4,
   "metadata": {
    "collapsed": true
   },
   "outputs": [],
   "source": [
    "if len(pgns) == 0:\n",
    "    raise Exception('No pgns files are found in the directory %s' % dataset_dir)"
   ]
  },
  {
   "cell_type": "code",
   "execution_count": 5,
   "metadata": {
    "collapsed": true
   },
   "outputs": [],
   "source": [
    "def read_one_game(pgn):\n",
    "    full_game = \"\"\n",
    "        \n",
    "    line = pgn.readline()\n",
    "    # check if the word \"Event\" is found in the first line\n",
    "    # if this is the case you call read_one_game(pgn) again\n",
    "    event_found = \"Event\" in line\n",
    "\n",
    "    full_game += line\n",
    "\n",
    "    while line.strip() != '':\n",
    "        line = pgn.readline()\n",
    "        full_game += line\n",
    "        \n",
    "    if event_found is True:\n",
    "        return full_game + read_one_game(pgn)\n",
    "    else:\n",
    "        return full_game"
   ]
  },
  {
   "cell_type": "code",
   "execution_count": 6,
   "metadata": {},
   "outputs": [
    {
     "name": "stdout",
     "output_type": "stream",
     "text": [
      "121571  games total\n",
      "White-Black-Draw: 80303-38796-2472\n",
      "White-Black-Draw: 66.05% 31.91% 2.03%\n"
     ]
    }
   ],
   "source": [
    "total = white = black = draw = 0\n",
    "\n",
    "full_dataset_file = open\n",
    "for pgn in pgns:\n",
    "    pgn_file = open(pgn)\n",
    "    \n",
    "    for game in pgn_file:\n",
    "        header = str(chess.pgn.read_headers(pgn_file))\n",
    "        # make sure that the Termination wasn't \"abandoned\" or \"unterminated\"\n",
    "        if 'Termination' not in header and \"Result='?'\" not in header: # everything was good\n",
    "            total += 1\n",
    "            if \"Result='1-0'\" in header:\n",
    "                white += 1\n",
    "            elif \"Result='0-1'\" in header:\n",
    "                black += 1\n",
    "            elif \"Result='1/2-1/2'\" in header:\n",
    "                draw += 1\n",
    "            else:\n",
    "                raise Exception(\"Illegal header: %s\" % header)\n",
    "\n",
    "print(total, \" games total\")\n",
    "print(\"White-Black-Draw: {}-{}-{}\".format(white, black, draw))\n",
    "print(\n",
    "    \"White-Black-Draw: {}% {}% {}%\".format(\n",
    "        round(white * 100 / total, 2), round(black * 100 / total, 2), round(draw * 100 / total, 2)\n",
    "    )\n",
    ")"
   ]
  },
  {
   "cell_type": "code",
   "execution_count": 7,
   "metadata": {},
   "outputs": [
    {
     "name": "stdout",
     "output_type": "stream",
     "text": [
      "All OK\n"
     ]
    }
   ],
   "source": [
    "if white+black+draw != total:\n",
    "    raise Exception(\"Illegal state white+black+draw=%d and total=%d\" % (white+black+draw, total))\n",
    "else:\n",
    "    print(\"All OK\")    "
   ]
  },
  {
   "cell_type": "markdown",
   "metadata": {},
   "source": [
    "### Create a plot"
   ]
  },
  {
   "cell_type": "code",
   "execution_count": 8,
   "metadata": {},
   "outputs": [
    {
     "data": {
      "image/png": "[encoded data removed]",
      "text/plain": [
       "<Figure size 432x288 with 1 Axes>"
      ]
     },
     "metadata": {},
     "output_type": "display_data"
    }
   ],
   "source": [
    "plt.barh(range(3), [draw,black, white])\n",
    "ax = plt.gca()\n",
    "ax.set_yticks(range(3))\n",
    "ax.set_yticklabels([\"1/2-1/2\", \"0-1\", \"1-0\"])\n",
    "plt.title('Stockfish 10 Crazyhouse - Self play dataset\\n %d games - White-Black-Draw: %d-%d-%d \\n \\\n",
    "1 million+/-100k nodes / position' % (total, white, black, draw))\n",
    "plt.xlabel('Number of games')\n",
    "plt.ylabel('Result')\n",
    "plt.tight_layout()\n",
    "if export_plots is True:\n",
    "    plt.savefig('sf_self_play_dataset_stats.png')\n",
    "    plt.savefig('sf_self_play_dataset_stats.pdf')    "
   ]
  },
  {
   "cell_type": "markdown",
   "metadata": {},
   "source": [
    "### Define the train, test and validation sets"
   ]
  },
  {
   "cell_type": "code",
   "execution_count": 9,
   "metadata": {
    "collapsed": true
   },
   "outputs": [],
   "source": [
    "train_idcs, test_val_idcs = train_test_split(range(total), test_size=round(2000 / total, 5), random_state=42)"
   ]
  },
  {
   "cell_type": "code",
   "execution_count": 10,
   "metadata": {
    "collapsed": true
   },
   "outputs": [],
   "source": [
    "test_idcs, val_idcs = train_test_split(test_val_idcs, test_size=0.5, random_state=42)"
   ]
  },
  {
   "cell_type": "code",
   "execution_count": 11,
   "metadata": {},
   "outputs": [
    {
     "name": "stdout",
     "output_type": "stream",
     "text": [
      "119571 training samples - 1000 validation samples - 1000 test samples\n"
     ]
    }
   ],
   "source": [
    "print(\"%d training samples - %d validation samples - %d test samples\" % (len(train_idcs), len(val_idcs), len(test_idcs))) "
   ]
  },
  {
   "cell_type": "code",
   "execution_count": 12,
   "metadata": {},
   "outputs": [],
   "source": [
    "if export_full_dataset is True:\n",
    "    full_dataset = open(\"sf_vs_sf_cz_full_dataset.pgn\", 'w')\n",
    "    train_dataset = open(\"train/sf_vs_sf_cz_train.pgn\", 'w')\n",
    "    val_dataset = open(\"val/sf_vs_sf_cz_validation.pgn\", 'w')    \n",
    "    test_dataset = open(\"test/sf_vs_sf_cz_test.pgn\", 'w')"
   ]
  },
  {
   "cell_type": "markdown",
   "metadata": {},
   "source": [
    "### Export the dataset and the different splits"
   ]
  },
  {
   "cell_type": "code",
   "execution_count": 13,
   "metadata": {
    "scrolled": false
   },
   "outputs": [
    {
     "name": "stdout",
     "output_type": "stream",
     "text": [
      "121571  games total\n",
      "White-Black-Draw: 80303-38796-2472\n",
      "White-Black-Draw: 66.05% 31.91% 2.03%\n"
     ]
    }
   ],
   "source": [
    "total = white = black = draw = 0\n",
    "\n",
    "full_dataset_file = open\n",
    "\n",
    "game_idx = 0\n",
    "\n",
    "for pgn in pgns:\n",
    "    pgn_file = open(pgn)\n",
    "    game = None\n",
    "    \n",
    "    game = read_one_game(pgn_file)\n",
    "    while game:\n",
    "        # make sure that the Termination wasn't \"abandoned\" or \"unterminated\"\n",
    "        if '1. ' in game and 'Termination' not in game: # everything was good\n",
    "            total += 1\n",
    "            if '[Result \"1-0\"]' in game:\n",
    "                white += 1\n",
    "            elif '[Result \"0-1\"]' in game:\n",
    "                black += 1               \n",
    "            elif '[Result \"1/2-1/2\"]' in game:\n",
    "                draw += 1\n",
    "            else:\n",
    "                raise Exception(\"Illegal header: %s\" % game)\n",
    "            \n",
    "            if export_full_dataset is True:\n",
    "                full_dataset.write(game)\n",
    "                \n",
    "                if game_idx in val_idcs:\n",
    "                    val_dataset.write(game)\n",
    "                elif game_idx in test_idcs:\n",
    "                    test_dataset.write(game)\n",
    "                #elif game_idx in train_idcs:\n",
    "                #    train_dataset.write(game)\n",
    "                else:\n",
    "                    train_dataset.write(game)\n",
    "                #    raise Exception(\"The given index %d couldn't be assigned.\" % game_idx)\n",
    "            # increase the game counter by 1\n",
    "            game_idx += 1\n",
    "\n",
    "        game = read_one_game(pgn_file)\n",
    "    pgn_file.close()\n",
    "print(total, \" games total\")\n",
    "print(\"White-Black-Draw: {}-{}-{}\".format(white, black, draw))\n",
    "print(\n",
    "    \"White-Black-Draw: {}% {}% {}%\".format(\n",
    "        round(white * 100 / total, 2), round(black * 100 / total, 2), round(draw * 100 / total, 2)\n",
    "    )\n",
    ")\n",
    "\n",
    "if export_full_dataset is True:\n",
    "    train_dataset.close()\n",
    "    val_dataset.close()\n",
    "    test_dataset.close()"
   ]
  },
  {
   "cell_type": "code",
   "execution_count": 14,
   "metadata": {},
   "outputs": [
    {
     "name": "stdout",
     "output_type": "stream",
     "text": [
      "All OK\n"
     ]
    }
   ],
   "source": [
    "if white+black+draw != total:\n",
    "    raise Exception(\"Illegal state white+black+draw=%d and total=%d\" % (white+black+draw, total))\n",
    "else:\n",
    "    print(\"All OK\")"
   ]
  },
  {
   "cell_type": "code",
   "execution_count": null,
   "metadata": {
    "collapsed": true
   },
   "outputs": [],
   "source": []
  }
 ],
 "metadata": {
  "kernelspec": {
   "display_name": "Python 3",
   "language": "python",
   "name": "python3"
  },
  "language_info": {
   "codemirror_mode": {
    "name": "ipython",
    "version": 3
   },
   "file_extension": ".py",
   "mimetype": "text/x-python",
   "name": "python",
   "nbconvert_exporter": "python",
   "pygments_lexer": "ipython3",
   "version": "3.6.2"
  }
 },
 "nbformat": 4,
 "nbformat_minor": 2
}

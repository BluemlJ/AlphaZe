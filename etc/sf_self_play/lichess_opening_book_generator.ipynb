{
 "cells": [
  {
   "cell_type": "markdown",
   "metadata": {},
   "source": [
    "## Opening Suite Generator\n",
    "\n",
    "Generates unique opening positions based on the neural network weights which\n",
    "was trained on the lichess.org database.\n",
    "Every move a new move is sampled from the neural net probability distribtions and applied to the game state.\n",
    "If the new resulting position has not been added to the suite before, the move ordering is added to the opening suite.\n",
    "Otherwise a new move is sampled from the resulting position.\n",
    "No noise is applied to the probability distribution"
   ]
  },
  {
   "cell_type": "code",
   "execution_count": null,
   "metadata": {},
   "outputs": [],
   "source": [
    "%load_ext autoreload\n",
    "%autoreload 2"
   ]
  },
  {
   "cell_type": "code",
   "execution_count": null,
   "metadata": {},
   "outputs": [],
   "source": [
    "%reload_ext autoreload"
   ]
  },
  {
   "cell_type": "code",
   "execution_count": null,
   "metadata": {},
   "outputs": [],
   "source": [
    "import chess\n",
    "import chess.variant\n",
    "import matplotlib.pyplot as plt\n",
    "import numpy as np\n",
    "import sys\n",
    "sys.path.insert(0,'../../')\n",
    "from DeepCrazyhouse.src.runtime.color_logger import enable_color_logging\n",
    "from DeepCrazyhouse.src.domain.agent.neural_net_api import NeuralNetAPI\n",
    "from DeepCrazyhouse.src.domain.agent.player.mcts_agent import MCTSAgent\n",
    "from DeepCrazyhouse.src.domain.agent.player.raw_net_agent import RawNetAgent\n",
    "from DeepCrazyhouse.src.domain.variants.game_state import GameState\n",
    "\n",
    "from tqdm import tnrange, tqdm_notebook\n",
    "import chess.pgn\n",
    "from time import time\n",
    "%matplotlib inline\n",
    "plt.style.use('seaborn-whitegrid')"
   ]
  },
  {
   "cell_type": "code",
   "execution_count": null,
   "metadata": {},
   "outputs": [],
   "source": [
    "batch_size = 8 #1 #8\n",
    "alpha = 0.2\n",
    "epsilon = 0.25\n",
    "nb_openings = int(1e3)"
   ]
  },
  {
   "cell_type": "code",
   "execution_count": null,
   "metadata": {},
   "outputs": [],
   "source": [
    "net = NeuralNetAPI(ctx='cpu', batch_size=batch_size)"
   ]
  },
  {
   "cell_type": "code",
   "execution_count": null,
   "metadata": {},
   "outputs": [],
   "source": [
    "raw_agent = RawNetAgent(net)"
   ]
  },
  {
   "cell_type": "code",
   "execution_count": null,
   "metadata": {},
   "outputs": [],
   "source": [
    "#board = chess.variant.CrazyhouseBoard()\n",
    "board = chess.variant.AtomicBoard()\n",
    "state = GameState(board)\n",
    "board"
   ]
  },
  {
   "cell_type": "code",
   "execution_count": null,
   "metadata": {},
   "outputs": [],
   "source": [
    "def plot_moves_with_prob(moves, probs, only_top_x=None):\n",
    "    \n",
    "    # revert the ordering afterwards\n",
    "    idx_order = np.argsort(probs)[::-1]\n",
    "    \n",
    "    if only_top_x is not None and only_top_x < len(idx_order):\n",
    "        idx_order = idx_order[:only_top_x]\n",
    "    \n",
    "    #moves_ordered = moves[range(len(moves))] #idx_order[::-1]]\n",
    "    probs_ordered = [] #probs[idx_order]\n",
    "    \n",
    "    moves_ordered = []\n",
    "    for idx in idx_order:\n",
    "        probs_ordered.append(probs[idx])\n",
    "        moves_ordered.append(moves[idx])\n",
    "        \n",
    "    plt.barh(range(len(probs_ordered)), probs_ordered)\n",
    "    plt.yticks(range(len(moves_ordered)), moves_ordered)\n"
   ]
  },
  {
   "cell_type": "code",
   "execution_count": null,
   "metadata": {},
   "outputs": [],
   "source": [
    "t_s = time()\n",
    "pred_value, legal_moves, p_vec_small, cp, depth, nodes, time_elapsed_s, nps, pv = raw_agent.evaluate_board_state(state)\n",
    "print('Elapsed time: %.4fs' % (time()-t_s))"
   ]
  },
  {
   "cell_type": "code",
   "execution_count": null,
   "metadata": {},
   "outputs": [],
   "source": [
    "plot_moves_with_prob(legal_moves, p_vec_small, only_top_x=10)"
   ]
  },
  {
   "cell_type": "code",
   "execution_count": null,
   "metadata": {},
   "outputs": [],
   "source": [
    "dirichlet_noise = np.random.dirichlet([alpha] * len(legal_moves))\n",
    "#dirichlet_noise = np.ones(len(legal_moves)) * 1/len(legal_moves)\n",
    "p_vec_small = (1 - epsilon) * p_vec_small + epsilon * dirichlet_noise"
   ]
  },
  {
   "cell_type": "code",
   "execution_count": null,
   "metadata": {},
   "outputs": [],
   "source": [
    "plot_moves_with_prob(legal_moves, p_vec_small, only_top_x=10)"
   ]
  },
  {
   "cell_type": "code",
   "execution_count": null,
   "metadata": {},
   "outputs": [],
   "source": [
    "opening_states = {}"
   ]
  },
  {
   "cell_type": "code",
   "execution_count": null,
   "metadata": {},
   "outputs": [],
   "source": [
    "plys_state = np.zeros(nb_openings)\n",
    "for i in tnrange(nb_openings, desc='generated openings'):\n",
    "    # create a new entry in the dictionary\n",
    "    state.new_game()\n",
    "    game = chess.pgn.Game()\n",
    "    game.headers[\"Event\"] = \"Lichess Opening Explorer\"# (0.25 Dirichlet Noise)\"\n",
    "    game.headers[\"Variant\"] = \"atomic\" #\"crazyhouse\"\n",
    "    game.headers[\"Date\"] = \"2020.10.26\" #\"2018.12.31\"\n",
    "    plys = 0\n",
    "\n",
    "    node = None\n",
    "    while True:\n",
    "        plys += 1\n",
    "        pred_value, legal_moves, p_vec_small, cp, depth, nodes, time_elapsed_s, nps, pv = raw_agent.evaluate_board_state(state)\n",
    "        #dirichlet_noise = np.random.dirichlet([alpha] * len(legal_moves))\n",
    "        #p_vec_small = (1 - epsilon) * p_vec_small + epsilon * dirichlet_noise\n",
    "\n",
    "        # make sure the probabilities will sum up to 1\n",
    "        #p_vec_small /= p_vec_small.sum()\n",
    "        sel_move = np.random.choice(legal_moves, p=p_vec_small)\n",
    "        \n",
    "        if node is None:\n",
    "            # create a new node\n",
    "            node = game.add_variation(sel_move)\n",
    "        else:\n",
    "            # add the move to the existing node\n",
    "            node = node.add_variation(sel_move)\n",
    "\n",
    "        #print(sel_move.uci(), end=\" \")\n",
    "        state.apply_move(sel_move)\n",
    "        transpos_key = state.get_transposition_key()\n",
    "        if transpos_key not in opening_states:\n",
    "            opening_states[transpos_key] = True\n",
    "            plys_state[i] = plys\n",
    "            break\n",
    "    #print()\n",
    "    \n",
    "    with open('lichess_atomic_startpos.pgn', 'a') as f:\n",
    "        f.write(str(game) +'\\n\\n')\n"
   ]
  },
  {
   "cell_type": "code",
   "execution_count": null,
   "metadata": {},
   "outputs": [],
   "source": [
    "print('Statistics: Half Moves %.2f +/- %.2f' % (plys_state.mean(), plys_state.std()))"
   ]
  },
  {
   "cell_type": "code",
   "execution_count": null,
   "metadata": {},
   "outputs": [],
   "source": []
  }
 ],
 "metadata": {
  "kernelspec": {
   "display_name": "Python 3",
   "language": "python",
   "name": "python3"
  },
  "language_info": {
   "codemirror_mode": {
    "name": "ipython",
    "version": 3
   },
   "file_extension": ".py",
   "mimetype": "text/x-python",
   "name": "python",
   "nbconvert_exporter": "python",
   "pygments_lexer": "ipython3",
   "version": "3.7.6"
  }
 },
 "nbformat": 4,
 "nbformat_minor": 2
}

{
 "cells": [
  {
   "cell_type": "code",
   "execution_count": null,
   "metadata": {
    "collapsed": true
   },
   "outputs": [],
   "source": [
    "import mxnet as mx\n",
    "import numpy as np\n",
    "from mxnet import profiler"
   ]
  },
  {
   "cell_type": "code",
   "execution_count": null,
   "metadata": {
    "collapsed": true
   },
   "outputs": [],
   "source": [
    "sym, arg_params, aux_params = mx.model.load_checkpoint('model-1.19246-0.603', 223)\n",
    "sample = mx.ndarray.zeros((1, 34, 8, 8))\n",
    "it = int(1e4)\n",
    "ctx = mx.gpu() # mx.cpu()\n",
    "executor = sym.simple_bind(ctx=ctx, data=sample.shape, grad_req='null', force_rebind=True)\n",
    "executor.copy_params_from(arg_params, aux_params)\n",
    "\n",
    "def run_inference():\n",
    "    out = executor.forward(is_train=False, data=sample)\n",
    "\n",
    "profiler.set_config(profile_all=True,\n",
    "                    aggregate_stats=True,\n",
    "                    filename='profile_output.json')\n",
    "\n",
    "# warm-up\n",
    "for i in range(100):\n",
    "    run_inference()\n",
    "    \n",
    "# Ask the profiler to start recording\n",
    "profiler.set_state('run')\n",
    "\n",
    "for i in range(it):\n",
    "    run_inference()\n",
    "\n",
    "# Make sure all operations have completed\n",
    "mx.nd.waitall()\n",
    "# Ask the profiler to stop recording\n",
    "profiler.set_state('stop')\n",
    "# Dump all results to log file before download\n",
    "profiler.dump()"
   ]
  },
  {
   "cell_type": "markdown",
   "metadata": {},
   "source": [
    "## 1.4.1\n",
    "\n",
    "pip install mxnet-mkl==1.4.1"
   ]
  },
  {
   "cell_type": "code",
   "execution_count": null,
   "metadata": {},
   "outputs": [],
   "source": [
    "mx.__version__"
   ]
  },
  {
   "cell_type": "code",
   "execution_count": null,
   "metadata": {},
   "outputs": [],
   "source": [
    "print(profiler.dumps())"
   ]
  },
  {
   "cell_type": "code",
   "execution_count": null,
   "metadata": {},
   "outputs": [],
   "source": [
    "print(profiler.dumps())"
   ]
  },
  {
   "cell_type": "markdown",
   "metadata": {},
   "source": [
    "setoption name context value gpu\n",
    "isready\n",
    "\n",
    "go movetime 30000\n",
    "\n",
    "info score cp 63 depth 23 nodes 7265 time 29744 nps 244 pv e2e4 g8f6 b1c3 d7d5 e4d5 f6d5 c3d5 d8d5 g1f3 b8c6 N@e3 d5h5 d2d4 P@e4 f3g5\n",
    "bestmove e2e4\n"
   ]
  },
  {
   "cell_type": "markdown",
   "metadata": {},
   "source": [
    "## 1.6.0\n",
    "\n",
    "pip install mxnet-cu101==1.6.0b20190903\n",
    "#pip install mxnet-mkl==1.5.0"
   ]
  },
  {
   "cell_type": "code",
   "execution_count": null,
   "metadata": {},
   "outputs": [],
   "source": [
    "mx.__version__"
   ]
  },
  {
   "cell_type": "code",
   "execution_count": null,
   "metadata": {},
   "outputs": [],
   "source": [
    "print(profiler.dumps())"
   ]
  },
  {
   "cell_type": "code",
   "execution_count": null,
   "metadata": {},
   "outputs": [],
   "source": [
    "print(profiler.dumps())"
   ]
  },
  {
   "cell_type": "markdown",
   "metadata": {},
   "source": [
    "setoption name context value gpu\n",
    "isready\n",
    "\n",
    "go movetime 30000\n",
    "\n",
    "info score cp 64 depth 23 nodes 6809 time 29733 nps 228 pv e2e4 g8f6 b1c3 d7d5 e4d5 f6d5 c3d5 d8d5 g1f3 b8c6 N@e3 d5h5 d2d4 P@e4 f3g5\n",
    "bestmove e2e4\n",
    "quit"
   ]
  },
  {
   "cell_type": "code",
   "execution_count": null,
   "metadata": {
    "collapsed": true
   },
   "outputs": [],
   "source": []
  }
 ],
 "metadata": {
  "kernelspec": {
   "display_name": "Python 3",
   "language": "python",
   "name": "python3"
  },
  "language_info": {
   "codemirror_mode": {
    "name": "ipython",
    "version": 3
   },
   "file_extension": ".py",
   "mimetype": "text/x-python",
   "name": "python",
   "nbconvert_exporter": "python",
   "pygments_lexer": "ipython3",
   "version": "3.6.2"
  }
 },
 "nbformat": 4,
 "nbformat_minor": 2
}

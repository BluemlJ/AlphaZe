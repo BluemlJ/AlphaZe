{
 "cells": [
  {
   "cell_type": "code",
   "execution_count": null,
   "metadata": {},
   "outputs": [],
   "source": [
    "import mxnet as mx\n",
    "import numpy as np\n",
    "from mxnet import profiler"
   ]
  },
  {
   "cell_type": "code",
   "execution_count": null,
   "metadata": {},
   "outputs": [],
   "source": [
    "sym, arg_params, aux_params = mx.model.load_checkpoint('model-1.19246-0.603', 223)\n",
    "sample = mx.ndarray.zeros((1, 34, 8, 8))\n",
    "it = int(1e4)\n",
    "ctx = mx.cpu()\n",
    "executor = sym.simple_bind(ctx=ctx, data=sample.shape, grad_req='null', force_rebind=True)\n",
    "executor.copy_params_from(arg_params, aux_params)\n",
    "\n",
    "def run_inference():\n",
    "    out = executor.forward(is_train=False, data=sample)\n",
    "\n",
    "profiler.set_config(profile_all=True,\n",
    "                    aggregate_stats=True,\n",
    "                    filename='profile_output.json')\n",
    "\n",
    "# Ask the profiler to start recording\n",
    "profiler.set_state('run')\n",
    "\n",
    "for i in range(it):\n",
    "    run_inference()\n",
    "\n",
    "# Make sure all operations have completed\n",
    "mx.nd.waitall()\n",
    "# Ask the profiler to stop recording\n",
    "profiler.set_state('stop')\n",
    "# Dump all results to log file before download\n",
    "profiler.dump()"
   ]
  },
  {
   "cell_type": "markdown",
   "metadata": {},
   "source": [
    "## 1.4.1\n",
    "\n",
    "pip install mxnet-mkl==1.4.1"
   ]
  },
  {
   "cell_type": "code",
   "execution_count": null,
   "metadata": {},
   "outputs": [],
   "source": [
    "mx.__version__"
   ]
  },
  {
   "cell_type": "code",
   "execution_count": null,
   "metadata": {},
   "outputs": [],
   "source": [
    "print(profiler.dumps())"
   ]
  },
  {
   "cell_type": "markdown",
   "metadata": {},
   "source": [
    "isready\n",
    "\n",
    "go movetime 5000\n",
    "\n",
    "info score cp 71 depth 30 nodes 697 time 4727 nps 147 pv e2e4 d7d5 e4d5 e7e6 f1b5 c7c6 d5c6 b7c6 b5c6\n",
    "\n",
    "bestmove e2e4"
   ]
  },
  {
   "cell_type": "markdown",
   "metadata": {},
   "source": [
    "## 1.5.0\n",
    "\n",
    "pip install mxnet-mkl==1.5.0"
   ]
  },
  {
   "cell_type": "code",
   "execution_count": null,
   "metadata": {},
   "outputs": [],
   "source": [
    "mx.__version__"
   ]
  },
  {
   "cell_type": "code",
   "execution_count": null,
   "metadata": {},
   "outputs": [],
   "source": [
    "print(profiler.dumps())"
   ]
  },
  {
   "cell_type": "markdown",
   "metadata": {},
   "source": [
    "isready\n",
    "\n",
    "go movetime 5000\n",
    "\n",
    "info score cp 57 depth 25 nodes 673 time 4743 nps 141 pv e2e4 d7d5 e4d5 d8d5 b1c3 d5a5 g1f3 g8f6 f1c4 c8g4 e1g1 e7e6 d2d4 P@a3 a1b1 a3b2 c1b2 P@h3 c4e6\n",
    "\n",
    "bestmove e2e4"
   ]
  },
  {
   "cell_type": "code",
   "execution_count": null,
   "metadata": {},
   "outputs": [],
   "source": []
  }
 ],
 "metadata": {
  "kernelspec": {
   "display_name": "Python 3",
   "language": "python",
   "name": "python3"
  },
  "language_info": {
   "codemirror_mode": {
    "name": "ipython",
    "version": 3
   },
   "file_extension": ".py",
   "mimetype": "text/x-python",
   "name": "python",
   "nbconvert_exporter": "python",
   "pygments_lexer": "ipython3",
   "version": "3.6.5"
  }
 },
 "nbformat": 4,
 "nbformat_minor": 2
}

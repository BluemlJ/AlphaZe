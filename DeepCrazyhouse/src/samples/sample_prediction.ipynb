{
 "cells": [
  {
   "cell_type": "markdown",
   "metadata": {},
   "source": [
    "### Sample Script Prediction Script\n",
    "\n",
    "Verify that loading and prediciton of the model is working correcticly\n",
    "\n",
    "Hardware Setup:\n",
    "\n",
    "    Memory (RAM): 31,4 GiB\n",
    "    Processor - AMD® Ryzen 7 1700 eight-core processor × 16\n",
    "    Graphics - GeForce GTX 1080 Ti/PCIe/SSE2\n",
    "    OS type - 64-bit\n"
   ]
  },
  {
   "cell_type": "code",
   "execution_count": null,
   "metadata": {},
   "outputs": [],
   "source": [
    "import mxnet as mx\n",
    "import chess.variant\n",
    "import numpy as np\n",
    "import matplotlib.pyplot as plt\n",
    "import sys\n",
    "sys.path.insert(0,'../../../')\n",
    "import DeepCrazyhouse.src.runtime.Colorer\n",
    "from DeepCrazyhouse.src.domain.util import *\n",
    "from DeepCrazyhouse.src.domain.crazyhouse.input_representation import board_to_planes\n",
    "from DeepCrazyhouse.src.domain.crazyhouse.output_representation import policy_to_moves\n",
    "from DeepCrazyhouse.src.domain.agent.NeuralNetAPI import NeuralNetAPI\n",
    "from DeepCrazyhouse.src.domain.crazyhouse.constants import *\n",
    "from collections import deque\n",
    "from time import time, sleep\n",
    "%matplotlib inline"
   ]
  },
  {
   "cell_type": "code",
   "execution_count": null,
   "metadata": {},
   "outputs": [],
   "source": [
    "ctx = 'cpu'"
   ]
  },
  {
   "cell_type": "code",
   "execution_count": null,
   "metadata": {},
   "outputs": [],
   "source": [
    "net_api = NeuralNetAPI(ctx=ctx)"
   ]
  },
  {
   "cell_type": "code",
   "execution_count": null,
   "metadata": {},
   "outputs": [],
   "source": [
    "net = net_api.get_net()"
   ]
  },
  {
   "cell_type": "code",
   "execution_count": null,
   "metadata": {},
   "outputs": [],
   "source": [
    "board = chess.variant.CrazyhouseBoard()\n",
    "board"
   ]
  },
  {
   "cell_type": "code",
   "execution_count": null,
   "metadata": {},
   "outputs": [],
   "source": [
    "batch_size = 8\n",
    "x = board_to_planes(board, board_occ=0, normalize=True)\n",
    "x_mat_single = np.expand_dims(x, axis=0)\n",
    "x_mat_batch = np.stack([x]*batch_size)"
   ]
  },
  {
   "cell_type": "code",
   "execution_count": null,
   "metadata": {},
   "outputs": [],
   "source": [
    "x.shape"
   ]
  },
  {
   "cell_type": "markdown",
   "metadata": {},
   "source": [
    "### Show the output prediction"
   ]
  },
  {
   "cell_type": "code",
   "execution_count": null,
   "metadata": {},
   "outputs": [],
   "source": [
    "[value, policy] = net_api.predict_single(x)"
   ]
  },
  {
   "cell_type": "code",
   "execution_count": null,
   "metadata": {},
   "outputs": [],
   "source": [
    "value"
   ]
  },
  {
   "cell_type": "code",
   "execution_count": null,
   "metadata": {},
   "outputs": [],
   "source": [
    "LABELS[policy.argmax()]"
   ]
  },
  {
   "cell_type": "code",
   "execution_count": null,
   "metadata": {},
   "outputs": [],
   "source": [
    "opts = 5\n",
    "selected_moves, probs = policy_to_moves(board, policy)\n",
    "selected_moves[:opts]"
   ]
  },
  {
   "cell_type": "code",
   "execution_count": null,
   "metadata": {},
   "outputs": [],
   "source": [
    "plt.barh(range(opts)[::-1], probs[:opts])\n",
    "ax = plt.gca()\n",
    "ax.set_yticks(range(opts)[::-1])\n",
    "ax.set_yticklabels(selected_moves)"
   ]
  },
  {
   "cell_type": "code",
   "execution_count": null,
   "metadata": {},
   "outputs": [],
   "source": [
    "if ctx == 'cpu':\n",
    "    ctx_mx = mx.cpu()\n",
    "elif ctx == 'gpu':\n",
    "    ctx_mx = mx.gpu()"
   ]
  },
  {
   "cell_type": "code",
   "execution_count": null,
   "metadata": {},
   "outputs": [],
   "source": [
    "nb_batches = 500"
   ]
  },
  {
   "cell_type": "markdown",
   "metadata": {},
   "source": [
    "### Runtime using batch_size of 1"
   ]
  },
  {
   "cell_type": "code",
   "execution_count": null,
   "metadata": {},
   "outputs": [],
   "source": [
    "prediction_per_second = []\n",
    "for it in range(7):\n",
    "    print('Iteration %d' % (it+1))\n",
    "    t_s = time()\n",
    "    for i in range(nb_batches):\n",
    "        net(mx.nd.array(x_mat_single, ctx=ctx_mx))\n",
    "\n",
    "    elapsed_time = time() - t_s    \n",
    "    print('elapsed time: %.3fs' % elapsed_time)\n",
    "    preds_per_s = nb_batches / elapsed_time\n",
    "    prediction_per_second.append(preds_per_s)\n",
    "    print('predictions per second %.3f' % (preds_per_s))\n",
    "print('Predictions/s: %.3f +/- %.3f' % (np.array(prediction_per_second).mean(), np.array(prediction_per_second).std()))    "
   ]
  },
  {
   "cell_type": "markdown",
   "metadata": {},
   "source": [
    "### Runtime using given batch_size"
   ]
  },
  {
   "cell_type": "code",
   "execution_count": null,
   "metadata": {},
   "outputs": [],
   "source": [
    "prediction_per_second = []\n",
    "for it in range(7):\n",
    "    print('Iteration %d' % (it+1))\n",
    "    t_s = time()\n",
    "    for i in range(nb_batches):\n",
    "        net(mx.nd.array(x_mat_batch, ctx=ctx_mx))\n",
    "\n",
    "    elapsed_time = time() - t_s    \n",
    "    print('elapsed time: %.3fs' % elapsed_time)\n",
    "    preds_per_s = (nb_batches*batch_size) / elapsed_time\n",
    "    prediction_per_second.append(preds_per_s)\n",
    "    print('predictions per second %.3f' % (preds_per_s))\n",
    "print('Predictions/s: %.3f +/- %.3f' % (np.array(prediction_per_second).mean(), np.array(prediction_per_second).std()))    "
   ]
  },
  {
   "cell_type": "code",
   "execution_count": null,
   "metadata": {},
   "outputs": [],
   "source": []
  }
 ],
 "metadata": {
  "kernelspec": {
   "display_name": "Python 3",
   "language": "python",
   "name": "python3"
  },
  "language_info": {
   "codemirror_mode": {
    "name": "ipython",
    "version": 3
   },
   "file_extension": ".py",
   "mimetype": "text/x-python",
   "name": "python",
   "nbconvert_exporter": "python",
   "pygments_lexer": "ipython3"
  }
 },
 "nbformat": 4,
 "nbformat_minor": 2
}

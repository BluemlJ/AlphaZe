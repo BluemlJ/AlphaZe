{
 "cells": [
  {
   "cell_type": "markdown",
   "metadata": {},
   "source": [
    "### Sample Script Prediction Script\n",
    "\n",
    "Verify that loading and prediciton of the model is working correcticly"
   ]
  },
  {
   "cell_type": "code",
   "execution_count": null,
   "metadata": {},
   "outputs": [],
   "source": [
    "import mxnet as mx\n",
    "import chess.variant\n",
    "import numpy as np\n",
    "import matplotlib.pyplot as plt\n",
    "import sys\n",
    "sys.path.insert(0,'../../../')\n",
    "import DeepCrazyhouse.src.preprocessing.Colorer\n",
    "from DeepCrazyhouse.src.preprocessing.util import *\n",
    "from DeepCrazyhouse.src.preprocessing.pgn_converter import get_mat_of_current_board\n",
    "from DeepCrazyhouse.src.model.agent.CrazyHouseNeuralNetwork import CrazyHouseNeuralNetwork, data_name\n",
    "from collections import deque"
   ]
  },
  {
   "cell_type": "code",
   "execution_count": null,
   "metadata": {},
   "outputs": [],
   "source": [
    "prefix = '/media/queensgambit/TOSHIBA/etc/Deep_ML/project/model/' + 'model-1.26318-0.593'\n",
    "k_steps = 225"
   ]
  },
  {
   "cell_type": "code",
   "execution_count": null,
   "metadata": {},
   "outputs": [],
   "source": [
    "net = CrazyHouseNeuralNetwork(config_path='../config.json', ctx='gpu')"
   ]
  },
  {
   "cell_type": "code",
   "execution_count": null,
   "metadata": {},
   "outputs": [],
   "source": [
    "mod = net.get_model()"
   ]
  },
  {
   "cell_type": "code",
   "execution_count": null,
   "metadata": {},
   "outputs": [],
   "source": [
    "board = chess.variant.CrazyhouseBoard()\n",
    "board"
   ]
  },
  {
   "cell_type": "code",
   "execution_count": null,
   "metadata": {},
   "outputs": [],
   "source": [
    "dummy = deque()\n",
    "dummy.appendleft(None)\n",
    "x_mat = get_mat_of_current_board(board, dummy, normalize=True)"
   ]
  },
  {
   "cell_type": "code",
   "execution_count": null,
   "metadata": {},
   "outputs": [],
   "source": [
    "x = np.stack((x_mat, x_mat))"
   ]
  },
  {
   "cell_type": "code",
   "execution_count": null,
   "metadata": {},
   "outputs": [],
   "source": [
    "x_mat.shape"
   ]
  },
  {
   "cell_type": "code",
   "execution_count": null,
   "metadata": {},
   "outputs": [],
   "source": [
    "x.shape"
   ]
  },
  {
   "cell_type": "code",
   "execution_count": null,
   "metadata": {},
   "outputs": [],
   "source": [
    "from collections import namedtuple\n",
    "Batch = namedtuple('Batch', ['data'])"
   ]
  },
  {
   "cell_type": "code",
   "execution_count": null,
   "metadata": {},
   "outputs": [],
   "source": [
    "('/input_12', [2])"
   ]
  },
  {
   "cell_type": "code",
   "execution_count": null,
   "metadata": {},
   "outputs": [],
   "source": [
    "class Batch():\n",
    "    def __init__(self, data_name):\n",
    "        self.data = data_name\n",
    "    \n",
    "my_batch = Batch('/input_12')\n",
    "my_batch.data = mx.nd.array(np.expand_dims(x, axis=0))"
   ]
  },
  {
   "cell_type": "code",
   "execution_count": null,
   "metadata": {},
   "outputs": [],
   "source": [
    "net.get_net()(mx.nd.array(x, ctx=net.get_ctx()))"
   ]
  },
  {
   "cell_type": "code",
   "execution_count": null,
   "metadata": {},
   "outputs": [],
   "source": [
    "mod.forward(my_batch) #, is_train=False)"
   ]
  },
  {
   "cell_type": "code",
   "execution_count": null,
   "metadata": {},
   "outputs": [],
   "source": [
    "out = [None, None]\n",
    "# gluon style\n",
    "#pred = self.model(mx.nd.array(np.expand_dims(x, axis=0), ctx=self.ctx))\n",
    "\n",
    "# mxnet iterator style\n",
    "# create single iterator object\n",
    "#pred_iter_single = mx.io.NDArrayIter({data_name: np.expand_dims(x_mat, axis=0)}, batch_size=1)\n",
    "pred_iter_single = mx.io.NDArrayIter({data_name: x}, batch_size=1)\n",
    "\n",
    "pred = mod.predict(pred_iter_single)\n",
    "\n",
    "# mxnet batch style\n",
    "#pred = mod.forward(mx.nd.array(Batch[np.expand_dims(x, axis=0)]), is_train=False)\n",
    "out[0] = pred[0].asnumpy()\n",
    "out[1] = pred[1].asnumpy()"
   ]
  },
  {
   "cell_type": "code",
   "execution_count": null,
   "metadata": {},
   "outputs": [],
   "source": [
    "out[0]"
   ]
  },
  {
   "cell_type": "code",
   "execution_count": null,
   "metadata": {},
   "outputs": [],
   "source": []
  }
 ],
 "metadata": {
  "kernelspec": {
   "display_name": "Python 3",
   "language": "python",
   "name": "python3"
  },
  "language_info": {
   "codemirror_mode": {
    "name": "ipython",
    "version": 3
   },
   "file_extension": ".py",
   "mimetype": "text/x-python",
   "name": "python",
   "nbconvert_exporter": "python",
   "pygments_lexer": "ipython3"
  }
 },
 "nbformat": 4,
 "nbformat_minor": 2
}

{
 "cells": [
  {
   "cell_type": "markdown",
   "metadata": {},
   "source": [
    "### Demonstration of an evaluation based on the MCTSAgent"
   ]
  },
  {
   "cell_type": "code",
   "execution_count": null,
   "metadata": {},
   "outputs": [],
   "source": [
    "%load_ext autoreload\n",
    "%autoreload 2"
   ]
  },
  {
   "cell_type": "code",
   "execution_count": null,
   "metadata": {},
   "outputs": [],
   "source": [
    "%reload_ext autoreload"
   ]
  },
  {
   "cell_type": "code",
   "execution_count": null,
   "metadata": {},
   "outputs": [],
   "source": [
    "import chess\n",
    "import chess.variant\n",
    "import matplotlib.pyplot as plt\n",
    "import numpy as np\n",
    "import sys\n",
    "sys.path.insert(0,'../../../')\n",
    "import DeepCrazyhouse.src.runtime.Colorer\n",
    "from DeepCrazyhouse.src.domain.agent.NeuralNetAPI import NeuralNetAPI\n",
    "from DeepCrazyhouse.src.domain.agent.player.MCTSAgent import MCTSAgent\n",
    "from DeepCrazyhouse.src.domain.agent.player.RawNetAgent import RawNetAgent\n",
    "from DeepCrazyhouse.src.domain.crazyhouse.GameState import GameState\n",
    "from time import time\n",
    "%matplotlib inline\n",
    "plt.style.use('seaborn-whitegrid')"
   ]
  },
  {
   "cell_type": "code",
   "execution_count": null,
   "metadata": {},
   "outputs": [],
   "source": [
    "net = NeuralNetAPI(ctx='gpu')\n",
    "#net = NeuralNetAPI(ctx='gpu')"
   ]
  },
  {
   "cell_type": "code",
   "execution_count": null,
   "metadata": {},
   "outputs": [],
   "source": [
    "batch_size = 8 #32\n",
    "nb_playouts = 256 #2048 #512 #4096 #512 #4096 #2048 #256 #512 #256 #7 #16\n",
    "cpuct = 1 #0.1 #0.2 #1 #3 #0.1 #1 #1 #5 #1 #1 #0.1 #0.5 #1 #0.25 #0.25 #0.5 #1 #0.2 #0.2 #0.1 #0.2 #0.2 #0.5 #1 #3 #.5 #0.1 #1 #3 #3\n",
    "dirichlet_epsilon = 0.25\n",
    "nb_workers = 64 #256 #128 #64 #128"
   ]
  },
  {
   "cell_type": "code",
   "execution_count": null,
   "metadata": {},
   "outputs": [],
   "source": [
    "rawAgent = RawNetAgent(net)\n",
    "#rawNet = GreedyAgent(rawAgent)"
   ]
  },
  {
   "cell_type": "code",
   "execution_count": null,
   "metadata": {},
   "outputs": [],
   "source": [
    "#mctsAgent = MCTSAgent(net, virtual_loss=3, batch_size=batch_size, nb_workers=batch_size, cpuct=cpuct, nb_playouts=nb_playouts, dirichlet_epsilon=dirichlet_epsilon)"
   ]
  },
  {
   "cell_type": "code",
   "execution_count": null,
   "metadata": {},
   "outputs": [],
   "source": [
    "CENTI_CPUCT = 100 #300 #100"
   ]
  },
  {
   "cell_type": "code",
   "execution_count": null,
   "metadata": {},
   "outputs": [],
   "source": [
    "AGENT = MCTSAgent(net, cpuct=1, nb_playouts_empty_pockets=2048, nb_playouts_filled_pockets=4096,\n",
    "                  cpuct_decay=0, cpuct_min=0, search_depth=40,\n",
    "                  nb_playouts_update=256, max_search_time_s=900, dirichlet_alpha=0.2, dirichlet_epsilon=0.1)"
   ]
  },
  {
   "cell_type": "code",
   "execution_count": null,
   "metadata": {},
   "outputs": [],
   "source": [
    "board = chess.variant.CrazyhouseBoard()\n",
    "\n",
    "# game: https://lichess.org/5mcYjBhV\n",
    "\n",
    "#board.push_uci('e2e4')\n",
    "#board.push_uci('e7e6')\n",
    "#fen = 'r1bQ1bnr/p1P2ppp/2p1k2b/2pNp3/2B1P3/2N5/PPPK1PPP/R6R/Pqn w - - 30 16'\n",
    "\n",
    "#fen = 'r1b2bnr/p1k2ppp/8/2pNp3/4P3/8/PPP2PPP/R3KB1R/PQPnpqbn b KQ - 23 12'\n",
    "#fen = 'r1b2bnr/p2k1ppp/8/2pNp3/4P3/8/PPP2PPP/R3KB1R/PQPnpqbn w KQ - 24 13'\n",
    "\n",
    "#fen = 'r1b2bnr/p1k2ppp/2p5/2p1p3/4P3/2N5/PPP2PPP/R3KB1R/QNPpqbn w KQ - 20 11'\n",
    "#fen = 'r1bq1rk1/pppp1ppp/2n2n2/1Bb1p1B1/4P3/2NP1N2/PPP2PPP/R2QK2R/ b KQ - 11 6'\n",
    "#fen = 'r1b2bnr/p1k2ppp/8/2ppp3/4P3/2N5/PPP2PPP/R3KB1R/QPnpqbn w KQ - 22 12'\n",
    "#fen = 'r3qr1k/p4pp1/3b4/2p5/6b1/1N1BP3/PP1PpPP1/R1BQK2R[NPPnnppp] b KQ - 2 21'\n",
    "#fen = 'r1bk1bnr/p4ppp/2p5/2pNp3/4P3/2N5/PPP2PPP/R3KB1R/QPpqbn w KQ - 22 12'\n",
    "#fen = 'r1bQ1bnr/p1P2ppp/2p1k3/2pNp3/2B1P3/2N5/PPPK1PPP/R6R/Pqbn b - - 29 15'\n",
    "#fen = 'r1bq1rk1/pppp1ppp/2n2n2/1Bb1p1B1/4P3/2NP1N2/PPP2PPP/R2QK2R/ b KQ - 11 6'\n",
    "#fen = 'r1b2rk1/ppp2ppp/2np1q2/1BbNp3/4P3/3P1N2/PPP2PPP/R2QK2R/Nb b KQ - 15 8'\n",
    "#fen ='r1bq1rk1/p1p1Nppp/2pp4/2bNp3/4P3/3P1N2/PPP2PPP/R2QK2R/Nbb b KQ - 19 10'\n",
    "#fen = 'r1bq1rk1/pppp1ppp/2n2n2/1Bb1p3/4P3/2NP1N2/PPP2PPP/R1BQ1RK1/ b - - 11 6'\n",
    "#fen = 'r1b2bnr/p1k2ppp/2p5/2p1p3/4P3/2N5/PPP2PPP/R3KB1R/QNPpqbn w KQ - 20 11'\n",
    "#fen = 'r1bk1bnr/p4ppp/2p5/2pNp3/4P3/2N5/PPP2PPP/R3KB1R/QPpqbn w KQ - 22 12'\n",
    "#fen = 'r1bq1rk1/p1p1Nppp/2pp4/2bNp3/4P3/3P1N2/PPP2PPP/R2QK2R/Nbb b KQ - 19 10'\n",
    "#fen = 'r1bq1rk1/pppp1ppp/2n2n2/1Bb1p1B1/4P3/2NP1N2/PPP2PPP/R2QK2R/ b KQ - 11 6'\n",
    "#fen = 'r1b2rk1/ppp2ppp/2np1q2/1BbNp3/4P3/3P1N2/PPP2PPP/R2QK2R/Nb b KQ - 15 8'\n",
    "#fen = 'r1bq1rk1/pppp1ppp/2n2n2/1Bb1p3/4P3/2NP1N2/PPP2PPP/R1BQK2R/ w KQ - 10 6'\n",
    "#fen = 'r4qk1/pp2bppp/2p5/3p4/8/P1N1PpPN/1PP3nP/R1B2bK1/pnrrpqb b - - 81 41'\n",
    "#fen = 'r2q1rk1/pp2Pppp/2p2n2/3pQ3/N3p2b/P2bP1P1/1PPN3P/R1B1KBr1/Pn b Q - 57 29'\n",
    "#fen = 'r2B1rk1/ppp2ppp/2np4/2bBp3/4P1b1/3P1N2/PPP2PPP/R2n1RK1/NQq w - - 20 11'\n",
    "#fen = 'r2B1rk1/ppp2ppp/2np4/2bBp3/4P3/3P1b2/PPP2PPP/3R1RK1/NNQnq w - - 22 12'\n",
    "#fen = 'r1b2rk1/ppp2ppp/2np1q2/1BbNp3/4P3/3P1N2/PPP2PPP/R2QK2R/Nb b KQ - 15 8'\n",
    "#fen = 'r2B1rk1/ppp2ppp/2np4/2bBp3/4P3/3P3Q/PPP2PbP/3R1RK1/NNpnq w - - 5 13'\n",
    "#fen = 'r2B1rk1/ppp2ppp/2np4/2bBp3/4P3/3P2p1/PPP2PQP/3R1RK1/BNNnq w - - 26 14'\n",
    "#fen = 'r2B1rk1/ppp2ppp/2np1B2/3Bp3/4P3/3P2p1/PPP2bQP/3R1RK1/NNpnq w - - 28 15'\n",
    "#fen = 'r1bQkbnr/p4ppp/2p5/2p1p3/4P3/2N5/PPP2PPP/R3KB1R/QPNPbn b KQkq - 0 9'\n",
    "#board.set_fen('r1b2bnr/p1k2ppp/2p5/2p1p3/4P3/2N5/PPP2PPP/R3KB1R/QNPpqbn w KQ - 20 11')\n",
    "#board.set_fen('r3qrk1/p4ppp/3b4/2p5/6b1/1N1pP3/PP1PNPP1/RBBQK2R[NPnppp] b KQ - 0 19')\n",
    "#fen = 'r1b2bnr/p1k2ppp/2p5/2p1p3/4P3/2N5/PPP2PPP/R3KB1R/QNPpqbn w KQ - 20 11'\n",
    "\n",
    "#fen = 'r2q1rk1/pp2Pppp/2p2n2/3pQ3/N3p2b/P2bP1P1/1PPN3P/R1B1KBr1/Pn b Q - 3 29'\n",
    "#fen = 'r3qrk1/p4ppp/3b4/2p5/6b1/1N2P3/PP1PpPP1/RBBQK2R/NPnnppp w KQ - 1 20'\n",
    "#fen = 'r1bq1rk1/pppp1ppp/2n2n2/1Bb1p1B1/4P3/2NP1N2/PPP2PPP/R2QK2R/ b KQ - 11 6'\n",
    "#fen = 'r3qr1k/p4pp1/3b4/2p5/6b1/1N1BP3/PP1PpPP1/R1BQK2R[NPPnnppp] b KQ - 2 21'\n",
    "#board.set_fen('1rbQ1bnr/p1P2ppp/1Np1k3/2p1p3/2B1N3/P7/P1Pb1PPP/RK5R/NQPp b - - 39 20')\n",
    "#board.set_fen('1rbQ1bnr/p1P2ppp/1Np5/2p1pk2/2B1N3/P7/P1Pb1PPP/RK5R/NQPp w - - 40 21')\n",
    "#board.set_fen('r1bQ1bnr/p1P2ppp/2p1k3/2pNp3/4P3/2N5/PPP2PPP/R3KB1R/pqbn w KQ - 26 14')\n",
    "#board.set_fen('r1bk1bnr/p4ppp/2p5/2pNp3/4P3/2N5/PPP2PPP/R3KB1R/QPpqbn w KQ - 22 12')\n",
    "#fen = 'r1b2bnr/p1k2ppp/2p5/2p1p3/4P3/2N5/PPP2PPP/R3KB1R/QNPpqbn w KQ - 20 11'\n",
    "\n",
    "#fen = 'r1b2rk1/ppp2ppp/2np3b/3Np1N1/4Pb1P/3P4/PPP2PP1/R2QKB1R/Qn b KQ - 5 12'\n",
    "#fen = 'r1bq1rk1/pppp1ppp/2n2n2/1Bb1p1B1/4P3/2NP1N2/PPP2PPP/R2QK2R/ b KQ - 11 6'\n",
    "#fen = 'r1b2rk1/ppp2ppp/2np3b/3Np1N1/4PbQP/3P4/PPP2PP1/R3KB1R/NQ b KQ - 5 13'\n",
    "#fen = 'r4rk1/ppp2ppp/2np3b/3Np1N1/4PbbP/3P4/PPP2PP1/R3KB1R/NQq w KQ - 26 14'\n",
    "#fen = 'r1bqkbnr/p4ppp/2pp4/2p1B3/4P3/2N5/PPP2PPP/R2QKB1R/PNPn b KQkq - 15 8'\n",
    "#fen = 'r1b2rk1/pppp1ppp/8/4p1b1/2BnPb2/2NP2R1/PPPp1QPP/5K1R/NQn b - - 5 22'\n",
    "#fen = 'r1b2rk1/ppp2ppp/8/3Bp1b1/3nPb2/2NP2R1/PPPp1QPP/5K1R/PNQn b - - 7 23'#\n",
    "#fen = 'r1b1kbnr/ppp1pppp/2n5/3q4/3P4/8/PPP1NPPP/RNBQKB1R/Pp b KQkq - 1 4'\n",
    "#fen = 'r1b2rk1/pppp1ppp/8/4p1b1/2BnP3/2NP2b1/PPPp1QPP/5K1R/NQrn w - - 5 23'\n",
    "#fen = 'r1b4N/ppppk1pp/8/3Qp1b1/3nP3/2NP2b1/PPPp2PP/5K1R/RPbqrn w - - 15 28'\n",
    "\n",
    "#fen = 'rnbqkb1r/ppp1pppp/5n2/3P4/8/8/PPPP1PPP/RNBQKBNR/P w KQkq - 1 3'\n",
    "fen = 'r4rk1/ppp2pp1/3p1q1p/n1bPp3/2B1B1b1/3P1N2/PPP2PPP/R2Q1RK1[Nn] w - - 2 13'\n",
    "#fen = 'rnb2rk1/p3bppp/2p5/3p2P1/4n3/8/PPPPBPPP/RNB1K1NR/QPPq w KQ - 0 11'\n",
    "\n",
    "#fen = 'r1b1kbnr/ppp1pppp/2n5/3q4/3P4/8/PPP1NPPP/RNBQKB1R/Pp b KQkq - 1 4'\n",
    "\n",
    "#fen = 'r1b1k2r/ppp2ppp/2n5/3np3/3P4/2PBP3/PpPB1PPP/1Q2K1NR/QNrb b Kkq - 27 14'\n",
    "board.set_fen(fen)\n",
    "#board.push_uci('b1h7')\n",
    "\n",
    "state = GameState(board)\n",
    "board"
   ]
  },
  {
   "cell_type": "code",
   "execution_count": null,
   "metadata": {},
   "outputs": [],
   "source": [
    "len(list(state.get_legal_moves()))"
   ]
  },
  {
   "cell_type": "code",
   "execution_count": null,
   "metadata": {},
   "outputs": [],
   "source": [
    "def plot_moves_with_prob(moves, probs, only_top_x=None):\n",
    "    \n",
    "    # revert the ordering afterwards\n",
    "    idx_order = np.argsort(probs)[::-1]\n",
    "    \n",
    "    if only_top_x is not None and only_top_x < len(idx_order):\n",
    "        idx_order = idx_order[:only_top_x]\n",
    "    \n",
    "    #moves_ordered = moves[range(len(moves))] #idx_order[::-1]]\n",
    "    probs_ordered = [] #probs[idx_order]\n",
    "    \n",
    "    moves_ordered = []\n",
    "    for idx in idx_order:\n",
    "        probs_ordered.append(probs[idx])\n",
    "        moves_ordered.append(moves[idx])\n",
    "        \n",
    "    plt.barh(range(len(probs_ordered)), probs_ordered)\n",
    "    plt.yticks(range(len(moves_ordered)), moves_ordered)\n"
   ]
  },
  {
   "cell_type": "code",
   "execution_count": null,
   "metadata": {},
   "outputs": [],
   "source": [
    "t_s = time()\n",
    "value, legal_moves, p_vec_small = AGENT.evaluate_board_state(state)\n",
    "print('Elapsed time: %.4fs' % (t_s - time()))"
   ]
  },
  {
   "cell_type": "code",
   "execution_count": null,
   "metadata": {},
   "outputs": [],
   "source": [
    "len(legal_moves)"
   ]
  },
  {
   "cell_type": "code",
   "execution_count": null,
   "metadata": {},
   "outputs": [],
   "source": [
    "p_vec_small.shape"
   ]
  },
  {
   "cell_type": "code",
   "execution_count": null,
   "metadata": {},
   "outputs": [],
   "source": [
    "t_p = np.array(\n",
    "[0.00290707 ,0.00290707 ,0.00266456 ,0.00290707 ,0.00242206 ,0.00217955\n",
    " ,0.00290707 ,0.00290707 ,0.00242206 ,0.00508965 ,0.00242206 ,0.00290707\n",
    " ,0.00266456 ,0.00242206 ,0.00314958 ,0.00266456 ,0.00339209 ,0.00314958\n",
    " ,0.00290707 ,0.00314958 ,0.00290707 ,0.00314957 ,0.00314958 ,0.00436213\n",
    " ,0.00799973 ,0.03782833 ,0.04655865 ,0.42583359 ,0.06547433 ,0.0729921\n",
    " ,0.00290707 ,0.00533216 ,0.00266456 ,0.00242206 ,0.00266456 ,0.00266456\n",
    " ,0.00290707 ,0.00290707 ,0.00242206 ,0.00290707 ,0.00266456 ,0.00290707\n",
    " ,0.00314958 ,0.01357733 ,0.00508964 ,0.00363448 ,0.00411962 ,0.00290704\n",
    " ,0.00266456 ,0.00217955 ,0.00460463 ,0.00266456 ,0.00290707 ,0.00290707\n",
    " ,0.00484714 ,0.00314958 ,0.00266456 ,0.00242206 ,0.00339209 ,0.00242206\n",
    " ,0.00411962 ,0.00290707 ,0.00290707 ,0.00266456 ,0.00411962 ,0.00339209\n",
    " ,0.00339209 ,0.00242206 ,0.00314958 ,0.00266456 ,0.00533216 ,0.00339209\n",
    " ,0.0036346  ,0.00266456 ,0.0036346  ,0.00290707 ,0.0036346  ,0.00242206\n",
    " ,0.00314958 ,0.00266456 ,0.00339209 ,0.00314958 ,0.00387711 ,0.00314958\n",
    " ,0.00557467 ,0.00266456 ,0.00339209 ,0.00242206 ,0.00290707 ,0.00339209\n",
    " ,0.00339209 ,0.00290707 ,0.00314958 ,0.0036346  ,0.00339209 ,0.00290707\n",
    " ,0.0036346  ,0.00314958 ,0.00436213 ,0.00290707 ,0.00290707 ,0.00266456\n",
    " ,0.00339209 ,0.00436213 ,0.00242206 ,0.00242206 ,0.00290707 ,0.00266456\n",
    " ,0.00314958 ,0.00242206 ,0.00242206 ,0.00266456]\n",
    ")"
   ]
  },
  {
   "cell_type": "code",
   "execution_count": null,
   "metadata": {},
   "outputs": [],
   "source": [
    "from chess import Move"
   ]
  },
  {
   "cell_type": "code",
   "execution_count": null,
   "metadata": {},
   "outputs": [],
   "source": [
    "t_mv = [Move.from_uci('h8g8'), Move.from_uci('h8f8'), Move.from_uci('e8f8'), Move.from_uci('e8d8'), Move.from_uci('e8e7'), Move.from_uci('e8d7'), Move.from_uci('c8d7'), Move.from_uci('c8e6'), Move.from_uci('c8f5'), Move.from_uci('c8g4'), Move.from_uci('c8h3'), Move.from_uci('a8b8'), Move.from_uci('c6d8'), Move.from_uci('c6b8'), Move.from_uci('c6e7'), Move.from_uci('c6a5'), Move.from_uci('c6d4'), Move.from_uci('c6b4'), Move.from_uci('d5e7'), Move.from_uci('d5f6'), Move.from_uci('d5b6'), Move.from_uci('d5f4'), Move.from_uci('d5b4'), Move.from_uci('d5e3'), Move.from_uci('d5c3'), Move.from_uci('e8g8'), Move.from_uci('e5d4'), Move.from_uci('h7h6'), Move.from_uci('g7g6'), Move.from_uci('f7f6'), Move.from_uci('b7b6'), Move.from_uci('a7a6'), Move.from_uci('e5e4'), Move.from_uci('h7h5'), Move.from_uci('g7g5'), Move.from_uci('f7f5'), Move.from_uci('b7b5'), Move.from_uci('a7a5'), Move.from_uci('B@a1'), Move.from_uci('R@a1'), Move.from_uci('B@c1'), Move.from_uci('R@c1'), Move.from_uci('B@d1'), Move.from_uci('R@d1'), Move.from_uci('B@f1'), Move.from_uci('R@f1'), Move.from_uci('B@e2'), Move.from_uci('R@e2'), Move.from_uci('B@a3'), Move.from_uci('R@a3'), Move.from_uci('B@b3'), Move.from_uci('R@b3'), Move.from_uci('B@f3'), Move.from_uci('R@f3'), Move.from_uci('B@g3'), Move.from_uci('R@g3'), Move.from_uci('B@h3'), Move.from_uci('R@h3'), Move.from_uci('B@a4'), Move.from_uci('R@a4'), Move.from_uci('B@b4'), Move.from_uci('R@b4'), Move.from_uci('B@c4'), Move.from_uci('R@c4'), Move.from_uci('B@e4'), Move.from_uci('R@e4'), Move.from_uci('B@f4'), Move.from_uci('R@f4'), Move.from_uci('B@g4'), Move.from_uci('R@g4'), Move.from_uci('B@h4'), Move.from_uci('R@h4'), Move.from_uci('B@a5'), Move.from_uci('R@a5'), Move.from_uci('B@b5'), Move.from_uci('R@b5'), Move.from_uci('B@c5'), Move.from_uci('R@c5'), Move.from_uci('B@f5'), Move.from_uci('R@f5'), Move.from_uci('B@g5'), Move.from_uci('R@g5'), Move.from_uci('B@h5'), Move.from_uci('R@h5'), Move.from_uci('B@a6'), Move.from_uci('R@a6'), Move.from_uci('B@b6'), Move.from_uci('R@b6'), Move.from_uci('B@d6'), Move.from_uci('R@d6'), Move.from_uci('B@e6'), Move.from_uci('R@e6'), Move.from_uci('B@f6'), Move.from_uci('R@f6'), Move.from_uci('B@g6'), Move.from_uci('R@g6'), Move.from_uci('B@h6'), Move.from_uci('R@h6'), Move.from_uci('B@d7'), Move.from_uci('R@d7'), Move.from_uci('B@e7'), Move.from_uci('R@e7'), Move.from_uci('B@b8'), Move.from_uci('R@b8'), Move.from_uci('B@d8'), Move.from_uci('R@d8'), Move.from_uci('B@f8'), Move.from_uci('R@f8'), Move.from_uci('B@g8'), Move.from_uci('R@g8')]"
   ]
  },
  {
   "cell_type": "code",
   "execution_count": null,
   "metadata": {},
   "outputs": [],
   "source": [
    "len(t_mv)"
   ]
  },
  {
   "cell_type": "code",
   "execution_count": null,
   "metadata": {},
   "outputs": [],
   "source": [
    "t_p.shape"
   ]
  },
  {
   "cell_type": "code",
   "execution_count": null,
   "metadata": {},
   "outputs": [],
   "source": [
    "AGENT.get_calclated_line()"
   ]
  },
  {
   "cell_type": "code",
   "execution_count": null,
   "metadata": {},
   "outputs": [],
   "source": [
    "AGENT.get_calclated_line()"
   ]
  },
  {
   "cell_type": "code",
   "execution_count": null,
   "metadata": {},
   "outputs": [],
   "source": [
    "mctsAgent.get_calclated_line()"
   ]
  },
  {
   "cell_type": "code",
   "execution_count": null,
   "metadata": {},
   "outputs": [],
   "source": [
    "mctsAgent.get_calclated_line()"
   ]
  },
  {
   "cell_type": "code",
   "execution_count": null,
   "metadata": {},
   "outputs": [],
   "source": [
    "mctsAgent.get_calclated_line()"
   ]
  },
  {
   "cell_type": "code",
   "execution_count": null,
   "metadata": {},
   "outputs": [],
   "source": [
    "mctsAgent.get_calclated_line()"
   ]
  },
  {
   "cell_type": "code",
   "execution_count": null,
   "metadata": {},
   "outputs": [],
   "source": [
    "mctsAgent.get_calclated_line()"
   ]
  },
  {
   "cell_type": "code",
   "execution_count": null,
   "metadata": {},
   "outputs": [],
   "source": [
    "mctsAgent.get_calclated_line()"
   ]
  },
  {
   "cell_type": "code",
   "execution_count": null,
   "metadata": {},
   "outputs": [],
   "source": [
    "mctsAgent.get_calclated_line()"
   ]
  },
  {
   "cell_type": "code",
   "execution_count": null,
   "metadata": {},
   "outputs": [],
   "source": [
    "mctsAgent.get_calclated_line()"
   ]
  },
  {
   "cell_type": "code",
   "execution_count": null,
   "metadata": {},
   "outputs": [],
   "source": [
    "mctsAgent.get_calclated_line()"
   ]
  },
  {
   "cell_type": "code",
   "execution_count": null,
   "metadata": {},
   "outputs": [],
   "source": [
    "mctsAgent.get_calclated_line()"
   ]
  },
  {
   "cell_type": "code",
   "execution_count": null,
   "metadata": {},
   "outputs": [],
   "source": [
    "mctsAgent.get_calclated_line()"
   ]
  },
  {
   "cell_type": "code",
   "execution_count": null,
   "metadata": {},
   "outputs": [],
   "source": [
    "mctsAgent.get_calclated_line()"
   ]
  },
  {
   "cell_type": "code",
   "execution_count": null,
   "metadata": {},
   "outputs": [],
   "source": [
    "mctsAgent.get_calclated_line()"
   ]
  },
  {
   "cell_type": "code",
   "execution_count": null,
   "metadata": {},
   "outputs": [],
   "source": [
    "plot_moves_with_prob(legal_moves, p_vec_small, only_top_x=10)"
   ]
  },
  {
   "cell_type": "code",
   "execution_count": null,
   "metadata": {},
   "outputs": [],
   "source": [
    "plot_moves_with_prob(legal_moves, p_vec_small, only_top_x=10)"
   ]
  },
  {
   "cell_type": "code",
   "execution_count": null,
   "metadata": {},
   "outputs": [],
   "source": [
    "plot_moves_with_prob(legal_moves, p_vec_small, only_top_x=10)"
   ]
  },
  {
   "cell_type": "code",
   "execution_count": null,
   "metadata": {},
   "outputs": [],
   "source": [
    "plot_moves_with_prob(legal_moves, p_vec_small, only_top_x=10)"
   ]
  },
  {
   "cell_type": "code",
   "execution_count": null,
   "metadata": {},
   "outputs": [],
   "source": [
    "plot_moves_with_prob(legal_moves, p_vec_small, only_top_x=10)"
   ]
  },
  {
   "cell_type": "code",
   "execution_count": null,
   "metadata": {},
   "outputs": [],
   "source": [
    "plot_moves_with_prob(legal_moves, p_vec_small, only_top_x=10)"
   ]
  },
  {
   "cell_type": "code",
   "execution_count": null,
   "metadata": {},
   "outputs": [],
   "source": [
    "plot_moves_with_prob(legal_moves, p_vec_small, only_top_x=10)"
   ]
  },
  {
   "cell_type": "code",
   "execution_count": null,
   "metadata": {},
   "outputs": [],
   "source": [
    "plot_moves_with_prob(legal_moves, p_vec_small, only_top_x=10)"
   ]
  },
  {
   "cell_type": "code",
   "execution_count": null,
   "metadata": {},
   "outputs": [],
   "source": [
    "mctsAgent.get_calclated_line()"
   ]
  },
  {
   "cell_type": "code",
   "execution_count": null,
   "metadata": {},
   "outputs": [],
   "source": [
    "mctsAgent.get_calclated_line()"
   ]
  },
  {
   "cell_type": "code",
   "execution_count": null,
   "metadata": {},
   "outputs": [],
   "source": [
    "mctsAgent.get_calclated_line()"
   ]
  },
  {
   "cell_type": "code",
   "execution_count": null,
   "metadata": {},
   "outputs": [],
   "source": [
    "mctsAgent.get_calclated_line()"
   ]
  },
  {
   "cell_type": "code",
   "execution_count": null,
   "metadata": {},
   "outputs": [],
   "source": [
    "mctsAgent.get_calclated_line()"
   ]
  },
  {
   "cell_type": "code",
   "execution_count": null,
   "metadata": {},
   "outputs": [],
   "source": [
    "mctsAgent.get_calclated_line()"
   ]
  },
  {
   "cell_type": "code",
   "execution_count": null,
   "metadata": {},
   "outputs": [],
   "source": [
    "mctsAgent.get_calclated_line()"
   ]
  },
  {
   "cell_type": "code",
   "execution_count": null,
   "metadata": {},
   "outputs": [],
   "source": [
    "mctsAgent.get_calclated_line()"
   ]
  },
  {
   "cell_type": "code",
   "execution_count": null,
   "metadata": {},
   "outputs": [],
   "source": [
    "mctsAgent.get_calclated_line()"
   ]
  },
  {
   "cell_type": "code",
   "execution_count": null,
   "metadata": {},
   "outputs": [],
   "source": [
    "mctsAgent.get_calclated_line()"
   ]
  },
  {
   "cell_type": "code",
   "execution_count": null,
   "metadata": {},
   "outputs": [],
   "source": [
    "plot_moves_with_prob(legal_moves, p_vec_small, only_top_x=10)"
   ]
  },
  {
   "cell_type": "code",
   "execution_count": null,
   "metadata": {},
   "outputs": [],
   "source": [
    "plot_moves_with_prob(legal_moves, p_vec_small, only_top_x=10)"
   ]
  },
  {
   "cell_type": "code",
   "execution_count": null,
   "metadata": {},
   "outputs": [],
   "source": [
    "plot_moves_with_prob(legal_moves, p_vec_small, only_top_x=10)"
   ]
  },
  {
   "cell_type": "code",
   "execution_count": null,
   "metadata": {},
   "outputs": [],
   "source": [
    "plot_moves_with_prob(legal_moves, p_vec_small, only_top_x=10)"
   ]
  },
  {
   "cell_type": "code",
   "execution_count": null,
   "metadata": {},
   "outputs": [],
   "source": [
    "plot_moves_with_prob(legal_moves, p_vec_small, only_top_x=10)"
   ]
  },
  {
   "cell_type": "code",
   "execution_count": null,
   "metadata": {},
   "outputs": [],
   "source": [
    "plot_moves_with_prob(legal_moves, p_vec_small, only_top_x=10)"
   ]
  },
  {
   "cell_type": "code",
   "execution_count": null,
   "metadata": {},
   "outputs": [],
   "source": [
    "plot_moves_with_prob(legal_moves, p_vec_small, only_top_x=10)"
   ]
  },
  {
   "cell_type": "code",
   "execution_count": null,
   "metadata": {},
   "outputs": [],
   "source": [
    "plot_moves_with_prob(legal_moves, p_vec_small, only_top_x=10)"
   ]
  },
  {
   "cell_type": "code",
   "execution_count": null,
   "metadata": {},
   "outputs": [],
   "source": [
    "plot_moves_with_prob(legal_moves, p_vec_small, only_top_x=10)"
   ]
  },
  {
   "cell_type": "code",
   "execution_count": null,
   "metadata": {},
   "outputs": [],
   "source": [
    "plot_moves_with_prob(legal_moves, p_vec_small, only_top_x=10)"
   ]
  },
  {
   "cell_type": "code",
   "execution_count": null,
   "metadata": {},
   "outputs": [],
   "source": [
    "plot_moves_with_prob(legal_moves, p_vec_small, only_top_x=10)"
   ]
  },
  {
   "cell_type": "code",
   "execution_count": null,
   "metadata": {},
   "outputs": [],
   "source": [
    "plot_moves_with_prob(legal_moves, p_vec_small, only_top_x=10)"
   ]
  },
  {
   "cell_type": "code",
   "execution_count": null,
   "metadata": {},
   "outputs": [],
   "source": [
    "plot_moves_with_prob(legal_moves, p_vec_small, only_top_x=10)"
   ]
  },
  {
   "cell_type": "code",
   "execution_count": null,
   "metadata": {},
   "outputs": [],
   "source": [
    "plot_moves_with_prob(legal_moves, p_vec_small, only_top_x=10)"
   ]
  },
  {
   "cell_type": "code",
   "execution_count": null,
   "metadata": {},
   "outputs": [],
   "source": [
    "mctsAgent.get_calclated_line()"
   ]
  },
  {
   "cell_type": "code",
   "execution_count": null,
   "metadata": {},
   "outputs": [],
   "source": [
    "mctsAgent.get_calclated_line()"
   ]
  },
  {
   "cell_type": "code",
   "execution_count": null,
   "metadata": {},
   "outputs": [],
   "source": [
    "mctsAgent.get_calclated_line()"
   ]
  },
  {
   "cell_type": "code",
   "execution_count": null,
   "metadata": {},
   "outputs": [],
   "source": [
    "mctsAgent.get_calclated_line()"
   ]
  },
  {
   "cell_type": "code",
   "execution_count": null,
   "metadata": {},
   "outputs": [],
   "source": [
    "mctsAgent.get_calclated_line()"
   ]
  },
  {
   "cell_type": "code",
   "execution_count": null,
   "metadata": {},
   "outputs": [],
   "source": [
    "mctsAgent.get_calclated_line()"
   ]
  },
  {
   "cell_type": "code",
   "execution_count": null,
   "metadata": {},
   "outputs": [],
   "source": [
    "mctsAgent.get_calclated_line()"
   ]
  },
  {
   "cell_type": "code",
   "execution_count": null,
   "metadata": {},
   "outputs": [],
   "source": [
    "len(mctsAgent.get_calclated_line()[0])"
   ]
  },
  {
   "cell_type": "code",
   "execution_count": null,
   "metadata": {},
   "outputs": [],
   "source": [
    "t_s = time()\n",
    "value, selected_move, confidence, legal_moves, p_vec_small = mctsAgent.evaluate_board_state(state)\n",
    "print('Elapsed time: %.4fs' % (t_s - time()))"
   ]
  },
  {
   "cell_type": "code",
   "execution_count": null,
   "metadata": {},
   "outputs": [],
   "source": [
    "t_s = time()\n",
    "value, selected_move, confidence, legal_moves, p_vec_small = mctsAgent.evaluate_board_state(state)\n",
    "print('Elapsed time: %.4fs' % (t_s - time()))"
   ]
  },
  {
   "cell_type": "code",
   "execution_count": null,
   "metadata": {},
   "outputs": [],
   "source": [
    "plot_moves_with_prob(legal_moves, p_vec_small, only_top_x=10)"
   ]
  },
  {
   "cell_type": "code",
   "execution_count": null,
   "metadata": {},
   "outputs": [],
   "source": [
    "plot_moves_with_prob(legal_moves, p_vec_small, only_top_x=10)"
   ]
  },
  {
   "cell_type": "code",
   "execution_count": null,
   "metadata": {},
   "outputs": [],
   "source": [
    "plot_moves_with_prob(legal_moves, p_vec_small, only_top_x=10)"
   ]
  },
  {
   "cell_type": "code",
   "execution_count": null,
   "metadata": {},
   "outputs": [],
   "source": [
    "plot_moves_with_prob(legal_moves, p_vec_small, only_top_x=10)"
   ]
  },
  {
   "cell_type": "code",
   "execution_count": null,
   "metadata": {},
   "outputs": [],
   "source": [
    "plot_moves_with_prob(legal_moves, p_vec_small, only_top_x=10)"
   ]
  },
  {
   "cell_type": "code",
   "execution_count": null,
   "metadata": {},
   "outputs": [],
   "source": [
    "plot_moves_with_prob(legal_moves, p_vec_small, only_top_x=10)"
   ]
  },
  {
   "cell_type": "markdown",
   "metadata": {},
   "source": [
    "## cpuct 1.0"
   ]
  },
  {
   "cell_type": "code",
   "execution_count": null,
   "metadata": {},
   "outputs": [],
   "source": [
    "plot_moves_with_prob(legal_moves, p_vec_small, only_top_x=10)"
   ]
  },
  {
   "cell_type": "markdown",
   "metadata": {},
   "source": [
    "## cpuct 0.75"
   ]
  },
  {
   "cell_type": "code",
   "execution_count": null,
   "metadata": {},
   "outputs": [],
   "source": [
    "plot_moves_with_prob(legal_moves, p_vec_small, only_top_x=10)"
   ]
  },
  {
   "cell_type": "code",
   "execution_count": null,
   "metadata": {},
   "outputs": [],
   "source": [
    "plot_moves_with_prob(legal_moves, p_vec_small, only_top_x=10)"
   ]
  },
  {
   "cell_type": "code",
   "execution_count": null,
   "metadata": {},
   "outputs": [],
   "source": [
    "mctsAgent.get_calclated_line()"
   ]
  },
  {
   "cell_type": "code",
   "execution_count": null,
   "metadata": {},
   "outputs": [],
   "source": [
    "mctsAgent.get_calclated_line()"
   ]
  },
  {
   "cell_type": "code",
   "execution_count": null,
   "metadata": {},
   "outputs": [],
   "source": [
    "mctsAgent.get_calclated_line()"
   ]
  },
  {
   "cell_type": "code",
   "execution_count": null,
   "metadata": {},
   "outputs": [],
   "source": [
    "mctsAgent.get_calclated_line()"
   ]
  },
  {
   "cell_type": "markdown",
   "metadata": {},
   "source": [
    "## cpuct 3"
   ]
  },
  {
   "cell_type": "code",
   "execution_count": null,
   "metadata": {},
   "outputs": [],
   "source": [
    "mctsAgent.get_calclated_line()"
   ]
  },
  {
   "cell_type": "markdown",
   "metadata": {},
   "source": [
    "## cpuct 0.2"
   ]
  },
  {
   "cell_type": "code",
   "execution_count": null,
   "metadata": {},
   "outputs": [],
   "source": [
    "mctsAgent.get_calclated_line()"
   ]
  },
  {
   "cell_type": "markdown",
   "metadata": {},
   "source": [
    "## cpuct 0.1"
   ]
  },
  {
   "cell_type": "code",
   "execution_count": null,
   "metadata": {},
   "outputs": [],
   "source": [
    "mctsAgent.get_calclated_line()"
   ]
  },
  {
   "cell_type": "code",
   "execution_count": null,
   "metadata": {},
   "outputs": [],
   "source": [
    "mctsAgent.get_calclated_line()"
   ]
  },
  {
   "cell_type": "code",
   "execution_count": null,
   "metadata": {},
   "outputs": [],
   "source": [
    "mctsAgent.get_calclated_line()"
   ]
  },
  {
   "cell_type": "code",
   "execution_count": null,
   "metadata": {},
   "outputs": [],
   "source": [
    "plot_moves_with_prob(legal_moves, p_vec_small, only_top_x=10)"
   ]
  },
  {
   "cell_type": "code",
   "execution_count": null,
   "metadata": {},
   "outputs": [],
   "source": [
    "plot_moves_with_prob(legal_moves, mctsAgent.root_node.p, only_top_x=10)"
   ]
  },
  {
   "cell_type": "code",
   "execution_count": null,
   "metadata": {},
   "outputs": [],
   "source": [
    "mctsAgent.get_calclated_line()"
   ]
  },
  {
   "cell_type": "code",
   "execution_count": null,
   "metadata": {},
   "outputs": [],
   "source": [
    "board = chess.variant.CrazyhouseBoard()\n",
    "#board.push_uci('e2e4')\n",
    "#board.set_fen('r1bQ1bnr/p1P2ppp/2p1k2b/2pNp3/2B1P3/2N5/PPPK1PPP/R6R/Pqn w - - 30 16')\n",
    "\n",
    "fen = 'r1b2bnr/p1k2ppp/8/2pNp3/4P3/8/PPP2PPP/R3KB1R/PQPnpqbn b KQ - 23 12'\n",
    "#fen = 'r1b2bnr/p2k1ppp/8/2pNp3/4P3/8/PPP2PPP/R3KB1R/PQPnpqbn w KQ - 24 13'\n",
    "fen = 'r1b2bnr/p1k2ppp/8/2pNp3/4P3/8/PPP2PPP/R3KB1R[QPPqbnnp] b KQ - 23 12'\n",
    "fen = 'r1b2bnr/p4ppp/3k4/2pNp3/4P3/8/PPP2PPP/R3KB1R/PQPnpqbn w KQ - 1 13'\n",
    "#fen = 'r1b2bnr/p1k2ppp/8/2ppp3/4P3/2N5/PPP2PPP/R3KB1R/QPnpqbn w KQ - 22 12'\n",
    "fen = 'r1b2bnr/p4ppp/3k4/2pNp3/4P3/8/PPP2PPP/R3KB1R[QPPqbnnp] w KQ - 1 13'\n",
    "fen = 'r1b2bnr/p4ppp/3k4/2pNp3/4P3/8/PPP2PPP/R3KB1R[QPPqbnnp] w KQ - 1 13'\n",
    "\n",
    "board.set_fen('r1b2bnr/p1k2ppp/2p5/2p1p3/4P3/2N5/PPP2PPP/R3KB1R/QNPpqbn w KQ - 20 11')\n",
    "#board.set_fen('r3qrk1/p4ppp/3b4/2p5/6b1/1N1pP3/PP1PNPP1/RBBQK2R[NPnppp] b KQ - 0 19')\n",
    "\n",
    "fen = 'r1b2rk1/pppp1ppp/8/4p1b1/2BnP3/2NP2b1/PPPp1QPP/5K1R/NQrn w - - 44 23'\n",
    "#fen = 'r3qrk1/p4ppp/3b4/2p5/6b1/1N2P3/PP1PpPP1/RBBQK2R/NPnnppp w KQ - 1 20'\n",
    "#fen = 'r3qr1k/p4pp1/3b4/2p5/6b1/1N1BP3/PP1PpPP1/R1BQK2R[NPPnnppp] b KQ - 2 21'\n",
    "#board.set_fen('1rbQ1bnr/p1P2ppp/1Np1k3/2p1p3/2B1N3/P7/P1Pb1PPP/RK5R/NQPp b - - 39 20')\n",
    "#board.set_fen('1rbQ1bnr/p1P2ppp/1Np5/2p1pk2/2B1N3/P7/P1Pb1PPP/RK5R/NQPp w - - 40 21')\n",
    "#board.set_fen('r1bQ1bnr/p1P2ppp/2p1k3/2pNp3/4P3/2N5/PPP2PPP/R3KB1R/pqbn w KQ - 26 14')\n",
    "#board.set_fen('r1bk1bnr/p4ppp/2p5/2pNp3/4P3/2N5/PPP2PPP/R3KB1R/QPpqbn w KQ - 22 12')\n",
    "board.set_fen(fen)\n",
    "#board.push_uci('b1h7')\n",
    "\n",
    "state = GameState(board)\n",
    "board"
   ]
  },
  {
   "cell_type": "code",
   "execution_count": null,
   "metadata": {},
   "outputs": [],
   "source": [
    "rawNet.perform_action(state)"
   ]
  },
  {
   "cell_type": "code",
   "execution_count": null,
   "metadata": {},
   "outputs": [],
   "source": [
    "pred_value, selected_moves, move_probabilites = rawAgent.evaluate_board_state(state)"
   ]
  },
  {
   "cell_type": "code",
   "execution_count": null,
   "metadata": {},
   "outputs": [],
   "source": [
    "plot_moves_with_prob(selected_moves, move_probabilites, only_top_x=10)"
   ]
  },
  {
   "cell_type": "code",
   "execution_count": null,
   "metadata": {},
   "outputs": [],
   "source": [
    "import chess\n",
    "import chess.variant"
   ]
  },
  {
   "cell_type": "code",
   "execution_count": null,
   "metadata": {},
   "outputs": [],
   "source": [
    "b = chess.variant.CrazyhouseBoard('r1b2rk1/pppp1ppp/8/4p1b1/2BnP3/2NP2b1/PPPp1QPP/5K1R/NQrn w - - 44 23')\n",
    "b"
   ]
  },
  {
   "cell_type": "code",
   "execution_count": null,
   "metadata": {},
   "outputs": [],
   "source": [
    "from copy import deepcopy"
   ]
  },
  {
   "cell_type": "code",
   "execution_count": null,
   "metadata": {},
   "outputs": [],
   "source": [
    "check_moves_enhance = np.zeros(len(list(b.legal_moves)))\n",
    "\n",
    "for i, mv in enumerate(b.legal_moves):\n",
    "    b_tmp = deepcopy(b)\n",
    "    b_tmp.push(mv)\n",
    "    if b_tmp.is_check():\n",
    "        print(b_tmp.is_check(), mv)\n",
    "        check_moves_enhance[i] = 1"
   ]
  },
  {
   "cell_type": "code",
   "execution_count": null,
   "metadata": {},
   "outputs": [],
   "source": [
    "((check_moves_enhance / check_moves_enhance.sum()) * .5) / 1.5"
   ]
  },
  {
   "cell_type": "code",
   "execution_count": null,
   "metadata": {},
   "outputs": [],
   "source": [
    "mctsAgent.root_node.p"
   ]
  },
  {
   "cell_type": "code",
   "execution_count": null,
   "metadata": {},
   "outputs": [],
   "source": [
    "#plot_moves_with_prob(mctsAgent.root_node.legal_moves, mctsAgent.root_node.p)"
   ]
  },
  {
   "cell_type": "code",
   "execution_count": null,
   "metadata": {},
   "outputs": [],
   "source": [
    "confidence"
   ]
  },
  {
   "cell_type": "code",
   "execution_count": null,
   "metadata": {},
   "outputs": [],
   "source": [
    "p_vec_small"
   ]
  },
  {
   "cell_type": "code",
   "execution_count": null,
   "metadata": {},
   "outputs": [],
   "source": [
    "mctsAgent.get_calclated_line()"
   ]
  },
  {
   "cell_type": "code",
   "execution_count": null,
   "metadata": {},
   "outputs": [],
   "source": [
    "mctsAgent.get_calclated_line()"
   ]
  },
  {
   "cell_type": "code",
   "execution_count": null,
   "metadata": {},
   "outputs": [],
   "source": [
    "r = mctsAgent.root_node"
   ]
  },
  {
   "cell_type": "code",
   "execution_count": null,
   "metadata": {},
   "outputs": [],
   "source": [
    "n = r.child_nodes[0]"
   ]
  },
  {
   "cell_type": "code",
   "execution_count": null,
   "metadata": {},
   "outputs": [],
   "source": [
    "n.legal_moves"
   ]
  },
  {
   "cell_type": "code",
   "execution_count": null,
   "metadata": {},
   "outputs": [],
   "source": [
    "n.q"
   ]
  },
  {
   "cell_type": "code",
   "execution_count": null,
   "metadata": {},
   "outputs": [],
   "source": [
    "n.n"
   ]
  },
  {
   "cell_type": "code",
   "execution_count": null,
   "metadata": {},
   "outputs": [],
   "source": [
    "mctsAgent.show_next_pred_line()"
   ]
  },
  {
   "cell_type": "code",
   "execution_count": null,
   "metadata": {},
   "outputs": [],
   "source": [
    "n = n.child_nodes[2]"
   ]
  },
  {
   "cell_type": "code",
   "execution_count": null,
   "metadata": {},
   "outputs": [],
   "source": [
    "n.q"
   ]
  },
  {
   "cell_type": "code",
   "execution_count": null,
   "metadata": {},
   "outputs": [],
   "source": [
    "n.n"
   ]
  },
  {
   "cell_type": "code",
   "execution_count": null,
   "metadata": {},
   "outputs": [],
   "source": [
    "n.q"
   ]
  },
  {
   "cell_type": "code",
   "execution_count": null,
   "metadata": {},
   "outputs": [],
   "source": []
  },
  {
   "cell_type": "code",
   "execution_count": null,
   "metadata": {},
   "outputs": [],
   "source": [
    "n.n"
   ]
  },
  {
   "cell_type": "code",
   "execution_count": null,
   "metadata": {},
   "outputs": [],
   "source": [
    "n.p"
   ]
  },
  {
   "cell_type": "code",
   "execution_count": null,
   "metadata": {},
   "outputs": [],
   "source": [
    "plot_moves_with_prob(legal_moves, p_vec_small, only_top_x=10)"
   ]
  },
  {
   "cell_type": "code",
   "execution_count": null,
   "metadata": {},
   "outputs": [],
   "source": [
    "def plot_move_dict(move_dict):\n",
    "    moves_ordered = sorted(move_dict, key=move_dict.__getitem__)\n",
    "    probs = sorted(move_dict.values())\n",
    "    \n",
    "    plt.barh(range(len(probs)), probs)\n",
    "    plt.yticks(range(len(probs)), moves_ordered)"
   ]
  },
  {
   "cell_type": "code",
   "execution_count": null,
   "metadata": {},
   "outputs": [],
   "source": [
    "plot_move_dict(move_dict)"
   ]
  },
  {
   "cell_type": "code",
   "execution_count": null,
   "metadata": {},
   "outputs": [],
   "source": [
    "mctsAgent.get_calclated_line()"
   ]
  },
  {
   "cell_type": "code",
   "execution_count": null,
   "metadata": {},
   "outputs": [],
   "source": [
    "epsilon=0.25\n",
    "alpha=0.15"
   ]
  },
  {
   "cell_type": "code",
   "execution_count": null,
   "metadata": {},
   "outputs": [],
   "source": [
    "dirichlet_noise = epsilon * np.random.dirichlet([alpha] * 20)"
   ]
  },
  {
   "cell_type": "code",
   "execution_count": null,
   "metadata": {},
   "outputs": [],
   "source": [
    "plt.hist(dirichlet_noise)"
   ]
  },
  {
   "cell_type": "code",
   "execution_count": null,
   "metadata": {},
   "outputs": [],
   "source": [
    "mctsAgent.root_node.q"
   ]
  },
  {
   "cell_type": "code",
   "execution_count": null,
   "metadata": {},
   "outputs": [],
   "source": [
    "mctsAgent.root_node.w "
   ]
  },
  {
   "cell_type": "code",
   "execution_count": null,
   "metadata": {},
   "outputs": [],
   "source": [
    "plot_move_dict(move_dict)"
   ]
  },
  {
   "cell_type": "code",
   "execution_count": null,
   "metadata": {},
   "outputs": [],
   "source": [
    "mctsAgent.get_calclated_line()"
   ]
  },
  {
   "cell_type": "code",
   "execution_count": null,
   "metadata": {},
   "outputs": [],
   "source": [
    "plot_move_dict(move_dict)"
   ]
  },
  {
   "cell_type": "code",
   "execution_count": null,
   "metadata": {},
   "outputs": [],
   "source": [
    "mctsAgent.get_calclated_line()"
   ]
  },
  {
   "cell_type": "code",
   "execution_count": null,
   "metadata": {},
   "outputs": [],
   "source": [
    "mctsAgent.root_node.child_nodes"
   ]
  },
  {
   "cell_type": "code",
   "execution_count": null,
   "metadata": {},
   "outputs": [],
   "source": [
    "mctsAgent.root_node.nb_direct_child_nodes"
   ]
  },
  {
   "cell_type": "code",
   "execution_count": null,
   "metadata": {},
   "outputs": [],
   "source": [
    "mctsAgent.root_node.nb_total_expanded_child_nodes"
   ]
  },
  {
   "cell_type": "code",
   "execution_count": null,
   "metadata": {},
   "outputs": [],
   "source": [
    "mctsAgent.root_node.nb_expandable_child_nodes"
   ]
  },
  {
   "cell_type": "code",
   "execution_count": null,
   "metadata": {},
   "outputs": [],
   "source": [
    "mctsAgent.root_node.child_nodes[1].child_nodes"
   ]
  },
  {
   "cell_type": "code",
   "execution_count": null,
   "metadata": {},
   "outputs": [],
   "source": []
  }
 ],
 "metadata": {
  "kernelspec": {
   "display_name": "Python 3",
   "language": "python",
   "name": "python3"
  },
  "language_info": {
   "codemirror_mode": {
    "name": "ipython",
    "version": 3
   },
   "file_extension": ".py",
   "mimetype": "text/x-python",
   "name": "python",
   "nbconvert_exporter": "python",
   "pygments_lexer": "ipython3"
  }
 },
 "nbformat": 4,
 "nbformat_minor": 2
}

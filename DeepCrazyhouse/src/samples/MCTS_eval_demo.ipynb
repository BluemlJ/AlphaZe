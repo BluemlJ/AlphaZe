{
 "cells": [
  {
   "cell_type": "markdown",
   "metadata": {},
   "source": [
    "### Demonstration of an evaluation based on the MCTSAgent"
   ]
  },
  {
   "cell_type": "code",
   "execution_count": 1,
   "metadata": {
    "collapsed": true
   },
   "outputs": [],
   "source": [
    "%load_ext autoreload\n",
    "%autoreload 2"
   ]
  },
  {
   "cell_type": "code",
   "execution_count": 2,
   "metadata": {
    "collapsed": true
   },
   "outputs": [],
   "source": [
    "%reload_ext autoreload"
   ]
  },
  {
   "cell_type": "code",
   "execution_count": 3,
   "metadata": {
    "collapsed": true
   },
   "outputs": [],
   "source": [
    "import chess\n",
    "import chess.variant\n",
    "import matplotlib.pyplot as plt\n",
    "import numpy as np\n",
    "import sys\n",
    "sys.path.insert(0,'../../../')\n",
    "from DeepCrazyhouse.src.domain.agent.neural_net_api import NeuralNetAPI\n",
    "from DeepCrazyhouse.src.domain.agent.player.mcts_agent import MCTSAgent\n",
    "from DeepCrazyhouse.src.domain.agent.player.raw_net_agent import RawNetAgent\n",
    "from DeepCrazyhouse.src.domain.crazyhouse.game_state import GameState\n",
    "from DeepCrazyhouse.src.runtime.color_logger import enable_color_logging\n",
    "from time import time\n",
    "%matplotlib inline\n",
    "plt.style.use('seaborn-whitegrid')\n",
    "enable_color_logging()"
   ]
  },
  {
   "cell_type": "code",
   "execution_count": 4,
   "metadata": {
    "collapsed": true
   },
   "outputs": [],
   "source": [
    "batch_size = 16 #1 #8"
   ]
  },
  {
   "cell_type": "code",
   "execution_count": 5,
   "metadata": {},
   "outputs": [
    {
     "name": "stdout",
     "output_type": "stream",
     "text": [
      "self.symbol_path: /media/queensgambit/5C483A84483A5CC8/Deep_Learning/data/stockfish/Crazyhouse/model/symbol/model-1.32689-0.566-symbol.json\n",
      "self.params_path: /media/queensgambit/5C483A84483A5CC8/Deep_Learning/data/stockfish/Crazyhouse/model/params/model-1.32689-0.566-0011.params\n",
      "self.symbol_path: /media/queensgambit/5C483A84483A5CC8/Deep_Learning/data/stockfish/Crazyhouse/model/symbol/model-1.32689-0.566-symbol.json\n",
      "self.params_path: /media/queensgambit/5C483A84483A5CC8/Deep_Learning/data/stockfish/Crazyhouse/model/params/model-1.32689-0.566-0011.params\n"
     ]
    }
   ],
   "source": [
    "nets = []\n",
    "for idx in range(2):\n",
    "    nets.append(NeuralNetAPI(ctx='gpu', batch_size=batch_size))"
   ]
  },
  {
   "cell_type": "code",
   "execution_count": 6,
   "metadata": {
    "collapsed": true
   },
   "outputs": [],
   "source": [
    "raw_agent = RawNetAgent(nets[0])"
   ]
  },
  {
   "cell_type": "code",
   "execution_count": 7,
   "metadata": {
    "collapsed": true
   },
   "outputs": [],
   "source": [
    "mcts_agent = MCTSAgent(nets, threads=16, playouts_empty_pockets=4096*5, playouts_filled_pockets=4096*5,\n",
    "                 cpuct=2.5, dirichlet_epsilon=.25, dirichlet_alpha=0.2, batch_size=batch_size, q_value_weight=0.7,\n",
    "                 max_search_depth=40, temperature=0., virtual_loss=3, verbose=True,\n",
    "                 min_movetime=5000, check_mate_in_one=False, use_oscillating_cpuct=False, use_pruning=True)"
   ]
  },
  {
   "cell_type": "code",
   "execution_count": 8,
   "metadata": {
    "scrolled": false
   },
   "outputs": [
    {
     "data": {
      "image/svg+xml": [
       "<svg height=\"400\" version=\"1.1\" viewBox=\"0 0 400 400\" width=\"400\" xmlns=\"http://www.w3.org/2000/svg\" xmlns:xlink=\"http://www.w3.org/1999/xlink\"><defs><g class=\"white pawn\" id=\"white-pawn\"><path d=\"M22 9c-2.21 0-4 1.79-4 4 0 .89.29 1.71.78 2.38-1.95 1.12-3.28 3.21-3.28 5.62 0 2.03.94 3.84 2.41 5.03-3 1.06-7.41 5.55-7.41 13.47h23c0-7.92-4.41-12.41-7.41-13.47 1.47-1.19 2.41-3 2.41-5.03 0-2.41-1.33-4.5-3.28-5.62.49-.67.78-1.49.78-2.38 0-2.21-1.79-4-4-4z\" fill=\"#fff\" stroke=\"#000\" stroke-linecap=\"round\" stroke-width=\"1.5\" /></g><g class=\"white bishop\" fill=\"none\" fill-rule=\"evenodd\" id=\"white-bishop\" stroke=\"#000\" stroke-linecap=\"round\" stroke-linejoin=\"round\" stroke-width=\"1.5\"><g fill=\"#fff\" stroke-linecap=\"butt\"><path d=\"M9 36c3.39-.97 10.11.43 13.5-2 3.39 2.43 10.11 1.03 13.5 2 0 0 1.65.54 3 2-.68.97-1.65.99-3 .5-3.39-.97-10.11.46-13.5-1-3.39 1.46-10.11.03-13.5 1-1.354.49-2.323.47-3-.5 1.354-1.94 3-2 3-2zM15 32c2.5 2.5 12.5 2.5 15 0 .5-1.5 0-2 0-2 0-2.5-2.5-4-2.5-4 5.5-1.5 6-11.5-5-15.5-11 4-10.5 14-5 15.5 0 0-2.5 1.5-2.5 4 0 0-.5.5 0 2zM25 8a2.5 2.5 0 1 1-5 0 2.5 2.5 0 1 1 5 0z\" /></g><path d=\"M17.5 26h10M15 30h15m-7.5-14.5v5M20 18h5\" stroke-linejoin=\"miter\" /></g><g class=\"white rook\" fill=\"#fff\" fill-rule=\"evenodd\" id=\"white-rook\" stroke=\"#000\" stroke-linecap=\"round\" stroke-linejoin=\"round\" stroke-width=\"1.5\"><path d=\"M9 39h27v-3H9v3zM12 36v-4h21v4H12zM11 14V9h4v2h5V9h5v2h5V9h4v5\" stroke-linecap=\"butt\" /><path d=\"M34 14l-3 3H14l-3-3\" /><path d=\"M31 17v12.5H14V17\" stroke-linecap=\"butt\" stroke-linejoin=\"miter\" /><path d=\"M31 29.5l1.5 2.5h-20l1.5-2.5\" /><path d=\"M11 14h23\" fill=\"none\" stroke-linejoin=\"miter\" /></g><g class=\"white queen\" fill=\"#fff\" fill-rule=\"evenodd\" id=\"white-queen\" stroke=\"#000\" stroke-linecap=\"round\" stroke-linejoin=\"round\" stroke-width=\"1.5\"><path d=\"M8 12a2 2 0 1 1-4 0 2 2 0 1 1 4 0zM24.5 7.5a2 2 0 1 1-4 0 2 2 0 1 1 4 0zM41 12a2 2 0 1 1-4 0 2 2 0 1 1 4 0zM16 8.5a2 2 0 1 1-4 0 2 2 0 1 1 4 0zM33 9a2 2 0 1 1-4 0 2 2 0 1 1 4 0z\" /><path d=\"M9 26c8.5-1.5 21-1.5 27 0l2-12-7 11V11l-5.5 13.5-3-15-3 15-5.5-14V25L7 14l2 12zM9 26c0 2 1.5 2 2.5 4 1 1.5 1 1 .5 3.5-1.5 1-1.5 2.5-1.5 2.5-1.5 1.5.5 2.5.5 2.5 6.5 1 16.5 1 23 0 0 0 1.5-1 0-2.5 0 0 .5-1.5-1-2.5-.5-2.5-.5-2 .5-3.5 1-2 2.5-2 2.5-4-8.5-1.5-18.5-1.5-27 0z\" stroke-linecap=\"butt\" /><path d=\"M11.5 30c3.5-1 18.5-1 22 0M12 33.5c6-1 15-1 21 0\" fill=\"none\" /></g><g class=\"white king\" fill=\"none\" fill-rule=\"evenodd\" id=\"white-king\" stroke=\"#000\" stroke-linecap=\"round\" stroke-linejoin=\"round\" stroke-width=\"1.5\"><path d=\"M22.5 11.63V6M20 8h5\" stroke-linejoin=\"miter\" /><path d=\"M22.5 25s4.5-7.5 3-10.5c0 0-1-2.5-3-2.5s-3 2.5-3 2.5c-1.5 3 3 10.5 3 10.5\" fill=\"#fff\" stroke-linecap=\"butt\" stroke-linejoin=\"miter\" /><path d=\"M11.5 37c5.5 3.5 15.5 3.5 21 0v-7s9-4.5 6-10.5c-4-6.5-13.5-3.5-16 4V27v-3.5c-3.5-7.5-13-10.5-16-4-3 6 5 10 5 10V37z\" fill=\"#fff\" /><path d=\"M11.5 30c5.5-3 15.5-3 21 0m-21 3.5c5.5-3 15.5-3 21 0m-21 3.5c5.5-3 15.5-3 21 0\" /></g><g class=\"black pawn\" id=\"black-pawn\"><path d=\"M22 9c-2.21 0-4 1.79-4 4 0 .89.29 1.71.78 2.38-1.95 1.12-3.28 3.21-3.28 5.62 0 2.03.94 3.84 2.41 5.03-3 1.06-7.41 5.55-7.41 13.47h23c0-7.92-4.41-12.41-7.41-13.47 1.47-1.19 2.41-3 2.41-5.03 0-2.41-1.33-4.5-3.28-5.62.49-.67.78-1.49.78-2.38 0-2.21-1.79-4-4-4z\" stroke=\"#000\" stroke-linecap=\"round\" stroke-width=\"1.5\" /></g><g class=\"black knight\" fill=\"none\" fill-rule=\"evenodd\" id=\"black-knight\" stroke=\"#000\" stroke-linecap=\"round\" stroke-linejoin=\"round\" stroke-width=\"1.5\"><path d=\"M 22,10 C 32.5,11 38.5,18 38,39 L 15,39 C 15,30 25,32.5 23,18\" style=\"fill:#000000; stroke:#000000;\" /><path d=\"M 24,18 C 24.38,20.91 18.45,25.37 16,27 C 13,29 13.18,31.34 11,31 C 9.958,30.06 12.41,27.96 11,28 C 10,28 11.19,29.23 10,30 C 9,30 5.997,31 6,26 C 6,24 12,14 12,14 C 12,14 13.89,12.1 14,10.5 C 13.27,9.506 13.5,8.5 13.5,7.5 C 14.5,6.5 16.5,10 16.5,10 L 18.5,10 C 18.5,10 19.28,8.008 21,7 C 22,7 22,10 22,10\" style=\"fill:#000000; stroke:#000000;\" /><path d=\"M 9.5 25.5 A 0.5 0.5 0 1 1 8.5,25.5 A 0.5 0.5 0 1 1 9.5 25.5 z\" style=\"fill:#ececec; stroke:#ececec;\" /><path d=\"M 15 15.5 A 0.5 1.5 0 1 1 14,15.5 A 0.5 1.5 0 1 1 15 15.5 z\" style=\"fill:#ececec; stroke:#ececec;\" transform=\"matrix(0.866,0.5,-0.5,0.866,9.693,-5.173)\" /><path d=\"M 24.55,10.4 L 24.1,11.85 L 24.6,12 C 27.75,13 30.25,14.49 32.5,18.75 C 34.75,23.01 35.75,29.06 35.25,39 L 35.2,39.5 L 37.45,39.5 L 37.5,39 C 38,28.94 36.62,22.15 34.25,17.66 C 31.88,13.17 28.46,11.02 25.06,10.5 L 24.55,10.4 z \" style=\"fill:#ececec; stroke:none;\" /></g><g class=\"black bishop\" fill=\"none\" fill-rule=\"evenodd\" id=\"black-bishop\" stroke=\"#000\" stroke-linecap=\"round\" stroke-linejoin=\"round\" stroke-width=\"1.5\"><path d=\"M9 36c3.39-.97 10.11.43 13.5-2 3.39 2.43 10.11 1.03 13.5 2 0 0 1.65.54 3 2-.68.97-1.65.99-3 .5-3.39-.97-10.11.46-13.5-1-3.39 1.46-10.11.03-13.5 1-1.354.49-2.323.47-3-.5 1.354-1.94 3-2 3-2zm6-4c2.5 2.5 12.5 2.5 15 0 .5-1.5 0-2 0-2 0-2.5-2.5-4-2.5-4 5.5-1.5 6-11.5-5-15.5-11 4-10.5 14-5 15.5 0 0-2.5 1.5-2.5 4 0 0-.5.5 0 2zM25 8a2.5 2.5 0 1 1-5 0 2.5 2.5 0 1 1 5 0z\" fill=\"#000\" stroke-linecap=\"butt\" /><path d=\"M17.5 26h10M15 30h15m-7.5-14.5v5M20 18h5\" stroke=\"#fff\" stroke-linejoin=\"miter\" /></g><g class=\"black rook\" fill=\"#000\" fill-rule=\"evenodd\" id=\"black-rook\" stroke=\"#000\" stroke-linecap=\"round\" stroke-linejoin=\"round\" stroke-width=\"1.5\"><path d=\"M9 39h27v-3H9v3zM12.5 32l1.5-2.5h17l1.5 2.5h-20zM12 36v-4h21v4H12z\" stroke-linecap=\"butt\" /><path d=\"M14 29.5v-13h17v13H14z\" stroke-linecap=\"butt\" stroke-linejoin=\"miter\" /><path d=\"M14 16.5L11 14h23l-3 2.5H14zM11 14V9h4v2h5V9h5v2h5V9h4v5H11z\" stroke-linecap=\"butt\" /><path d=\"M12 35.5h21M13 31.5h19M14 29.5h17M14 16.5h17M11 14h23\" fill=\"none\" stroke=\"#fff\" stroke-linejoin=\"miter\" stroke-width=\"1\" /></g><g class=\"black queen\" fill=\"#000\" fill-rule=\"evenodd\" id=\"black-queen\" stroke=\"#000\" stroke-linecap=\"round\" stroke-linejoin=\"round\" stroke-width=\"1.5\"><g fill=\"#000\" stroke=\"none\"><circle cx=\"6\" cy=\"12\" r=\"2.75\" /><circle cx=\"14\" cy=\"9\" r=\"2.75\" /><circle cx=\"22.5\" cy=\"8\" r=\"2.75\" /><circle cx=\"31\" cy=\"9\" r=\"2.75\" /><circle cx=\"39\" cy=\"12\" r=\"2.75\" /></g><path d=\"M9 26c8.5-1.5 21-1.5 27 0l2.5-12.5L31 25l-.3-14.1-5.2 13.6-3-14.5-3 14.5-5.2-13.6L14 25 6.5 13.5 9 26zM9 26c0 2 1.5 2 2.5 4 1 1.5 1 1 .5 3.5-1.5 1-1.5 2.5-1.5 2.5-1.5 1.5.5 2.5.5 2.5 6.5 1 16.5 1 23 0 0 0 1.5-1 0-2.5 0 0 .5-1.5-1-2.5-.5-2.5-.5-2 .5-3.5 1-2 2.5-2 2.5-4-8.5-1.5-18.5-1.5-27 0z\" stroke-linecap=\"butt\" /><path d=\"M11 38.5a35 35 1 0 0 23 0\" fill=\"none\" stroke-linecap=\"butt\" /><path d=\"M11 29a35 35 1 0 1 23 0M12.5 31.5h20M11.5 34.5a35 35 1 0 0 22 0M10.5 37.5a35 35 1 0 0 24 0\" fill=\"none\" stroke=\"#fff\" /></g><g class=\"black king\" fill=\"none\" fill-rule=\"evenodd\" id=\"black-king\" stroke=\"#000\" stroke-linecap=\"round\" stroke-linejoin=\"round\" stroke-width=\"1.5\"><path d=\"M22.5 11.63V6\" stroke-linejoin=\"miter\" /><path d=\"M22.5 25s4.5-7.5 3-10.5c0 0-1-2.5-3-2.5s-3 2.5-3 2.5c-1.5 3 3 10.5 3 10.5\" fill=\"#000\" stroke-linecap=\"butt\" stroke-linejoin=\"miter\" /><path d=\"M11.5 37c5.5 3.5 15.5 3.5 21 0v-7s9-4.5 6-10.5c-4-6.5-13.5-3.5-16 4V27v-3.5c-3.5-7.5-13-10.5-16-4-3 6 5 10 5 10V37z\" fill=\"#000\" /><path d=\"M20 8h5\" stroke-linejoin=\"miter\" /><path d=\"M32 29.5s8.5-4 6.03-9.65C34.15 14 25 18 22.5 24.5l.01 2.1-.01-2.1C20 18 9.906 14 6.997 19.85c-2.497 5.65 4.853 9 4.853 9M11.5 30c5.5-3 15.5-3 21 0m-21 3.5c5.5-3 15.5-3 21 0m-21 3.5c5.5-3 15.5-3 21 0\" stroke=\"#fff\" /></g></defs><rect class=\"square dark a1\" fill=\"#d18b47\" height=\"45\" stroke=\"none\" width=\"45\" x=\"20\" y=\"335\" /><use transform=\"translate(20, 335)\" xlink:href=\"#white-rook\" /><rect class=\"square light b1\" fill=\"#ffce9e\" height=\"45\" stroke=\"none\" width=\"45\" x=\"65\" y=\"335\" /><rect class=\"square dark c1\" fill=\"#d18b47\" height=\"45\" stroke=\"none\" width=\"45\" x=\"110\" y=\"335\" /><use transform=\"translate(110, 335)\" xlink:href=\"#white-bishop\" /><rect class=\"square light d1\" fill=\"#ffce9e\" height=\"45\" stroke=\"none\" width=\"45\" x=\"155\" y=\"335\" /><rect class=\"square dark e1\" fill=\"#d18b47\" height=\"45\" stroke=\"none\" width=\"45\" x=\"200\" y=\"335\" /><use transform=\"translate(200, 335)\" xlink:href=\"#white-king\" /><rect class=\"square light f1\" fill=\"#ffce9e\" height=\"45\" stroke=\"none\" width=\"45\" x=\"245\" y=\"335\" /><rect class=\"square dark g1\" fill=\"#d18b47\" height=\"45\" stroke=\"none\" width=\"45\" x=\"290\" y=\"335\" /><rect class=\"square light h1\" fill=\"#ffce9e\" height=\"45\" stroke=\"none\" width=\"45\" x=\"335\" y=\"335\" /><use transform=\"translate(335, 335)\" xlink:href=\"#white-rook\" /><rect class=\"square light a2\" fill=\"#ffce9e\" height=\"45\" stroke=\"none\" width=\"45\" x=\"20\" y=\"290\" /><use transform=\"translate(20, 290)\" xlink:href=\"#white-pawn\" /><rect class=\"square dark b2\" fill=\"#d18b47\" height=\"45\" stroke=\"none\" width=\"45\" x=\"65\" y=\"290\" /><use transform=\"translate(65, 290)\" xlink:href=\"#white-pawn\" /><rect class=\"square light c2\" fill=\"#ffce9e\" height=\"45\" stroke=\"none\" width=\"45\" x=\"110\" y=\"290\" /><use transform=\"translate(110, 290)\" xlink:href=\"#white-pawn\" /><rect class=\"square dark d2\" fill=\"#d18b47\" height=\"45\" stroke=\"none\" width=\"45\" x=\"155\" y=\"290\" /><rect class=\"square light e2\" fill=\"#ffce9e\" height=\"45\" stroke=\"none\" width=\"45\" x=\"200\" y=\"290\" /><use transform=\"translate(200, 290)\" xlink:href=\"#white-queen\" /><rect class=\"square dark f2\" fill=\"#d18b47\" height=\"45\" stroke=\"none\" width=\"45\" x=\"245\" y=\"290\" /><use transform=\"translate(245, 290)\" xlink:href=\"#white-pawn\" /><rect class=\"square light g2\" fill=\"#ffce9e\" height=\"45\" stroke=\"none\" width=\"45\" x=\"290\" y=\"290\" /><use transform=\"translate(290, 290)\" xlink:href=\"#white-pawn\" /><rect class=\"square dark h2\" fill=\"#d18b47\" height=\"45\" stroke=\"none\" width=\"45\" x=\"335\" y=\"290\" /><use transform=\"translate(335, 290)\" xlink:href=\"#white-pawn\" /><rect class=\"square dark a3\" fill=\"#d18b47\" height=\"45\" stroke=\"none\" width=\"45\" x=\"20\" y=\"245\" /><rect class=\"square light b3\" fill=\"#ffce9e\" height=\"45\" stroke=\"none\" width=\"45\" x=\"65\" y=\"245\" /><rect class=\"square dark c3\" fill=\"#d18b47\" height=\"45\" stroke=\"none\" width=\"45\" x=\"110\" y=\"245\" /><rect class=\"square light d3\" fill=\"#ffce9e\" height=\"45\" stroke=\"none\" width=\"45\" x=\"155\" y=\"245\" /><rect class=\"square dark e3\" fill=\"#d18b47\" height=\"45\" stroke=\"none\" width=\"45\" x=\"200\" y=\"245\" /><rect class=\"square light f3\" fill=\"#ffce9e\" height=\"45\" stroke=\"none\" width=\"45\" x=\"245\" y=\"245\" /><use transform=\"translate(245, 245)\" xlink:href=\"#black-pawn\" /><rect class=\"square dark g3\" fill=\"#d18b47\" height=\"45\" stroke=\"none\" width=\"45\" x=\"290\" y=\"245\" /><rect class=\"square light h3\" fill=\"#ffce9e\" height=\"45\" stroke=\"none\" width=\"45\" x=\"335\" y=\"245\" /><rect class=\"square light a4\" fill=\"#ffce9e\" height=\"45\" stroke=\"none\" width=\"45\" x=\"20\" y=\"200\" /><rect class=\"square dark b4\" fill=\"#d18b47\" height=\"45\" stroke=\"none\" width=\"45\" x=\"65\" y=\"200\" /><rect class=\"square light c4\" fill=\"#ffce9e\" height=\"45\" stroke=\"none\" width=\"45\" x=\"110\" y=\"200\" /><use transform=\"translate(110, 200)\" xlink:href=\"#white-bishop\" /><rect class=\"square dark d4\" fill=\"#d18b47\" height=\"45\" stroke=\"none\" width=\"45\" x=\"155\" y=\"200\" /><rect class=\"square light e4\" fill=\"#ffce9e\" height=\"45\" stroke=\"none\" width=\"45\" x=\"200\" y=\"200\" /><use transform=\"translate(200, 200)\" xlink:href=\"#black-knight\" /><rect class=\"square dark f4\" fill=\"#d18b47\" height=\"45\" stroke=\"none\" width=\"45\" x=\"245\" y=\"200\" /><rect class=\"square light g4\" fill=\"#ffce9e\" height=\"45\" stroke=\"none\" width=\"45\" x=\"290\" y=\"200\" /><rect class=\"square dark h4\" fill=\"#d18b47\" height=\"45\" stroke=\"none\" width=\"45\" x=\"335\" y=\"200\" /><rect class=\"square dark a5\" fill=\"#d18b47\" height=\"45\" stroke=\"none\" width=\"45\" x=\"20\" y=\"155\" /><rect class=\"square light b5\" fill=\"#ffce9e\" height=\"45\" stroke=\"none\" width=\"45\" x=\"65\" y=\"155\" /><rect class=\"square dark c5\" fill=\"#d18b47\" height=\"45\" stroke=\"none\" width=\"45\" x=\"110\" y=\"155\" /><rect class=\"square light d5\" fill=\"#ffce9e\" height=\"45\" stroke=\"none\" width=\"45\" x=\"155\" y=\"155\" /><rect class=\"square dark e5\" fill=\"#d18b47\" height=\"45\" stroke=\"none\" width=\"45\" x=\"200\" y=\"155\" /><rect class=\"square light f5\" fill=\"#ffce9e\" height=\"45\" stroke=\"none\" width=\"45\" x=\"245\" y=\"155\" /><use transform=\"translate(245, 155)\" xlink:href=\"#black-pawn\" /><rect class=\"square dark g5\" fill=\"#d18b47\" height=\"45\" stroke=\"none\" width=\"45\" x=\"290\" y=\"155\" /><rect class=\"square light h5\" fill=\"#ffce9e\" height=\"45\" stroke=\"none\" width=\"45\" x=\"335\" y=\"155\" /><rect class=\"square light a6\" fill=\"#ffce9e\" height=\"45\" stroke=\"none\" width=\"45\" x=\"20\" y=\"110\" /><rect class=\"square dark b6\" fill=\"#d18b47\" height=\"45\" stroke=\"none\" width=\"45\" x=\"65\" y=\"110\" /><rect class=\"square light c6\" fill=\"#ffce9e\" height=\"45\" stroke=\"none\" width=\"45\" x=\"110\" y=\"110\" /><use transform=\"translate(110, 110)\" xlink:href=\"#black-pawn\" /><rect class=\"square dark d6\" fill=\"#d18b47\" height=\"45\" stroke=\"none\" width=\"45\" x=\"155\" y=\"110\" /><rect class=\"square light e6\" fill=\"#ffce9e\" height=\"45\" stroke=\"none\" width=\"45\" x=\"200\" y=\"110\" /><rect class=\"square dark f6\" fill=\"#d18b47\" height=\"45\" stroke=\"none\" width=\"45\" x=\"245\" y=\"110\" /><rect class=\"square light g6\" fill=\"#ffce9e\" height=\"45\" stroke=\"none\" width=\"45\" x=\"290\" y=\"110\" /><rect class=\"square dark h6\" fill=\"#d18b47\" height=\"45\" stroke=\"none\" width=\"45\" x=\"335\" y=\"110\" /><use transform=\"translate(335, 110)\" xlink:href=\"#white-pawn\" /><rect class=\"square dark a7\" fill=\"#d18b47\" height=\"45\" stroke=\"none\" width=\"45\" x=\"20\" y=\"65\" /><use transform=\"translate(20, 65)\" xlink:href=\"#black-pawn\" /><rect class=\"square light b7\" fill=\"#ffce9e\" height=\"45\" stroke=\"none\" width=\"45\" x=\"65\" y=\"65\" /><rect class=\"square dark c7\" fill=\"#d18b47\" height=\"45\" stroke=\"none\" width=\"45\" x=\"110\" y=\"65\" /><use transform=\"translate(110, 65)\" xlink:href=\"#black-pawn\" /><rect class=\"square light d7\" fill=\"#ffce9e\" height=\"45\" stroke=\"none\" width=\"45\" x=\"155\" y=\"65\" /><rect class=\"square dark e7\" fill=\"#d18b47\" height=\"45\" stroke=\"none\" width=\"45\" x=\"200\" y=\"65\" /><use transform=\"translate(200, 65)\" xlink:href=\"#black-queen\" /><rect class=\"square light f7\" fill=\"#ffce9e\" height=\"45\" stroke=\"none\" width=\"45\" x=\"245\" y=\"65\" /><use transform=\"translate(245, 65)\" xlink:href=\"#black-pawn\" /><rect class=\"square dark g7\" fill=\"#d18b47\" height=\"45\" stroke=\"none\" width=\"45\" x=\"290\" y=\"65\" /><use transform=\"translate(290, 65)\" xlink:href=\"#black-pawn\" /><rect class=\"square light h7\" fill=\"#ffce9e\" height=\"45\" stroke=\"none\" width=\"45\" x=\"335\" y=\"65\" /><use transform=\"translate(335, 65)\" xlink:href=\"#black-pawn\" /><rect class=\"square light a8\" fill=\"#ffce9e\" height=\"45\" stroke=\"none\" width=\"45\" x=\"20\" y=\"20\" /><use transform=\"translate(20, 20)\" xlink:href=\"#black-rook\" /><rect class=\"square dark b8\" fill=\"#d18b47\" height=\"45\" stroke=\"none\" width=\"45\" x=\"65\" y=\"20\" /><rect class=\"square light c8\" fill=\"#ffce9e\" height=\"45\" stroke=\"none\" width=\"45\" x=\"110\" y=\"20\" /><use transform=\"translate(110, 20)\" xlink:href=\"#black-bishop\" /><rect class=\"square dark d8\" fill=\"#d18b47\" height=\"45\" stroke=\"none\" width=\"45\" x=\"155\" y=\"20\" /><rect class=\"square light e8\" fill=\"#ffce9e\" height=\"45\" stroke=\"none\" width=\"45\" x=\"200\" y=\"20\" /><use transform=\"translate(200, 20)\" xlink:href=\"#black-king\" /><rect class=\"square dark f8\" fill=\"#d18b47\" height=\"45\" stroke=\"none\" width=\"45\" x=\"245\" y=\"20\" /><rect class=\"square light g8\" fill=\"#ffce9e\" height=\"45\" stroke=\"none\" width=\"45\" x=\"290\" y=\"20\" /><rect class=\"square dark h8\" fill=\"#d18b47\" height=\"45\" stroke=\"none\" width=\"45\" x=\"335\" y=\"20\" /><use transform=\"translate(335, 20)\" xlink:href=\"#black-rook\" /><text alignment-baseline=\"middle\" font-size=\"14\" text-anchor=\"middle\" x=\"42\" y=\"10\">a</text><text alignment-baseline=\"middle\" font-size=\"14\" text-anchor=\"middle\" x=\"42\" y=\"390\">a</text><text alignment-baseline=\"middle\" font-size=\"14\" text-anchor=\"middle\" x=\"87\" y=\"10\">b</text><text alignment-baseline=\"middle\" font-size=\"14\" text-anchor=\"middle\" x=\"87\" y=\"390\">b</text><text alignment-baseline=\"middle\" font-size=\"14\" text-anchor=\"middle\" x=\"132\" y=\"10\">c</text><text alignment-baseline=\"middle\" font-size=\"14\" text-anchor=\"middle\" x=\"132\" y=\"390\">c</text><text alignment-baseline=\"middle\" font-size=\"14\" text-anchor=\"middle\" x=\"177\" y=\"10\">d</text><text alignment-baseline=\"middle\" font-size=\"14\" text-anchor=\"middle\" x=\"177\" y=\"390\">d</text><text alignment-baseline=\"middle\" font-size=\"14\" text-anchor=\"middle\" x=\"222\" y=\"10\">e</text><text alignment-baseline=\"middle\" font-size=\"14\" text-anchor=\"middle\" x=\"222\" y=\"390\">e</text><text alignment-baseline=\"middle\" font-size=\"14\" text-anchor=\"middle\" x=\"267\" y=\"10\">f</text><text alignment-baseline=\"middle\" font-size=\"14\" text-anchor=\"middle\" x=\"267\" y=\"390\">f</text><text alignment-baseline=\"middle\" font-size=\"14\" text-anchor=\"middle\" x=\"312\" y=\"10\">g</text><text alignment-baseline=\"middle\" font-size=\"14\" text-anchor=\"middle\" x=\"312\" y=\"390\">g</text><text alignment-baseline=\"middle\" font-size=\"14\" text-anchor=\"middle\" x=\"357\" y=\"10\">h</text><text alignment-baseline=\"middle\" font-size=\"14\" text-anchor=\"middle\" x=\"357\" y=\"390\">h</text><text alignment-baseline=\"middle\" font-size=\"14\" text-anchor=\"middle\" x=\"10\" y=\"357\">1</text><text alignment-baseline=\"middle\" font-size=\"14\" text-anchor=\"middle\" x=\"390\" y=\"357\">1</text><text alignment-baseline=\"middle\" font-size=\"14\" text-anchor=\"middle\" x=\"10\" y=\"312\">2</text><text alignment-baseline=\"middle\" font-size=\"14\" text-anchor=\"middle\" x=\"390\" y=\"312\">2</text><text alignment-baseline=\"middle\" font-size=\"14\" text-anchor=\"middle\" x=\"10\" y=\"267\">3</text><text alignment-baseline=\"middle\" font-size=\"14\" text-anchor=\"middle\" x=\"390\" y=\"267\">3</text><text alignment-baseline=\"middle\" font-size=\"14\" text-anchor=\"middle\" x=\"10\" y=\"222\">4</text><text alignment-baseline=\"middle\" font-size=\"14\" text-anchor=\"middle\" x=\"390\" y=\"222\">4</text><text alignment-baseline=\"middle\" font-size=\"14\" text-anchor=\"middle\" x=\"10\" y=\"177\">5</text><text alignment-baseline=\"middle\" font-size=\"14\" text-anchor=\"middle\" x=\"390\" y=\"177\">5</text><text alignment-baseline=\"middle\" font-size=\"14\" text-anchor=\"middle\" x=\"10\" y=\"132\">6</text><text alignment-baseline=\"middle\" font-size=\"14\" text-anchor=\"middle\" x=\"390\" y=\"132\">6</text><text alignment-baseline=\"middle\" font-size=\"14\" text-anchor=\"middle\" x=\"10\" y=\"87\">7</text><text alignment-baseline=\"middle\" font-size=\"14\" text-anchor=\"middle\" x=\"390\" y=\"87\">7</text><text alignment-baseline=\"middle\" font-size=\"14\" text-anchor=\"middle\" x=\"10\" y=\"42\">8</text><text alignment-baseline=\"middle\" font-size=\"14\" text-anchor=\"middle\" x=\"390\" y=\"42\">8</text></svg>"
      ],
      "text/plain": [
       "CrazyhouseBoard('r1b1k2r/p1p1qppp/2p4P/5p2/2B1n3/5p2/PPP1QPPP/R1B1K2R[BNPnn] w KQkq - 0 12')"
      ]
     },
     "execution_count": 8,
     "metadata": {},
     "output_type": "execute_result"
    }
   ],
   "source": [
    "board = chess.variant.CrazyhouseBoard()\n",
    "\n",
    "board.push_uci('e2e4')\n",
    "#board.push_uci('e7e6')\n",
    "\n",
    "fen = 'rnbqkb1r/ppp1pppp/5n2/3P4/8/8/PPPP1PPP/RNBQKBNR/P w KQkq - 1 3'\n",
    "fen = 'rnb2rk1/p3bppp/2p5/3p2P1/4n3/8/PPPPBPPP/RNB1K1NR/QPPq w KQ - 0 11'\n",
    "#fen = 'r1b1kbnr/ppp1pppp/2n5/3q4/3P4/8/PPP1NPPP/RNBQKB1R/Pp b KQkq - 1 4'\n",
    "#fen = 'r1b1k2r/ppp2ppp/2n5/3np3/3P4/2PBP3/PpPB1PPP/1Q2K1NR/QNrb b Kkq - 27 14'\n",
    "#fen = 'r1bb4/ppp2pkp/5npb/4p3/4P3/2N5/PPP1BPPP/3RK2R/QNRqpnp w K - 3 16'\n",
    "#fen = '3R1b2/1bP1kp2/3Npn1p/3p4/5p2/5N1b/PPP2P1P/5Q1K/RPRPRQPnpbp b - - 4 36'\n",
    "#fen = 'r3k1nr/ppp2ppp/2n5/8/q7/Pp6/1PnRN1PP/1K3B1R/BBQBppppp b kq - 3 27'\n",
    "#fen = 'rn2N2k/pp5p/3pp1pN/3p4/3q1P2/3P1p2/PP3PPP/RN3RK1/Qrbbpbb b - - 0 27'\n",
    "#fen = 'rn2N2k/pp5p/3pp1pN/3p4/3q1P2/3P1p2/PP3PPP/RN3RK1/Qrbbpbb b - - 0 30'\n",
    "#fen = 'rn2N2k/pp5p/3pp1pN/3p4/5P2/3P1p2/PP3RPP/RN4K1/QQprbbpbb b - - 1 30'\n",
    "\n",
    "# Test positions\n",
    "#fen = '3R1b2/1bP1kp2/3Npn1p/3p4/5p2/5N1b/PPP1QP1P/3R1RK1/QPpprnpbp b - - 0 29'\n",
    "fen = 'rn2N2k/pp5p/3pp1pN/3p4/3q1P2/3P1p2/PP3PPP/RN3RK1[Qrbbpbb] b - - 3 30'\n",
    "#fen = 'q6r/p2P1pkp/1p1b1n2/2p2B2/8/6n1/PPP2KPp/R4R2/PNNRPBPbqpp w - - 2 26'\n",
    "#fen ='2kr1b2/1bp2p1p/p3pP1p/1p5Q/5B2/3B1p2/PPP2PrP/R4R1K/QNpnnnp w - - 0 18'\n",
    "#fen = 'q6r/p2P1pkp/1p1b1n2/2p2B2/8/6n1/PPP2KPp/R4R2/PNNRPBPbqpp w - - 50 26'\n",
    "#fen = 'r4r1k/ppp1q1bp/4Ppp1/1P6/2NN3P/2BPPb2/P2PNPpR/R3K3/PBQn b Q - 2 34'\n",
    "#fen = 'r1bq1b1r/ppp1kPpp/4Pn2/n2Pp3/2B4n/3P4/PPP2PPP/RNBQK2R/ w KQ - 0 10'\n",
    "\n",
    "#fen = 'r4rk1/ppp2pbp/1nnp4/6P1/4Pp2/1P1P1N1P/2P2PPK/R2Q1R2/QNbbpb w - - 0 23'\n",
    "#fen = 'r4rk1/ppp2pPp/1nn3nP/4b3/5p1B/1P1P3P/2P2PPK/R2Q1R2/Qbpnpb w - - 2 37'\n",
    "#fen = 'r4rk1/ppp2pPp/1nn2bnP/4b3/6Q1/1P1P1pBP/2P2PPK/R4R2/Qpnpb w - - 2 39'\n",
    "#fen = 'B2q1r1k/p3pp2/6pb/3pB2p/3N4/B2NP1pn/P1PP2P1/R2Q3K/PPrnprp b - - 0 28'\n",
    "#fen = 'r1bq3r/p1ppbkpp/2p2n2/8/4P3/8/PPP2PPP/RNBQK2R/NPPnbp w KQ - 2 8'\n",
    "#fen = 'r1bqk2r/1pp1nppp/1p3p2/3p4/3P3n/1B6/PP2BPPP/RNBQ1KNR/Pp b kq - 0 14'\n",
    "#fen = '3qk2r/1pp1nppp/1p3p2/3p4/3P3n/1B5P/RP2BPpP/1NBQ2KR/RBPPn b k - 2 18'\n",
    "#fen = 'r2q2kb/ppp4p/1nn1P1p1/4p1N1/2Pb4/1P1P2NP/2PB1rP1/Q4RK1/RPppb w - - 0 27'\n",
    "#fen = 'r1bqk1r1/ppppbppp/5n2/4nN2/2B1P3/2N5/PPP2PPP/R1BQK2R/Pp w KQq - 2 8'\n",
    "#fen = 'r2q1rk1/pP2ppbp/2p3pb/2Q5/4Pp2/2NB1NpP/PPP3P1/R4RK1/NBpn b - - 0 19'\n",
    "#fen = 'r1bqkb1r/ppp1pppp/2n2n2/3p4/3P4/2N2N2/PPP1PPPP/R1BQKB1R/ w KQkq - 6 4'\n",
    "#fen = 'r1bq1b2/2p1pk2/p1p2npp/8/3P4/P4N2/1PP2PPP/R1B1K2R/RPNPbnqp w KQ - 26 0'\n",
    "#fen = 'r5k1/ppp2Rp1/1bnp1qP1/2b1pP2/8/3P1N1p/PPP2PPP/R2Q1R1K/Nbbn w - - 42 0'\n",
    "#fen = 'r2q3r/ppp1k1pp/2npN3/2b1p3/4P1n1/2NP4/PPP2PPP/R1B2RK1/BPqb w - - 0 11'\n",
    "#fen = 'r2qk1r1/ppp2p2/2np3p/2bBp1p1/4P1bn/3P1NB1/PPP2PPP/R2Q1RK1/N w q - 0 12'\n",
    "#fen = 'r2k3r/pppb2pp/5b2/6N1/4P2n/3Q4/PPP2PPP/R1B1K2R/PPNPqbnp w KQ - 0 14'\n",
    "#fen = 'r1bqk2r/ppp1bppp/5n2/3p4/2BQP3/2N5/PPP2PPP/R1B1K2R/NPnp w KQkq - 0 8'\n",
    "#fen = '3r1rk1/p1p1npp1/2pp3p/2b1p1NQ/4P3/3P1P2/PPP2P1P/R2Q1RK1/BBnbn w - - 2 18'\n",
    "#fen = 'r2q1rk1/p1p1bpp1/2pp1n1p/2b1pN2/4P1nB/3P1N2/PPP2PPP/R2Q1RK1/B w - - 0 13'\n",
    "#fen = 'r1bq1rk1/ppp2pp1/2np1n1p/2b1p1B1/2B1P3/2NP1N2/PPP2PPP/R2Q1RK1/ w - - 14 8'\n",
    "#fen = 'r1bqk1r1/pppp1ppp/2n2n2/5N2/1bB1P3/2N4p/PPP2PPP/R1BQK1R1/P w Qq - 2 9'\n",
    "#fen = 'r1bqk1r1/ppp2ppp/2n2n2/3p1N2/1bB1P3/2N4P/PPP2P1P/R1BQK1R1/PP w Qq - 0 10'\n",
    "#fen = 'r1bqk2r/ppppbppp/2n2n2/8/2BNP3/8/PPP2PPP/RNBQK2R/Pp w KQkq - 1 6'\n",
    "#fen = 'r1b1k1r1/pp1p1ppp/1q1B1nn1/1B3N2/4P3/2P1p3/P1P1QPpP/R3K1R1/BPPn w Qq - 34 18'\n",
    "#fen = 'r1bqk3/ppp1bprp/3p1n2/5PP1/4P2n/2NQ4/PPP2PBP/R1B1K2R/Npp w KQq - 1 13'\n",
    "#fen = 'r1bqk1nr/pppp1ppp/5b2/4nNP1/2B1P3/7p/PPP2PPP/RNBQK2R/ w KQkq - 1 8'\n",
    "#fen = 'r1b1k1nr/ppp2ppp/5q2/3pnN2/4P3/7p/PPP2PPP/RNBQKB1R/Bp w KQkq - 1 10'\n",
    "#fen = 'r3k2r/ppp2ppp/5n2/3pnb2/4P3/7p/PPP2PPP/RNBQKB1R/Qbnp w KQkq - 22 12'\n",
    "#fen = 'rnbqkbnr/pppp1ppp/8/4p3/4P3/8/PPPP1PPP/RNBQKBNR/ w KQkq - 2 2'\n",
    "#fen = 'r1bq1rk1/ppp2ppp/2np4/2bBp3/4P1n1/3P1N2/PPP1QPPP/R1B2RK1/N w - - 2 10'\n",
    "#fen = 'r1bq1rk1/pppp1ppp/2n2n2/2b1p3/2B1P3/2NP1N2/PPP2PPP/R1BQ1RK1/ w - - 12 7'\n",
    "#fen = 'r1bq1rk1/pppp1ppp/2n5/2bBp3/4P1n1/3P1N2/PPP2PPP/R1BQ1RK1/N w - - 2 9'\n",
    "#fen = 'r1bqk1r1/ppppbppp/5n2/1B2nN2/4P3/2N4p/PPP2PPP/R1BQK2R/P w KQq - 16 9'\n",
    "#fen = 'r1bqkb1r/ppp2ppp/3p4/6P1/4n3/2N5/PPP2P1P/R1BQK1Rb/NPNpp w Qkq - 2 13'\n",
    "\n",
    "#fen = 'r1b1kb1r/p1p1pppp/2N5/1B2N3/2pPn3/2PKB3/P1PP2p1/3q1rR1/QPPNP w - - 0 25' # mate threat\n",
    "#fen = 'r1b1kb1r/p1p1pppp/2N5/4N3/2BPn3/2PKB3/P1PP2p1/3q1rR1/PQPPNP b - - 0 25'\n",
    "#fen = 'r1b1kb1r/p1p1pppp/2N5/1B6/2NPn3/2PKB3/P1PP2p1/3q1rR1/PQPPNP b - - 1 25'\n",
    "#fen = '3rkb1r/2pb1pp1/q2Pp3/3pP2p/3P4/2PPnP2/P1P1N1PP/R2R2K1/NNQbb b k - 0 21' # mate threat\n",
    "\n",
    "# previous stalled connection fen\n",
    "#fen = 'r1bk3r/ppppbpQp/4p3/8/4n3/4P2N/PPPP2PP/R1Bq1BKR/PNNp b - - 2 13'\n",
    "#fen = 'r1bqkbnr/ppp2ppp/3p4/8/3QP3/2N4p/PPP2PPP/R1B1KB1R/PNn w KQkq - 1 7'\n",
    "#fen = 'r1bq1rk1/ppp2pp1/2np1n1p/2b1p1B1/2B1P3/2NP1N2/PPP2PPP/R2Q1RK1/ w - - 14 8'\n",
    "#fen = 'rnb1kb1r/ppp1pppp/5n2/q7/8/2N2N2/PPPP1PPP/R1BQKB1R/Pp w KQkq - 0 5'\n",
    "fen = 'rnb2b1r/ppp1pkpp/5n2/2q5/3N2p1/2N5/PPPP1PPP/R1BQK2R/PPb w KQ - 0 8'\n",
    "#fen = 'r1b1kr2/ppp3pp/3bPq2/1N1Ppn1n/2B4n/3PPP2/PPP2QPP/R1B2RK1/ b - - 9 15'\n",
    "#fen = 'r1b1kr2/ppp3pp/3bP1q1/1N1Ppn1n/2B1P2n/3P1P2/PPP2QPP/R1B2RK1/ b - - 11 16'\n",
    "fen = 'r1b1k2r/p1p1Bppp/2p4P/5p2/2n4n/4B2K/P1P3rP/q4b2[QRNNPPPpp] b kq - 1 30'\n",
    "#fen = '2rR4/pkpp3p/6P1/bPn5/2p1q3/2PPN3/PPPK1PPP/R6R/BQnnbbp w - - 0 42' # mate trap\n",
    "#fen = '2rR4/pkpp3p/6P1/bPn5/2p1P3/2P1N3/PPPK1PPP/R6R/QBQnnbbp b - - 0 42'\n",
    "#fen = '2rR4/pkpp3p/6P1/1P6/2p5/2n1N3/P1Pn1PPP/R3K2R/BQBQpppnbbp b - - 0 46'\n",
    "#fen = 'r1bqk1nr/ppppbppp/2n5/4p3/2B1P3/5N2/PPPP1PPP/RNBQK2R/ w KQkq - 6 4'\n",
    "#fen = '5b1k/prp1p1p1/2n3n1/8/8/2P1BN2/P1PP1P1P/R1BQK3/QPRrnpbpppp w Q - 0 27' # missed mate in JL game\n",
    "#fen = '3rkb1r/2pb1pp1/q2Pp3/3pP2p/3P4/2PPnP2/P1P1N1PP/R2R2K1/NNQbb b k - 0 21' # missed mate in JL game\n",
    "#fen = 'r1b1k2r/pppbnppp/4p3/3pP3/3Pb3/5Q2/PPP2P1P/RN4KR/BPNQn w kq - 0 17' # missed mate in JL game\n",
    "#fen = 'r1bqkbnr/pppp1ppp/2n5/4p3/2B1P3/5N2/PPPP1PPP/RNBQK2R/ b KQkq - 5 3'\n",
    "#fen = 'r1b2k1r/1pp2pq1/p1n4p/3np1p1/6P1/2PB1PBP/P1P2RNK/1RB1Q3/PPpn w - - 0 28'\n",
    "#fen = 'r1b1k2r/p1p1qppp/2p4P/5p2/2B1n3/5p2/PPP1QPPP/R1B1K2R[BNPnn] w KQkq - 0 12'\n",
    "fen = 'r1b1k2r/p1p1qppp/2p4P/5p2/2B1n3/5p2/PPP1QPPP/R1B1K2R/BNPnn w KQkq - 0 12'\n",
    "\n",
    "board.set_fen(fen)\n",
    "#board = board.mirror()\n",
    "\n",
    "state = GameState(board)\n",
    "board"
   ]
  },
  {
   "cell_type": "code",
   "execution_count": 9,
   "metadata": {},
   "outputs": [
    {
     "data": {
      "text/plain": [
       "['black', 'white']"
      ]
     },
     "execution_count": 9,
     "metadata": {},
     "output_type": "execute_result"
    }
   ],
   "source": [
    "chess.COLOR_NAMES"
   ]
  },
  {
   "cell_type": "code",
   "execution_count": 10,
   "metadata": {},
   "outputs": [
    {
     "data": {
      "text/plain": [
       "True"
      ]
     },
     "execution_count": 10,
     "metadata": {},
     "output_type": "execute_result"
    }
   ],
   "source": [
    "board.turn"
   ]
  },
  {
   "cell_type": "code",
   "execution_count": 11,
   "metadata": {},
   "outputs": [
    {
     "data": {
      "text/plain": [
       "138"
      ]
     },
     "execution_count": 11,
     "metadata": {},
     "output_type": "execute_result"
    }
   ],
   "source": [
    "len(list(state.get_legal_moves()))"
   ]
  },
  {
   "cell_type": "code",
   "execution_count": 12,
   "metadata": {
    "collapsed": true
   },
   "outputs": [],
   "source": [
    "def plot_moves_with_prob(moves, probs, only_top_x=None):\n",
    "    \n",
    "    # revert the ordering afterwards\n",
    "    idx_order = np.argsort(probs)[::-1]\n",
    "    \n",
    "    if only_top_x is not None and only_top_x < len(idx_order):\n",
    "        idx_order = idx_order[:only_top_x]\n",
    "    \n",
    "    #moves_ordered = moves[range(len(moves))] #idx_order[::-1]]\n",
    "    probs_ordered = [] #probs[idx_order]\n",
    "    \n",
    "    moves_ordered = []\n",
    "    for idx in idx_order:\n",
    "        probs_ordered.append(probs[idx])\n",
    "        moves_ordered.append(moves[idx])\n",
    "        \n",
    "    plt.barh(range(len(probs_ordered)), probs_ordered)\n",
    "    plt.yticks(range(len(moves_ordered)), moves_ordered)\n"
   ]
  },
  {
   "cell_type": "markdown",
   "metadata": {},
   "source": [
    "### Evalution using the raw network"
   ]
  },
  {
   "cell_type": "code",
   "execution_count": 13,
   "metadata": {},
   "outputs": [
    {
     "name": "stdout",
     "output_type": "stream",
     "text": [
      "Elapsed time: 0.1146s\n"
     ]
    }
   ],
   "source": [
    "t_s = time()\n",
    "pred_value, legal_moves, p_vec_small, cp, depth, nodes, time_elapsed_s, nps, pv = raw_agent.evaluate_board_state(state)\n",
    "print('Elapsed time: %.4fs' % (time()-t_s))"
   ]
  },
  {
   "cell_type": "code",
   "execution_count": 14,
   "metadata": {},
   "outputs": [
    {
     "data": {
      "text/plain": [
       "array([0.5501629], dtype=float32)"
      ]
     },
     "execution_count": 14,
     "metadata": {},
     "output_type": "execute_result"
    }
   ],
   "source": [
    "pred_value"
   ]
  },
  {
   "cell_type": "code",
   "execution_count": 15,
   "metadata": {},
   "outputs": [
    {
     "name": "stdout",
     "output_type": "stream",
     "text": [
      "2019-01-26 23:28:02 matplotlib.axes._base[24473] \u001b[1mDEBUG\u001b[0m \u001b[32mupdate_title_pos\u001b[0m\n",
      "2019-01-26 23:28:02 matplotlib.font_manager[24473] \u001b[1mDEBUG\u001b[0m \u001b[32mfindfont: Matching :family=sans-serif:style=normal:variant=normal:weight=normal:stretch=normal:size=10.0 to Liberation Sans ('/usr/share/fonts/truetype/liberation/LiberationSans-Regular.ttf') with score of 2.050000.\u001b[0m\n",
      "2019-01-26 23:28:02 matplotlib.axes._base[24473] \u001b[1mDEBUG\u001b[0m \u001b[32mupdate_title_pos\u001b[0m\n",
      "2019-01-26 23:28:02 matplotlib.axes._base[24473] \u001b[1mDEBUG\u001b[0m \u001b[32mupdate_title_pos\u001b[0m\n",
      "2019-01-26 23:28:02 matplotlib.axes._base[24473] \u001b[1mDEBUG\u001b[0m \u001b[32mupdate_title_pos\u001b[0m\n"
     ]
    },
    {
     "data": {
      "image/png": "[encoded data removed]",
      "text/plain": [
       "<Figure size 432x288 with 1 Axes>"
      ]
     },
     "metadata": {},
     "output_type": "display_data"
    }
   ],
   "source": [
    "plot_moves_with_prob(legal_moves, p_vec_small, only_top_x=20)"
   ]
  },
  {
   "cell_type": "markdown",
   "metadata": {},
   "source": [
    "### Evalution using the MCTS-Agent"
   ]
  },
  {
   "cell_type": "code",
   "execution_count": 16,
   "metadata": {
    "scrolled": false
   },
   "outputs": [
    {
     "name": "stdout",
     "output_type": "stream",
     "text": [
      "start inference thread...\n",
      "self.thread_inference.isAlive() True\n",
      "start inference thread...\n",
      "self.thread_inference.isAlive() True\n",
      "2019-01-26 23:28:02 root[24473] \u001b[1mDEBUG\u001b[0m \u001b[32mStarting a brand new search tree...\u001b[0m\n",
      "info score cp 370 depth 2 nodes 161 pv c4f7 e7f7\n",
      "2019-01-26 23:28:03 root[24473] \u001b[1mDEBUG\u001b[0m \u001b[32mUpdate info\u001b[0m\n",
      "info score cp 505 depth 7 nodes 273 pv P@d7 e7d7 h6g7 h8g8 g2f3 N@g2 e1f1\n",
      "2019-01-26 23:28:03 root[24473] \u001b[1mDEBUG\u001b[0m \u001b[32mUpdate info\u001b[0m\n",
      "info score cp 1404 depth 12 nodes 433 pv g2f3 N@d4 h6g7 d4f3 e2f3 h8g8 P@e6 c8e6 c4e6 e7e6 P@d7 e8e7\n",
      "2019-01-26 23:28:04 root[24473] \u001b[1mDEBUG\u001b[0m \u001b[32mUpdate info\u001b[0m\n",
      "info score cp 1540 depth 8 nodes 593 pv g2f3 N@d4 h6g7 h8g8 B@f8 g8f8 g7f8r e7f8\n",
      "2019-01-26 23:28:04 root[24473] \u001b[1mDEBUG\u001b[0m \u001b[32mUpdate info\u001b[0m\n",
      "info score cp 23 depth 11 nodes 673 pv h6g7 h8g8 g2f3 N@g2 e1f1 N@f4 f3e4 f4e2 c1d2 g2f4 B@f3\n",
      "2019-01-26 23:28:05 root[24473] \u001b[1mDEBUG\u001b[0m \u001b[32mUpdate info\u001b[0m\n",
      "info score cp 934 depth 6 nodes 817 pv c4f7 e8f7 h6g7 B@b4 P@c3 f7g7\n",
      "2019-01-26 23:28:05 root[24473] \u001b[1mDEBUG\u001b[0m \u001b[32mUpdate info\u001b[0m\n",
      "info score cp 398 depth 12 nodes 897 pv c4f7 e8f7 B@h5 B@g6 h5f3 N@d4 h6g7 h8e8 f3e4 d4e2 P@e6 c8e6\n",
      "2019-01-26 23:28:06 root[24473] \u001b[1mDEBUG\u001b[0m \u001b[32mUpdate info\u001b[0m\n",
      "info score cp 7 depth 9 nodes 1041 pv B@h4 f3e2 c4e2 e7h4 P@g3 B@b4 P@c3 e4g3 h2g3\n",
      "2019-01-26 23:28:06 root[24473] \u001b[1mDEBUG\u001b[0m \u001b[32mUpdate info\u001b[0m\n",
      "info score cp 159 depth 16 nodes 1153 pv P@d7 c8d7 h6g7 h8g8 g2f3 N@d4 P@b7 a8d8 f3e4 d4e2 c4e2 P@g2 h1g1 Q@h1 N@h3 f5e4\n",
      "2019-01-26 23:28:07 root[24473] \u001b[1mDEBUG\u001b[0m \u001b[32mUpdate info\u001b[0m\n",
      "info string move overhead is 22ms\n",
      "2019-01-26 23:28:07 root[24473] \u001b[1mINFO\u001b[0m \u001b[94minfo string score cp 38 depth 18 nodes 1185 time 5023 nps 235 pv h6g7 h8g8 g2f3 N@g2 e1f1 N@f4 e2d1 g8g7 f3e4 g2e3 c1e3 P@g2 f1e1 g2h1q e1d2 h1d1 d2c3\u001b[0m\n",
      "Elapsed time: 5.0258s\n"
     ]
    }
   ],
   "source": [
    "t_s = time()\n",
    "pred_value, legal_moves, p_vec_small, cp, depth, nodes, time_elapsed_s, nps, pv = mcts_agent.evaluate_board_state(state)\n",
    "print('Elapsed time: %.4fs' % (time()-t_s))"
   ]
  },
  {
   "cell_type": "code",
   "execution_count": 17,
   "metadata": {},
   "outputs": [
    {
     "data": {
      "text/plain": [
       "Move.from_uci('h6g7')"
      ]
     },
     "execution_count": 17,
     "metadata": {},
     "output_type": "execute_result"
    }
   ],
   "source": [
    "mcts_agent.root_node.legal_moves[mcts_agent.root_node.child_number_visits.argmax()]"
   ]
  },
  {
   "cell_type": "code",
   "execution_count": 18,
   "metadata": {},
   "outputs": [
    {
     "data": {
      "text/plain": [
       "Move.from_uci('e2f3')"
      ]
     },
     "execution_count": 18,
     "metadata": {},
     "output_type": "execute_result"
    }
   ],
   "source": [
    "mcts_agent.root_node.legal_moves[mcts_agent.root_node.q_value.argmax()]"
   ]
  },
  {
   "cell_type": "code",
   "execution_count": 19,
   "metadata": {},
   "outputs": [
    {
     "name": "stdout",
     "output_type": "stream",
     "text": [
      "e2f3 e2f3 N@h4 f3h3 e4f2 e1f2 N@e4 f2g1 P@f3 0.7744523882865906\n",
      "h6g7 h6g7 h8g8 g2f3 N@g2 e1f1 N@f4 e2d1 g8g7 f3e4 g2e3 c1e3 P@g2 f1e1 -0.6701455116271973\n",
      "g2f3 g2f3 N@g2 e1f1 N@f4 e2d1 c8e6 c4e6 e7e6 B@d7 e6d7 d1d7 -0.3278684616088867\n"
     ]
    },
    {
     "data": {
      "text/plain": [
       "(array([ 0.        ,  0.        ,  0.        ,  0.        ,  0.        ,\n",
       "         0.        ,  0.        ,  0.        ,  0.77445239,  0.        ,\n",
       "         0.        ,  0.        ,  0.        ,  0.        ,  0.        ,\n",
       "         0.        ,  0.        ,  0.        ,  0.        ,  0.        ,\n",
       "         0.        ,  0.        ,  0.        ,  0.        , -0.67014551,\n",
       "        -0.32786846,  0.        ,  0.        ,  0.        ,  0.        ,\n",
       "         0.        ,  0.        ,  0.        ,  0.        ,  0.        ,\n",
       "         0.        ,  0.        ,  0.        ,  0.        ,  0.        ,\n",
       "         0.        ,  0.        ,  0.        ,  0.        ,  0.        ,\n",
       "         0.        ,  0.        ,  0.        ,  0.        ,  0.        ,\n",
       "         0.        ,  0.        ,  0.        ,  0.        ,  0.        ,\n",
       "         0.        ,  0.        ,  0.        ,  0.        ,  0.        ,\n",
       "         0.        ,  0.        ,  0.        ,  0.        ,  0.        ,\n",
       "         0.        ,  0.        ,  0.        ,  0.        ,  0.        ,\n",
       "         0.        ,  0.        ,  0.        ,  0.        ,  0.        ,\n",
       "         0.        ,  0.        ,  0.        ,  0.        ,  0.        ,\n",
       "         0.        ,  0.        ,  0.        ,  0.        ,  0.        ,\n",
       "         0.        ,  0.        ,  0.        ,  0.        ,  0.        ,\n",
       "         0.        ,  0.        ,  0.        ,  0.        ,  0.        ,\n",
       "         0.        ,  0.        ,  0.        ,  0.        ,  0.        ,\n",
       "         0.        ,  0.        ,  0.        ,  0.        ,  0.        ,\n",
       "         0.        ,  0.        ,  0.        ,  0.        ,  0.        ,\n",
       "         0.        ,  0.        ,  0.        ,  0.        ,  0.        ,\n",
       "         0.        ,  0.        ,  0.        ,  0.        ,  0.        ,\n",
       "         0.        ,  0.        ,  0.        ,  0.        ,  0.        ,\n",
       "         0.        ,  0.        ,  0.        ,  0.        ,  0.        ,\n",
       "         0.        ,  0.        ,  0.        ,  0.        ,  0.        ,\n",
       "         0.        ,  0.        ,  0.        ]), [8, 24, 25])"
      ]
     },
     "execution_count": 19,
     "metadata": {},
     "output_type": "execute_result"
    }
   ],
   "source": [
    "mcts_agent.get_last_q_values()"
   ]
  },
  {
   "cell_type": "code",
   "execution_count": 20,
   "metadata": {
    "collapsed": true
   },
   "outputs": [],
   "source": [
    "pb_c_base = 19652 / 10\n",
    "pb_c_init = 3.6\n",
    "import math\n",
    "cpuct = math.log((3000 + pb_c_base + 1) / pb_c_base) + pb_c_init"
   ]
  },
  {
   "cell_type": "code",
   "execution_count": 21,
   "metadata": {},
   "outputs": [
    {
     "data": {
      "text/plain": [
       "4.527060938824912"
      ]
     },
     "execution_count": 21,
     "metadata": {},
     "output_type": "execute_result"
    }
   ],
   "source": [
    "cpuct"
   ]
  },
  {
   "cell_type": "code",
   "execution_count": 22,
   "metadata": {
    "collapsed": true
   },
   "outputs": [],
   "source": [
    "#c = (a * b ) + (0.3 * a + 0.7 * b)"
   ]
  },
  {
   "cell_type": "code",
   "execution_count": 23,
   "metadata": {
    "collapsed": true
   },
   "outputs": [],
   "source": [
    "def sigmoid(x, derivative=False):\n",
    "    return x*(1-x) if derivative else 1/(1+np.exp(-x))"
   ]
  },
  {
   "cell_type": "code",
   "execution_count": 24,
   "metadata": {},
   "outputs": [
    {
     "name": "stdout",
     "output_type": "stream",
     "text": [
      "2019-01-26 23:28:07 matplotlib.axes._base[24473] \u001b[1mDEBUG\u001b[0m \u001b[32mupdate_title_pos\u001b[0m\n",
      "2019-01-26 23:28:07 matplotlib.axes._base[24473] \u001b[1mDEBUG\u001b[0m \u001b[32mupdate_title_pos\u001b[0m\n",
      "2019-01-26 23:28:07 matplotlib.axes._base[24473] \u001b[1mDEBUG\u001b[0m \u001b[32mupdate_title_pos\u001b[0m\n",
      "2019-01-26 23:28:07 matplotlib.axes._base[24473] \u001b[1mDEBUG\u001b[0m \u001b[32mupdate_title_pos\u001b[0m\n"
     ]
    },
    {
     "data": {
      "image/png": "[encoded data removed]",
      "text/plain": [
       "<Figure size 432x288 with 1 Axes>"
      ]
     },
     "metadata": {},
     "output_type": "display_data"
    }
   ],
   "source": [
    "plot_moves_with_prob(legal_moves, mcts_agent.root_node.child_number_visits, only_top_x=20)"
   ]
  },
  {
   "cell_type": "code",
   "execution_count": 25,
   "metadata": {},
   "outputs": [
    {
     "name": "stdout",
     "output_type": "stream",
     "text": [
      "2019-01-26 23:28:08 matplotlib.axes._base[24473] \u001b[1mDEBUG\u001b[0m \u001b[32mupdate_title_pos\u001b[0m\n",
      "2019-01-26 23:28:08 matplotlib.axes._base[24473] \u001b[1mDEBUG\u001b[0m \u001b[32mupdate_title_pos\u001b[0m\n",
      "2019-01-26 23:28:08 matplotlib.axes._base[24473] \u001b[1mDEBUG\u001b[0m \u001b[32mupdate_title_pos\u001b[0m\n",
      "2019-01-26 23:28:08 matplotlib.axes._base[24473] \u001b[1mDEBUG\u001b[0m \u001b[32mupdate_title_pos\u001b[0m\n"
     ]
    },
    {
     "data": {
      "image/png": "[encoded data removed]",
      "text/plain": [
       "<Figure size 432x288 with 1 Axes>"
      ]
     },
     "metadata": {},
     "output_type": "display_data"
    }
   ],
   "source": [
    "plot_moves_with_prob(legal_moves, mcts_agent.root_node.q_value, only_top_x=10)"
   ]
  },
  {
   "cell_type": "code",
   "execution_count": 26,
   "metadata": {},
   "outputs": [
    {
     "name": "stdout",
     "output_type": "stream",
     "text": [
      "2019-01-26 23:28:08 matplotlib.axes._base[24473] \u001b[1mDEBUG\u001b[0m \u001b[32mupdate_title_pos\u001b[0m\n",
      "2019-01-26 23:28:08 matplotlib.axes._base[24473] \u001b[1mDEBUG\u001b[0m \u001b[32mupdate_title_pos\u001b[0m\n",
      "2019-01-26 23:28:08 matplotlib.axes._base[24473] \u001b[1mDEBUG\u001b[0m \u001b[32mupdate_title_pos\u001b[0m\n",
      "2019-01-26 23:28:08 matplotlib.axes._base[24473] \u001b[1mDEBUG\u001b[0m \u001b[32mupdate_title_pos\u001b[0m\n"
     ]
    },
    {
     "data": {
      "image/png": "[encoded data removed]",
      "text/plain": [
       "<Figure size 432x288 with 1 Axes>"
      ]
     },
     "metadata": {},
     "output_type": "display_data"
    }
   ],
   "source": [
    "plot_moves_with_prob(legal_moves, p_vec_small, only_top_x=10)"
   ]
  },
  {
   "cell_type": "code",
   "execution_count": 27,
   "metadata": {},
   "outputs": [
    {
     "name": "stdout",
     "output_type": "stream",
     "text": [
      "2019-01-26 23:28:08 matplotlib.axes._base[24473] \u001b[1mDEBUG\u001b[0m \u001b[32mupdate_title_pos\u001b[0m\n",
      "2019-01-26 23:28:08 matplotlib.axes._base[24473] \u001b[1mDEBUG\u001b[0m \u001b[32mupdate_title_pos\u001b[0m\n",
      "2019-01-26 23:28:08 matplotlib.axes._base[24473] \u001b[1mDEBUG\u001b[0m \u001b[32mupdate_title_pos\u001b[0m\n",
      "2019-01-26 23:28:08 matplotlib.axes._base[24473] \u001b[1mDEBUG\u001b[0m \u001b[32mupdate_title_pos\u001b[0m\n"
     ]
    },
    {
     "data": {
      "image/png": "[encoded data removed]",
      "text/plain": [
       "<Figure size 432x288 with 1 Axes>"
      ]
     },
     "metadata": {},
     "output_type": "display_data"
    }
   ],
   "source": [
    "plot_moves_with_prob(legal_moves, p_vec_small, only_top_x=10)"
   ]
  },
  {
   "cell_type": "code",
   "execution_count": 28,
   "metadata": {},
   "outputs": [
    {
     "name": "stdout",
     "output_type": "stream",
     "text": [
      "Timer unit: 1e-06 s\n",
      "\n",
      "Total time: 0.007579 s\n",
      "File: ../../../DeepCrazyhouse/src/domain/agent/player/mcts_agent.py\n",
      "Function: _run_single_playout at line 535\n",
      "\n",
      "Line #      Hits         Time  Per Hit   % Time  Line Contents\n",
      "==============================================================\n",
      "   535                                               def _run_single_playout(self, state: GameState, parent_node: Node, pipe_id=0, depth=1, chosen_nodes=None):\n",
      "   536                                                   \"\"\"\n",
      "   537                                                   This function works recursively until a leaf or terminal node is reached.\n",
      "   538                                                   It ends by back-propagating the value of the new expanded node or by propagating the value of a terminal state.\n",
      "   539                                           \n",
      "   540                                                   :param state: Current game-state for the evaluation. This state differs between the treads\n",
      "   541                                                   :param parent_node: Current parent-node of the selected node. In the first  expansion this is the root node.\n",
      "   542                                                   :param depth: Current depth for the evaluation. Depth is increased by 1 for every recursive call\n",
      "   543                                                   :param chosen_nodes: List of moves which have been taken in the current path.\n",
      "   544                                                                   For each selected child node this list is expanded by one move recursively.\n",
      "   545                                                   :param chosen_nodes: List of all nodes that this thread has explored with respect to the root node\n",
      "   546                                                   :return: -value: The inverse value prediction of the current board state. The flipping by -1 each turn is needed\n",
      "   547                                                                   because the point of view changes each half-move\n",
      "   548                                                           depth: Current depth reach by this evaluation\n",
      "   549                                                           mv_list: List of moves which have been selected\n",
      "   550                                                   \"\"\"\n",
      "   551                                                   # Probably is better to be refactored\n",
      "   552                                                   # Too many arguments (6/5) - Too many local variables (27/15) - Too many branches (28/12) -\n",
      "   553                                                   # Too many statements (86/50)\n",
      "   554         8         19.0      2.4      0.3          if chosen_nodes is None:  # select a legal move on the chess board\n",
      "   555         1          3.0      3.0      0.0              chosen_nodes = []\n",
      "   556         8        277.0     34.6      3.7          node, move, child_idx = self._select_node(parent_node)\n",
      "   557                                           \n",
      "   558         8         17.0      2.1      0.2          if move is None:\n",
      "   559                                                       raise Exception(\"Illegal tree setup. A 'None' move was selected which shouldn't be possible\")\n",
      "   560                                                   # update the visit counts to this node\n",
      "   561                                                   # temporarily reduce the attraction of this node by applying a virtual loss /\n",
      "   562                                                   # the effect of virtual loss will be undone if the playout is over\n",
      "   563         8         91.0     11.4      1.2          parent_node.apply_virtual_loss_to_child(child_idx, self.virtual_loss)\n",
      "   564                                           \n",
      "   565         8         20.0      2.5      0.3          if depth == 1:\n",
      "   566         1        179.0    179.0      2.4              state = GameState(deepcopy(state.get_pythonchess_board()))\n",
      "   567                                           \n",
      "   568         8        623.0     77.9      8.2          state.apply_move(move)  # apply the selected move on the board\n",
      "   569                                                   # append the selected move to the move list\n",
      "   570         8         22.0      2.8      0.3          chosen_nodes.append(child_idx)  # append the chosen child idx to the chosen_nodes list\n",
      "   571                                           \n",
      "   572         8         20.0      2.5      0.3          if node is None:\n",
      "   573                                                       # get the transposition-key which is used as an identifier for the board positions in the look-up table\n",
      "   574         1         53.0     53.0      0.7              transposition_key = state.get_transposition_key()\n",
      "   575                                                       # check if the addressed fen exist in the look-up table\n",
      "   576                                                       # note: It's important to use also the halfmove-counter here, otherwise the system can create an infinite\n",
      "   577                                                       # feed-back-loop\n",
      "   578         1          4.0      4.0      0.1              key = transposition_key + (state.get_fullmove_number(),)\n",
      "   579         1          2.0      2.0      0.0              use_tran_table = True\n",
      "   580         1          2.0      2.0      0.0              node_verified = False\n",
      "   581                                           \n",
      "   582         1          4.0      4.0      0.1              if use_tran_table and key in self.node_lookup:\n",
      "   583                                                           # if self.check_for_duplicate(transposition_key, chosen_nodes) is False:\n",
      "   584                                                           node = self.node_lookup[key]  # get the node from the look-up list\n",
      "   585                                           \n",
      "   586                                                           if node.n_sum > parent_node.n_sum:  # make sure that you don't connect to a node with lower visits\n",
      "   587                                                               node_verified = True\n",
      "   588                                           \n",
      "   589         1          2.0      2.0      0.0              if node_verified:\n",
      "   590                                                           with parent_node.lock:\n",
      "   591                                                               # setup a new connection from the parent to the child\n",
      "   592                                                               parent_node.child_nodes[child_idx] = node\n",
      "   593                                                           # logging.debug('found key: %s' % state.get_board_fen())\n",
      "   594                                                           # get the prior value from the leaf node which has already been expanded\n",
      "   595                                                           value = node.initial_value\n",
      "   596                                                       else:\n",
      "   597                                                           # expand and evaluate the new board state (the node wasn't found in the look-up table)\n",
      "   598                                                           # its value will be back-propagated through the tree and flipped after every layer\n",
      "   599         1          3.0      3.0      0.0                  my_pipe = self.my_pipe_endings[pipe_id]  # receive a free available pipe\n",
      "   600                                           \n",
      "   601         1          2.0      2.0      0.0                  if self.send_batches:\n",
      "   602                                                               my_pipe.send(state.get_state_planes())\n",
      "   603                                                               # this pipe waits for the predictions of the network inference service\n",
      "   604                                                               [value, policy_vec] = my_pipe.recv()\n",
      "   605                                                           else:\n",
      "   606         1        428.0    428.0      5.6                      state_planes = state.get_state_planes()\n",
      "   607         1          6.0      6.0      0.1                      self.batch_state_planes[pipe_id] = state_planes\n",
      "   608         1         69.0     69.0      0.9                      my_pipe.send(pipe_id)\n",
      "   609         1       4889.0   4889.0     64.5                      result_channel = my_pipe.recv()\n",
      "   610         1          8.0      8.0      0.1                      value = np.array(self.batch_value_results[result_channel])\n",
      "   611         1          7.0      7.0      0.1                      policy_vec = np.array(self.batch_policy_results[result_channel])\n",
      "   612                                           \n",
      "   613         1          2.0      2.0      0.0                  is_leaf = is_won = False  # initialize is_leaf by default to false and check if the game is won\n",
      "   614                                                           # check if the current player has won the game\n",
      "   615                                                           # (we don't need to check for is_lost() because the game is already over\n",
      "   616                                                           #  if the current player checkmated his opponent)\n",
      "   617         1         40.0     40.0      0.5                  if state.is_check():\n",
      "   618         1        133.0    133.0      1.8                      if state.is_won():\n",
      "   619                                                                   is_won = True\n",
      "   620                                           \n",
      "   621         1          2.0      2.0      0.0                  if is_won:\n",
      "   622                                                               value = LOST\n",
      "   623                                                               is_leaf = True\n",
      "   624                                                               legal_moves = []\n",
      "   625                                                               p_vec_small = None\n",
      "   626                                                               # establish a mate in one connection in order to stop exploring different alternatives\n",
      "   627                                                               parent_node.mate_child_idx = child_idx\n",
      "   628                                                           # get the value from the leaf node (the current function is called recursively)\n",
      "   629                                                           # check if you can claim a draw - its assumed that the draw is always claimed\n",
      "   630                                                           elif (\n",
      "   631         1         29.0     29.0      0.4                      self.can_claim_threefold_repetition(transposition_key, chosen_nodes)\n",
      "   632         1          6.0      6.0      0.1                      or state.get_pythonchess_board().can_claim_fifty_moves() is True\n",
      "   633                                                           ):\n",
      "   634                                                               # raise Exception('Threefold!')\n",
      "   635                                                               value = DRAW\n",
      "   636                                                               is_leaf = True\n",
      "   637                                                               legal_moves = []\n",
      "   638                                                               p_vec_small = None\n",
      "   639                                                           else:\n",
      "   640         1        292.0    292.0      3.9                      legal_moves = state.get_legal_moves()  # get the current legal move of its board state\n",
      "   641                                           \n",
      "   642         1          3.0      3.0      0.0                      if not legal_moves:\n",
      "   643                                                                   raise Exception(\"No legal move is available for state: %s\" % state)\n",
      "   644         1          2.0      2.0      0.0                      try:  # extract a sparse policy vector with normalized probabilities\n",
      "   645         1          2.0      2.0      0.0                          p_vec_small = get_probs_of_move_list(\n",
      "   646         1        109.0    109.0      1.4                              policy_vec, legal_moves, is_white_to_move=state.is_white_to_move(), normalize=True\n",
      "   647                                                                   )\n",
      "   648                                                               except KeyError:\n",
      "   649                                                                   raise Exception(\"Key Error for state: %s\" % state)\n",
      "   650                                                           # convert all legal moves to a string if the option check_mate_in_one was enabled\n",
      "   651         1          3.0      3.0      0.0                  if self.check_mate_in_one:\n",
      "   652                                                               str_legal_moves = str(state.get_legal_moves())\n",
      "   653                                                           else:\n",
      "   654         1          3.0      3.0      0.0                      str_legal_moves = \"\"\n",
      "   655                                                           # clip the visit nodes for all nodes in the search tree except the director opp. move\n",
      "   656         1          3.0      3.0      0.0                  clip_low_visit = self.use_pruning and depth != 1\n",
      "   657         1          2.0      2.0      0.0                  new_node = Node(\n",
      "   658         1         37.0     37.0      0.5                      value, p_vec_small, legal_moves, str_legal_moves, is_leaf, transposition_key, clip_low_visit\n",
      "   659                                                           )  # create a new node\n",
      "   660                                           \n",
      "   661         1          2.0      2.0      0.0                  if depth == 1:\n",
      "   662                                                               # disable uncertain moves from being visited by giving them a very bad score\n",
      "   663                                                               if not is_leaf and self.use_pruning:\n",
      "   664                                                                   if self.root_node_prior_policy[child_idx] < 1e-3 and (1-value) < self.root_node.initial_value:\n",
      "   665                                                                       with parent_node.lock:\n",
      "   666                                                                           value = 0 # 99\n",
      "   667                                                                           # logging.info(\"locked node!!!\")\n",
      "   668                                                                           parent_node.action_value[child_idx] = -9999\n",
      "   669                                           \n",
      "   670                                                               if parent_node.initial_value > 0.65:  # and state.are_pocket_empty(): #and pipe_id == 0:\n",
      "   671                                                                   fac = 0.25  # test of adding dirichlet noise to a new node\n",
      "   672                                           \n",
      "   673                                                                   if len(parent_node.legal_moves) < 20:\n",
      "   674                                                                       fac *= 5\n",
      "   675                                                                   new_node.apply_dirichlet_noise_to_prior_policy(\n",
      "   676                                                                       epsilon=self.dirichlet_epsilon * fac, alpha=self.dirichlet_alpha\n",
      "   677                                                                   )\n",
      "   678                                           \n",
      "   679                                                               if value < 0:\n",
      "   680                                                                   # test of adding dirichlet noise to a new node\n",
      "   681                                                                   new_node.apply_dirichlet_noise_to_prior_policy(\n",
      "   682                                                                       epsilon=self.dirichlet_epsilon * 0.02, alpha=self.dirichlet_alpha\n",
      "   683                                                                   )\n",
      "   684                                           \n",
      "   685         1          3.0      3.0      0.0                  if not self.use_pruning:\n",
      "   686                                                               self.node_lookup[key] = new_node  # include a reference to the new node in the look-up table\n",
      "   687                                           \n",
      "   688         1          3.0      3.0      0.0                  with parent_node.lock:\n",
      "   689         1          3.0      3.0      0.0                      parent_node.child_nodes[child_idx] = new_node  # add the new node to its parent\n",
      "   690         7         18.0      2.6      0.2          elif node.is_leaf:  # check if we have reached a leaf node\n",
      "   691                                                       value = node.initial_value\n",
      "   692                                                   else:\n",
      "   693                                                       # get the value from the leaf node (the current function is called recursively)\n",
      "   694         7         24.0      3.4      0.3              value, depth, chosen_nodes = self._run_single_playout(state, node, pipe_id, depth + 1, chosen_nodes)\n",
      "   695                                                   # revert the virtual loss and apply the predicted value by the network to the node\n",
      "   696         8         87.0     10.9      1.1          parent_node.revert_virtual_loss_and_update(child_idx, self.virtual_loss, 1-value)\n",
      "   697                                                   # invert the value prediction for the parent of the above node layer because the player's changes every turn\n",
      "   698                                           \n",
      "   699                                                   #if value < 0 or value > 1:\n",
      "   700                                                   #    raise Exception(\"value = %.3f\" % value)\n",
      "   701                                           \n",
      "   702         8         21.0      2.6      0.3          return 1-value, depth, chosen_nodes\n",
      "\n"
     ]
    }
   ],
   "source": [
    "\n",
    "\n",
    "%load_ext line_profiler\n",
    "r = %lprun -r -f mcts_agent._run_single_playout mcts_agent._run_single_playout(state, mcts_agent.root_node)\n",
    "r.print_stats()\n",
    "\n"
   ]
  },
  {
   "cell_type": "code",
   "execution_count": 29,
   "metadata": {
    "collapsed": true
   },
   "outputs": [],
   "source": [
    "from DeepCrazyhouse.src.domain.crazyhouse.input_representation import board_to_planes\n"
   ]
  },
  {
   "cell_type": "code",
   "execution_count": 30,
   "metadata": {},
   "outputs": [
    {
     "name": "stdout",
     "output_type": "stream",
     "text": [
      "The line_profiler extension is already loaded. To reload it, use:\n",
      "  %reload_ext line_profiler\n",
      "Timer unit: 1e-06 s\n",
      "\n",
      "Total time: 0.001064 s\n",
      "File: ../../../DeepCrazyhouse/src/domain/crazyhouse/input_representation.py\n",
      "Function: board_to_planes at line 27\n",
      "\n",
      "Line #      Hits         Time  Per Hit   % Time  Line Contents\n",
      "==============================================================\n",
      "    27                                           def board_to_planes(board, board_occ=0, normalize=True):\n",
      "    28                                               \"\"\"\n",
      "    29                                               Gets the plane representation of a given board state.\n",
      "    30                                               (Now history of past board positions is used.)\n",
      "    31                                           \n",
      "    32                                               ## Crazyhouse:\n",
      "    33                                           \n",
      "    34                                               Feature | Planes\n",
      "    35                                           \n",
      "    36                                               --- | ---\n",
      "    37                                           \n",
      "    38                                               P1 piece | 6 (pieces are ordered: PAWN, KNIGHT, BISHOP, ROOK, QUEEN, KING)\n",
      "    39                                           \n",
      "    40                                               P2 piece | 6 (pieces are ordered: PAWN, KNIGHT, BISHOP, ROOK, QUEEN, KING)\n",
      "    41                                           \n",
      "    42                                               Repetitions | 2 (two planes (full zeros/ones) indicating how often the board positions has occurred)\n",
      "    43                                           \n",
      "    44                                               P1 prisoner count | 5 (pieces are ordered: PAWN, KNIGHT, BISHOP, ROOK, QUEEN) (excluding the KING)\n",
      "    45                                           \n",
      "    46                                               P2 prisoner count | 5 (pieces are ordered: PAWN, KNIGHT, BISHOP, ROOK, QUEEN) (excluding the KING)\n",
      "    47                                           \n",
      "    48                                               P1 Promoted Pawns Mask | 1 (binary map indicating the pieces which have been promoted)\n",
      "    49                                           \n",
      "    50                                               P2 Promoted Pawns Mask | 1 (binary map indicating the pieces which have been promoted)\n",
      "    51                                           \n",
      "    52                                               En-passant square | 1 (Binary map indicating the square where en-passant capture is possible)\n",
      "    53                                           \n",
      "    54                                               ---\n",
      "    55                                               27 planes\n",
      "    56                                           \n",
      "    57                                               * * *\n",
      "    58                                           \n",
      "    59                                               Colour | 1 (all zeros for black and all ones for white)\n",
      "    60                                           \n",
      "    61                                               Total move count | 1 (integer value setting the move count (uci notation))\n",
      "    62                                           \n",
      "    63                                               P1 castling | 2 (One if castling is possible, else zero)\n",
      "    64                                           \n",
      "    65                                               P2 castling | 2 (One if castling is possible, else zero)\n",
      "    66                                           \n",
      "    67                                               No-progress count | 1 (Setting the no progress counter as integer values, (described by uci halfmoves format)\n",
      "    68                                           \n",
      "    69                                               # --------------\n",
      "    70                                               7 planes\n",
      "    71                                           \n",
      "    72                                               The history list of the past 7 board states have been removed\n",
      "    73                                               The total number of planes is calculated as follows:\n",
      "    74                                           \n",
      "    75                                               27 + 7\n",
      "    76                                               Total: 34 planes\n",
      "    77                                           \n",
      "    78                                               :param board: Board handle (Python-chess object)\n",
      "    79                                               :param board_occ: Sets how often the board state has occurred before (by default 0)\n",
      "    80                                               :param normalize: True if the inputs shall be normalized to the range [0.-1.]\n",
      "    81                                               :return: planes - the plane representation of the current board state\n",
      "    82                                               \"\"\"\n",
      "    83                                           \n",
      "    84                                               # TODO: Remove board.mirror() for black by addressing the according color channel\n",
      "    85                                           \n",
      "    86                                               # (I) Define the Input Representation for one position\n",
      "    87         1        165.0    165.0     15.5      planes_pos = np.zeros((NB_CHANNELS_POS, BOARD_HEIGHT, BOARD_WIDTH))\n",
      "    88         1          9.0      9.0      0.8      planes_const = np.zeros((NB_CHANNELS_CONST, BOARD_HEIGHT, BOARD_WIDTH))\n",
      "    89                                           \n",
      "    90                                               # save whose turn it is\n",
      "    91         1          3.0      3.0      0.3      board_turn = chess.WHITE\n",
      "    92                                           \n",
      "    93                                               # check who's player turn it is and flip the board if it's black turn\n",
      "    94         1          5.0      5.0      0.5      if board.turn == chess.BLACK:\n",
      "    95                                                   board_turn = chess.BLACK\n",
      "    96                                                   board = board.mirror()\n",
      "    97                                           \n",
      "    98                                               # Fill in the piece positions\n",
      "    99                                           \n",
      "   100                                               # Iterate over both color starting with WHITE\n",
      "   101         3         10.0      3.3      0.9      for idx, color in enumerate(chess.COLORS):\n",
      "   102                                                   # the PIECE_TYPE is an integer list in python-chess\n",
      "   103        14         32.0      2.3      3.0          for piece_type in chess.PIECE_TYPES:\n",
      "   104                                                       # define the channel by the piece_type (the input representation uses the same ordering as python-chess)\n",
      "   105                                                       # we add an offset for the black pieces\n",
      "   106                                                       # note that we subtract 1 because in python chess the PAWN has index 1 and not 0\n",
      "   107        12         36.0      3.0      3.4              channel = (piece_type - 1) + idx * len(chess.PIECE_TYPES)\n",
      "   108                                                       # iterate over the piece mask and receive every position square of it\n",
      "   109        39        286.0      7.3     26.9              for pos in board.pieces(piece_type, color):\n",
      "   110        27        118.0      4.4     11.1                  row, col = get_row_col(pos)\n",
      "   111                                                           # set the bit at the right position\n",
      "   112        27         81.0      3.0      7.6                  planes_pos[channel, row, col] = 1\n",
      "   113                                           \n",
      "   114                                               # (II) Fill in the Repetition Data\n",
      "   115                                               # a game to test out if everything is working correctly is: https://lichess.org/jkItXBWy#73\n",
      "   116         1          2.0      2.0      0.2      channel = CHANNEL_MAPPING_POS[\"repetitions\"]\n",
      "   117                                           \n",
      "   118                                               # set how often the position has already occurred in the game (default 0 times)\n",
      "   119                                               # this is used to check for claiming the 3 fold repetition rule\n",
      "   120         1          2.0      2.0      0.2      if board_occ >= 1:\n",
      "   121                                                   planes_pos[channel, :, :] = 1\n",
      "   122                                                   if board_occ >= 2:\n",
      "   123                                                       planes_pos[channel + 1, :, :] = 1\n",
      "   124                                           \n",
      "   125                                               # Fill in the Prisoners / Pocket Pieces\n",
      "   126                                           \n",
      "   127                                               # iterate over all pieces except the king\n",
      "   128         6         15.0      2.5      1.4      for p_type in chess.PIECE_TYPES[:-1]:\n",
      "   129                                                   # p_type -1 because p_type starts with 1\n",
      "   130         5         12.0      2.4      1.1          channel = CHANNEL_MAPPING_POS[\"prisoners\"] + p_type - 1\n",
      "   131                                           \n",
      "   132         5         41.0      8.2      3.9          planes_pos[channel, :, :] = board.pockets[chess.WHITE].count(p_type)\n",
      "   133                                                   # the prison for black begins 5 channels later\n",
      "   134         5         28.0      5.6      2.6          planes_pos[channel + 5, :, :] = board.pockets[chess.BLACK].count(p_type)\n",
      "   135                                           \n",
      "   136                                               # (III) Fill in the promoted pieces\n",
      "   137                                               # iterate over all promoted pieces according to the mask and set the according bit\n",
      "   138         1          3.0      3.0      0.3      channel = CHANNEL_MAPPING_POS[\"promo\"]\n",
      "   139         1          9.0      9.0      0.8      for pos in chess.SquareSet(board.promoted):\n",
      "   140                                                   row, col = get_row_col(pos)\n",
      "   141                                           \n",
      "   142                                                   if board.piece_at(pos).color == chess.WHITE:\n",
      "   143                                                       planes_pos[channel, row, col] = 1\n",
      "   144                                                   else:\n",
      "   145                                                       planes_pos[channel + 1, row, col] = 1\n",
      "   146                                           \n",
      "   147                                               # (III.2) En Passant Square\n",
      "   148                                               # mark the square where an en-passant capture is possible\n",
      "   149         1          2.0      2.0      0.2      channel = CHANNEL_MAPPING_POS[\"ep_square\"]\n",
      "   150         1          2.0      2.0      0.2      if board.ep_square is not None:\n",
      "   151                                                   row, col = get_row_col(board.ep_square)\n",
      "   152                                                   planes_pos[channel, row, col] = 1\n",
      "   153                                           \n",
      "   154                                               # (IV) Constant Value Inputs\n",
      "   155                                               # (IV.1) Color\n",
      "   156         1          2.0      2.0      0.2      if board_turn == chess.WHITE:\n",
      "   157         1          5.0      5.0      0.5          planes_const[CHANNEL_MAPPING_CONST[\"color\"], :, :] = 1\n",
      "   158                                               # otherwise the mat will remain zero\n",
      "   159                                           \n",
      "   160                                               # (IV.2) Total Move Count\n",
      "   161         1          4.0      4.0      0.4      planes_const[CHANNEL_MAPPING_CONST[\"total_mv_cnt\"], :, :] = board.fullmove_number\n",
      "   162                                               # alternatively, you could use the half-moves-counter: len(board.move_stack)\n",
      "   163                                           \n",
      "   164                                               # (IV.3) Castling Rights\n",
      "   165         1          2.0      2.0      0.2      channel = CHANNEL_MAPPING_CONST[\"castling\"]\n",
      "   166                                           \n",
      "   167                                               # WHITE\n",
      "   168                                               # check for King Side Castling\n",
      "   169         1          4.0      4.0      0.4      if bool(board.castling_rights & chess.BB_H1) is True:\n",
      "   170                                                   # White can castle with the h1 rook\n",
      "   171         1          4.0      4.0      0.4          planes_const[channel, :, :] = 1\n",
      "   172                                               # check for Queen Side Castling\n",
      "   173         1          3.0      3.0      0.3      if bool(board.castling_rights & chess.BB_A1) is True:\n",
      "   174         1          5.0      5.0      0.5          planes_const[channel + 1, :, :] = 1\n",
      "   175                                           \n",
      "   176                                               # BLACK\n",
      "   177                                               # check for King Side Castling\n",
      "   178         1          3.0      3.0      0.3      if bool(board.castling_rights & chess.BB_H8) is True:\n",
      "   179                                                   # White can castle with the h1 rook\n",
      "   180         1          3.0      3.0      0.3          planes_const[channel + 2, :, :] = 1\n",
      "   181                                               # check for Queen Side Castling\n",
      "   182         1          4.0      4.0      0.4      if bool(board.castling_rights & chess.BB_A8) is True:\n",
      "   183         1          4.0      4.0      0.4          planes_const[channel + 3, :, :] = 1\n",
      "   184                                           \n",
      "   185                                               # (IV.4) No Progress Count\n",
      "   186                                               # define a no 'progress' counter\n",
      "   187                                               # it gets incremented by 1 each move\n",
      "   188                                               # however, whenever a piece gets dropped, a piece is captured or a pawn is moved, it is reset to 0\n",
      "   189                                               # halfmove_clock is an official metric in fen notation\n",
      "   190                                               #  -> see: https://en.wikipedia.org/wiki/Forsyth%E2%80%93Edwards_Notation\n",
      "   191         1          2.0      2.0      0.2      no_progress_cnt = board.halfmove_clock\n",
      "   192                                           \n",
      "   193                                               # check how often the position has already occurred in the game\n",
      "   194         1          4.0      4.0      0.4      planes_const[CHANNEL_MAPPING_CONST[\"no_progress_cnt\"], :, :] = no_progress_cnt\n",
      "   195                                           \n",
      "   196                                               # (V) Merge the Matrix-Stack\n",
      "   197         1         20.0     20.0      1.9      planes = np.concatenate((planes_pos, planes_const), axis=0)\n",
      "   198                                           \n",
      "   199                                               # revert the board if the players turn was black\n",
      "   200                                               # ! DO NOT DELETE OR UNCOMMENT THIS BLOCK BECAUSE THE PARAMETER board IS CHANGED IN PLACE !\n",
      "   201         1          2.0      2.0      0.2      if board_turn == chess.BLACK:\n",
      "   202                                                   board = board.mirror()\n",
      "   203                                           \n",
      "   204         1          2.0      2.0      0.2      if normalize is True:\n",
      "   205         1        128.0    128.0     12.0          planes *= MATRIX_NORMALIZER\n",
      "   206                                                   # planes = normalize_input_planes(planes)\n",
      "   207                                           \n",
      "   208                                               # return the plane representation of the given board\n",
      "   209         1          2.0      2.0      0.2      return planes\n",
      "\n"
     ]
    }
   ],
   "source": [
    "%load_ext line_profiler\n",
    "r = %lprun -r -f board_to_planes board_to_planes(board)\n",
    "r.print_stats()"
   ]
  },
  {
   "cell_type": "code",
   "execution_count": 31,
   "metadata": {},
   "outputs": [
    {
     "name": "stdout",
     "output_type": "stream",
     "text": [
      "The line_profiler extension is already loaded. To reload it, use:\n",
      "  %reload_ext line_profiler\n",
      "Timer unit: 1e-06 s\n",
      "\n",
      "Total time: 0.000466 s\n",
      "File: ../../../DeepCrazyhouse/src/domain/crazyhouse/input_representation.py\n",
      "Function: board_to_planes at line 27\n",
      "\n",
      "Line #      Hits         Time  Per Hit   % Time  Line Contents\n",
      "==============================================================\n",
      "    27                                           def board_to_planes(board, board_occ=0, normalize=True):\n",
      "    28                                               \"\"\"\n",
      "    29                                               Gets the plane representation of a given board state.\n",
      "    30                                               (Now history of past board positions is used.)\n",
      "    31                                           \n",
      "    32                                               ## Crazyhouse:\n",
      "    33                                           \n",
      "    34                                               Feature | Planes\n",
      "    35                                           \n",
      "    36                                               --- | ---\n",
      "    37                                           \n",
      "    38                                               P1 piece | 6 (pieces are ordered: PAWN, KNIGHT, BISHOP, ROOK, QUEEN, KING)\n",
      "    39                                           \n",
      "    40                                               P2 piece | 6 (pieces are ordered: PAWN, KNIGHT, BISHOP, ROOK, QUEEN, KING)\n",
      "    41                                           \n",
      "    42                                               Repetitions | 2 (two planes (full zeros/ones) indicating how often the board positions has occurred)\n",
      "    43                                           \n",
      "    44                                               P1 prisoner count | 5 (pieces are ordered: PAWN, KNIGHT, BISHOP, ROOK, QUEEN) (excluding the KING)\n",
      "    45                                           \n",
      "    46                                               P2 prisoner count | 5 (pieces are ordered: PAWN, KNIGHT, BISHOP, ROOK, QUEEN) (excluding the KING)\n",
      "    47                                           \n",
      "    48                                               P1 Promoted Pawns Mask | 1 (binary map indicating the pieces which have been promoted)\n",
      "    49                                           \n",
      "    50                                               P2 Promoted Pawns Mask | 1 (binary map indicating the pieces which have been promoted)\n",
      "    51                                           \n",
      "    52                                               En-passant square | 1 (Binary map indicating the square where en-passant capture is possible)\n",
      "    53                                           \n",
      "    54                                               ---\n",
      "    55                                               27 planes\n",
      "    56                                           \n",
      "    57                                               * * *\n",
      "    58                                           \n",
      "    59                                               Colour | 1 (all zeros for black and all ones for white)\n",
      "    60                                           \n",
      "    61                                               Total move count | 1 (integer value setting the move count (uci notation))\n",
      "    62                                           \n",
      "    63                                               P1 castling | 2 (One if castling is possible, else zero)\n",
      "    64                                           \n",
      "    65                                               P2 castling | 2 (One if castling is possible, else zero)\n",
      "    66                                           \n",
      "    67                                               No-progress count | 1 (Setting the no progress counter as integer values, (described by uci halfmoves format)\n",
      "    68                                           \n",
      "    69                                               # --------------\n",
      "    70                                               7 planes\n",
      "    71                                           \n",
      "    72                                               The history list of the past 7 board states have been removed\n",
      "    73                                               The total number of planes is calculated as follows:\n",
      "    74                                           \n",
      "    75                                               27 + 7\n",
      "    76                                               Total: 34 planes\n",
      "    77                                           \n",
      "    78                                               :param board: Board handle (Python-chess object)\n",
      "    79                                               :param board_occ: Sets how often the board state has occurred before (by default 0)\n",
      "    80                                               :param normalize: True if the inputs shall be normalized to the range [0.-1.]\n",
      "    81                                               :return: planes - the plane representation of the current board state\n",
      "    82                                               \"\"\"\n",
      "    83                                           \n",
      "    84                                               # TODO: Remove board.mirror() for black by addressing the according color channel\n",
      "    85                                           \n",
      "    86                                               # (I) Define the Input Representation for one position\n",
      "    87         1         13.0     13.0      2.8      planes_pos = np.zeros((NB_CHANNELS_POS, BOARD_HEIGHT, BOARD_WIDTH))\n",
      "    88         1          4.0      4.0      0.9      planes_const = np.zeros((NB_CHANNELS_CONST, BOARD_HEIGHT, BOARD_WIDTH))\n",
      "    89                                           \n",
      "    90                                               # save whose turn it is\n",
      "    91         1          2.0      2.0      0.4      board_turn = chess.WHITE\n",
      "    92                                           \n",
      "    93                                               # check who's player turn it is and flip the board if it's black turn\n",
      "    94         1          4.0      4.0      0.9      if board.turn == chess.BLACK:\n",
      "    95                                                   board_turn = chess.BLACK\n",
      "    96                                                   board = board.mirror()\n",
      "    97                                           \n",
      "    98                                               # Fill in the piece positions\n",
      "    99                                           \n",
      "   100                                               # Iterate over both color starting with WHITE\n",
      "   101         3          7.0      2.3      1.5      for idx, color in enumerate(chess.COLORS):\n",
      "   102                                                   # the PIECE_TYPE is an integer list in python-chess\n",
      "   103        14         16.0      1.1      3.4          for piece_type in chess.PIECE_TYPES:\n",
      "   104                                                       # define the channel by the piece_type (the input representation uses the same ordering as python-chess)\n",
      "   105                                                       # we add an offset for the black pieces\n",
      "   106                                                       # note that we subtract 1 because in python chess the PAWN has index 1 and not 0\n",
      "   107        12         20.0      1.7      4.3              channel = (piece_type - 1) + idx * len(chess.PIECE_TYPES)\n",
      "   108                                                       # iterate over the piece mask and receive every position square of it\n",
      "   109        39        150.0      3.8     32.2              for pos in board.pieces(piece_type, color):\n",
      "   110        27         66.0      2.4     14.2                  row, col = get_row_col(pos)\n",
      "   111                                                           # set the bit at the right position\n",
      "   112        27         38.0      1.4      8.2                  planes_pos[channel, row, col] = 1\n",
      "   113                                           \n",
      "   114                                               # (II) Fill in the Repetition Data\n",
      "   115                                               # a game to test out if everything is working correctly is: https://lichess.org/jkItXBWy#73\n",
      "   116         1          2.0      2.0      0.4      channel = CHANNEL_MAPPING_POS[\"repetitions\"]\n",
      "   117                                           \n",
      "   118                                               # set how often the position has already occurred in the game (default 0 times)\n",
      "   119                                               # this is used to check for claiming the 3 fold repetition rule\n",
      "   120         1          1.0      1.0      0.2      if board_occ >= 1:\n",
      "   121                                                   planes_pos[channel, :, :] = 1\n",
      "   122                                                   if board_occ >= 2:\n",
      "   123                                                       planes_pos[channel + 1, :, :] = 1\n",
      "   124                                           \n",
      "   125                                               # Fill in the Prisoners / Pocket Pieces\n",
      "   126                                           \n",
      "   127                                               # iterate over all pieces except the king\n",
      "   128         6          8.0      1.3      1.7      for p_type in chess.PIECE_TYPES[:-1]:\n",
      "   129                                                   # p_type -1 because p_type starts with 1\n",
      "   130         5          7.0      1.4      1.5          channel = CHANNEL_MAPPING_POS[\"prisoners\"] + p_type - 1\n",
      "   131                                           \n",
      "   132         5         29.0      5.8      6.2          planes_pos[channel, :, :] = board.pockets[chess.WHITE].count(p_type)\n",
      "   133                                                   # the prison for black begins 5 channels later\n",
      "   134         5         19.0      3.8      4.1          planes_pos[channel + 5, :, :] = board.pockets[chess.BLACK].count(p_type)\n",
      "   135                                           \n",
      "   136                                               # (III) Fill in the promoted pieces\n",
      "   137                                               # iterate over all promoted pieces according to the mask and set the according bit\n",
      "   138         1          1.0      1.0      0.2      channel = CHANNEL_MAPPING_POS[\"promo\"]\n",
      "   139         1          4.0      4.0      0.9      for pos in chess.SquareSet(board.promoted):\n",
      "   140                                                   row, col = get_row_col(pos)\n",
      "   141                                           \n",
      "   142                                                   if board.piece_at(pos).color == chess.WHITE:\n",
      "   143                                                       planes_pos[channel, row, col] = 1\n",
      "   144                                                   else:\n",
      "   145                                                       planes_pos[channel + 1, row, col] = 1\n",
      "   146                                           \n",
      "   147                                               # (III.2) En Passant Square\n",
      "   148                                               # mark the square where an en-passant capture is possible\n",
      "   149         1          1.0      1.0      0.2      channel = CHANNEL_MAPPING_POS[\"ep_square\"]\n",
      "   150         1          1.0      1.0      0.2      if board.ep_square is not None:\n",
      "   151                                                   row, col = get_row_col(board.ep_square)\n",
      "   152                                                   planes_pos[channel, row, col] = 1\n",
      "   153                                           \n",
      "   154                                               # (IV) Constant Value Inputs\n",
      "   155                                               # (IV.1) Color\n",
      "   156         1          1.0      1.0      0.2      if board_turn == chess.WHITE:\n",
      "   157         1          2.0      2.0      0.4          planes_const[CHANNEL_MAPPING_CONST[\"color\"], :, :] = 1\n",
      "   158                                               # otherwise the mat will remain zero\n",
      "   159                                           \n",
      "   160                                               # (IV.2) Total Move Count\n",
      "   161         1          3.0      3.0      0.6      planes_const[CHANNEL_MAPPING_CONST[\"total_mv_cnt\"], :, :] = board.fullmove_number\n",
      "   162                                               # alternatively, you could use the half-moves-counter: len(board.move_stack)\n",
      "   163                                           \n",
      "   164                                               # (IV.3) Castling Rights\n",
      "   165         1          1.0      1.0      0.2      channel = CHANNEL_MAPPING_CONST[\"castling\"]\n",
      "   166                                           \n",
      "   167                                               # WHITE\n",
      "   168                                               # check for King Side Castling\n",
      "   169         1          3.0      3.0      0.6      if bool(board.castling_rights & chess.BB_H1) is True:\n",
      "   170                                                   # White can castle with the h1 rook\n",
      "   171         1          2.0      2.0      0.4          planes_const[channel, :, :] = 1\n",
      "   172                                               # check for Queen Side Castling\n",
      "   173         1          2.0      2.0      0.4      if bool(board.castling_rights & chess.BB_A1) is True:\n",
      "   174         1          3.0      3.0      0.6          planes_const[channel + 1, :, :] = 1\n",
      "   175                                           \n",
      "   176                                               # BLACK\n",
      "   177                                               # check for King Side Castling\n",
      "   178         1          2.0      2.0      0.4      if bool(board.castling_rights & chess.BB_H8) is True:\n",
      "   179                                                   # White can castle with the h1 rook\n",
      "   180         1          2.0      2.0      0.4          planes_const[channel + 2, :, :] = 1\n",
      "   181                                               # check for Queen Side Castling\n",
      "   182         1          2.0      2.0      0.4      if bool(board.castling_rights & chess.BB_A8) is True:\n",
      "   183         1          3.0      3.0      0.6          planes_const[channel + 3, :, :] = 1\n",
      "   184                                           \n",
      "   185                                               # (IV.4) No Progress Count\n",
      "   186                                               # define a no 'progress' counter\n",
      "   187                                               # it gets incremented by 1 each move\n",
      "   188                                               # however, whenever a piece gets dropped, a piece is captured or a pawn is moved, it is reset to 0\n",
      "   189                                               # halfmove_clock is an official metric in fen notation\n",
      "   190                                               #  -> see: https://en.wikipedia.org/wiki/Forsyth%E2%80%93Edwards_Notation\n",
      "   191         1          1.0      1.0      0.2      no_progress_cnt = board.halfmove_clock\n",
      "   192                                           \n",
      "   193                                               # check how often the position has already occurred in the game\n",
      "   194         1          2.0      2.0      0.4      planes_const[CHANNEL_MAPPING_CONST[\"no_progress_cnt\"], :, :] = no_progress_cnt\n",
      "   195                                           \n",
      "   196                                               # (V) Merge the Matrix-Stack\n",
      "   197         1         15.0     15.0      3.2      planes = np.concatenate((planes_pos, planes_const), axis=0)\n",
      "   198                                           \n",
      "   199                                               # revert the board if the players turn was black\n",
      "   200                                               # ! DO NOT DELETE OR UNCOMMENT THIS BLOCK BECAUSE THE PARAMETER board IS CHANGED IN PLACE !\n",
      "   201         1          2.0      2.0      0.4      if board_turn == chess.BLACK:\n",
      "   202                                                   board = board.mirror()\n",
      "   203                                           \n",
      "   204         1          2.0      2.0      0.4      if normalize is True:\n",
      "   205         1         24.0     24.0      5.2          planes *= MATRIX_NORMALIZER\n",
      "   206                                                   # planes = normalize_input_planes(planes)\n",
      "   207                                           \n",
      "   208                                               # return the plane representation of the given board\n",
      "   209         1          1.0      1.0      0.2      return planes\n",
      "\n"
     ]
    }
   ],
   "source": [
    "%load_ext line_profiler\n",
    "r = %lprun -r -f board_to_planes board_to_planes(board)\n",
    "r.print_stats()"
   ]
  },
  {
   "cell_type": "code",
   "execution_count": null,
   "metadata": {
    "collapsed": true
   },
   "outputs": [],
   "source": []
  }
 ],
 "metadata": {
  "kernelspec": {
   "display_name": "Python 3",
   "language": "python",
   "name": "python3"
  },
  "language_info": {
   "codemirror_mode": {
    "name": "ipython",
    "version": 3
   },
   "file_extension": ".py",
   "mimetype": "text/x-python",
   "name": "python",
   "nbconvert_exporter": "python",
   "pygments_lexer": "ipython3",
   "version": "3.6.2"
  }
 },
 "nbformat": 4,
 "nbformat_minor": 2
}

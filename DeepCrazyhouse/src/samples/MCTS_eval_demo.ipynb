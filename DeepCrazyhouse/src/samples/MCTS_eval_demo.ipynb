{
 "cells": [
  {
   "cell_type": "markdown",
   "metadata": {},
   "source": [
    "### Demonstration of an evaluation based on the MCTSAgent"
   ]
  },
  {
   "cell_type": "code",
   "execution_count": 1,
   "metadata": {
    "collapsed": true
   },
   "outputs": [],
   "source": [
    "%load_ext autoreload\n",
    "%autoreload 2"
   ]
  },
  {
   "cell_type": "code",
   "execution_count": 2,
   "metadata": {
    "collapsed": true
   },
   "outputs": [],
   "source": [
    "%reload_ext autoreload"
   ]
  },
  {
   "cell_type": "code",
   "execution_count": 3,
   "metadata": {
    "collapsed": true
   },
   "outputs": [],
   "source": [
    "import chess\n",
    "import chess.variant\n",
    "import matplotlib.pyplot as plt\n",
    "import numpy as np\n",
    "import sys\n",
    "sys.path.insert(0,'../../../')\n",
    "from DeepCrazyhouse.src.runtime.ColorLogger import enable_color_logging\n",
    "from DeepCrazyhouse.src.domain.agent.NeuralNetAPI import NeuralNetAPI\n",
    "from DeepCrazyhouse.src.domain.agent.player.MCTSAgent import MCTSAgent\n",
    "from DeepCrazyhouse.src.domain.agent.player.RawNetAgent import RawNetAgent\n",
    "from DeepCrazyhouse.src.domain.crazyhouse.GameState import GameState\n",
    "from DeepCrazyhouse.src.runtime.ColorLogger import enable_color_logging\n",
    "from time import time\n",
    "%matplotlib inline\n",
    "plt.style.use('seaborn-whitegrid')\n",
    "enable_color_logging()"
   ]
  },
  {
   "cell_type": "code",
   "execution_count": 4,
   "metadata": {
    "collapsed": true
   },
   "outputs": [],
   "source": [
    "batch_size = 16 #1 #8"
   ]
  },
  {
   "cell_type": "code",
   "execution_count": 5,
   "metadata": {},
   "outputs": [
    {
     "name": "stdout",
     "output_type": "stream",
     "text": [
      "self.symbol_path: /media/queensgambit/5C483A84483A5CC8/Deep_Learning/data/stockfish/Crazyhouse/model/symbol/model-1.32689-0.566-symbol.json\n",
      "self.params_path: /media/queensgambit/5C483A84483A5CC8/Deep_Learning/data/stockfish/Crazyhouse/model/params/model-1.32689-0.566-0011.params\n",
      "self.symbol_path: /media/queensgambit/5C483A84483A5CC8/Deep_Learning/data/stockfish/Crazyhouse/model/symbol/model-1.32689-0.566-symbol.json\n",
      "self.params_path: /media/queensgambit/5C483A84483A5CC8/Deep_Learning/data/stockfish/Crazyhouse/model/params/model-1.32689-0.566-0011.params\n"
     ]
    }
   ],
   "source": [
    "nets = []\n",
    "for idx in range(2):\n",
    "    nets.append(NeuralNetAPI(ctx='gpu', batch_size=batch_size))"
   ]
  },
  {
   "cell_type": "code",
   "execution_count": 6,
   "metadata": {
    "collapsed": true
   },
   "outputs": [],
   "source": [
    "raw_agent = RawNetAgent(nets[0])"
   ]
  },
  {
   "cell_type": "code",
   "execution_count": 7,
   "metadata": {
    "collapsed": true
   },
   "outputs": [],
   "source": [
    "mcts_agent = MCTSAgent(nets, threads=16, playouts_empty_pockets=4096*5, playouts_filled_pockets=4096*5,\n",
    "                 cpuct=2.5, dirichlet_epsilon=.25, dirichlet_alpha=0.2, batch_size=batch_size, q_value_weight=0.7,\n",
    "                 max_search_depth=40, temperature=0., virtual_loss=3, verbose=True,\n",
    "                 min_movetime=30000*1, check_mate_in_one=False, use_oscillating_cpuct=False, use_pruning=True)"
   ]
  },
  {
   "cell_type": "code",
   "execution_count": 8,
   "metadata": {},
   "outputs": [
    {
     "data": {
      "image/svg+xml": [
       "<svg height=\"400\" version=\"1.1\" viewBox=\"0 0 400 400\" width=\"400\" xmlns=\"http://www.w3.org/2000/svg\" xmlns:xlink=\"http://www.w3.org/1999/xlink\"><defs><g class=\"white pawn\" id=\"white-pawn\"><path d=\"M22 9c-2.21 0-4 1.79-4 4 0 .89.29 1.71.78 2.38-1.95 1.12-3.28 3.21-3.28 5.62 0 2.03.94 3.84 2.41 5.03-3 1.06-7.41 5.55-7.41 13.47h23c0-7.92-4.41-12.41-7.41-13.47 1.47-1.19 2.41-3 2.41-5.03 0-2.41-1.33-4.5-3.28-5.62.49-.67.78-1.49.78-2.38 0-2.21-1.79-4-4-4z\" fill=\"#fff\" stroke=\"#000\" stroke-linecap=\"round\" stroke-width=\"1.5\" /></g><g class=\"white knight\" fill=\"none\" fill-rule=\"evenodd\" id=\"white-knight\" stroke=\"#000\" stroke-linecap=\"round\" stroke-linejoin=\"round\" stroke-width=\"1.5\"><path d=\"M 22,10 C 32.5,11 38.5,18 38,39 L 15,39 C 15,30 25,32.5 23,18\" style=\"fill:#ffffff; stroke:#000000;\" /><path d=\"M 24,18 C 24.38,20.91 18.45,25.37 16,27 C 13,29 13.18,31.34 11,31 C 9.958,30.06 12.41,27.96 11,28 C 10,28 11.19,29.23 10,30 C 9,30 5.997,31 6,26 C 6,24 12,14 12,14 C 12,14 13.89,12.1 14,10.5 C 13.27,9.506 13.5,8.5 13.5,7.5 C 14.5,6.5 16.5,10 16.5,10 L 18.5,10 C 18.5,10 19.28,8.008 21,7 C 22,7 22,10 22,10\" style=\"fill:#ffffff; stroke:#000000;\" /><path d=\"M 9.5 25.5 A 0.5 0.5 0 1 1 8.5,25.5 A 0.5 0.5 0 1 1 9.5 25.5 z\" style=\"fill:#000000; stroke:#000000;\" /><path d=\"M 15 15.5 A 0.5 1.5 0 1 1 14,15.5 A 0.5 1.5 0 1 1 15 15.5 z\" style=\"fill:#000000; stroke:#000000;\" transform=\"matrix(0.866,0.5,-0.5,0.866,9.693,-5.173)\" /></g><g class=\"white bishop\" fill=\"none\" fill-rule=\"evenodd\" id=\"white-bishop\" stroke=\"#000\" stroke-linecap=\"round\" stroke-linejoin=\"round\" stroke-width=\"1.5\"><g fill=\"#fff\" stroke-linecap=\"butt\"><path d=\"M9 36c3.39-.97 10.11.43 13.5-2 3.39 2.43 10.11 1.03 13.5 2 0 0 1.65.54 3 2-.68.97-1.65.99-3 .5-3.39-.97-10.11.46-13.5-1-3.39 1.46-10.11.03-13.5 1-1.354.49-2.323.47-3-.5 1.354-1.94 3-2 3-2zM15 32c2.5 2.5 12.5 2.5 15 0 .5-1.5 0-2 0-2 0-2.5-2.5-4-2.5-4 5.5-1.5 6-11.5-5-15.5-11 4-10.5 14-5 15.5 0 0-2.5 1.5-2.5 4 0 0-.5.5 0 2zM25 8a2.5 2.5 0 1 1-5 0 2.5 2.5 0 1 1 5 0z\" /></g><path d=\"M17.5 26h10M15 30h15m-7.5-14.5v5M20 18h5\" stroke-linejoin=\"miter\" /></g><g class=\"white rook\" fill=\"#fff\" fill-rule=\"evenodd\" id=\"white-rook\" stroke=\"#000\" stroke-linecap=\"round\" stroke-linejoin=\"round\" stroke-width=\"1.5\"><path d=\"M9 39h27v-3H9v3zM12 36v-4h21v4H12zM11 14V9h4v2h5V9h5v2h5V9h4v5\" stroke-linecap=\"butt\" /><path d=\"M34 14l-3 3H14l-3-3\" /><path d=\"M31 17v12.5H14V17\" stroke-linecap=\"butt\" stroke-linejoin=\"miter\" /><path d=\"M31 29.5l1.5 2.5h-20l1.5-2.5\" /><path d=\"M11 14h23\" fill=\"none\" stroke-linejoin=\"miter\" /></g><g class=\"white queen\" fill=\"#fff\" fill-rule=\"evenodd\" id=\"white-queen\" stroke=\"#000\" stroke-linecap=\"round\" stroke-linejoin=\"round\" stroke-width=\"1.5\"><path d=\"M8 12a2 2 0 1 1-4 0 2 2 0 1 1 4 0zM24.5 7.5a2 2 0 1 1-4 0 2 2 0 1 1 4 0zM41 12a2 2 0 1 1-4 0 2 2 0 1 1 4 0zM16 8.5a2 2 0 1 1-4 0 2 2 0 1 1 4 0zM33 9a2 2 0 1 1-4 0 2 2 0 1 1 4 0z\" /><path d=\"M9 26c8.5-1.5 21-1.5 27 0l2-12-7 11V11l-5.5 13.5-3-15-3 15-5.5-14V25L7 14l2 12zM9 26c0 2 1.5 2 2.5 4 1 1.5 1 1 .5 3.5-1.5 1-1.5 2.5-1.5 2.5-1.5 1.5.5 2.5.5 2.5 6.5 1 16.5 1 23 0 0 0 1.5-1 0-2.5 0 0 .5-1.5-1-2.5-.5-2.5-.5-2 .5-3.5 1-2 2.5-2 2.5-4-8.5-1.5-18.5-1.5-27 0z\" stroke-linecap=\"butt\" /><path d=\"M11.5 30c3.5-1 18.5-1 22 0M12 33.5c6-1 15-1 21 0\" fill=\"none\" /></g><g class=\"white king\" fill=\"none\" fill-rule=\"evenodd\" id=\"white-king\" stroke=\"#000\" stroke-linecap=\"round\" stroke-linejoin=\"round\" stroke-width=\"1.5\"><path d=\"M22.5 11.63V6M20 8h5\" stroke-linejoin=\"miter\" /><path d=\"M22.5 25s4.5-7.5 3-10.5c0 0-1-2.5-3-2.5s-3 2.5-3 2.5c-1.5 3 3 10.5 3 10.5\" fill=\"#fff\" stroke-linecap=\"butt\" stroke-linejoin=\"miter\" /><path d=\"M11.5 37c5.5 3.5 15.5 3.5 21 0v-7s9-4.5 6-10.5c-4-6.5-13.5-3.5-16 4V27v-3.5c-3.5-7.5-13-10.5-16-4-3 6 5 10 5 10V37z\" fill=\"#fff\" /><path d=\"M11.5 30c5.5-3 15.5-3 21 0m-21 3.5c5.5-3 15.5-3 21 0m-21 3.5c5.5-3 15.5-3 21 0\" /></g><g class=\"black pawn\" id=\"black-pawn\"><path d=\"M22 9c-2.21 0-4 1.79-4 4 0 .89.29 1.71.78 2.38-1.95 1.12-3.28 3.21-3.28 5.62 0 2.03.94 3.84 2.41 5.03-3 1.06-7.41 5.55-7.41 13.47h23c0-7.92-4.41-12.41-7.41-13.47 1.47-1.19 2.41-3 2.41-5.03 0-2.41-1.33-4.5-3.28-5.62.49-.67.78-1.49.78-2.38 0-2.21-1.79-4-4-4z\" stroke=\"#000\" stroke-linecap=\"round\" stroke-width=\"1.5\" /></g><g class=\"black knight\" fill=\"none\" fill-rule=\"evenodd\" id=\"black-knight\" stroke=\"#000\" stroke-linecap=\"round\" stroke-linejoin=\"round\" stroke-width=\"1.5\"><path d=\"M 22,10 C 32.5,11 38.5,18 38,39 L 15,39 C 15,30 25,32.5 23,18\" style=\"fill:#000000; stroke:#000000;\" /><path d=\"M 24,18 C 24.38,20.91 18.45,25.37 16,27 C 13,29 13.18,31.34 11,31 C 9.958,30.06 12.41,27.96 11,28 C 10,28 11.19,29.23 10,30 C 9,30 5.997,31 6,26 C 6,24 12,14 12,14 C 12,14 13.89,12.1 14,10.5 C 13.27,9.506 13.5,8.5 13.5,7.5 C 14.5,6.5 16.5,10 16.5,10 L 18.5,10 C 18.5,10 19.28,8.008 21,7 C 22,7 22,10 22,10\" style=\"fill:#000000; stroke:#000000;\" /><path d=\"M 9.5 25.5 A 0.5 0.5 0 1 1 8.5,25.5 A 0.5 0.5 0 1 1 9.5 25.5 z\" style=\"fill:#ececec; stroke:#ececec;\" /><path d=\"M 15 15.5 A 0.5 1.5 0 1 1 14,15.5 A 0.5 1.5 0 1 1 15 15.5 z\" style=\"fill:#ececec; stroke:#ececec;\" transform=\"matrix(0.866,0.5,-0.5,0.866,9.693,-5.173)\" /><path d=\"M 24.55,10.4 L 24.1,11.85 L 24.6,12 C 27.75,13 30.25,14.49 32.5,18.75 C 34.75,23.01 35.75,29.06 35.25,39 L 35.2,39.5 L 37.45,39.5 L 37.5,39 C 38,28.94 36.62,22.15 34.25,17.66 C 31.88,13.17 28.46,11.02 25.06,10.5 L 24.55,10.4 z \" style=\"fill:#ececec; stroke:none;\" /></g><g class=\"black bishop\" fill=\"none\" fill-rule=\"evenodd\" id=\"black-bishop\" stroke=\"#000\" stroke-linecap=\"round\" stroke-linejoin=\"round\" stroke-width=\"1.5\"><path d=\"M9 36c3.39-.97 10.11.43 13.5-2 3.39 2.43 10.11 1.03 13.5 2 0 0 1.65.54 3 2-.68.97-1.65.99-3 .5-3.39-.97-10.11.46-13.5-1-3.39 1.46-10.11.03-13.5 1-1.354.49-2.323.47-3-.5 1.354-1.94 3-2 3-2zm6-4c2.5 2.5 12.5 2.5 15 0 .5-1.5 0-2 0-2 0-2.5-2.5-4-2.5-4 5.5-1.5 6-11.5-5-15.5-11 4-10.5 14-5 15.5 0 0-2.5 1.5-2.5 4 0 0-.5.5 0 2zM25 8a2.5 2.5 0 1 1-5 0 2.5 2.5 0 1 1 5 0z\" fill=\"#000\" stroke-linecap=\"butt\" /><path d=\"M17.5 26h10M15 30h15m-7.5-14.5v5M20 18h5\" stroke=\"#fff\" stroke-linejoin=\"miter\" /></g><g class=\"black rook\" fill=\"#000\" fill-rule=\"evenodd\" id=\"black-rook\" stroke=\"#000\" stroke-linecap=\"round\" stroke-linejoin=\"round\" stroke-width=\"1.5\"><path d=\"M9 39h27v-3H9v3zM12.5 32l1.5-2.5h17l1.5 2.5h-20zM12 36v-4h21v4H12z\" stroke-linecap=\"butt\" /><path d=\"M14 29.5v-13h17v13H14z\" stroke-linecap=\"butt\" stroke-linejoin=\"miter\" /><path d=\"M14 16.5L11 14h23l-3 2.5H14zM11 14V9h4v2h5V9h5v2h5V9h4v5H11z\" stroke-linecap=\"butt\" /><path d=\"M12 35.5h21M13 31.5h19M14 29.5h17M14 16.5h17M11 14h23\" fill=\"none\" stroke=\"#fff\" stroke-linejoin=\"miter\" stroke-width=\"1\" /></g><g class=\"black queen\" fill=\"#000\" fill-rule=\"evenodd\" id=\"black-queen\" stroke=\"#000\" stroke-linecap=\"round\" stroke-linejoin=\"round\" stroke-width=\"1.5\"><g fill=\"#000\" stroke=\"none\"><circle cx=\"6\" cy=\"12\" r=\"2.75\" /><circle cx=\"14\" cy=\"9\" r=\"2.75\" /><circle cx=\"22.5\" cy=\"8\" r=\"2.75\" /><circle cx=\"31\" cy=\"9\" r=\"2.75\" /><circle cx=\"39\" cy=\"12\" r=\"2.75\" /></g><path d=\"M9 26c8.5-1.5 21-1.5 27 0l2.5-12.5L31 25l-.3-14.1-5.2 13.6-3-14.5-3 14.5-5.2-13.6L14 25 6.5 13.5 9 26zM9 26c0 2 1.5 2 2.5 4 1 1.5 1 1 .5 3.5-1.5 1-1.5 2.5-1.5 2.5-1.5 1.5.5 2.5.5 2.5 6.5 1 16.5 1 23 0 0 0 1.5-1 0-2.5 0 0 .5-1.5-1-2.5-.5-2.5-.5-2 .5-3.5 1-2 2.5-2 2.5-4-8.5-1.5-18.5-1.5-27 0z\" stroke-linecap=\"butt\" /><path d=\"M11 38.5a35 35 1 0 0 23 0\" fill=\"none\" stroke-linecap=\"butt\" /><path d=\"M11 29a35 35 1 0 1 23 0M12.5 31.5h20M11.5 34.5a35 35 1 0 0 22 0M10.5 37.5a35 35 1 0 0 24 0\" fill=\"none\" stroke=\"#fff\" /></g><g class=\"black king\" fill=\"none\" fill-rule=\"evenodd\" id=\"black-king\" stroke=\"#000\" stroke-linecap=\"round\" stroke-linejoin=\"round\" stroke-width=\"1.5\"><path d=\"M22.5 11.63V6\" stroke-linejoin=\"miter\" /><path d=\"M22.5 25s4.5-7.5 3-10.5c0 0-1-2.5-3-2.5s-3 2.5-3 2.5c-1.5 3 3 10.5 3 10.5\" fill=\"#000\" stroke-linecap=\"butt\" stroke-linejoin=\"miter\" /><path d=\"M11.5 37c5.5 3.5 15.5 3.5 21 0v-7s9-4.5 6-10.5c-4-6.5-13.5-3.5-16 4V27v-3.5c-3.5-7.5-13-10.5-16-4-3 6 5 10 5 10V37z\" fill=\"#000\" /><path d=\"M20 8h5\" stroke-linejoin=\"miter\" /><path d=\"M32 29.5s8.5-4 6.03-9.65C34.15 14 25 18 22.5 24.5l.01 2.1-.01-2.1C20 18 9.906 14 6.997 19.85c-2.497 5.65 4.853 9 4.853 9M11.5 30c5.5-3 15.5-3 21 0m-21 3.5c5.5-3 15.5-3 21 0m-21 3.5c5.5-3 15.5-3 21 0\" stroke=\"#fff\" /></g></defs><rect class=\"square dark a1\" fill=\"#d18b47\" height=\"45\" stroke=\"none\" width=\"45\" x=\"20\" y=\"335\" /><use transform=\"translate(20, 335)\" xlink:href=\"#white-rook\" /><rect class=\"square light b1\" fill=\"#ffce9e\" height=\"45\" stroke=\"none\" width=\"45\" x=\"65\" y=\"335\" /><rect class=\"square dark c1\" fill=\"#d18b47\" height=\"45\" stroke=\"none\" width=\"45\" x=\"110\" y=\"335\" /><use transform=\"translate(110, 335)\" xlink:href=\"#white-bishop\" /><rect class=\"square light d1\" fill=\"#ffce9e\" height=\"45\" stroke=\"none\" width=\"45\" x=\"155\" y=\"335\" /><rect class=\"square dark e1\" fill=\"#d18b47\" height=\"45\" stroke=\"none\" width=\"45\" x=\"200\" y=\"335\" /><rect class=\"square light f1\" fill=\"#ffce9e\" height=\"45\" stroke=\"none\" width=\"45\" x=\"245\" y=\"335\" /><use transform=\"translate(245, 335)\" xlink:href=\"#white-rook\" /><rect class=\"square dark g1\" fill=\"#d18b47\" height=\"45\" stroke=\"none\" width=\"45\" x=\"290\" y=\"335\" /><use transform=\"translate(290, 335)\" xlink:href=\"#white-king\" /><rect class=\"square light h1\" fill=\"#ffce9e\" height=\"45\" stroke=\"none\" width=\"45\" x=\"335\" y=\"335\" /><rect class=\"square light a2\" fill=\"#ffce9e\" height=\"45\" stroke=\"none\" width=\"45\" x=\"20\" y=\"290\" /><use transform=\"translate(20, 290)\" xlink:href=\"#white-pawn\" /><rect class=\"square dark b2\" fill=\"#d18b47\" height=\"45\" stroke=\"none\" width=\"45\" x=\"65\" y=\"290\" /><use transform=\"translate(65, 290)\" xlink:href=\"#white-pawn\" /><rect class=\"square light c2\" fill=\"#ffce9e\" height=\"45\" stroke=\"none\" width=\"45\" x=\"110\" y=\"290\" /><use transform=\"translate(110, 290)\" xlink:href=\"#white-pawn\" /><rect class=\"square dark d2\" fill=\"#d18b47\" height=\"45\" stroke=\"none\" width=\"45\" x=\"155\" y=\"290\" /><rect class=\"square light e2\" fill=\"#ffce9e\" height=\"45\" stroke=\"none\" width=\"45\" x=\"200\" y=\"290\" /><rect class=\"square dark f2\" fill=\"#d18b47\" height=\"45\" stroke=\"none\" width=\"45\" x=\"245\" y=\"290\" /><use transform=\"translate(245, 290)\" xlink:href=\"#white-queen\" /><rect class=\"square light g2\" fill=\"#ffce9e\" height=\"45\" stroke=\"none\" width=\"45\" x=\"290\" y=\"290\" /><use transform=\"translate(290, 290)\" xlink:href=\"#white-pawn\" /><rect class=\"square dark h2\" fill=\"#d18b47\" height=\"45\" stroke=\"none\" width=\"45\" x=\"335\" y=\"290\" /><use transform=\"translate(335, 290)\" xlink:href=\"#white-pawn\" /><rect class=\"square dark a3\" fill=\"#d18b47\" height=\"45\" stroke=\"none\" width=\"45\" x=\"20\" y=\"245\" /><rect class=\"square light b3\" fill=\"#ffce9e\" height=\"45\" stroke=\"none\" width=\"45\" x=\"65\" y=\"245\" /><rect class=\"square dark c3\" fill=\"#d18b47\" height=\"45\" stroke=\"none\" width=\"45\" x=\"110\" y=\"245\" /><rect class=\"square light d3\" fill=\"#ffce9e\" height=\"45\" stroke=\"none\" width=\"45\" x=\"155\" y=\"245\" /><use transform=\"translate(155, 245)\" xlink:href=\"#white-pawn\" /><rect class=\"square dark e3\" fill=\"#d18b47\" height=\"45\" stroke=\"none\" width=\"45\" x=\"200\" y=\"245\" /><use transform=\"translate(200, 245)\" xlink:href=\"#white-pawn\" /><rect class=\"square light f3\" fill=\"#ffce9e\" height=\"45\" stroke=\"none\" width=\"45\" x=\"245\" y=\"245\" /><use transform=\"translate(245, 245)\" xlink:href=\"#white-pawn\" /><rect class=\"square dark g3\" fill=\"#d18b47\" height=\"45\" stroke=\"none\" width=\"45\" x=\"290\" y=\"245\" /><rect class=\"square light h3\" fill=\"#ffce9e\" height=\"45\" stroke=\"none\" width=\"45\" x=\"335\" y=\"245\" /><rect class=\"square light a4\" fill=\"#ffce9e\" height=\"45\" stroke=\"none\" width=\"45\" x=\"20\" y=\"200\" /><rect class=\"square dark b4\" fill=\"#d18b47\" height=\"45\" stroke=\"none\" width=\"45\" x=\"65\" y=\"200\" /><rect class=\"square light c4\" fill=\"#ffce9e\" height=\"45\" stroke=\"none\" width=\"45\" x=\"110\" y=\"200\" /><use transform=\"translate(110, 200)\" xlink:href=\"#white-bishop\" /><rect class=\"square dark d4\" fill=\"#d18b47\" height=\"45\" stroke=\"none\" width=\"45\" x=\"155\" y=\"200\" /><rect class=\"square light e4\" fill=\"#ffce9e\" height=\"45\" stroke=\"none\" width=\"45\" x=\"200\" y=\"200\" /><rect class=\"square dark f4\" fill=\"#d18b47\" height=\"45\" stroke=\"none\" width=\"45\" x=\"245\" y=\"200\" /><rect class=\"square light g4\" fill=\"#ffce9e\" height=\"45\" stroke=\"none\" width=\"45\" x=\"290\" y=\"200\" /><rect class=\"square dark h4\" fill=\"#d18b47\" height=\"45\" stroke=\"none\" width=\"45\" x=\"335\" y=\"200\" /><use transform=\"translate(335, 200)\" xlink:href=\"#black-knight\" /><rect class=\"square dark a5\" fill=\"#d18b47\" height=\"45\" stroke=\"none\" width=\"45\" x=\"20\" y=\"155\" /><rect class=\"square light b5\" fill=\"#ffce9e\" height=\"45\" stroke=\"none\" width=\"45\" x=\"65\" y=\"155\" /><use transform=\"translate(65, 155)\" xlink:href=\"#white-knight\" /><rect class=\"square dark c5\" fill=\"#d18b47\" height=\"45\" stroke=\"none\" width=\"45\" x=\"110\" y=\"155\" /><rect class=\"square light d5\" fill=\"#ffce9e\" height=\"45\" stroke=\"none\" width=\"45\" x=\"155\" y=\"155\" /><use transform=\"translate(155, 155)\" xlink:href=\"#white-pawn\" /><rect class=\"square dark e5\" fill=\"#d18b47\" height=\"45\" stroke=\"none\" width=\"45\" x=\"200\" y=\"155\" /><use transform=\"translate(200, 155)\" xlink:href=\"#black-pawn\" /><rect class=\"square light f5\" fill=\"#ffce9e\" height=\"45\" stroke=\"none\" width=\"45\" x=\"245\" y=\"155\" /><use transform=\"translate(245, 155)\" xlink:href=\"#black-knight\" /><rect class=\"square dark g5\" fill=\"#d18b47\" height=\"45\" stroke=\"none\" width=\"45\" x=\"290\" y=\"155\" /><rect class=\"square light h5\" fill=\"#ffce9e\" height=\"45\" stroke=\"none\" width=\"45\" x=\"335\" y=\"155\" /><use transform=\"translate(335, 155)\" xlink:href=\"#black-knight\" /><rect class=\"square light a6\" fill=\"#ffce9e\" height=\"45\" stroke=\"none\" width=\"45\" x=\"20\" y=\"110\" /><rect class=\"square dark b6\" fill=\"#d18b47\" height=\"45\" stroke=\"none\" width=\"45\" x=\"65\" y=\"110\" /><rect class=\"square light c6\" fill=\"#ffce9e\" height=\"45\" stroke=\"none\" width=\"45\" x=\"110\" y=\"110\" /><rect class=\"square dark d6\" fill=\"#d18b47\" height=\"45\" stroke=\"none\" width=\"45\" x=\"155\" y=\"110\" /><use transform=\"translate(155, 110)\" xlink:href=\"#black-bishop\" /><rect class=\"square light e6\" fill=\"#ffce9e\" height=\"45\" stroke=\"none\" width=\"45\" x=\"200\" y=\"110\" /><use transform=\"translate(200, 110)\" xlink:href=\"#white-pawn\" /><rect class=\"square dark f6\" fill=\"#d18b47\" height=\"45\" stroke=\"none\" width=\"45\" x=\"245\" y=\"110\" /><use transform=\"translate(245, 110)\" xlink:href=\"#black-queen\" /><rect class=\"square light g6\" fill=\"#ffce9e\" height=\"45\" stroke=\"none\" width=\"45\" x=\"290\" y=\"110\" /><rect class=\"square dark h6\" fill=\"#d18b47\" height=\"45\" stroke=\"none\" width=\"45\" x=\"335\" y=\"110\" /><rect class=\"square dark a7\" fill=\"#d18b47\" height=\"45\" stroke=\"none\" width=\"45\" x=\"20\" y=\"65\" /><use transform=\"translate(20, 65)\" xlink:href=\"#black-pawn\" /><rect class=\"square light b7\" fill=\"#ffce9e\" height=\"45\" stroke=\"none\" width=\"45\" x=\"65\" y=\"65\" /><use transform=\"translate(65, 65)\" xlink:href=\"#black-pawn\" /><rect class=\"square dark c7\" fill=\"#d18b47\" height=\"45\" stroke=\"none\" width=\"45\" x=\"110\" y=\"65\" /><use transform=\"translate(110, 65)\" xlink:href=\"#black-pawn\" /><rect class=\"square light d7\" fill=\"#ffce9e\" height=\"45\" stroke=\"none\" width=\"45\" x=\"155\" y=\"65\" /><rect class=\"square dark e7\" fill=\"#d18b47\" height=\"45\" stroke=\"none\" width=\"45\" x=\"200\" y=\"65\" /><rect class=\"square light f7\" fill=\"#ffce9e\" height=\"45\" stroke=\"none\" width=\"45\" x=\"245\" y=\"65\" /><rect class=\"square dark g7\" fill=\"#d18b47\" height=\"45\" stroke=\"none\" width=\"45\" x=\"290\" y=\"65\" /><use transform=\"translate(290, 65)\" xlink:href=\"#black-pawn\" /><rect class=\"square light h7\" fill=\"#ffce9e\" height=\"45\" stroke=\"none\" width=\"45\" x=\"335\" y=\"65\" /><use transform=\"translate(335, 65)\" xlink:href=\"#black-pawn\" /><rect class=\"square light a8\" fill=\"#ffce9e\" height=\"45\" stroke=\"none\" width=\"45\" x=\"20\" y=\"20\" /><use transform=\"translate(20, 20)\" xlink:href=\"#black-rook\" /><rect class=\"square dark b8\" fill=\"#d18b47\" height=\"45\" stroke=\"none\" width=\"45\" x=\"65\" y=\"20\" /><rect class=\"square light c8\" fill=\"#ffce9e\" height=\"45\" stroke=\"none\" width=\"45\" x=\"110\" y=\"20\" /><use transform=\"translate(110, 20)\" xlink:href=\"#black-bishop\" /><rect class=\"square dark d8\" fill=\"#d18b47\" height=\"45\" stroke=\"none\" width=\"45\" x=\"155\" y=\"20\" /><rect class=\"square light e8\" fill=\"#ffce9e\" height=\"45\" stroke=\"none\" width=\"45\" x=\"200\" y=\"20\" /><use transform=\"translate(200, 20)\" xlink:href=\"#black-king\" /><rect class=\"square dark f8\" fill=\"#d18b47\" height=\"45\" stroke=\"none\" width=\"45\" x=\"245\" y=\"20\" /><use transform=\"translate(245, 20)\" xlink:href=\"#black-rook\" /><rect class=\"square light g8\" fill=\"#ffce9e\" height=\"45\" stroke=\"none\" width=\"45\" x=\"290\" y=\"20\" /><rect class=\"square dark h8\" fill=\"#d18b47\" height=\"45\" stroke=\"none\" width=\"45\" x=\"335\" y=\"20\" /><text alignment-baseline=\"middle\" font-size=\"14\" text-anchor=\"middle\" x=\"42\" y=\"10\">a</text><text alignment-baseline=\"middle\" font-size=\"14\" text-anchor=\"middle\" x=\"42\" y=\"390\">a</text><text alignment-baseline=\"middle\" font-size=\"14\" text-anchor=\"middle\" x=\"87\" y=\"10\">b</text><text alignment-baseline=\"middle\" font-size=\"14\" text-anchor=\"middle\" x=\"87\" y=\"390\">b</text><text alignment-baseline=\"middle\" font-size=\"14\" text-anchor=\"middle\" x=\"132\" y=\"10\">c</text><text alignment-baseline=\"middle\" font-size=\"14\" text-anchor=\"middle\" x=\"132\" y=\"390\">c</text><text alignment-baseline=\"middle\" font-size=\"14\" text-anchor=\"middle\" x=\"177\" y=\"10\">d</text><text alignment-baseline=\"middle\" font-size=\"14\" text-anchor=\"middle\" x=\"177\" y=\"390\">d</text><text alignment-baseline=\"middle\" font-size=\"14\" text-anchor=\"middle\" x=\"222\" y=\"10\">e</text><text alignment-baseline=\"middle\" font-size=\"14\" text-anchor=\"middle\" x=\"222\" y=\"390\">e</text><text alignment-baseline=\"middle\" font-size=\"14\" text-anchor=\"middle\" x=\"267\" y=\"10\">f</text><text alignment-baseline=\"middle\" font-size=\"14\" text-anchor=\"middle\" x=\"267\" y=\"390\">f</text><text alignment-baseline=\"middle\" font-size=\"14\" text-anchor=\"middle\" x=\"312\" y=\"10\">g</text><text alignment-baseline=\"middle\" font-size=\"14\" text-anchor=\"middle\" x=\"312\" y=\"390\">g</text><text alignment-baseline=\"middle\" font-size=\"14\" text-anchor=\"middle\" x=\"357\" y=\"10\">h</text><text alignment-baseline=\"middle\" font-size=\"14\" text-anchor=\"middle\" x=\"357\" y=\"390\">h</text><text alignment-baseline=\"middle\" font-size=\"14\" text-anchor=\"middle\" x=\"10\" y=\"357\">1</text><text alignment-baseline=\"middle\" font-size=\"14\" text-anchor=\"middle\" x=\"390\" y=\"357\">1</text><text alignment-baseline=\"middle\" font-size=\"14\" text-anchor=\"middle\" x=\"10\" y=\"312\">2</text><text alignment-baseline=\"middle\" font-size=\"14\" text-anchor=\"middle\" x=\"390\" y=\"312\">2</text><text alignment-baseline=\"middle\" font-size=\"14\" text-anchor=\"middle\" x=\"10\" y=\"267\">3</text><text alignment-baseline=\"middle\" font-size=\"14\" text-anchor=\"middle\" x=\"390\" y=\"267\">3</text><text alignment-baseline=\"middle\" font-size=\"14\" text-anchor=\"middle\" x=\"10\" y=\"222\">4</text><text alignment-baseline=\"middle\" font-size=\"14\" text-anchor=\"middle\" x=\"390\" y=\"222\">4</text><text alignment-baseline=\"middle\" font-size=\"14\" text-anchor=\"middle\" x=\"10\" y=\"177\">5</text><text alignment-baseline=\"middle\" font-size=\"14\" text-anchor=\"middle\" x=\"390\" y=\"177\">5</text><text alignment-baseline=\"middle\" font-size=\"14\" text-anchor=\"middle\" x=\"10\" y=\"132\">6</text><text alignment-baseline=\"middle\" font-size=\"14\" text-anchor=\"middle\" x=\"390\" y=\"132\">6</text><text alignment-baseline=\"middle\" font-size=\"14\" text-anchor=\"middle\" x=\"10\" y=\"87\">7</text><text alignment-baseline=\"middle\" font-size=\"14\" text-anchor=\"middle\" x=\"390\" y=\"87\">7</text><text alignment-baseline=\"middle\" font-size=\"14\" text-anchor=\"middle\" x=\"10\" y=\"42\">8</text><text alignment-baseline=\"middle\" font-size=\"14\" text-anchor=\"middle\" x=\"390\" y=\"42\">8</text></svg>"
      ],
      "text/plain": [
       "CrazyhouseBoard('r1b1kr2/ppp3pp/3bPq2/1N1Ppn1n/2B4n/3PPP2/PPP2QPP/R1B2RK1[] b - - 9 15')"
      ]
     },
     "execution_count": 8,
     "metadata": {},
     "output_type": "execute_result"
    }
   ],
   "source": [
    "board = chess.variant.CrazyhouseBoard()\n",
    "\n",
    "#board.push_uci('e2e4')\n",
    "#board.push_uci('e7e6')\n",
    "\n",
    "fen = 'rnbqkb1r/ppp1pppp/5n2/3P4/8/8/PPPP1PPP/RNBQKBNR/P w KQkq - 1 3'\n",
    "fen = 'rnb2rk1/p3bppp/2p5/3p2P1/4n3/8/PPPPBPPP/RNB1K1NR/QPPq w KQ - 0 11'\n",
    "#fen = 'r1b1kbnr/ppp1pppp/2n5/3q4/3P4/8/PPP1NPPP/RNBQKB1R/Pp b KQkq - 1 4'\n",
    "#fen = 'r1b1k2r/ppp2ppp/2n5/3np3/3P4/2PBP3/PpPB1PPP/1Q2K1NR/QNrb b Kkq - 27 14'\n",
    "#fen = 'r1bb4/ppp2pkp/5npb/4p3/4P3/2N5/PPP1BPPP/3RK2R/QNRqpnp w K - 3 16'\n",
    "#fen = '3R1b2/1bP1kp2/3Npn1p/3p4/5p2/5N1b/PPP2P1P/5Q1K/RPRPRQPnpbp b - - 4 36'\n",
    "#fen = 'r3k1nr/ppp2ppp/2n5/8/q7/Pp6/1PnRN1PP/1K3B1R/BBQBppppp b kq - 3 27'\n",
    "#fen = 'rn2N2k/pp5p/3pp1pN/3p4/3q1P2/3P1p2/PP3PPP/RN3RK1/Qrbbpbb b - - 0 27'\n",
    "#fen = 'rn2N2k/pp5p/3pp1pN/3p4/3q1P2/3P1p2/PP3PPP/RN3RK1/Qrbbpbb b - - 0 30'\n",
    "#fen = 'rn2N2k/pp5p/3pp1pN/3p4/5P2/3P1p2/PP3RPP/RN4K1/QQprbbpbb b - - 1 30'\n",
    "\n",
    "# Test positions\n",
    "#fen = '3R1b2/1bP1kp2/3Npn1p/3p4/5p2/5N1b/PPP1QP1P/3R1RK1/QPpprnpbp b - - 0 29'\n",
    "fen = 'rn2N2k/pp5p/3pp1pN/3p4/3q1P2/3P1p2/PP3PPP/RN3RK1[Qrbbpbb] b - - 3 30'\n",
    "#fen = 'q6r/p2P1pkp/1p1b1n2/2p2B2/8/6n1/PPP2KPp/R4R2/PNNRPBPbqpp w - - 2 26'\n",
    "#fen ='2kr1b2/1bp2p1p/p3pP1p/1p5Q/5B2/3B1p2/PPP2PrP/R4R1K/QNpnnnp w - - 0 18'\n",
    "#fen = 'q6r/p2P1pkp/1p1b1n2/2p2B2/8/6n1/PPP2KPp/R4R2/PNNRPBPbqpp w - - 50 26'\n",
    "#fen = 'r4r1k/ppp1q1bp/4Ppp1/1P6/2NN3P/2BPPb2/P2PNPpR/R3K3/PBQn b Q - 2 34'\n",
    "#fen = 'r1bq1b1r/ppp1kPpp/4Pn2/n2Pp3/2B4n/3P4/PPP2PPP/RNBQK2R/ w KQ - 0 10'\n",
    "\n",
    "#fen = 'r4rk1/ppp2pbp/1nnp4/6P1/4Pp2/1P1P1N1P/2P2PPK/R2Q1R2/QNbbpb w - - 0 23'\n",
    "#fen = 'r4rk1/ppp2pPp/1nn3nP/4b3/5p1B/1P1P3P/2P2PPK/R2Q1R2/Qbpnpb w - - 2 37'\n",
    "#fen = 'r4rk1/ppp2pPp/1nn2bnP/4b3/6Q1/1P1P1pBP/2P2PPK/R4R2/Qpnpb w - - 2 39'\n",
    "#fen = 'B2q1r1k/p3pp2/6pb/3pB2p/3N4/B2NP1pn/P1PP2P1/R2Q3K/PPrnprp b - - 0 28'\n",
    "#fen = 'r1bq3r/p1ppbkpp/2p2n2/8/4P3/8/PPP2PPP/RNBQK2R/NPPnbp w KQ - 2 8'\n",
    "#fen = 'r1bqk2r/1pp1nppp/1p3p2/3p4/3P3n/1B6/PP2BPPP/RNBQ1KNR/Pp b kq - 0 14'\n",
    "#fen = '3qk2r/1pp1nppp/1p3p2/3p4/3P3n/1B5P/RP2BPpP/1NBQ2KR/RBPPn b k - 2 18'\n",
    "#fen = 'r2q2kb/ppp4p/1nn1P1p1/4p1N1/2Pb4/1P1P2NP/2PB1rP1/Q4RK1/RPppb w - - 0 27'\n",
    "#fen = 'r1bqk1r1/ppppbppp/5n2/4nN2/2B1P3/2N5/PPP2PPP/R1BQK2R/Pp w KQq - 2 8'\n",
    "#fen = 'r2q1rk1/pP2ppbp/2p3pb/2Q5/4Pp2/2NB1NpP/PPP3P1/R4RK1/NBpn b - - 0 19'\n",
    "#fen = 'r1bqkb1r/ppp1pppp/2n2n2/3p4/3P4/2N2N2/PPP1PPPP/R1BQKB1R/ w KQkq - 6 4'\n",
    "#fen = 'r1bq1b2/2p1pk2/p1p2npp/8/3P4/P4N2/1PP2PPP/R1B1K2R/RPNPbnqp w KQ - 26 0'\n",
    "#fen = 'r5k1/ppp2Rp1/1bnp1qP1/2b1pP2/8/3P1N1p/PPP2PPP/R2Q1R1K/Nbbn w - - 42 0'\n",
    "#fen = 'r2q3r/ppp1k1pp/2npN3/2b1p3/4P1n1/2NP4/PPP2PPP/R1B2RK1/BPqb w - - 0 11'\n",
    "#fen = 'r2qk1r1/ppp2p2/2np3p/2bBp1p1/4P1bn/3P1NB1/PPP2PPP/R2Q1RK1/N w q - 0 12'\n",
    "#fen = 'r2k3r/pppb2pp/5b2/6N1/4P2n/3Q4/PPP2PPP/R1B1K2R/PPNPqbnp w KQ - 0 14'\n",
    "#fen = 'r1bqk2r/ppp1bppp/5n2/3p4/2BQP3/2N5/PPP2PPP/R1B1K2R/NPnp w KQkq - 0 8'\n",
    "#fen = '3r1rk1/p1p1npp1/2pp3p/2b1p1NQ/4P3/3P1P2/PPP2P1P/R2Q1RK1/BBnbn w - - 2 18'\n",
    "#fen = 'r2q1rk1/p1p1bpp1/2pp1n1p/2b1pN2/4P1nB/3P1N2/PPP2PPP/R2Q1RK1/B w - - 0 13'\n",
    "#fen = 'r1bq1rk1/ppp2pp1/2np1n1p/2b1p1B1/2B1P3/2NP1N2/PPP2PPP/R2Q1RK1/ w - - 14 8'\n",
    "#fen = 'r1bqk1r1/pppp1ppp/2n2n2/5N2/1bB1P3/2N4p/PPP2PPP/R1BQK1R1/P w Qq - 2 9'\n",
    "#fen = 'r1bqk1r1/ppp2ppp/2n2n2/3p1N2/1bB1P3/2N4P/PPP2P1P/R1BQK1R1/PP w Qq - 0 10'\n",
    "#fen = 'r1bqk2r/ppppbppp/2n2n2/8/2BNP3/8/PPP2PPP/RNBQK2R/Pp w KQkq - 1 6'\n",
    "#fen = 'r1b1k1r1/pp1p1ppp/1q1B1nn1/1B3N2/4P3/2P1p3/P1P1QPpP/R3K1R1/BPPn w Qq - 34 18'\n",
    "#fen = 'r1bqk3/ppp1bprp/3p1n2/5PP1/4P2n/2NQ4/PPP2PBP/R1B1K2R/Npp w KQq - 1 13'\n",
    "#fen = 'r1bqk1nr/pppp1ppp/5b2/4nNP1/2B1P3/7p/PPP2PPP/RNBQK2R/ w KQkq - 1 8'\n",
    "#fen = 'r1b1k1nr/ppp2ppp/5q2/3pnN2/4P3/7p/PPP2PPP/RNBQKB1R/Bp w KQkq - 1 10'\n",
    "#fen = 'r3k2r/ppp2ppp/5n2/3pnb2/4P3/7p/PPP2PPP/RNBQKB1R/Qbnp w KQkq - 22 12'\n",
    "#fen = 'rnbqkbnr/pppp1ppp/8/4p3/4P3/8/PPPP1PPP/RNBQKBNR/ w KQkq - 2 2'\n",
    "#fen = 'r1bq1rk1/ppp2ppp/2np4/2bBp3/4P1n1/3P1N2/PPP1QPPP/R1B2RK1/N w - - 2 10'\n",
    "#fen = 'r1bq1rk1/pppp1ppp/2n2n2/2b1p3/2B1P3/2NP1N2/PPP2PPP/R1BQ1RK1/ w - - 12 7'\n",
    "#fen = 'r1bq1rk1/pppp1ppp/2n5/2bBp3/4P1n1/3P1N2/PPP2PPP/R1BQ1RK1/N w - - 2 9'\n",
    "#fen = 'r1bqk1r1/ppppbppp/5n2/1B2nN2/4P3/2N4p/PPP2PPP/R1BQK2R/P w KQq - 16 9'\n",
    "#fen = 'r1bqkb1r/ppp2ppp/3p4/6P1/4n3/2N5/PPP2P1P/R1BQK1Rb/NPNpp w Qkq - 2 13'\n",
    "\n",
    "#fen = 'r1b1kb1r/p1p1pppp/2N5/1B2N3/2pPn3/2PKB3/P1PP2p1/3q1rR1/QPPNP w - - 0 25' # mate threat\n",
    "#fen = 'r1b1kb1r/p1p1pppp/2N5/4N3/2BPn3/2PKB3/P1PP2p1/3q1rR1/PQPPNP b - - 0 25'\n",
    "#fen = 'r1b1kb1r/p1p1pppp/2N5/1B6/2NPn3/2PKB3/P1PP2p1/3q1rR1/PQPPNP b - - 1 25'\n",
    "#fen = '3rkb1r/2pb1pp1/q2Pp3/3pP2p/3P4/2PPnP2/P1P1N1PP/R2R2K1/NNQbb b k - 0 21' # mate threat\n",
    "\n",
    "# previous stalled connection fen\n",
    "#fen = 'r1bk3r/ppppbpQp/4p3/8/4n3/4P2N/PPPP2PP/R1Bq1BKR/PNNp b - - 2 13'\n",
    "#fen = 'r1bqkbnr/ppp2ppp/3p4/8/3QP3/2N4p/PPP2PPP/R1B1KB1R/PNn w KQkq - 1 7'\n",
    "#fen = 'r1bq1rk1/ppp2pp1/2np1n1p/2b1p1B1/2B1P3/2NP1N2/PPP2PPP/R2Q1RK1/ w - - 14 8'\n",
    "#fen = 'rnb1kb1r/ppp1pppp/5n2/q7/8/2N2N2/PPPP1PPP/R1BQKB1R/Pp w KQkq - 0 5'\n",
    "#fen = 'rnb2b1r/ppp1pkpp/5n2/2q5/3N2p1/2N5/PPPP1PPP/R1BQK2R/PPb w KQ - 0 8'\n",
    "fen = 'r1b1kr2/ppp3pp/3bPq2/1N1Ppn1n/2B4n/3PPP2/PPP2QPP/R1B2RK1/ b - - 9 15'\n",
    "board.set_fen(fen)\n",
    "#board = board.mirror()\n",
    "\n",
    "state = GameState(board)\n",
    "board"
   ]
  },
  {
   "cell_type": "code",
   "execution_count": 9,
   "metadata": {},
   "outputs": [
    {
     "data": {
      "text/plain": [
       "['black', 'white']"
      ]
     },
     "execution_count": 9,
     "metadata": {},
     "output_type": "execute_result"
    }
   ],
   "source": [
    "chess.COLOR_NAMES"
   ]
  },
  {
   "cell_type": "code",
   "execution_count": 10,
   "metadata": {},
   "outputs": [
    {
     "data": {
      "text/plain": [
       "False"
      ]
     },
     "execution_count": 10,
     "metadata": {},
     "output_type": "execute_result"
    }
   ],
   "source": [
    "board.turn"
   ]
  },
  {
   "cell_type": "code",
   "execution_count": 11,
   "metadata": {},
   "outputs": [
    {
     "data": {
      "text/plain": [
       "38"
      ]
     },
     "execution_count": 11,
     "metadata": {},
     "output_type": "execute_result"
    }
   ],
   "source": [
    "len(list(state.get_legal_moves()))"
   ]
  },
  {
   "cell_type": "code",
   "execution_count": 12,
   "metadata": {
    "collapsed": true
   },
   "outputs": [],
   "source": [
    "def plot_moves_with_prob(moves, probs, only_top_x=None):\n",
    "    \n",
    "    # revert the ordering afterwards\n",
    "    idx_order = np.argsort(probs)[::-1]\n",
    "    \n",
    "    if only_top_x is not None and only_top_x < len(idx_order):\n",
    "        idx_order = idx_order[:only_top_x]\n",
    "    \n",
    "    #moves_ordered = moves[range(len(moves))] #idx_order[::-1]]\n",
    "    probs_ordered = [] #probs[idx_order]\n",
    "    \n",
    "    moves_ordered = []\n",
    "    for idx in idx_order:\n",
    "        probs_ordered.append(probs[idx])\n",
    "        moves_ordered.append(moves[idx])\n",
    "        \n",
    "    plt.barh(range(len(probs_ordered)), probs_ordered)\n",
    "    plt.yticks(range(len(moves_ordered)), moves_ordered)\n"
   ]
  },
  {
   "cell_type": "markdown",
   "metadata": {},
   "source": [
    "### Evalution using the raw network"
   ]
  },
  {
   "cell_type": "code",
   "execution_count": 13,
   "metadata": {},
   "outputs": [
    {
     "name": "stdout",
     "output_type": "stream",
     "text": [
      "Elapsed time: 0.1123s\n"
     ]
    }
   ],
   "source": [
    "t_s = time()\n",
    "pred_value, legal_moves, p_vec_small, cp, depth, nodes, time_elapsed_s, nps, pv = raw_agent.evaluate_board_state(state)\n",
    "print('Elapsed time: %.4fs' % (time()-t_s))"
   ]
  },
  {
   "cell_type": "code",
   "execution_count": 14,
   "metadata": {},
   "outputs": [
    {
     "name": "stdout",
     "output_type": "stream",
     "text": [
      "2019-01-18 00:14:29 matplotlib.axes._base[27817] \u001b[1mDEBUG\u001b[0m \u001b[32mupdate_title_pos\u001b[0m\n",
      "2019-01-18 00:14:29 matplotlib.font_manager[27817] \u001b[1mDEBUG\u001b[0m \u001b[32mfindfont: Matching :family=sans-serif:style=normal:variant=normal:weight=normal:stretch=normal:size=10.0 to Liberation Sans ('/usr/share/fonts/truetype/liberation/LiberationSans-Regular.ttf') with score of 2.050000.\u001b[0m\n",
      "2019-01-18 00:14:29 matplotlib.axes._base[27817] \u001b[1mDEBUG\u001b[0m \u001b[32mupdate_title_pos\u001b[0m\n",
      "2019-01-18 00:14:29 matplotlib.axes._base[27817] \u001b[1mDEBUG\u001b[0m \u001b[32mupdate_title_pos\u001b[0m\n",
      "2019-01-18 00:14:29 matplotlib.axes._base[27817] \u001b[1mDEBUG\u001b[0m \u001b[32mupdate_title_pos\u001b[0m\n"
     ]
    },
    {
     "data": {
      "image/png": "[encoded data removed]",
      "text/plain": [
       "<Figure size 432x288 with 1 Axes>"
      ]
     },
     "metadata": {},
     "output_type": "display_data"
    }
   ],
   "source": [
    "plot_moves_with_prob(legal_moves, p_vec_small, only_top_x=10)"
   ]
  },
  {
   "cell_type": "markdown",
   "metadata": {},
   "source": [
    "### Evalution using the MCTS-Agent"
   ]
  },
  {
   "cell_type": "code",
   "execution_count": 15,
   "metadata": {
    "scrolled": false
   },
   "outputs": [
    {
     "name": "stdout",
     "output_type": "stream",
     "text": [
      "start inference thread...\n",
      "self.thread_inference.isAlive() True\n",
      "start inference thread...\n",
      "self.thread_inference.isAlive() True\n",
      "2019-01-18 00:14:30 root[27817] \u001b[1mDEBUG\u001b[0m \u001b[32mStarting a brand new search tree...\u001b[0m\n",
      "info score cp 82 depth 2 nodes 161 pv f5g3 b5d6\n",
      "2019-01-18 00:14:30 root[27817] \u001b[1mDEBUG\u001b[0m \u001b[32mUpdate info\u001b[0m\n",
      "info score cp -186 depth 3 nodes 353 pv f6d8 d3d4 e5e4\n",
      "2019-01-18 00:14:31 root[27817] \u001b[1mDEBUG\u001b[0m \u001b[32mUpdate info\u001b[0m\n",
      "info score cp -394 depth 3 nodes 513 pv f6d8 e3e4 f5d4\n",
      "2019-01-18 00:14:31 root[27817] \u001b[1mDEBUG\u001b[0m \u001b[32mUpdate info\u001b[0m\n",
      "info score cp 771 depth 5 nodes 609 pv e8d8 d3d4 e5d4 b5d6 c7d6\n",
      "2019-01-18 00:14:32 root[27817] \u001b[1mDEBUG\u001b[0m \u001b[32mUpdate info\u001b[0m\n",
      "info score cp -1399 depth 5 nodes 753 pv d6c5 b5c7 e8d8 c7a8 h4g2\n",
      "2019-01-18 00:14:32 root[27817] \u001b[1mDEBUG\u001b[0m \u001b[32mUpdate info\u001b[0m\n",
      "info score cp -1729 depth 5 nodes 929 pv d6b4 b5c7 e8e7 c7a8 b4d6\n",
      "2019-01-18 00:14:33 root[27817] \u001b[1mDEBUG\u001b[0m \u001b[32mUpdate info\u001b[0m\n",
      "info score cp -1025 depth 5 nodes 1073 pv f6g6 e3e4 h4g2 e4f5 g6f5\n",
      "2019-01-18 00:14:33 root[27817] \u001b[1mDEBUG\u001b[0m \u001b[32mUpdate info\u001b[0m\n",
      "info score cp 36 depth 5 nodes 1249 pv e8e7 e3e4 f5d4 g1h1 h4f3\n",
      "2019-01-18 00:14:34 root[27817] \u001b[1mDEBUG\u001b[0m \u001b[32mUpdate info\u001b[0m\n",
      "info score cp -726 depth 5 nodes 1409 pv f6g6 e3e4 e8d8 e4f5 h4f5\n",
      "2019-01-18 00:14:34 root[27817] \u001b[1mDEBUG\u001b[0m \u001b[32mUpdate info\u001b[0m\n",
      "info score cp -277 depth 8 nodes 1569 pv f6g6 e3e4 h4g2 e4f5 f8f5 b5d6 c7d6 c4b5\n",
      "2019-01-18 00:14:35 root[27817] \u001b[1mDEBUG\u001b[0m \u001b[32mUpdate info\u001b[0m\n",
      "info score cp -955 depth 4 nodes 1697 pv h5f4 b5d6 f5d6 e3f4\n",
      "2019-01-18 00:14:35 root[27817] \u001b[1mDEBUG\u001b[0m \u001b[32mUpdate info\u001b[0m\n",
      "info score cp -467 depth 6 nodes 1841 pv h4f3 f2f3 f6h4 b5d6 c7d6 B@f7\n",
      "2019-01-18 00:14:36 root[27817] \u001b[1mDEBUG\u001b[0m \u001b[32mUpdate info\u001b[0m\n",
      "info score cp 1186 depth 4 nodes 1985 pv e8e7 b5d6 c7d6 f3f4\n",
      "2019-01-18 00:14:36 root[27817] \u001b[1mDEBUG\u001b[0m \u001b[32mUpdate info\u001b[0m\n",
      "info score cp -470 depth 7 nodes 2129 pv f5h6 c1d2 h6f5 d2a5 b7b6 b5d6 c7d6\n",
      "2019-01-18 00:14:37 root[27817] \u001b[1mDEBUG\u001b[0m \u001b[32mUpdate info\u001b[0m\n",
      "info score cp -253 depth 7 nodes 2273 pv h4f3 f2f3 f6h4 b5d6 c7d6 B@f7 e8d8\n",
      "2019-01-18 00:14:38 root[27817] \u001b[1mDEBUG\u001b[0m \u001b[32mUpdate info\u001b[0m\n",
      "info score cp -1344 depth 3 nodes 2417 pv f6h6 e3e4 h5f6\n",
      "2019-01-18 00:14:38 root[27817] \u001b[1mDEBUG\u001b[0m \u001b[32mUpdate info\u001b[0m\n",
      "info score cp -560 depth 4 nodes 2545 pv e8e7 e3e4 c8e6 d5e6\n",
      "2019-01-18 00:14:39 root[27817] \u001b[1mDEBUG\u001b[0m \u001b[32mUpdate info\u001b[0m\n",
      "info score cp -278 depth 7 nodes 2689 pv h4g2 f2g2 f6h4 b5d6 c7d6 c4b5 P@d7\n",
      "2019-01-18 00:14:39 root[27817] \u001b[1mDEBUG\u001b[0m \u001b[32mUpdate info\u001b[0m\n",
      "info score cp 326 depth 6 nodes 2833 pv e8e7 e3e4 f5d4 b5d4 e5d4 N@h3\n",
      "2019-01-18 00:14:40 root[27817] \u001b[1mDEBUG\u001b[0m \u001b[32mUpdate info\u001b[0m\n",
      "info score cp -1257 depth 6 nodes 2977 pv h5f4 b5d6 c7d6 e3f4 e5f4 c1f4\n",
      "2019-01-18 00:14:40 root[27817] \u001b[1mDEBUG\u001b[0m \u001b[32mUpdate info\u001b[0m\n",
      "info score cp 11 depth 12 nodes 3121 pv f6g6 e3e4 h4g2 e4f5 f8f5 b5d6 c7d6 B@f7 f5f7 e6f7 g6f7 N@g5\n",
      "2019-01-18 00:14:41 root[27817] \u001b[1mDEBUG\u001b[0m \u001b[32mUpdate info\u001b[0m\n",
      "info score cp -529 depth 7 nodes 3265 pv e8e7 e3e4 f5d4 g1h1 c8e6 d5e6 P@h3\n",
      "2019-01-18 00:14:41 root[27817] \u001b[1mDEBUG\u001b[0m \u001b[32mUpdate info\u001b[0m\n",
      "info score cp 88 depth 6 nodes 3393 pv h4f3 f2f3 f6h4 b5d6 c7d6 B@e1\n",
      "2019-01-18 00:14:42 root[27817] \u001b[1mDEBUG\u001b[0m \u001b[32mUpdate info\u001b[0m\n",
      "info score cp -816 depth 7 nodes 3505 pv c8e6 d5e6 P@g3 h2g3 h5g3 P@h2 P@c6\n",
      "2019-01-18 00:14:42 root[27817] \u001b[1mDEBUG\u001b[0m \u001b[32mUpdate info\u001b[0m\n",
      "info score cp -539 depth 8 nodes 3633 pv h4g2 f2g2 f6h4 b5d6 f5d6 B@e1 h4f6 N@b5\n",
      "2019-01-18 00:14:43 root[27817] \u001b[1mDEBUG\u001b[0m \u001b[32mUpdate info\u001b[0m\n",
      "info score cp -364 depth 5 nodes 3777 pv b7b6 e3e4 d6c5 b5c7 e8d8\n",
      "2019-01-18 00:14:44 root[27817] \u001b[1mDEBUG\u001b[0m \u001b[32mUpdate info\u001b[0m\n",
      "info score cp -1977 depth 11 nodes 3921 pv h4g2 f2g2 f6h4 b5d6 c7d6 c4b5 e8e7 B@g5 h4g5 g2g5 h5f6\n",
      "2019-01-18 00:14:44 root[27817] \u001b[1mDEBUG\u001b[0m \u001b[32mUpdate info\u001b[0m\n",
      "info score cp -1401 depth 3 nodes 4049 pv b7b6 e3e4 c8a6\n",
      "2019-01-18 00:14:45 root[27817] \u001b[1mDEBUG\u001b[0m \u001b[32mUpdate info\u001b[0m\n",
      "info score cp -1005 depth 5 nodes 4177 pv f6d8 e3e4 f5d4 g1h1 c8e6\n",
      "2019-01-18 00:14:45 root[27817] \u001b[1mDEBUG\u001b[0m \u001b[32mUpdate info\u001b[0m\n",
      "info score cp -937 depth 7 nodes 4305 pv h5f4 b5d6 f5d6 e3f4 e5f4 c1f4 f6f4\n",
      "2019-01-18 00:14:46 root[27817] \u001b[1mDEBUG\u001b[0m \u001b[32mUpdate info\u001b[0m\n",
      "info score cp -1463 depth 9 nodes 4433 pv d6e7 b5c7 e8d8 c7a8 e7d6 P@d7 c8d7 e6d7 f6g6\n",
      "2019-01-18 00:14:46 root[27817] \u001b[1mDEBUG\u001b[0m \u001b[32mUpdate info\u001b[0m\n",
      "info score cp 5 depth 5 nodes 4561 pv c8e6 d5e6 e8d8 B@e4 P@g3\n",
      "2019-01-18 00:14:47 root[27817] \u001b[1mDEBUG\u001b[0m \u001b[32mUpdate info\u001b[0m\n",
      "info score cp -1170 depth 6 nodes 4673 pv d6b4 b5c7 e8d8 c7a8 b4d6 c1d2\n",
      "2019-01-18 00:14:47 root[27817] \u001b[1mDEBUG\u001b[0m \u001b[32mUpdate info\u001b[0m\n",
      "info score cp -100 depth 5 nodes 4801 pv e5e4 f3f4 h4g2 d3e4 f6h4\n",
      "2019-01-18 00:14:48 root[27817] \u001b[1mDEBUG\u001b[0m \u001b[32mUpdate info\u001b[0m\n",
      "info score cp 232 depth 9 nodes 4929 pv e5e4 f3f4 c8e6 d3e4 P@g3 h2g3 f5g3 d5e6 g3e4\n",
      "2019-01-18 00:14:48 root[27817] \u001b[1mDEBUG\u001b[0m \u001b[32mUpdate info\u001b[0m\n",
      "info score cp -379 depth 7 nodes 5057 pv e8e7 e3e4 f5d4 g1h1 h4g2 b5d6 g2h4\n",
      "2019-01-18 00:14:49 root[27817] \u001b[1mDEBUG\u001b[0m \u001b[32mUpdate info\u001b[0m\n",
      "info score cp -1016 depth 7 nodes 5185 pv e8e7 e3e4 f5d4 g1h1 c8e6 d5e6 d4b5\n",
      "2019-01-18 00:14:50 root[27817] \u001b[1mDEBUG\u001b[0m \u001b[32mUpdate info\u001b[0m\n",
      "info score cp -1528 depth 5 nodes 5313 pv f6d8 e3e4 f5d4 g1h1 c8d7\n",
      "2019-01-18 00:14:50 root[27817] \u001b[1mDEBUG\u001b[0m \u001b[32mUpdate info\u001b[0m\n",
      "info score cp -1396 depth 5 nodes 5441 pv f6h6 e3e4 h5f4 e4f5 h6h5\n",
      "2019-01-18 00:14:51 root[27817] \u001b[1mDEBUG\u001b[0m \u001b[32mUpdate info\u001b[0m\n",
      "info score cp -124 depth 6 nodes 5569 pv b7b6 b5d6 f5d6 B@c6 e8d8 c6a8\n",
      "2019-01-18 00:14:51 root[27817] \u001b[1mDEBUG\u001b[0m \u001b[32mUpdate info\u001b[0m\n",
      "info score cp -1463 depth 7 nodes 5697 pv d6e7 b5c7 e8d8 c7a8 e7d6 P@g3 f6g6\n",
      "2019-01-18 00:14:52 root[27817] \u001b[1mDEBUG\u001b[0m \u001b[32mUpdate info\u001b[0m\n",
      "info score cp -432 depth 5 nodes 5825 pv f6g6 e3e4 d6c5 d3d4 e5d4\n",
      "2019-01-18 00:14:52 root[27817] \u001b[1mDEBUG\u001b[0m \u001b[32mUpdate info\u001b[0m\n",
      "info score cp 487 depth 7 nodes 5953 pv f6g6 b5d6 c7d6 B@h3 N@g5 h3g4 e8d8\n",
      "2019-01-18 00:14:53 root[27817] \u001b[1mDEBUG\u001b[0m \u001b[32mUpdate info\u001b[0m\n",
      "info score cp -96 depth 9 nodes 6049 pv f6g6 e3e4 d6c5 b5c7 e8d8 P@e7 f5e7 d3d4 h4f3\n",
      "2019-01-18 00:14:53 root[27817] \u001b[1mDEBUG\u001b[0m \u001b[32mUpdate info\u001b[0m\n",
      "info score cp -1381 depth 7 nodes 6177 pv f5g3 h2g3 h4f5 N@e4 f6g6 b5d6 c7d6\n",
      "2019-01-18 00:14:54 root[27817] \u001b[1mDEBUG\u001b[0m \u001b[32mUpdate info\u001b[0m\n",
      "info score cp -1350 depth 3 nodes 6305 pv b7b6 e3e4 e8e7\n",
      "2019-01-18 00:14:54 root[27817] \u001b[1mDEBUG\u001b[0m \u001b[32mUpdate info\u001b[0m\n",
      "info score cp -560 depth 8 nodes 6433 pv f6g6 b5d6 c7d6 B@g4 h5f6 c1d2 h7h5 c4b5\n",
      "2019-01-18 00:14:55 root[27817] \u001b[1mDEBUG\u001b[0m \u001b[32mUpdate info\u001b[0m\n",
      "info score cp 674 depth 6 nodes 6561 pv f6g6 b5d6 c7d6 B@g4 c8e6 d3d4\n",
      "2019-01-18 00:14:56 root[27817] \u001b[1mDEBUG\u001b[0m \u001b[32mUpdate info\u001b[0m\n",
      "info score cp 213 depth 11 nodes 6689 pv f6g6 b5d6 c7d6 B@g4 h5f6 d3d4 e5e4 g4f5 h4f5 N@f4 g6g5\n",
      "2019-01-18 00:14:56 root[27817] \u001b[1mDEBUG\u001b[0m \u001b[32mUpdate info\u001b[0m\n",
      "info score cp 1660 depth 10 nodes 6817 pv f6g6 e3e4 d6c5 b5c7 e8d8 P@e7 f5e7 d3d4 c5d4 c1g5\n",
      "2019-01-18 00:14:57 root[27817] \u001b[1mDEBUG\u001b[0m \u001b[32mUpdate info\u001b[0m\n",
      "info score cp 992 depth 6 nodes 6945 pv f6g6 c1d2 h4g2 b5d6 f5d6 g1h1\n",
      "2019-01-18 00:14:57 root[27817] \u001b[1mDEBUG\u001b[0m \u001b[32mUpdate info\u001b[0m\n",
      "info score cp 701 depth 8 nodes 7057 pv f6g6 b5d6 c7d6 B@g4 h5f6 c4b5 e8d8 f1e1\n",
      "2019-01-18 00:14:58 root[27817] \u001b[1mDEBUG\u001b[0m \u001b[32mUpdate info\u001b[0m\n",
      "info score cp 1358 depth 13 nodes 7169 pv f6g6 b5d6 c7d6 B@g4 h5f6 c1d2 f6g4 f3g4 g6g4 c4b5 e8e7 N@g3 P@f3\n",
      "2019-01-18 00:14:58 root[27817] \u001b[1mDEBUG\u001b[0m \u001b[32mUpdate info\u001b[0m\n",
      "info score cp 23 depth 11 nodes 7281 pv f6g6 b5d6 c7d6 B@g4 h5f6 g4h3 h4g2 h3f5 g6f5 f2g2 B@h3\n",
      "2019-01-18 00:14:59 root[27817] \u001b[1mDEBUG\u001b[0m \u001b[32mUpdate info\u001b[0m\n",
      "info score cp 401 depth 10 nodes 7393 pv f6g6 b5d6 c7d6 c4b5 e8e7 B@g4 c8e6 d5e6 P@g3 h2g3\n",
      "2019-01-18 00:14:59 root[27817] \u001b[1mDEBUG\u001b[0m \u001b[32mUpdate info\u001b[0m\n",
      "info string move overhead is 35ms\n",
      "2019-01-18 00:15:00 root[27817] \u001b[1mINFO\u001b[0m \u001b[94minfo string score cp 172 depth 17 nodes 7425 time 30036 nps 247 pv f6g6 b5d6 c7d6 B@g4 h5f6 g4h3 N@g5 h3f5 h4f5 g1h1 B@h4 f2e2 f6h5 N@c7 e8d8\u001b[0m\n",
      "Elapsed time: 30.0381s\n"
     ]
    }
   ],
   "source": [
    "t_s = time()\n",
    "pred_value, legal_moves, p_vec_small, cp, depth, nodes, time_elapsed_s, nps, pv = mcts_agent.evaluate_board_state(state)\n",
    "print('Elapsed time: %.4fs' % (time()-t_s))"
   ]
  },
  {
   "cell_type": "code",
   "execution_count": 16,
   "metadata": {},
   "outputs": [
    {
     "data": {
      "text/plain": [
       "Move.from_uci('f6g6')"
      ]
     },
     "execution_count": 16,
     "metadata": {},
     "output_type": "execute_result"
    }
   ],
   "source": [
    "mcts_agent.root_node.legal_moves[mcts_agent.root_node.child_number_visits.argmax()]"
   ]
  },
  {
   "cell_type": "code",
   "execution_count": 17,
   "metadata": {},
   "outputs": [
    {
     "data": {
      "text/plain": [
       "Move.from_uci('f6g6')"
      ]
     },
     "execution_count": 17,
     "metadata": {},
     "output_type": "execute_result"
    }
   ],
   "source": [
    "mcts_agent.root_node.legal_moves[mcts_agent.root_node.q_value.argmax()]"
   ]
  },
  {
   "cell_type": "code",
   "execution_count": 19,
   "metadata": {
    "collapsed": true
   },
   "outputs": [],
   "source": [
    "pb_c_base = 19652 / 10\n",
    "pb_c_init = 3.6\n",
    "import math\n",
    "cpuct = math.log((3000 + pb_c_base + 1) / pb_c_base) + pb_c_init"
   ]
  },
  {
   "cell_type": "code",
   "execution_count": 20,
   "metadata": {},
   "outputs": [
    {
     "data": {
      "text/plain": [
       "4.527060938824912"
      ]
     },
     "execution_count": 20,
     "metadata": {},
     "output_type": "execute_result"
    }
   ],
   "source": [
    "cpuct"
   ]
  },
  {
   "cell_type": "code",
   "execution_count": 21,
   "metadata": {
    "collapsed": true
   },
   "outputs": [],
   "source": [
    "#c = (a * b ) + (0.3 * a + 0.7 * b)"
   ]
  },
  {
   "cell_type": "code",
   "execution_count": 22,
   "metadata": {
    "collapsed": true
   },
   "outputs": [],
   "source": [
    "def sigmoid(x, derivative=False):\n",
    "    return x*(1-x) if derivative else 1/(1+np.exp(-x))"
   ]
  },
  {
   "cell_type": "code",
   "execution_count": 26,
   "metadata": {},
   "outputs": [
    {
     "name": "stdout",
     "output_type": "stream",
     "text": [
      "2019-01-17 23:41:03 matplotlib.axes._base[7768] \u001b[1mDEBUG\u001b[0m \u001b[32mupdate_title_pos\u001b[0m\n",
      "2019-01-17 23:41:03 matplotlib.axes._base[7768] \u001b[1mDEBUG\u001b[0m \u001b[32mupdate_title_pos\u001b[0m\n",
      "2019-01-17 23:41:03 matplotlib.axes._base[7768] \u001b[1mDEBUG\u001b[0m \u001b[32mupdate_title_pos\u001b[0m\n",
      "2019-01-17 23:41:03 matplotlib.axes._base[7768] \u001b[1mDEBUG\u001b[0m \u001b[32mupdate_title_pos\u001b[0m\n"
     ]
    },
    {
     "data": {
      "image/png": "[encoded data removed]",
      "text/plain": [
       "<Figure size 432x288 with 1 Axes>"
      ]
     },
     "metadata": {},
     "output_type": "display_data"
    }
   ],
   "source": [
    "plot_moves_with_prob(legal_moves, mcts_agent.root_node.child_number_visits, only_top_x=10)"
   ]
  },
  {
   "cell_type": "code",
   "execution_count": 27,
   "metadata": {},
   "outputs": [
    {
     "name": "stdout",
     "output_type": "stream",
     "text": [
      "2019-01-17 23:41:10 matplotlib.axes._base[7768] \u001b[1mDEBUG\u001b[0m \u001b[32mupdate_title_pos\u001b[0m\n",
      "2019-01-17 23:41:10 matplotlib.axes._base[7768] \u001b[1mDEBUG\u001b[0m \u001b[32mupdate_title_pos\u001b[0m\n",
      "2019-01-17 23:41:10 matplotlib.axes._base[7768] \u001b[1mDEBUG\u001b[0m \u001b[32mupdate_title_pos\u001b[0m\n",
      "2019-01-17 23:41:11 matplotlib.axes._base[7768] \u001b[1mDEBUG\u001b[0m \u001b[32mupdate_title_pos\u001b[0m\n"
     ]
    },
    {
     "data": {
      "image/png": "[encoded data removed]",
      "text/plain": [
       "<Figure size 432x288 with 1 Axes>"
      ]
     },
     "metadata": {},
     "output_type": "display_data"
    }
   ],
   "source": [
    "plot_moves_with_prob(legal_moves, mcts_agent.root_node.q_value, only_top_x=10)"
   ]
  },
  {
   "cell_type": "code",
   "execution_count": 28,
   "metadata": {},
   "outputs": [
    {
     "name": "stdout",
     "output_type": "stream",
     "text": [
      "2019-01-17 23:43:23 matplotlib.axes._base[7768] \u001b[1mDEBUG\u001b[0m \u001b[32mupdate_title_pos\u001b[0m\n",
      "2019-01-17 23:43:23 matplotlib.axes._base[7768] \u001b[1mDEBUG\u001b[0m \u001b[32mupdate_title_pos\u001b[0m\n",
      "2019-01-17 23:43:23 matplotlib.axes._base[7768] \u001b[1mDEBUG\u001b[0m \u001b[32mupdate_title_pos\u001b[0m\n",
      "2019-01-17 23:43:23 matplotlib.axes._base[7768] \u001b[1mDEBUG\u001b[0m \u001b[32mupdate_title_pos\u001b[0m\n"
     ]
    },
    {
     "data": {
      "image/png": "[encoded data removed]",
      "text/plain": [
       "<Figure size 432x288 with 1 Axes>"
      ]
     },
     "metadata": {},
     "output_type": "display_data"
    }
   ],
   "source": [
    "plot_moves_with_prob(legal_moves, p_vec_small, only_top_x=10)"
   ]
  },
  {
   "cell_type": "code",
   "execution_count": 36,
   "metadata": {},
   "outputs": [
    {
     "name": "stdout",
     "output_type": "stream",
     "text": [
      "2019-01-11 01:09:11 matplotlib.axes._base[21494] \u001b[1mDEBUG\u001b[0m \u001b[32mupdate_title_pos\u001b[0m\n",
      "2019-01-11 01:09:11 matplotlib.axes._base[21494] \u001b[1mDEBUG\u001b[0m \u001b[32mupdate_title_pos\u001b[0m\n",
      "2019-01-11 01:09:11 matplotlib.axes._base[21494] \u001b[1mDEBUG\u001b[0m \u001b[32mupdate_title_pos\u001b[0m\n",
      "2019-01-11 01:09:11 matplotlib.axes._base[21494] \u001b[1mDEBUG\u001b[0m \u001b[32mupdate_title_pos\u001b[0m\n"
     ]
    },
    {
     "data": {
      "image/png": "[encoded data removed]",
      "text/plain": [
       "<Figure size 432x288 with 1 Axes>"
      ]
     },
     "metadata": {},
     "output_type": "display_data"
    }
   ],
   "source": [
    "plot_moves_with_prob(legal_moves, p_vec_small, only_top_x=10)"
   ]
  },
  {
   "cell_type": "code",
   "execution_count": 37,
   "metadata": {},
   "outputs": [
    {
     "name": "stdout",
     "output_type": "stream",
     "text": [
      "Timer unit: 1e-06 s\n",
      "\n",
      "Total time: 0.011213 s\n",
      "File: ../../../DeepCrazyhouse/src/domain/agent/player/MCTSAgent.py\n",
      "Function: _run_single_playout at line 754\n",
      "\n",
      "Line #      Hits         Time  Per Hit   % Time  Line Contents\n",
      "==============================================================\n",
      "   754                                               def _run_single_playout(self, state: GameState, parent_node: Node, pipe_id=0, depth=1, chosen_nodes=[]):\n",
      "   755                                                   \"\"\"\n",
      "   756                                                   This function works recursively until a leaf or terminal node is reached.\n",
      "   757                                                   It ends by backpropagating the value of the new expanded node or by propagating the value of a terminal state.\n",
      "   758                                           \n",
      "   759                                                   :param state_: Current game-state for the evaluation. This state differs between the treads\n",
      "   760                                                   :param parent_node: Current parent-node of the selected node. In the first  expansion this is the root node.\n",
      "   761                                                   :param depth: Current depth for the evaluation. Depth is increased by 1 for every recusive call\n",
      "   762                                                   :param chosen_nodes: List of moves which have been taken in the current path. For each selected child node this list\n",
      "   763                                                                   is expanded by one move recursively.\n",
      "   764                                                   :param chosen_nodes: List of all nodes that this thread has explored with respect to the root node\n",
      "   765                                                   :return: -value: The inverse value prediction of the current board state. The flipping by -1 each turn is needed\n",
      "   766                                                                   because the point of view changes each half-move\n",
      "   767                                                           depth: Current depth reach by this evaluation\n",
      "   768                                                           mv_list: List of moves which have been selected\n",
      "   769                                                   \"\"\"\n",
      "   770                                           \n",
      "   771                                                   # select a legal move on the chess board\n",
      "   772        15        896.0     59.7      8.0          node, move, child_idx = self._select_node(parent_node)\n",
      "   773                                           \n",
      "   774        15         76.0      5.1      0.7          if move is None:\n",
      "   775                                                       raise Exception(\"Illegal tree setup. A 'None' move was selected which souldn't be possible\")\n",
      "   776                                           \n",
      "   777                                                   # update the visit counts to this node\n",
      "   778                                                   # temporarily reduce the attraction of this node by applying a virtual loss /\n",
      "   779                                                   # the effect of virtual loss will be undone if the playout is over\n",
      "   780        15        298.0     19.9      2.7          parent_node.apply_virtual_loss_to_child(child_idx, self.virtual_loss)\n",
      "   781                                           \n",
      "   782        15         71.0      4.7      0.6          if depth == 1:\n",
      "   783         1        284.0    284.0      2.5              state = GameState(deepcopy(state.get_pythonchess_board()))\n",
      "   784                                           \n",
      "   785        15         80.0      5.3      0.7          if depth == 2 and node is not None and parent_node.q[child_idx] > node.v + 0.25:# and parent_node.p[child_idx] < \\\n",
      "   786                                                           #10e-2:\n",
      "   787                                                       logging.debug('Threat Move: %s %.2f' % (move.uci(), parent_node.p[child_idx]))\n",
      "   788                                                       self.threat_move_idx = move #child_idx\n",
      "   789                                           \n",
      "   790                                                   # apply the selected move on the board\n",
      "   791        15       1886.0    125.7     16.8          state.apply_move(move)\n",
      "   792                                           \n",
      "   793                                                   # append the selected move to the move list\n",
      "   794                                                   # append the chosen child idx to the chosen_nodes list\n",
      "   795        15         77.0      5.1      0.7          chosen_nodes.append(child_idx)\n",
      "   796                                           \n",
      "   797        15         72.0      4.8      0.6          if node is None:\n",
      "   798                                           \n",
      "   799                                                       # get the transposition-key which is used as an identifier for the board positions in the look-up table\n",
      "   800         1         94.0     94.0      0.8              transposition_key = state.get_transposition_key()\n",
      "   801                                           \n",
      "   802                                                       # check if the addressed fen exist in the look-up table\n",
      "   803                                                       # note: It's important to use also the halfmove-counter here, otherwise the system can create an infinite\n",
      "   804                                                       # feed-back-loop\n",
      "   805         1          8.0      8.0      0.1              key = transposition_key + (state.get_fullmove_number(),)\n",
      "   806         1          5.0      5.0      0.0              use_tran_table = True\n",
      "   807                                           \n",
      "   808         1          5.0      5.0      0.0              node_varified = False\n",
      "   809         1          7.0      7.0      0.1              if use_tran_table is True and key in self.node_lookup:\n",
      "   810                                                           # if self.check_for_duplicate(transposition_key, chosen_nodes) is False:\n",
      "   811                                                           # get the node from the look-up list\n",
      "   812                                                           node = self.node_lookup[key]\n",
      "   813                                           \n",
      "   814                                                           # make sure that you don't connect to a node with lower visits\n",
      "   815                                                           if node.n_sum > parent_node.n_sum:\n",
      "   816                                                               node_varified = True\n",
      "   817                                           \n",
      "   818         1          4.0      4.0      0.0              if node_varified is True:\n",
      "   819                                           \n",
      "   820                                                           with parent_node.lock:\n",
      "   821                                                               # setup a new connection from the parent to the child\n",
      "   822                                                               parent_node.child_nodes[child_idx] = node\n",
      "   823                                           \n",
      "   824                                                           # logging.debug('found key: %s' % state.get_board_fen())\n",
      "   825                                                           # get the prior value from the leaf node which has already been expanded\n",
      "   826                                                           value = node.v\n",
      "   827                                           \n",
      "   828                                                           # receive a free available pipe\n",
      "   829                                                           # my_pipe = self.my_pipe_endings[pipe_id]\n",
      "   830                                                           # my_pipe.send(state.get_state_planes())\n",
      "   831                                                           # this pipe waits for the predictions of the network inference service\n",
      "   832                                                           # [_, _] = my_pipe.recv()\n",
      "   833                                           \n",
      "   834                                                           # get the value from the leaf node (the current function is called recursively)\n",
      "   835                                                           # value, depth, mv_list = self._run_single_playout(state, node, pipe_id, depth+1, mv_list)\n",
      "   836                                                       else:\n",
      "   837                                                           # expand and evaluate the new board state (the node wasn't found in the look-up table)\n",
      "   838                                                           # its value will be backpropagated through the tree and flipped after every layer\n",
      "   839                                                           # receive a free available pipe\n",
      "   840         1          5.0      5.0      0.0                  my_pipe = self.my_pipe_endings[pipe_id]\n",
      "   841                                           \n",
      "   842         1          6.0      6.0      0.1                  if self.send_batches is True:\n",
      "   843                                                               my_pipe.send(state.get_state_planes())\n",
      "   844                                                               # this pipe waits for the predictions of the network inference service\n",
      "   845                                                               [value, policy_vec] = my_pipe.recv()\n",
      "   846                                                           else:\n",
      "   847         1        746.0    746.0      6.7                      state_planes = state.get_state_planes()\n",
      "   848         1         12.0     12.0      0.1                      self.batch_state_planes[pipe_id] = state_planes\n",
      "   849                                           \n",
      "   850         1         97.0     97.0      0.9                      my_pipe.send(pipe_id)\n",
      "   851                                           \n",
      "   852         1       5291.0   5291.0     47.2                      result_channel = my_pipe.recv()\n",
      "   853                                           \n",
      "   854         1         13.0     13.0      0.1                      value = np.array(self.batch_value_results[result_channel])\n",
      "   855         1         12.0     12.0      0.1                      policy_vec = np.array(self.batch_policy_results[result_channel])\n",
      "   856                                           \n",
      "   857                                                           # initialize is_leaf by default to false\n",
      "   858         1          2.0      2.0      0.0                  is_leaf = False\n",
      "   859                                           \n",
      "   860                                                           # check if the current player has won the game\n",
      "   861                                                           # (we don't need to check for is_lost() because the game is already over\n",
      "   862                                                           #  if the current player checkmated his opponent)\n",
      "   863         1          2.0      2.0      0.0                  is_won = False\n",
      "   864                                                           # is_check = False\n",
      "   865                                           \n",
      "   866         1         76.0     76.0      0.7                  if state.is_check() is True:\n",
      "   867                                                               # enhance checking nodes\n",
      "   868                                                               # if depth == 1:\n",
      "   869                                                               #    parent_node.p.mean()\n",
      "   870                                                               #    with parent_node.lock:\n",
      "   871                                                               #        if parent_node.p[child_idx] < 0.1:\n",
      "   872                                                               #            parent_node.p[child_idx] = 0.1\n",
      "   873                                                               # is_check = True\n",
      "   874         1        267.0    267.0      2.4                      if state.is_won() is True:\n",
      "   875                                                                   is_won = True\n",
      "   876                                           \n",
      "   877         1          2.0      2.0      0.0                  if is_won is True:\n",
      "   878                                                               value = -1\n",
      "   879                                                               is_leaf = True\n",
      "   880                                                               legal_moves = []\n",
      "   881                                                               p_vec_small = None\n",
      "   882                                                               # establish a mate in one connection in order to stop exploring different alternatives\n",
      "   883                                                               parent_node.mate_child_idx = child_idx\n",
      "   884                                           \n",
      "   885                                                           # get the value from the leaf node (the current function is called recursively)\n",
      "   886                                                           # check if you can claim a draw - its assumed that the draw is always claimed\n",
      "   887                                                           elif (\n",
      "   888         1         85.0     85.0      0.8                      self.can_claim_threefold_repetition(transposition_key, chosen_nodes)\n",
      "   889         1          9.0      9.0      0.1                      or state.get_pythonchess_board().can_claim_fifty_moves() is True\n",
      "   890                                                           ):\n",
      "   891                                                               # raise Exception('Threefold!')\n",
      "   892                                                               value = 0\n",
      "   893                                                               is_leaf = True\n",
      "   894                                                               legal_moves = []\n",
      "   895                                                               p_vec_small = None\n",
      "   896                                                           else:\n",
      "   897                                                               # get the current legal move of its board state\n",
      "   898         1        157.0    157.0      1.4                      legal_moves = state.get_legal_moves()\n",
      "   899                                           \n",
      "   900         1          2.0      2.0      0.0                      if not legal_moves:\n",
      "   901                                                                   raise Exception(\"No legal move is available for state: %s\" % state)\n",
      "   902                                           \n",
      "   903                                                               # extract a sparse policy vector with normalized probabilities\n",
      "   904         1          2.0      2.0      0.0                      try:\n",
      "   905         1          2.0      2.0      0.0                          p_vec_small = get_probs_of_move_list(\n",
      "   906         1        114.0    114.0      1.0                              policy_vec, legal_moves, is_white_to_move=state.is_white_to_move(), normalize=True\n",
      "   907                                                                   )\n",
      "   908                                           \n",
      "   909                                                               except KeyError:\n",
      "   910                                                                   raise Exception(\"Key Error for state: %s\" % state)\n",
      "   911                                           \n",
      "   912                                                           # if state.get_board_fen() == 'r1b3k1/ppq2pP1/3n1Ppp/4Q2N/4B3/P1P3bP/2P1nPPr/4rB1K/PRPNp w - - 0 36':\n",
      "   913                                                           #    print('found it! > is won %d' % is_won)\n",
      "   914                                           \n",
      "   915                                                           # convert all legal moves to a string if the option check_mate_in_one was enabled\n",
      "   916         1          3.0      3.0      0.0                  if self.check_mate_in_one is True:\n",
      "   917                                                               str_legal_moves = str(state.get_legal_moves())\n",
      "   918                                                           else:\n",
      "   919         1          2.0      2.0      0.0                      str_legal_moves = \"\"\n",
      "   920                                           \n",
      "   921                                                           # clip the visit nodes for all nodes in the search tree except the director opp. move\n",
      "   922         1          2.0      2.0      0.0                  clip_low_visit = self.use_pruning and depth != 1\n",
      "   923                                           \n",
      "   924                                                           # create a new node\n",
      "   925         1          2.0      2.0      0.0                  new_node = Node(\n",
      "   926         1         65.0     65.0      0.6                      value, p_vec_small, legal_moves, str_legal_moves, is_leaf, transposition_key, clip_low_visit\n",
      "   927                                                           )\n",
      "   928                                           \n",
      "   929         1          2.0      2.0      0.0                  if depth == 1:\n",
      "   930                                           \n",
      "   931                                                               # disable uncertain moves from being visited by giving them a very bad score\n",
      "   932                                                               if is_leaf is False and self.use_pruning is True:\n",
      "   933                                                                   if self.root_node_prior_policy[child_idx] < 1e-3 and value * -1 < self.root_node.v:\n",
      "   934                                                                       with parent_node.lock:\n",
      "   935                                                                           value = 99\n",
      "   936                                           \n",
      "   937                                                               if parent_node.v > 0.65:  # and state.are_pocket_empty(): #and pipe_id == 0:\n",
      "   938                                                                   # test of adding dirichlet noise to a new node\n",
      "   939                                                                   fac = 0.25\n",
      "   940                                                                   if len(parent_node.legal_moves) < 20:\n",
      "   941                                                                       fac *= 5\n",
      "   942                                                                   new_node.apply_dirichlet_noise_to_prior_policy(\n",
      "   943                                                                       epsilon=self.dirichlet_epsilon * fac, alpha=self.dirichlet_alpha\n",
      "   944                                                                   )\n",
      "   945                                           \n",
      "   946                                                               if value < 0:  # and state.are_pocket_empty(): #and pipe_id == 0:\n",
      "   947                                                                   # test of adding dirichlet noise to a new node\n",
      "   948                                                                   new_node.apply_dirichlet_noise_to_prior_policy(\n",
      "   949                                                                       epsilon=self.dirichlet_epsilon * 0.02, alpha=self.dirichlet_alpha\n",
      "   950                                                                   )\n",
      "   951                                           \n",
      "   952         1          2.0      2.0      0.0                  if self.use_pruning is False:\n",
      "   953                                                               # include a reference to the new node in the look-up table\n",
      "   954                                                               self.node_lookup[key] = new_node\n",
      "   955                                           \n",
      "   956         1          5.0      5.0      0.0                  with parent_node.lock:\n",
      "   957                                                               # add the new node to its parent\n",
      "   958         1          5.0      5.0      0.0                      parent_node.child_nodes[child_idx] = new_node\n",
      "   959                                           \n",
      "   960                                                   # check if we have reached a leaf node\n",
      "   961        14         74.0      5.3      0.7          elif node.is_leaf is True:\n",
      "   962                                                       value = node.v\n",
      "   963                                                   else:\n",
      "   964                                                       # get the value from the leaf node (the current function is called recursively)\n",
      "   965        14         82.0      5.9      0.7              value, depth, chosen_nodes = self._run_single_playout(state, node, pipe_id, depth + 1, chosen_nodes)\n",
      "   966                                           \n",
      "   967                                                   # emphasize bad value updates\n",
      "   968        15         39.0      2.6      0.3          if value == 1: #< parent_node.q[child_idx] - 0.25:\n",
      "   969                                                       #logging.debug('correct node eval for %s ', move.uci())\n",
      "   970                                                       parent_node.q[child_idx] = max(parent_node.q[child_idx]-0.25, 0)\n",
      "   971                                           \n",
      "   972                                                   # revert the virtual loss and apply the predicted value by the network to the node\n",
      "   973        15        138.0      9.2      1.2          parent_node.revert_virtual_loss_and_update(child_idx, self.virtual_loss, -value)\n",
      "   974                                           \n",
      "   975                                                   # we invert the value prediction for the parent of the above node layer because the player's turn is flipped every turn\n",
      "   976        15         27.0      1.8      0.2          return -value, depth, chosen_nodes\n",
      "\n"
     ]
    }
   ],
   "source": [
    "\n",
    "\n",
    "%load_ext line_profiler\n",
    "r = %lprun -r -f mcts_agent._run_single_playout mcts_agent._run_single_playout(state, mcts_agent.root_node)\n",
    "r.print_stats()\n",
    "\n"
   ]
  },
  {
   "cell_type": "code",
   "execution_count": 38,
   "metadata": {
    "collapsed": true
   },
   "outputs": [],
   "source": [
    "from DeepCrazyhouse.src.domain.crazyhouse.input_representation import board_to_planes\n"
   ]
  },
  {
   "cell_type": "code",
   "execution_count": 39,
   "metadata": {},
   "outputs": [
    {
     "name": "stdout",
     "output_type": "stream",
     "text": [
      "The line_profiler extension is already loaded. To reload it, use:\n",
      "  %reload_ext line_profiler\n",
      "Timer unit: 1e-06 s\n",
      "\n",
      "Total time: 0.00062 s\n",
      "File: ../../../DeepCrazyhouse/src/domain/crazyhouse/input_representation.py\n",
      "Function: board_to_planes at line 27\n",
      "\n",
      "Line #      Hits         Time  Per Hit   % Time  Line Contents\n",
      "==============================================================\n",
      "    27                                           def board_to_planes(board, board_occ=0, normalize=True):\n",
      "    28                                               \"\"\"\n",
      "    29                                               Gets the plane representation of a given board state.\n",
      "    30                                               (Now history of past board positions is used.)\n",
      "    31                                           \n",
      "    32                                               ## Crazyhouse:\n",
      "    33                                           \n",
      "    34                                               Feature | Planes\n",
      "    35                                           \n",
      "    36                                               --- | ---\n",
      "    37                                           \n",
      "    38                                               P1 piece | 6 (pieces are ordered: PAWN, KNIGHT, BISHOP, ROOK, QUEEN, KING)\n",
      "    39                                           \n",
      "    40                                               P2 piece | 6 (pieces are ordered: PAWN, KNIGHT, BISHOP, ROOK, QUEEN, KING)\n",
      "    41                                           \n",
      "    42                                               Repetitions | 2 (two planes (full zeros/ones) indicating how often the board positions has occurred)\n",
      "    43                                           \n",
      "    44                                               P1 prisoner count | 5 (pieces are ordered: PAWN, KNIGHT, BISHOP, ROOK, QUEEN) (excluding the KING)\n",
      "    45                                           \n",
      "    46                                               P2 prisoner count | 5 (pieces are ordered: PAWN, KNIGHT, BISHOP, ROOK, QUEEN) (excluding the KING)\n",
      "    47                                           \n",
      "    48                                               P1 Promoted Pawns Mask | 1 (binary map indicating the pieces which have been promoted)\n",
      "    49                                           \n",
      "    50                                               P2 Promoted Pawns Mask | 1 (binary map indicating the pieces which have been promoted)\n",
      "    51                                           \n",
      "    52                                               En-passant square | 1 (Binary map indicating the square where en-passant capture is possible)\n",
      "    53                                           \n",
      "    54                                               ---\n",
      "    55                                               27 planes\n",
      "    56                                           \n",
      "    57                                               * * *\n",
      "    58                                           \n",
      "    59                                               Colour | 1 (all zeros for black and all ones for white)\n",
      "    60                                           \n",
      "    61                                               Total move count | 1 (integer value setting the move count (uci notation))\n",
      "    62                                           \n",
      "    63                                               P1 castling | 2 (One if castling is possible, else zero)\n",
      "    64                                           \n",
      "    65                                               P2 castling | 2 (One if castling is possible, else zero)\n",
      "    66                                           \n",
      "    67                                               No-progress count | 1 (Setting the no progress counter as integer values, (described by uci halfmoves format)\n",
      "    68                                           \n",
      "    69                                               # --------------\n",
      "    70                                               7 planes\n",
      "    71                                           \n",
      "    72                                               The history list of the past 7 board states have been removed\n",
      "    73                                               The total number of planes is calculated as follows:\n",
      "    74                                           \n",
      "    75                                               27 + 7\n",
      "    76                                               Total: 34 planes\n",
      "    77                                           \n",
      "    78                                               :param board: Board handle (Python-chess object)\n",
      "    79                                               :param board_occ: Sets how often the board state has occurred before (by default 0)\n",
      "    80                                               :param normalize: True if the inputs shall be normalized to the range [0.-1.]\n",
      "    81                                               :return: planes - the plane representation of the current board state\n",
      "    82                                               \"\"\"\n",
      "    83                                           \n",
      "    84                                               # TODO: Remove board.mirror() for black by addressing the according color channel\n",
      "    85                                           \n",
      "    86                                               # (I) Define the Input Representation for one position\n",
      "    87         1         12.0     12.0      1.9      planes_pos = np.zeros((NB_CHANNELS_POS, BOARD_HEIGHT, BOARD_WIDTH))\n",
      "    88         1          5.0      5.0      0.8      planes_const = np.zeros((NB_CHANNELS_CONST, BOARD_HEIGHT, BOARD_WIDTH))\n",
      "    89                                           \n",
      "    90                                               # save whose turn it is\n",
      "    91         1          2.0      2.0      0.3      board_turn = chess.WHITE\n",
      "    92                                           \n",
      "    93                                               # check who's player turn it is and flip the board if it's black turn\n",
      "    94         1          3.0      3.0      0.5      if board.turn == chess.BLACK:\n",
      "    95         1          1.0      1.0      0.2          board_turn = chess.BLACK\n",
      "    96         1         93.0     93.0     15.0          board = board.mirror()\n",
      "    97                                           \n",
      "    98                                               # Fill in the piece positions\n",
      "    99                                           \n",
      "   100                                               # Iterate over both color starting with WHITE\n",
      "   101         3          6.0      2.0      1.0      for z, color in enumerate(chess.COLORS):\n",
      "   102                                                   # the PIECE_TYPE is an integer list in python-chess\n",
      "   103        14         19.0      1.4      3.1          for piece_type in chess.PIECE_TYPES:\n",
      "   104                                                       # define the channel by the piecetype (the input representation uses the same ordering as python-chess)\n",
      "   105                                                       # we add an offset for the black pieces\n",
      "   106                                                       # note that we subtract 1 because in python chess the PAWN has index 1 and not 0\n",
      "   107        12         21.0      1.8      3.4              channel = (piece_type - 1) + z * len(chess.PIECE_TYPES)\n",
      "   108                                                       # iterate over the piece mask and receive every position square of it\n",
      "   109        37        154.0      4.2     24.8              for pos in board.pieces(piece_type, color):\n",
      "   110        25         66.0      2.6     10.6                  row, col = get_row_col(pos)\n",
      "   111                                                           # set the bit at the right position\n",
      "   112        25         43.0      1.7      6.9                  planes_pos[channel, row, col] = 1\n",
      "   113                                           \n",
      "   114                                               # (II) Fill in the Repetition Data\n",
      "   115                                               # a game to test out if everything is working correctly is: https://lichess.org/jkItXBWy#73\n",
      "   116         1          1.0      1.0      0.2      ch = CHANNEL_MAPPING_POS[\"repetitions\"]\n",
      "   117                                           \n",
      "   118                                               # set how often the position has already occurred in the game (default 0 times)\n",
      "   119                                               # this is used to check for claiming the 3 fold repetition rule\n",
      "   120         1          1.0      1.0      0.2      if board_occ >= 1:\n",
      "   121                                                   planes_pos[ch, :, :] = 1\n",
      "   122                                                   if board_occ >= 2:\n",
      "   123                                                       planes_pos[ch + 1, :, :] = 1\n",
      "   124                                           \n",
      "   125                                               # Fill in the Prisoners / Pocket Pieces\n",
      "   126                                           \n",
      "   127                                               # iterate over all pieces except the king\n",
      "   128         6          9.0      1.5      1.5      for p_type in chess.PIECE_TYPES[:-1]:\n",
      "   129                                                   # p_type -1 because p_type starts with 1\n",
      "   130         5          6.0      1.2      1.0          ch = CHANNEL_MAPPING_POS[\"prisoners\"] + p_type - 1\n",
      "   131                                           \n",
      "   132         5         27.0      5.4      4.4          planes_pos[ch, :, :] = board.pockets[chess.WHITE].count(p_type)\n",
      "   133                                                   # the prison for black begins 5 channels later\n",
      "   134         5         18.0      3.6      2.9          planes_pos[ch + 5, :, :] = board.pockets[chess.BLACK].count(p_type)\n",
      "   135                                           \n",
      "   136                                               # (III) Fill in the promoted pieces\n",
      "   137                                               # iterate over all promoted pieces according to the mask and set the according bit\n",
      "   138         1          1.0      1.0      0.2      ch = CHANNEL_MAPPING_POS[\"promo\"]\n",
      "   139         1          4.0      4.0      0.6      for pos in chess.SquareSet(board.promoted):\n",
      "   140                                                   row, col = get_row_col(pos)\n",
      "   141                                           \n",
      "   142                                                   if board.piece_at(pos).color == chess.WHITE:\n",
      "   143                                                       planes_pos[ch, row, col] = 1\n",
      "   144                                                   else:\n",
      "   145                                                       planes_pos[ch + 1, row, col] = 1\n",
      "   146                                           \n",
      "   147                                               # (III.2) En Passant Square\n",
      "   148                                               # mark the square where an en-passant capture is possible\n",
      "   149         1          1.0      1.0      0.2      ch = CHANNEL_MAPPING_POS[\"ep_square\"]\n",
      "   150         1          1.0      1.0      0.2      if board.ep_square is not None:\n",
      "   151                                                   row, col = get_row_col(board.ep_square)\n",
      "   152                                                   planes_pos[ch, row, col] = 1\n",
      "   153                                           \n",
      "   154                                               # (IV) Constant Value Inputs\n",
      "   155                                               # (IV.1) Color\n",
      "   156         1          2.0      2.0      0.3      if board_turn == chess.WHITE:\n",
      "   157                                                   planes_const[CHANNEL_MAPPING_CONST[\"color\"], :, :] = 1\n",
      "   158                                               # otherwise the mat will remain zero\n",
      "   159                                           \n",
      "   160                                               # (IV.2) Total Move Count\n",
      "   161         1          3.0      3.0      0.5      planes_const[CHANNEL_MAPPING_CONST[\"total_mv_cnt\"], :, :] = board.fullmove_number\n",
      "   162                                               # alternatively, you could use the half-moves-counter: len(board.move_stack)\n",
      "   163                                           \n",
      "   164                                               # (IV.3) Castling Rights\n",
      "   165         1          1.0      1.0      0.2      ch = CHANNEL_MAPPING_CONST[\"castling\"]\n",
      "   166                                           \n",
      "   167                                               # WHITE\n",
      "   168                                               # check for King Side Castling\n",
      "   169         1          2.0      2.0      0.3      if bool(board.castling_rights & chess.BB_H1) is True:\n",
      "   170                                                   # White can castle with the h1 rook\n",
      "   171                                                   planes_const[ch, :, :] = 1\n",
      "   172                                               # check for Queen Side Castling\n",
      "   173         1          1.0      1.0      0.2      if bool(board.castling_rights & chess.BB_A1) is True:\n",
      "   174                                                   planes_const[ch + 1, :, :] = 1\n",
      "   175                                           \n",
      "   176                                               # BLACK\n",
      "   177                                               # check for King Side Castling\n",
      "   178         1          2.0      2.0      0.3      if bool(board.castling_rights & chess.BB_H8) is True:\n",
      "   179                                                   # White can castle with the h1 rook\n",
      "   180                                                   planes_const[ch + 2, :, :] = 1\n",
      "   181                                               # check for Queen Side Castling\n",
      "   182         1          2.0      2.0      0.3      if bool(board.castling_rights & chess.BB_A8) is True:\n",
      "   183                                                   planes_const[ch + 3, :, :] = 1\n",
      "   184                                           \n",
      "   185                                               # (IV.4) No Progress Count\n",
      "   186                                               # define a no 'progress' counter\n",
      "   187                                               # it gets incremented by 1 each move\n",
      "   188                                               # however, whenever a piece gets dropped, a piece is captured or a pawn is moved, it is reset to 0\n",
      "   189                                               # halfmove_clock is an official metric in fen notation\n",
      "   190                                               #  -> see: https://en.wikipedia.org/wiki/Forsyth%E2%80%93Edwards_Notation\n",
      "   191         1          1.0      1.0      0.2      no_progress_cnt = board.halfmove_clock\n",
      "   192                                           \n",
      "   193                                               # check how often the position has already occurred in the game\n",
      "   194         1          3.0      3.0      0.5      planes_const[CHANNEL_MAPPING_CONST[\"no_progress_cnt\"], :, :] = no_progress_cnt\n",
      "   195                                           \n",
      "   196                                               # (V) Merge the Matrix-Stack\n",
      "   197         1         17.0     17.0      2.7      planes = np.concatenate((planes_pos, planes_const), axis=0)\n",
      "   198                                           \n",
      "   199                                               # revert the board if the players turn was black\n",
      "   200                                               # ! DO NOT DELETE OR UNCOMMENT THIS BLOCK BECAUSE THE PARAMETER board IS CHANGED IN PLACE !\n",
      "   201         1          1.0      1.0      0.2      if board_turn == chess.BLACK:\n",
      "   202         1         62.0     62.0     10.0          board = board.mirror()\n",
      "   203                                           \n",
      "   204         1          1.0      1.0      0.2      if normalize is True:\n",
      "   205         1         27.0     27.0      4.4          planes *= MATRIX_NORMALIZER\n",
      "   206                                                   # planes = normalize_input_planes(planes)\n",
      "   207                                           \n",
      "   208                                               # return the plane representation of the given board\n",
      "   209         1          1.0      1.0      0.2      return planes\n",
      "\n"
     ]
    }
   ],
   "source": [
    "%load_ext line_profiler\n",
    "r = %lprun -r -f board_to_planes board_to_planes(board)\n",
    "r.print_stats()"
   ]
  },
  {
   "cell_type": "code",
   "execution_count": 40,
   "metadata": {},
   "outputs": [
    {
     "name": "stdout",
     "output_type": "stream",
     "text": [
      "The line_profiler extension is already loaded. To reload it, use:\n",
      "  %reload_ext line_profiler\n",
      "Timer unit: 1e-06 s\n",
      "\n",
      "Total time: 0.000573 s\n",
      "File: ../../../DeepCrazyhouse/src/domain/crazyhouse/input_representation.py\n",
      "Function: board_to_planes at line 27\n",
      "\n",
      "Line #      Hits         Time  Per Hit   % Time  Line Contents\n",
      "==============================================================\n",
      "    27                                           def board_to_planes(board, board_occ=0, normalize=True):\n",
      "    28                                               \"\"\"\n",
      "    29                                               Gets the plane representation of a given board state.\n",
      "    30                                               (Now history of past board positions is used.)\n",
      "    31                                           \n",
      "    32                                               ## Crazyhouse:\n",
      "    33                                           \n",
      "    34                                               Feature | Planes\n",
      "    35                                           \n",
      "    36                                               --- | ---\n",
      "    37                                           \n",
      "    38                                               P1 piece | 6 (pieces are ordered: PAWN, KNIGHT, BISHOP, ROOK, QUEEN, KING)\n",
      "    39                                           \n",
      "    40                                               P2 piece | 6 (pieces are ordered: PAWN, KNIGHT, BISHOP, ROOK, QUEEN, KING)\n",
      "    41                                           \n",
      "    42                                               Repetitions | 2 (two planes (full zeros/ones) indicating how often the board positions has occurred)\n",
      "    43                                           \n",
      "    44                                               P1 prisoner count | 5 (pieces are ordered: PAWN, KNIGHT, BISHOP, ROOK, QUEEN) (excluding the KING)\n",
      "    45                                           \n",
      "    46                                               P2 prisoner count | 5 (pieces are ordered: PAWN, KNIGHT, BISHOP, ROOK, QUEEN) (excluding the KING)\n",
      "    47                                           \n",
      "    48                                               P1 Promoted Pawns Mask | 1 (binary map indicating the pieces which have been promoted)\n",
      "    49                                           \n",
      "    50                                               P2 Promoted Pawns Mask | 1 (binary map indicating the pieces which have been promoted)\n",
      "    51                                           \n",
      "    52                                               En-passant square | 1 (Binary map indicating the square where en-passant capture is possible)\n",
      "    53                                           \n",
      "    54                                               ---\n",
      "    55                                               27 planes\n",
      "    56                                           \n",
      "    57                                               * * *\n",
      "    58                                           \n",
      "    59                                               Colour | 1 (all zeros for black and all ones for white)\n",
      "    60                                           \n",
      "    61                                               Total move count | 1 (integer value setting the move count (uci notation))\n",
      "    62                                           \n",
      "    63                                               P1 castling | 2 (One if castling is possible, else zero)\n",
      "    64                                           \n",
      "    65                                               P2 castling | 2 (One if castling is possible, else zero)\n",
      "    66                                           \n",
      "    67                                               No-progress count | 1 (Setting the no progress counter as integer values, (described by uci halfmoves format)\n",
      "    68                                           \n",
      "    69                                               # --------------\n",
      "    70                                               7 planes\n",
      "    71                                           \n",
      "    72                                               The history list of the past 7 board states have been removed\n",
      "    73                                               The total number of planes is calculated as follows:\n",
      "    74                                           \n",
      "    75                                               27 + 7\n",
      "    76                                               Total: 34 planes\n",
      "    77                                           \n",
      "    78                                               :param board: Board handle (Python-chess object)\n",
      "    79                                               :param board_occ: Sets how often the board state has occurred before (by default 0)\n",
      "    80                                               :param normalize: True if the inputs shall be normalized to the range [0.-1.]\n",
      "    81                                               :return: planes - the plane representation of the current board state\n",
      "    82                                               \"\"\"\n",
      "    83                                           \n",
      "    84                                               # TODO: Remove board.mirror() for black by addressing the according color channel\n",
      "    85                                           \n",
      "    86                                               # (I) Define the Input Representation for one position\n",
      "    87         1         12.0     12.0      2.1      planes_pos = np.zeros((NB_CHANNELS_POS, BOARD_HEIGHT, BOARD_WIDTH))\n",
      "    88         1          5.0      5.0      0.9      planes_const = np.zeros((NB_CHANNELS_CONST, BOARD_HEIGHT, BOARD_WIDTH))\n",
      "    89                                           \n",
      "    90                                               # save whose turn it is\n",
      "    91         1          2.0      2.0      0.3      board_turn = chess.WHITE\n",
      "    92                                           \n",
      "    93                                               # check who's player turn it is and flip the board if it's black turn\n",
      "    94         1          2.0      2.0      0.3      if board.turn == chess.BLACK:\n",
      "    95         1          1.0      1.0      0.2          board_turn = chess.BLACK\n",
      "    96         1         83.0     83.0     14.5          board = board.mirror()\n",
      "    97                                           \n",
      "    98                                               # Fill in the piece positions\n",
      "    99                                           \n",
      "   100                                               # Iterate over both color starting with WHITE\n",
      "   101         3          5.0      1.7      0.9      for z, color in enumerate(chess.COLORS):\n",
      "   102                                                   # the PIECE_TYPE is an integer list in python-chess\n",
      "   103        14         18.0      1.3      3.1          for piece_type in chess.PIECE_TYPES:\n",
      "   104                                                       # define the channel by the piecetype (the input representation uses the same ordering as python-chess)\n",
      "   105                                                       # we add an offset for the black pieces\n",
      "   106                                                       # note that we subtract 1 because in python chess the PAWN has index 1 and not 0\n",
      "   107        12         19.0      1.6      3.3              channel = (piece_type - 1) + z * len(chess.PIECE_TYPES)\n",
      "   108                                                       # iterate over the piece mask and receive every position square of it\n",
      "   109        37        139.0      3.8     24.3              for pos in board.pieces(piece_type, color):\n",
      "   110        25         59.0      2.4     10.3                  row, col = get_row_col(pos)\n",
      "   111                                                           # set the bit at the right position\n",
      "   112        25         37.0      1.5      6.5                  planes_pos[channel, row, col] = 1\n",
      "   113                                           \n",
      "   114                                               # (II) Fill in the Repetition Data\n",
      "   115                                               # a game to test out if everything is working correctly is: https://lichess.org/jkItXBWy#73\n",
      "   116         1          2.0      2.0      0.3      ch = CHANNEL_MAPPING_POS[\"repetitions\"]\n",
      "   117                                           \n",
      "   118                                               # set how often the position has already occurred in the game (default 0 times)\n",
      "   119                                               # this is used to check for claiming the 3 fold repetition rule\n",
      "   120         1          1.0      1.0      0.2      if board_occ >= 1:\n",
      "   121                                                   planes_pos[ch, :, :] = 1\n",
      "   122                                                   if board_occ >= 2:\n",
      "   123                                                       planes_pos[ch + 1, :, :] = 1\n",
      "   124                                           \n",
      "   125                                               # Fill in the Prisoners / Pocket Pieces\n",
      "   126                                           \n",
      "   127                                               # iterate over all pieces except the king\n",
      "   128         6          8.0      1.3      1.4      for p_type in chess.PIECE_TYPES[:-1]:\n",
      "   129                                                   # p_type -1 because p_type starts with 1\n",
      "   130         5          8.0      1.6      1.4          ch = CHANNEL_MAPPING_POS[\"prisoners\"] + p_type - 1\n",
      "   131                                           \n",
      "   132         5         27.0      5.4      4.7          planes_pos[ch, :, :] = board.pockets[chess.WHITE].count(p_type)\n",
      "   133                                                   # the prison for black begins 5 channels later\n",
      "   134         5         18.0      3.6      3.1          planes_pos[ch + 5, :, :] = board.pockets[chess.BLACK].count(p_type)\n",
      "   135                                           \n",
      "   136                                               # (III) Fill in the promoted pieces\n",
      "   137                                               # iterate over all promoted pieces according to the mask and set the according bit\n",
      "   138         1          2.0      2.0      0.3      ch = CHANNEL_MAPPING_POS[\"promo\"]\n",
      "   139         1          5.0      5.0      0.9      for pos in chess.SquareSet(board.promoted):\n",
      "   140                                                   row, col = get_row_col(pos)\n",
      "   141                                           \n",
      "   142                                                   if board.piece_at(pos).color == chess.WHITE:\n",
      "   143                                                       planes_pos[ch, row, col] = 1\n",
      "   144                                                   else:\n",
      "   145                                                       planes_pos[ch + 1, row, col] = 1\n",
      "   146                                           \n",
      "   147                                               # (III.2) En Passant Square\n",
      "   148                                               # mark the square where an en-passant capture is possible\n",
      "   149         1          1.0      1.0      0.2      ch = CHANNEL_MAPPING_POS[\"ep_square\"]\n",
      "   150         1          1.0      1.0      0.2      if board.ep_square is not None:\n",
      "   151                                                   row, col = get_row_col(board.ep_square)\n",
      "   152                                                   planes_pos[ch, row, col] = 1\n",
      "   153                                           \n",
      "   154                                               # (IV) Constant Value Inputs\n",
      "   155                                               # (IV.1) Color\n",
      "   156         1          2.0      2.0      0.3      if board_turn == chess.WHITE:\n",
      "   157                                                   planes_const[CHANNEL_MAPPING_CONST[\"color\"], :, :] = 1\n",
      "   158                                               # otherwise the mat will remain zero\n",
      "   159                                           \n",
      "   160                                               # (IV.2) Total Move Count\n",
      "   161         1          3.0      3.0      0.5      planes_const[CHANNEL_MAPPING_CONST[\"total_mv_cnt\"], :, :] = board.fullmove_number\n",
      "   162                                               # alternatively, you could use the half-moves-counter: len(board.move_stack)\n",
      "   163                                           \n",
      "   164                                               # (IV.3) Castling Rights\n",
      "   165         1          1.0      1.0      0.2      ch = CHANNEL_MAPPING_CONST[\"castling\"]\n",
      "   166                                           \n",
      "   167                                               # WHITE\n",
      "   168                                               # check for King Side Castling\n",
      "   169         1          2.0      2.0      0.3      if bool(board.castling_rights & chess.BB_H1) is True:\n",
      "   170                                                   # White can castle with the h1 rook\n",
      "   171                                                   planes_const[ch, :, :] = 1\n",
      "   172                                               # check for Queen Side Castling\n",
      "   173         1          2.0      2.0      0.3      if bool(board.castling_rights & chess.BB_A1) is True:\n",
      "   174                                                   planes_const[ch + 1, :, :] = 1\n",
      "   175                                           \n",
      "   176                                               # BLACK\n",
      "   177                                               # check for King Side Castling\n",
      "   178         1          2.0      2.0      0.3      if bool(board.castling_rights & chess.BB_H8) is True:\n",
      "   179                                                   # White can castle with the h1 rook\n",
      "   180                                                   planes_const[ch + 2, :, :] = 1\n",
      "   181                                               # check for Queen Side Castling\n",
      "   182         1          2.0      2.0      0.3      if bool(board.castling_rights & chess.BB_A8) is True:\n",
      "   183                                                   planes_const[ch + 3, :, :] = 1\n",
      "   184                                           \n",
      "   185                                               # (IV.4) No Progress Count\n",
      "   186                                               # define a no 'progress' counter\n",
      "   187                                               # it gets incremented by 1 each move\n",
      "   188                                               # however, whenever a piece gets dropped, a piece is captured or a pawn is moved, it is reset to 0\n",
      "   189                                               # halfmove_clock is an official metric in fen notation\n",
      "   190                                               #  -> see: https://en.wikipedia.org/wiki/Forsyth%E2%80%93Edwards_Notation\n",
      "   191         1          2.0      2.0      0.3      no_progress_cnt = board.halfmove_clock\n",
      "   192                                           \n",
      "   193                                               # check how often the position has already occurred in the game\n",
      "   194         1          3.0      3.0      0.5      planes_const[CHANNEL_MAPPING_CONST[\"no_progress_cnt\"], :, :] = no_progress_cnt\n",
      "   195                                           \n",
      "   196                                               # (V) Merge the Matrix-Stack\n",
      "   197         1         13.0     13.0      2.3      planes = np.concatenate((planes_pos, planes_const), axis=0)\n",
      "   198                                           \n",
      "   199                                               # revert the board if the players turn was black\n",
      "   200                                               # ! DO NOT DELETE OR UNCOMMENT THIS BLOCK BECAUSE THE PARAMETER board IS CHANGED IN PLACE !\n",
      "   201         1          2.0      2.0      0.3      if board_turn == chess.BLACK:\n",
      "   202         1         58.0     58.0     10.1          board = board.mirror()\n",
      "   203                                           \n",
      "   204         1          2.0      2.0      0.3      if normalize is True:\n",
      "   205         1         23.0     23.0      4.0          planes *= MATRIX_NORMALIZER\n",
      "   206                                                   # planes = normalize_input_planes(planes)\n",
      "   207                                           \n",
      "   208                                               # return the plane representation of the given board\n",
      "   209         1          1.0      1.0      0.2      return planes\n",
      "\n"
     ]
    }
   ],
   "source": [
    "%load_ext line_profiler\n",
    "r = %lprun -r -f board_to_planes board_to_planes(board)\n",
    "r.print_stats()"
   ]
  },
  {
   "cell_type": "code",
   "execution_count": null,
   "metadata": {
    "collapsed": true
   },
   "outputs": [],
   "source": []
  }
 ],
 "metadata": {
  "kernelspec": {
   "display_name": "Python 3",
   "language": "python",
   "name": "python3"
  },
  "language_info": {
   "codemirror_mode": {
    "name": "ipython",
    "version": 3
   },
   "file_extension": ".py",
   "mimetype": "text/x-python",
   "name": "python",
   "nbconvert_exporter": "python",
   "pygments_lexer": "ipython3",
   "version": "3.6.2"
  }
 },
 "nbformat": 4,
 "nbformat_minor": 2
}

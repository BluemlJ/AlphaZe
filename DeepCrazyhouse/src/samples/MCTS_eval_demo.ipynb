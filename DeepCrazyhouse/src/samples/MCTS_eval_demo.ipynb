{
 "cells": [
  {
   "cell_type": "markdown",
   "metadata": {},
   "source": [
    "### Demonstration of an evaluation based on the MCTSAgent"
   ]
  },
  {
   "cell_type": "code",
   "execution_count": 1,
   "metadata": {
    "collapsed": true
   },
   "outputs": [],
   "source": [
    "%load_ext autoreload\n",
    "%autoreload 2"
   ]
  },
  {
   "cell_type": "code",
   "execution_count": 2,
   "metadata": {
    "collapsed": true
   },
   "outputs": [],
   "source": [
    "%reload_ext autoreload"
   ]
  },
  {
   "cell_type": "code",
   "execution_count": 3,
   "metadata": {
    "collapsed": true
   },
   "outputs": [],
   "source": [
    "import chess\n",
    "import chess.variant\n",
    "import matplotlib.pyplot as plt\n",
    "import numpy as np\n",
    "import sys\n",
    "sys.path.insert(0,'../../../')\n",
    "from DeepCrazyhouse.src.runtime.color_logger import enable_color_logging\n",
    "from DeepCrazyhouse.src.domain.agent.neural_net_api import NeuralNetAPI\n",
    "from DeepCrazyhouse.src.domain.agent.player.mcts_agent import MCTSAgent\n",
    "from DeepCrazyhouse.src.domain.agent.player.raw_net_agent import RawNetAgent\n",
    "from DeepCrazyhouse.src.domain.crazyhouse.game_state import GameState\n",
    "from DeepCrazyhouse.src.runtime.color_logger import enable_color_logging\n",
    "from time import time\n",
    "%matplotlib inline\n",
    "plt.style.use('seaborn-whitegrid')\n",
    "enable_color_logging()"
   ]
  },
  {
   "cell_type": "code",
   "execution_count": 4,
   "metadata": {
    "collapsed": true
   },
   "outputs": [],
   "source": [
    "batch_size = 8"
   ]
  },
  {
   "cell_type": "code",
   "execution_count": 5,
   "metadata": {},
   "outputs": [
    {
     "name": "stdout",
     "output_type": "stream",
     "text": [
      "self.symbol_path: /media/queensgambit/5C483A84483A5CC8/Deep_Learning/data/lichess/Crazyhouse/model/symbol/model-1.25948-0.589-symbol.json\n",
      "self.params_path: /media/queensgambit/5C483A84483A5CC8/Deep_Learning/data/lichess/Crazyhouse/model/params/model-1.25948-0.589-0246.params\n",
      "self.symbol_path: /media/queensgambit/5C483A84483A5CC8/Deep_Learning/data/lichess/Crazyhouse/model/symbol/model-1.25948-0.589-symbol.json\n",
      "self.params_path: /media/queensgambit/5C483A84483A5CC8/Deep_Learning/data/lichess/Crazyhouse/model/params/model-1.25948-0.589-0246.params\n"
     ]
    }
   ],
   "source": [
    "nets = []\n",
    "for idx in range(2):\n",
    "    nets.append(NeuralNetAPI(ctx='gpu', batch_size=batch_size))"
   ]
  },
  {
   "cell_type": "code",
   "execution_count": 6,
   "metadata": {
    "collapsed": true
   },
   "outputs": [],
   "source": [
    "raw_agent = RawNetAgent(nets[0])"
   ]
  },
  {
   "cell_type": "code",
   "execution_count": 7,
   "metadata": {
    "collapsed": true
   },
   "outputs": [],
   "source": [
    "mcts_agent = MCTSAgent(nets, threads=16, playouts_empty_pockets=4096*5, playouts_filled_pockets=4096*5,\n",
    "                 cpuct=2.5, dirichlet_epsilon=.25, dirichlet_alpha=0.2, batch_size=batch_size, q_value_weight=0.7,\n",
    "                 max_search_depth=40, temperature=.07, virtual_loss=3, verbose=True, temperature_moves=0,\n",
    "                 min_movetime=10000*1, check_mate_in_one=False, use_oscillating_cpuct=False, use_pruning=True, opening_guard_moves=0)"
   ]
  },
  {
   "cell_type": "code",
   "execution_count": 8,
   "metadata": {},
   "outputs": [
    {
     "data": {
      "image/svg+xml": [
       "<svg height=\"400\" version=\"1.1\" viewBox=\"0 0 400 400\" width=\"400\" xmlns=\"http://www.w3.org/2000/svg\" xmlns:xlink=\"http://www.w3.org/1999/xlink\"><defs><g class=\"white pawn\" id=\"white-pawn\"><path d=\"M22 9c-2.21 0-4 1.79-4 4 0 .89.29 1.71.78 2.38-1.95 1.12-3.28 3.21-3.28 5.62 0 2.03.94 3.84 2.41 5.03-3 1.06-7.41 5.55-7.41 13.47h23c0-7.92-4.41-12.41-7.41-13.47 1.47-1.19 2.41-3 2.41-5.03 0-2.41-1.33-4.5-3.28-5.62.49-.67.78-1.49.78-2.38 0-2.21-1.79-4-4-4z\" fill=\"#fff\" stroke=\"#000\" stroke-linecap=\"round\" stroke-width=\"1.5\" /></g><g class=\"white knight\" fill=\"none\" fill-rule=\"evenodd\" id=\"white-knight\" stroke=\"#000\" stroke-linecap=\"round\" stroke-linejoin=\"round\" stroke-width=\"1.5\"><path d=\"M 22,10 C 32.5,11 38.5,18 38,39 L 15,39 C 15,30 25,32.5 23,18\" style=\"fill:#ffffff; stroke:#000000;\" /><path d=\"M 24,18 C 24.38,20.91 18.45,25.37 16,27 C 13,29 13.18,31.34 11,31 C 9.958,30.06 12.41,27.96 11,28 C 10,28 11.19,29.23 10,30 C 9,30 5.997,31 6,26 C 6,24 12,14 12,14 C 12,14 13.89,12.1 14,10.5 C 13.27,9.506 13.5,8.5 13.5,7.5 C 14.5,6.5 16.5,10 16.5,10 L 18.5,10 C 18.5,10 19.28,8.008 21,7 C 22,7 22,10 22,10\" style=\"fill:#ffffff; stroke:#000000;\" /><path d=\"M 9.5 25.5 A 0.5 0.5 0 1 1 8.5,25.5 A 0.5 0.5 0 1 1 9.5 25.5 z\" style=\"fill:#000000; stroke:#000000;\" /><path d=\"M 15 15.5 A 0.5 1.5 0 1 1 14,15.5 A 0.5 1.5 0 1 1 15 15.5 z\" style=\"fill:#000000; stroke:#000000;\" transform=\"matrix(0.866,0.5,-0.5,0.866,9.693,-5.173)\" /></g><g class=\"white bishop\" fill=\"none\" fill-rule=\"evenodd\" id=\"white-bishop\" stroke=\"#000\" stroke-linecap=\"round\" stroke-linejoin=\"round\" stroke-width=\"1.5\"><g fill=\"#fff\" stroke-linecap=\"butt\"><path d=\"M9 36c3.39-.97 10.11.43 13.5-2 3.39 2.43 10.11 1.03 13.5 2 0 0 1.65.54 3 2-.68.97-1.65.99-3 .5-3.39-.97-10.11.46-13.5-1-3.39 1.46-10.11.03-13.5 1-1.354.49-2.323.47-3-.5 1.354-1.94 3-2 3-2zM15 32c2.5 2.5 12.5 2.5 15 0 .5-1.5 0-2 0-2 0-2.5-2.5-4-2.5-4 5.5-1.5 6-11.5-5-15.5-11 4-10.5 14-5 15.5 0 0-2.5 1.5-2.5 4 0 0-.5.5 0 2zM25 8a2.5 2.5 0 1 1-5 0 2.5 2.5 0 1 1 5 0z\" /></g><path d=\"M17.5 26h10M15 30h15m-7.5-14.5v5M20 18h5\" stroke-linejoin=\"miter\" /></g><g class=\"white king\" fill=\"none\" fill-rule=\"evenodd\" id=\"white-king\" stroke=\"#000\" stroke-linecap=\"round\" stroke-linejoin=\"round\" stroke-width=\"1.5\"><path d=\"M22.5 11.63V6M20 8h5\" stroke-linejoin=\"miter\" /><path d=\"M22.5 25s4.5-7.5 3-10.5c0 0-1-2.5-3-2.5s-3 2.5-3 2.5c-1.5 3 3 10.5 3 10.5\" fill=\"#fff\" stroke-linecap=\"butt\" stroke-linejoin=\"miter\" /><path d=\"M11.5 37c5.5 3.5 15.5 3.5 21 0v-7s9-4.5 6-10.5c-4-6.5-13.5-3.5-16 4V27v-3.5c-3.5-7.5-13-10.5-16-4-3 6 5 10 5 10V37z\" fill=\"#fff\" /><path d=\"M11.5 30c5.5-3 15.5-3 21 0m-21 3.5c5.5-3 15.5-3 21 0m-21 3.5c5.5-3 15.5-3 21 0\" /></g><g class=\"black pawn\" id=\"black-pawn\"><path d=\"M22 9c-2.21 0-4 1.79-4 4 0 .89.29 1.71.78 2.38-1.95 1.12-3.28 3.21-3.28 5.62 0 2.03.94 3.84 2.41 5.03-3 1.06-7.41 5.55-7.41 13.47h23c0-7.92-4.41-12.41-7.41-13.47 1.47-1.19 2.41-3 2.41-5.03 0-2.41-1.33-4.5-3.28-5.62.49-.67.78-1.49.78-2.38 0-2.21-1.79-4-4-4z\" stroke=\"#000\" stroke-linecap=\"round\" stroke-width=\"1.5\" /></g><g class=\"black bishop\" fill=\"none\" fill-rule=\"evenodd\" id=\"black-bishop\" stroke=\"#000\" stroke-linecap=\"round\" stroke-linejoin=\"round\" stroke-width=\"1.5\"><path d=\"M9 36c3.39-.97 10.11.43 13.5-2 3.39 2.43 10.11 1.03 13.5 2 0 0 1.65.54 3 2-.68.97-1.65.99-3 .5-3.39-.97-10.11.46-13.5-1-3.39 1.46-10.11.03-13.5 1-1.354.49-2.323.47-3-.5 1.354-1.94 3-2 3-2zm6-4c2.5 2.5 12.5 2.5 15 0 .5-1.5 0-2 0-2 0-2.5-2.5-4-2.5-4 5.5-1.5 6-11.5-5-15.5-11 4-10.5 14-5 15.5 0 0-2.5 1.5-2.5 4 0 0-.5.5 0 2zM25 8a2.5 2.5 0 1 1-5 0 2.5 2.5 0 1 1 5 0z\" fill=\"#000\" stroke-linecap=\"butt\" /><path d=\"M17.5 26h10M15 30h15m-7.5-14.5v5M20 18h5\" stroke=\"#fff\" stroke-linejoin=\"miter\" /></g><g class=\"black rook\" fill=\"#000\" fill-rule=\"evenodd\" id=\"black-rook\" stroke=\"#000\" stroke-linecap=\"round\" stroke-linejoin=\"round\" stroke-width=\"1.5\"><path d=\"M9 39h27v-3H9v3zM12.5 32l1.5-2.5h17l1.5 2.5h-20zM12 36v-4h21v4H12z\" stroke-linecap=\"butt\" /><path d=\"M14 29.5v-13h17v13H14z\" stroke-linecap=\"butt\" stroke-linejoin=\"miter\" /><path d=\"M14 16.5L11 14h23l-3 2.5H14zM11 14V9h4v2h5V9h5v2h5V9h4v5H11z\" stroke-linecap=\"butt\" /><path d=\"M12 35.5h21M13 31.5h19M14 29.5h17M14 16.5h17M11 14h23\" fill=\"none\" stroke=\"#fff\" stroke-linejoin=\"miter\" stroke-width=\"1\" /></g><g class=\"black queen\" fill=\"#000\" fill-rule=\"evenodd\" id=\"black-queen\" stroke=\"#000\" stroke-linecap=\"round\" stroke-linejoin=\"round\" stroke-width=\"1.5\"><g fill=\"#000\" stroke=\"none\"><circle cx=\"6\" cy=\"12\" r=\"2.75\" /><circle cx=\"14\" cy=\"9\" r=\"2.75\" /><circle cx=\"22.5\" cy=\"8\" r=\"2.75\" /><circle cx=\"31\" cy=\"9\" r=\"2.75\" /><circle cx=\"39\" cy=\"12\" r=\"2.75\" /></g><path d=\"M9 26c8.5-1.5 21-1.5 27 0l2.5-12.5L31 25l-.3-14.1-5.2 13.6-3-14.5-3 14.5-5.2-13.6L14 25 6.5 13.5 9 26zM9 26c0 2 1.5 2 2.5 4 1 1.5 1 1 .5 3.5-1.5 1-1.5 2.5-1.5 2.5-1.5 1.5.5 2.5.5 2.5 6.5 1 16.5 1 23 0 0 0 1.5-1 0-2.5 0 0 .5-1.5-1-2.5-.5-2.5-.5-2 .5-3.5 1-2 2.5-2 2.5-4-8.5-1.5-18.5-1.5-27 0z\" stroke-linecap=\"butt\" /><path d=\"M11 38.5a35 35 1 0 0 23 0\" fill=\"none\" stroke-linecap=\"butt\" /><path d=\"M11 29a35 35 1 0 1 23 0M12.5 31.5h20M11.5 34.5a35 35 1 0 0 22 0M10.5 37.5a35 35 1 0 0 24 0\" fill=\"none\" stroke=\"#fff\" /></g><g class=\"black king\" fill=\"none\" fill-rule=\"evenodd\" id=\"black-king\" stroke=\"#000\" stroke-linecap=\"round\" stroke-linejoin=\"round\" stroke-width=\"1.5\"><path d=\"M22.5 11.63V6\" stroke-linejoin=\"miter\" /><path d=\"M22.5 25s4.5-7.5 3-10.5c0 0-1-2.5-3-2.5s-3 2.5-3 2.5c-1.5 3 3 10.5 3 10.5\" fill=\"#000\" stroke-linecap=\"butt\" stroke-linejoin=\"miter\" /><path d=\"M11.5 37c5.5 3.5 15.5 3.5 21 0v-7s9-4.5 6-10.5c-4-6.5-13.5-3.5-16 4V27v-3.5c-3.5-7.5-13-10.5-16-4-3 6 5 10 5 10V37z\" fill=\"#000\" /><path d=\"M20 8h5\" stroke-linejoin=\"miter\" /><path d=\"M32 29.5s8.5-4 6.03-9.65C34.15 14 25 18 22.5 24.5l.01 2.1-.01-2.1C20 18 9.906 14 6.997 19.85c-2.497 5.65 4.853 9 4.853 9M11.5 30c5.5-3 15.5-3 21 0m-21 3.5c5.5-3 15.5-3 21 0m-21 3.5c5.5-3 15.5-3 21 0\" stroke=\"#fff\" /></g></defs><rect class=\"square dark a1\" fill=\"#d18b47\" height=\"45\" stroke=\"none\" width=\"45\" x=\"20\" y=\"335\" /><rect class=\"square light b1\" fill=\"#ffce9e\" height=\"45\" stroke=\"none\" width=\"45\" x=\"65\" y=\"335\" /><rect class=\"square dark c1\" fill=\"#d18b47\" height=\"45\" stroke=\"none\" width=\"45\" x=\"110\" y=\"335\" /><rect class=\"square light d1\" fill=\"#ffce9e\" height=\"45\" stroke=\"none\" width=\"45\" x=\"155\" y=\"335\" /><rect class=\"square dark e1\" fill=\"#d18b47\" height=\"45\" stroke=\"none\" width=\"45\" x=\"200\" y=\"335\" /><rect class=\"square light f1\" fill=\"#ffce9e\" height=\"45\" stroke=\"none\" width=\"45\" x=\"245\" y=\"335\" /><use transform=\"translate(245, 335)\" xlink:href=\"#white-knight\" /><rect class=\"square dark g1\" fill=\"#d18b47\" height=\"45\" stroke=\"none\" width=\"45\" x=\"290\" y=\"335\" /><rect class=\"square light h1\" fill=\"#ffce9e\" height=\"45\" stroke=\"none\" width=\"45\" x=\"335\" y=\"335\" /><rect class=\"square light a2\" fill=\"#ffce9e\" height=\"45\" stroke=\"none\" width=\"45\" x=\"20\" y=\"290\" /><use transform=\"translate(20, 290)\" xlink:href=\"#white-pawn\" /><rect class=\"square dark b2\" fill=\"#d18b47\" height=\"45\" stroke=\"none\" width=\"45\" x=\"65\" y=\"290\" /><use transform=\"translate(65, 290)\" xlink:href=\"#white-pawn\" /><rect class=\"square light c2\" fill=\"#ffce9e\" height=\"45\" stroke=\"none\" width=\"45\" x=\"110\" y=\"290\" /><use transform=\"translate(110, 290)\" xlink:href=\"#white-pawn\" /><rect class=\"square dark d2\" fill=\"#d18b47\" height=\"45\" stroke=\"none\" width=\"45\" x=\"155\" y=\"290\" /><rect class=\"square light e2\" fill=\"#ffce9e\" height=\"45\" stroke=\"none\" width=\"45\" x=\"200\" y=\"290\" /><use transform=\"translate(200, 290)\" xlink:href=\"#white-knight\" /><rect class=\"square dark f2\" fill=\"#d18b47\" height=\"45\" stroke=\"none\" width=\"45\" x=\"245\" y=\"290\" /><rect class=\"square light g2\" fill=\"#ffce9e\" height=\"45\" stroke=\"none\" width=\"45\" x=\"290\" y=\"290\" /><use transform=\"translate(290, 290)\" xlink:href=\"#white-knight\" /><rect class=\"square dark h2\" fill=\"#d18b47\" height=\"45\" stroke=\"none\" width=\"45\" x=\"335\" y=\"290\" /><rect class=\"square dark a3\" fill=\"#d18b47\" height=\"45\" stroke=\"none\" width=\"45\" x=\"20\" y=\"245\" /><rect class=\"square light b3\" fill=\"#ffce9e\" height=\"45\" stroke=\"none\" width=\"45\" x=\"65\" y=\"245\" /><rect class=\"square dark c3\" fill=\"#d18b47\" height=\"45\" stroke=\"none\" width=\"45\" x=\"110\" y=\"245\" /><rect class=\"square light d3\" fill=\"#ffce9e\" height=\"45\" stroke=\"none\" width=\"45\" x=\"155\" y=\"245\" /><rect class=\"square dark e3\" fill=\"#d18b47\" height=\"45\" stroke=\"none\" width=\"45\" x=\"200\" y=\"245\" /><use transform=\"translate(200, 245)\" xlink:href=\"#white-bishop\" /><rect class=\"square light f3\" fill=\"#ffce9e\" height=\"45\" stroke=\"none\" width=\"45\" x=\"245\" y=\"245\" /><use transform=\"translate(245, 245)\" xlink:href=\"#black-rook\" /><rect class=\"square dark g3\" fill=\"#d18b47\" height=\"45\" stroke=\"none\" width=\"45\" x=\"290\" y=\"245\" /><use transform=\"translate(290, 245)\" xlink:href=\"#white-knight\" /><rect class=\"square light h3\" fill=\"#ffce9e\" height=\"45\" stroke=\"none\" width=\"45\" x=\"335\" y=\"245\" /><use transform=\"translate(335, 245)\" xlink:href=\"#white-king\" /><rect class=\"square light a4\" fill=\"#ffce9e\" height=\"45\" stroke=\"none\" width=\"45\" x=\"20\" y=\"200\" /><rect class=\"square dark b4\" fill=\"#d18b47\" height=\"45\" stroke=\"none\" width=\"45\" x=\"65\" y=\"200\" /><rect class=\"square light c4\" fill=\"#ffce9e\" height=\"45\" stroke=\"none\" width=\"45\" x=\"110\" y=\"200\" /><rect class=\"square dark d4\" fill=\"#d18b47\" height=\"45\" stroke=\"none\" width=\"45\" x=\"155\" y=\"200\" /><use transform=\"translate(155, 200)\" xlink:href=\"#white-pawn\" /><rect class=\"square light e4\" fill=\"#ffce9e\" height=\"45\" stroke=\"none\" width=\"45\" x=\"200\" y=\"200\" /><use transform=\"translate(200, 200)\" xlink:href=\"#black-pawn\" /><rect class=\"square dark f4\" fill=\"#d18b47\" height=\"45\" stroke=\"none\" width=\"45\" x=\"245\" y=\"200\" /><rect class=\"square light g4\" fill=\"#ffce9e\" height=\"45\" stroke=\"none\" width=\"45\" x=\"290\" y=\"200\" /><rect class=\"square dark h4\" fill=\"#d18b47\" height=\"45\" stroke=\"none\" width=\"45\" x=\"335\" y=\"200\" /><rect class=\"square dark a5\" fill=\"#d18b47\" height=\"45\" stroke=\"none\" width=\"45\" x=\"20\" y=\"155\" /><rect class=\"square light b5\" fill=\"#ffce9e\" height=\"45\" stroke=\"none\" width=\"45\" x=\"65\" y=\"155\" /><rect class=\"square dark c5\" fill=\"#d18b47\" height=\"45\" stroke=\"none\" width=\"45\" x=\"110\" y=\"155\" /><rect class=\"square light d5\" fill=\"#ffce9e\" height=\"45\" stroke=\"none\" width=\"45\" x=\"155\" y=\"155\" /><rect class=\"square dark e5\" fill=\"#d18b47\" height=\"45\" stroke=\"none\" width=\"45\" x=\"200\" y=\"155\" /><use transform=\"translate(200, 155)\" xlink:href=\"#white-pawn\" /><rect class=\"square light f5\" fill=\"#ffce9e\" height=\"45\" stroke=\"none\" width=\"45\" x=\"245\" y=\"155\" /><rect class=\"square dark g5\" fill=\"#d18b47\" height=\"45\" stroke=\"none\" width=\"45\" x=\"290\" y=\"155\" /><rect class=\"square light h5\" fill=\"#ffce9e\" height=\"45\" stroke=\"none\" width=\"45\" x=\"335\" y=\"155\" /><rect class=\"square light a6\" fill=\"#ffce9e\" height=\"45\" stroke=\"none\" width=\"45\" x=\"20\" y=\"110\" /><use transform=\"translate(20, 110)\" xlink:href=\"#black-pawn\" /><rect class=\"square dark b6\" fill=\"#d18b47\" height=\"45\" stroke=\"none\" width=\"45\" x=\"65\" y=\"110\" /><rect class=\"square light c6\" fill=\"#ffce9e\" height=\"45\" stroke=\"none\" width=\"45\" x=\"110\" y=\"110\" /><use transform=\"translate(110, 110)\" xlink:href=\"#black-pawn\" /><rect class=\"square dark d6\" fill=\"#d18b47\" height=\"45\" stroke=\"none\" width=\"45\" x=\"155\" y=\"110\" /><rect class=\"square light e6\" fill=\"#ffce9e\" height=\"45\" stroke=\"none\" width=\"45\" x=\"200\" y=\"110\" /><use transform=\"translate(200, 110)\" xlink:href=\"#black-pawn\" /><rect class=\"square dark f6\" fill=\"#d18b47\" height=\"45\" stroke=\"none\" width=\"45\" x=\"245\" y=\"110\" /><rect class=\"square light g6\" fill=\"#ffce9e\" height=\"45\" stroke=\"none\" width=\"45\" x=\"290\" y=\"110\" /><rect class=\"square dark h6\" fill=\"#d18b47\" height=\"45\" stroke=\"none\" width=\"45\" x=\"335\" y=\"110\" /><rect class=\"square dark a7\" fill=\"#d18b47\" height=\"45\" stroke=\"none\" width=\"45\" x=\"20\" y=\"65\" /><rect class=\"square light b7\" fill=\"#ffce9e\" height=\"45\" stroke=\"none\" width=\"45\" x=\"65\" y=\"65\" /><use transform=\"translate(65, 65)\" xlink:href=\"#white-bishop\" /><rect class=\"square dark c7\" fill=\"#d18b47\" height=\"45\" stroke=\"none\" width=\"45\" x=\"110\" y=\"65\" /><use transform=\"translate(110, 65)\" xlink:href=\"#black-pawn\" /><rect class=\"square light d7\" fill=\"#ffce9e\" height=\"45\" stroke=\"none\" width=\"45\" x=\"155\" y=\"65\" /><rect class=\"square dark e7\" fill=\"#d18b47\" height=\"45\" stroke=\"none\" width=\"45\" x=\"200\" y=\"65\" /><rect class=\"square light f7\" fill=\"#ffce9e\" height=\"45\" stroke=\"none\" width=\"45\" x=\"245\" y=\"65\" /><use transform=\"translate(245, 65)\" xlink:href=\"#black-pawn\" /><rect class=\"square dark g7\" fill=\"#d18b47\" height=\"45\" stroke=\"none\" width=\"45\" x=\"290\" y=\"65\" /><use transform=\"translate(290, 65)\" xlink:href=\"#black-pawn\" /><rect class=\"square light h7\" fill=\"#ffce9e\" height=\"45\" stroke=\"none\" width=\"45\" x=\"335\" y=\"65\" /><use transform=\"translate(335, 65)\" xlink:href=\"#black-pawn\" /><rect class=\"square light a8\" fill=\"#ffce9e\" height=\"45\" stroke=\"none\" width=\"45\" x=\"20\" y=\"20\" /><use transform=\"translate(20, 20)\" xlink:href=\"#black-rook\" /><rect class=\"square dark b8\" fill=\"#d18b47\" height=\"45\" stroke=\"none\" width=\"45\" x=\"65\" y=\"20\" /><rect class=\"square light c8\" fill=\"#ffce9e\" height=\"45\" stroke=\"none\" width=\"45\" x=\"110\" y=\"20\" /><rect class=\"square dark d8\" fill=\"#d18b47\" height=\"45\" stroke=\"none\" width=\"45\" x=\"155\" y=\"20\" /><use transform=\"translate(155, 20)\" xlink:href=\"#black-queen\" /><rect class=\"square light e8\" fill=\"#ffce9e\" height=\"45\" stroke=\"none\" width=\"45\" x=\"200\" y=\"20\" /><use transform=\"translate(200, 20)\" xlink:href=\"#black-king\" /><rect class=\"square dark f8\" fill=\"#d18b47\" height=\"45\" stroke=\"none\" width=\"45\" x=\"245\" y=\"20\" /><use transform=\"translate(245, 20)\" xlink:href=\"#black-bishop\" /><rect class=\"square light g8\" fill=\"#ffce9e\" height=\"45\" stroke=\"none\" width=\"45\" x=\"290\" y=\"20\" /><rect class=\"square dark h8\" fill=\"#d18b47\" height=\"45\" stroke=\"none\" width=\"45\" x=\"335\" y=\"20\" /><use transform=\"translate(335, 20)\" xlink:href=\"#black-rook\" /><text alignment-baseline=\"middle\" font-size=\"14\" text-anchor=\"middle\" x=\"42\" y=\"10\">a</text><text alignment-baseline=\"middle\" font-size=\"14\" text-anchor=\"middle\" x=\"42\" y=\"390\">a</text><text alignment-baseline=\"middle\" font-size=\"14\" text-anchor=\"middle\" x=\"87\" y=\"10\">b</text><text alignment-baseline=\"middle\" font-size=\"14\" text-anchor=\"middle\" x=\"87\" y=\"390\">b</text><text alignment-baseline=\"middle\" font-size=\"14\" text-anchor=\"middle\" x=\"132\" y=\"10\">c</text><text alignment-baseline=\"middle\" font-size=\"14\" text-anchor=\"middle\" x=\"132\" y=\"390\">c</text><text alignment-baseline=\"middle\" font-size=\"14\" text-anchor=\"middle\" x=\"177\" y=\"10\">d</text><text alignment-baseline=\"middle\" font-size=\"14\" text-anchor=\"middle\" x=\"177\" y=\"390\">d</text><text alignment-baseline=\"middle\" font-size=\"14\" text-anchor=\"middle\" x=\"222\" y=\"10\">e</text><text alignment-baseline=\"middle\" font-size=\"14\" text-anchor=\"middle\" x=\"222\" y=\"390\">e</text><text alignment-baseline=\"middle\" font-size=\"14\" text-anchor=\"middle\" x=\"267\" y=\"10\">f</text><text alignment-baseline=\"middle\" font-size=\"14\" text-anchor=\"middle\" x=\"267\" y=\"390\">f</text><text alignment-baseline=\"middle\" font-size=\"14\" text-anchor=\"middle\" x=\"312\" y=\"10\">g</text><text alignment-baseline=\"middle\" font-size=\"14\" text-anchor=\"middle\" x=\"312\" y=\"390\">g</text><text alignment-baseline=\"middle\" font-size=\"14\" text-anchor=\"middle\" x=\"357\" y=\"10\">h</text><text alignment-baseline=\"middle\" font-size=\"14\" text-anchor=\"middle\" x=\"357\" y=\"390\">h</text><text alignment-baseline=\"middle\" font-size=\"14\" text-anchor=\"middle\" x=\"10\" y=\"357\">1</text><text alignment-baseline=\"middle\" font-size=\"14\" text-anchor=\"middle\" x=\"390\" y=\"357\">1</text><text alignment-baseline=\"middle\" font-size=\"14\" text-anchor=\"middle\" x=\"10\" y=\"312\">2</text><text alignment-baseline=\"middle\" font-size=\"14\" text-anchor=\"middle\" x=\"390\" y=\"312\">2</text><text alignment-baseline=\"middle\" font-size=\"14\" text-anchor=\"middle\" x=\"10\" y=\"267\">3</text><text alignment-baseline=\"middle\" font-size=\"14\" text-anchor=\"middle\" x=\"390\" y=\"267\">3</text><text alignment-baseline=\"middle\" font-size=\"14\" text-anchor=\"middle\" x=\"10\" y=\"222\">4</text><text alignment-baseline=\"middle\" font-size=\"14\" text-anchor=\"middle\" x=\"390\" y=\"222\">4</text><text alignment-baseline=\"middle\" font-size=\"14\" text-anchor=\"middle\" x=\"10\" y=\"177\">5</text><text alignment-baseline=\"middle\" font-size=\"14\" text-anchor=\"middle\" x=\"390\" y=\"177\">5</text><text alignment-baseline=\"middle\" font-size=\"14\" text-anchor=\"middle\" x=\"10\" y=\"132\">6</text><text alignment-baseline=\"middle\" font-size=\"14\" text-anchor=\"middle\" x=\"390\" y=\"132\">6</text><text alignment-baseline=\"middle\" font-size=\"14\" text-anchor=\"middle\" x=\"10\" y=\"87\">7</text><text alignment-baseline=\"middle\" font-size=\"14\" text-anchor=\"middle\" x=\"390\" y=\"87\">7</text><text alignment-baseline=\"middle\" font-size=\"14\" text-anchor=\"middle\" x=\"10\" y=\"42\">8</text><text alignment-baseline=\"middle\" font-size=\"14\" text-anchor=\"middle\" x=\"390\" y=\"42\">8</text></svg>"
      ],
      "text/plain": [
       "CrazyhouseBoard('r2qkb1r/1Bp2ppp/p1p1p3/4P3/3Pp3/4BrNK/PPP1N1N1/5N2[QRBPPp] b kq - 0 25')"
      ]
     },
     "execution_count": 8,
     "metadata": {},
     "output_type": "execute_result"
    }
   ],
   "source": [
    "board = chess.variant.CrazyhouseBoard()\n",
    "\n",
    "board.push_uci('e2e4')\n",
    "#board.push_uci('e7e6')\n",
    "\n",
    "fen = 'rnbqkb1r/ppp1pppp/5n2/3P4/8/8/PPPP1PPP/RNBQKBNR/P w KQkq - 1 3'\n",
    "fen = 'rnb2rk1/p3bppp/2p5/3p2P1/4n3/8/PPPPBPPP/RNB1K1NR/QPPq w KQ - 0 11'\n",
    "#fen = 'r1b1kbnr/ppp1pppp/2n5/3q4/3P4/8/PPP1NPPP/RNBQKB1R/Pp b KQkq - 1 4'\n",
    "#fen = 'r1b1k2r/ppp2ppp/2n5/3np3/3P4/2PBP3/PpPB1PPP/1Q2K1NR/QNrb b Kkq - 27 14'\n",
    "#fen = 'r1bb4/ppp2pkp/5npb/4p3/4P3/2N5/PPP1BPPP/3RK2R/QNRqpnp w K - 3 16'\n",
    "#fen = '3R1b2/1bP1kp2/3Npn1p/3p4/5p2/5N1b/PPP2P1P/5Q1K/RPRPRQPnpbp b - - 4 36'\n",
    "#fen = 'r3k1nr/ppp2ppp/2n5/8/q7/Pp6/1PnRN1PP/1K3B1R/BBQBppppp b kq - 3 27'\n",
    "#fen = 'rn2N2k/pp5p/3pp1pN/3p4/3q1P2/3P1p2/PP3PPP/RN3RK1/Qrbbpbb b - - 0 27'\n",
    "#fen = 'rn2N2k/pp5p/3pp1pN/3p4/3q1P2/3P1p2/PP3PPP/RN3RK1/Qrbbpbb b - - 0 30'\n",
    "#fen = 'rn2N2k/pp5p/3pp1pN/3p4/5P2/3P1p2/PP3RPP/RN4K1/QQprbbpbb b - - 1 30'\n",
    "\n",
    "# Test positions\n",
    "#fen = '3R1b2/1bP1kp2/3Npn1p/3p4/5p2/5N1b/PPP1QP1P/3R1RK1/QPpprnpbp b - - 0 29'\n",
    "fen = 'rn2N2k/pp5p/3pp1pN/3p4/3q1P2/3P1p2/PP3PPP/RN3RK1[Qrbbpbb] b - - 3 30'\n",
    "#fen = 'q6r/p2P1pkp/1p1b1n2/2p2B2/8/6n1/PPP2KPp/R4R2/PNNRPBPbqpp w - - 2 26'\n",
    "#fen ='2kr1b2/1bp2p1p/p3pP1p/1p5Q/5B2/3B1p2/PPP2PrP/R4R1K/QNpnnnp w - - 0 18'\n",
    "#fen = 'q6r/p2P1pkp/1p1b1n2/2p2B2/8/6n1/PPP2KPp/R4R2/PNNRPBPbqpp w - - 50 26'\n",
    "#fen = 'r4r1k/ppp1q1bp/4Ppp1/1P6/2NN3P/2BPPb2/P2PNPpR/R3K3/PBQn b Q - 2 34'\n",
    "#fen = 'r1bq1b1r/ppp1kPpp/4Pn2/n2Pp3/2B4n/3P4/PPP2PPP/RNBQK2R/ w KQ - 0 10'\n",
    "\n",
    "#fen = 'r4rk1/ppp2pbp/1nnp4/6P1/4Pp2/1P1P1N1P/2P2PPK/R2Q1R2/QNbbpb w - - 0 23'\n",
    "#fen = 'r4rk1/ppp2pPp/1nn3nP/4b3/5p1B/1P1P3P/2P2PPK/R2Q1R2/Qbpnpb w - - 2 37'\n",
    "#fen = 'r4rk1/ppp2pPp/1nn2bnP/4b3/6Q1/1P1P1pBP/2P2PPK/R4R2/Qpnpb w - - 2 39'\n",
    "#fen = 'B2q1r1k/p3pp2/6pb/3pB2p/3N4/B2NP1pn/P1PP2P1/R2Q3K/PPrnprp b - - 0 28'\n",
    "#fen = 'r1bq3r/p1ppbkpp/2p2n2/8/4P3/8/PPP2PPP/RNBQK2R/NPPnbp w KQ - 2 8'\n",
    "#fen = 'r1bqk2r/1pp1nppp/1p3p2/3p4/3P3n/1B6/PP2BPPP/RNBQ1KNR/Pp b kq - 0 14'\n",
    "#fen = '3qk2r/1pp1nppp/1p3p2/3p4/3P3n/1B5P/RP2BPpP/1NBQ2KR/RBPPn b k - 2 18'\n",
    "#fen = 'r2q2kb/ppp4p/1nn1P1p1/4p1N1/2Pb4/1P1P2NP/2PB1rP1/Q4RK1/RPppb w - - 0 27'\n",
    "#fen = 'r1bqk1r1/ppppbppp/5n2/4nN2/2B1P3/2N5/PPP2PPP/R1BQK2R/Pp w KQq - 2 8'\n",
    "#fen = 'r2q1rk1/pP2ppbp/2p3pb/2Q5/4Pp2/2NB1NpP/PPP3P1/R4RK1/NBpn b - - 0 19'\n",
    "#fen = 'r1bqkb1r/ppp1pppp/2n2n2/3p4/3P4/2N2N2/PPP1PPPP/R1BQKB1R/ w KQkq - 6 4'\n",
    "#fen = 'r1bq1b2/2p1pk2/p1p2npp/8/3P4/P4N2/1PP2PPP/R1B1K2R/RPNPbnqp w KQ - 26 0'\n",
    "#fen = 'r5k1/ppp2Rp1/1bnp1qP1/2b1pP2/8/3P1N1p/PPP2PPP/R2Q1R1K/Nbbn w - - 42 0'\n",
    "#fen = 'r2q3r/ppp1k1pp/2npN3/2b1p3/4P1n1/2NP4/PPP2PPP/R1B2RK1/BPqb w - - 0 11'\n",
    "#fen = 'r2qk1r1/ppp2p2/2np3p/2bBp1p1/4P1bn/3P1NB1/PPP2PPP/R2Q1RK1/N w q - 0 12'\n",
    "#fen = 'r2k3r/pppb2pp/5b2/6N1/4P2n/3Q4/PPP2PPP/R1B1K2R/PPNPqbnp w KQ - 0 14'\n",
    "#fen = 'r1bqk2r/ppp1bppp/5n2/3p4/2BQP3/2N5/PPP2PPP/R1B1K2R/NPnp w KQkq - 0 8'\n",
    "#fen = '3r1rk1/p1p1npp1/2pp3p/2b1p1NQ/4P3/3P1P2/PPP2P1P/R2Q1RK1/BBnbn w - - 2 18'\n",
    "#fen = 'r2q1rk1/p1p1bpp1/2pp1n1p/2b1pN2/4P1nB/3P1N2/PPP2PPP/R2Q1RK1/B w - - 0 13'\n",
    "#fen = 'r1bq1rk1/ppp2pp1/2np1n1p/2b1p1B1/2B1P3/2NP1N2/PPP2PPP/R2Q1RK1/ w - - 14 8'\n",
    "#fen = 'r1bqk1r1/pppp1ppp/2n2n2/5N2/1bB1P3/2N4p/PPP2PPP/R1BQK1R1/P w Qq - 2 9'\n",
    "#fen = 'r1bqk1r1/ppp2ppp/2n2n2/3p1N2/1bB1P3/2N4P/PPP2P1P/R1BQK1R1/PP w Qq - 0 10'\n",
    "#fen = 'r1bqk2r/ppppbppp/2n2n2/8/2BNP3/8/PPP2PPP/RNBQK2R/Pp w KQkq - 1 6'\n",
    "#fen = 'r1b1k1r1/pp1p1ppp/1q1B1nn1/1B3N2/4P3/2P1p3/P1P1QPpP/R3K1R1/BPPn w Qq - 34 18'\n",
    "#fen = 'r1bqk3/ppp1bprp/3p1n2/5PP1/4P2n/2NQ4/PPP2PBP/R1B1K2R/Npp w KQq - 1 13'\n",
    "#fen = 'r1bqk1nr/pppp1ppp/5b2/4nNP1/2B1P3/7p/PPP2PPP/RNBQK2R/ w KQkq - 1 8'\n",
    "#fen = 'r1b1k1nr/ppp2ppp/5q2/3pnN2/4P3/7p/PPP2PPP/RNBQKB1R/Bp w KQkq - 1 10'\n",
    "#fen = 'r3k2r/ppp2ppp/5n2/3pnb2/4P3/7p/PPP2PPP/RNBQKB1R/Qbnp w KQkq - 22 12'\n",
    "#fen = 'rnbqkbnr/pppp1ppp/8/4p3/4P3/8/PPPP1PPP/RNBQKBNR/ w KQkq - 2 2'\n",
    "#fen = 'r1bq1rk1/ppp2ppp/2np4/2bBp3/4P1n1/3P1N2/PPP1QPPP/R1B2RK1/N w - - 2 10'\n",
    "#fen = 'r1bq1rk1/pppp1ppp/2n2n2/2b1p3/2B1P3/2NP1N2/PPP2PPP/R1BQ1RK1/ w - - 12 7'\n",
    "#fen = 'r1bq1rk1/pppp1ppp/2n5/2bBp3/4P1n1/3P1N2/PPP2PPP/R1BQ1RK1/N w - - 2 9'\n",
    "#fen = 'r1bqk1r1/ppppbppp/5n2/1B2nN2/4P3/2N4p/PPP2PPP/R1BQK2R/P w KQq - 16 9'\n",
    "#fen = 'r1bqkb1r/ppp2ppp/3p4/6P1/4n3/2N5/PPP2P1P/R1BQK1Rb/NPNpp w Qkq - 2 13'\n",
    "\n",
    "fen = 'r1b1kb1r/p1p1pppp/2N5/1B2N3/2pPn3/2PKB3/P1PP2p1/3q1rR1/QPPNP w - - 0 25' # mate threat\n",
    "#fen = 'r1b1kb1r/p1p1pppp/2N5/4N3/2BPn3/2PKB3/P1PP2p1/3q1rR1/PQPPNP b - - 0 25'\n",
    "#fen = 'r1b1kb1r/p1p1pppp/2N5/1B6/2NPn3/2PKB3/P1PP2p1/3q1rR1/PQPPNP b - - 1 25'\n",
    "#fen = '3rkb1r/2pb1pp1/q2Pp3/3pP2p/3P4/2PPnP2/P1P1N1PP/R2R2K1/NNQbb b k - 0 21' # mate threat\n",
    "\n",
    "# previous stalled connection fen\n",
    "#fen = 'r1bk3r/ppppbpQp/4p3/8/4n3/4P2N/PPPP2PP/R1Bq1BKR/PNNp b - - 2 13'\n",
    "#fen = 'r1bqkbnr/ppp2ppp/3p4/8/3QP3/2N4p/PPP2PPP/R1B1KB1R/PNn w KQkq - 1 7'\n",
    "#fen = 'r1bq1rk1/ppp2pp1/2np1n1p/2b1p1B1/2B1P3/2NP1N2/PPP2PPP/R2Q1RK1/ w - - 14 8'\n",
    "#fen = 'rnb1kb1r/ppp1pppp/5n2/q7/8/2N2N2/PPPP1PPP/R1BQKB1R/Pp w KQkq - 0 5'\n",
    "#fen = 'rnb2b1r/ppp1pkpp/5n2/2q5/3N2p1/2N5/PPPP1PPP/R1BQK2R/PPb w KQ - 0 8'\n",
    "#fen = 'r1b1kr2/ppp3pp/3bPq2/1N1Ppn1n/2B4n/3PPP2/PPP2QPP/R1B2RK1/ b - - 9 15'\n",
    "#fen = 'r1bk4/p1p1qP1p/2pn1p2/5pB1/2B1P3/8/PPPQ1PnP/R1B1rK2/RNPPPn w - - 0 23'\n",
    "#fen = 'r1b1k2r/p1p1qppp/2p4P/5p2/2B1n3/5p2/PPP1QPPP/R1B1K2R[BNPnn] w KQkq - 0 12'\n",
    "#fen = 'r1bbk2r/pp4pp/3Q4/1N2N3/7n/8/PPP2PpP/R1B3K1[PPPqrbnppp] w - - 1 20'\n",
    "#fen = 'r2qkb1r/ppp3pp/4Pn2/4p3/2Bn4/8/PPPP1PPP/RNBQK2R/BPnp b KQkq - 0 8'\n",
    "#fen = 'r2q1b1r/ppp1kBpp/4Pn2/3pp3/2Bn4/4P3/PPPP1PPP/RNBQK2R/n b KQ - 0 10'\n",
    "#fen = 'r2qkb1r/ppp3pp/4Pn2/4p3/2Bn1n2/8/PPPP1PPP/RNBQK2R/BPp w KQkq - 0 9'\n",
    "#fen = 'r1bqkbnr/pppp1ppp/2n5/4p3/2B1P3/5N2/PPPP1PPP/RNBQK2R/ b KQkq - 5 3'\n",
    "#fen = 'r1bqkb1r/pppp1ppp/2n2n2/4p3/2B1P3/5N2/PPPP1PPP/RNBQK2R/ w KQkq - 6 4'\n",
    "#fen = 'r2q1br1/ppp1k1pp/3p4/4p2Q/2BB1N1n/8/PPPP1P1P/RNB2K1R/ppnp b - - 0 17'\n",
    "#fen = 'r2q1br1/ppp3pp/3pk3/4p3/2BB1N1n/8/PPPP1P1P/RNBQ1K1R/ppnp b - - 0 16'\n",
    "#fen = 'r2qkb1r/ppp3pp/4Pn2/4p3/2Bn4/8/PPPP1PPP/RNBQK2R/BPnp b KQkq - 0 8'\n",
    "#fen = 'r1b1k1q1/pp1n1prp/3Ppb1Q/bR4NB/8/8/PpP1pPPP/1R1q~N1K1/PPn w q - 0 29'\n",
    "#fen = 'r1bbk3/pppn1prp/4p3/1p4B1/3PN3/5N2/PpPR1PPP/5RK1/QPpqnb w q - 0 18'\n",
    "#fen = '2r5/p1p1qpPp/1k2p2P/1q1p3N/2RP4/2n4P/PpP2P1P/4R2K/NBBBBPNr w - - 0 37'\n",
    "#fen = 'r4rk1/pp3pbp/2p2p1p/3q1N2/5P2/b1P3P1/P5P1/R2Q2K1/PPRPBBNNnp w - - 0 36'\n",
    "#fen = 'rnbqkbnr/ppp1pppp/8/3p4/3PP3/8/PPP2PPP/RNBQKBNR/ b KQkq - 3 2'\n",
    "#fen = 'r1bqkbnr/pppp1ppp/2n5/4p3/2B1P3/5N2/PPPP1PPP/RNBQK2R/ b KQkq - 5 3'\n",
    "#fen = '2rq1rk1/ppp1bppp/2n1pn2/1N1p4/3P1B2/3PP1B1/PP2NPPP/R2Q1RK1[b] b - - 2 10'\n",
    "#fen = 'rnbqkb1r/ppp2ppp/3ppn2/8/3PP1P1/2N5/PPP2P1P/R1BQKBNR/ b KQkq - 3 4'\n",
    "#fen = 'r2qkb1r/pppn1ppp/4pn2/3p4/3N4/2N1P2B/PPPPQPPP/R1B1K2R/b b KQkq - 0 7'\n",
    "#fen = 'r1bq1r1k/ppp2p1p/3p1p2/4p3/2BbP1nB/2PP4/PP1Q1PKP/R4R2[NNNp] b - - 0 16'\n",
    "#fen = 'r2q3k/ppp2pRp/3p1p2/4p2N/4P2B/2PP1p1K/PP1b3P/R7[RBNNNPqb] b - - 0 29'\n",
    "fen = '5r2/pppQ1p1k/3p1pPp/4p1n1/1b1BP3/2PP3p/PrNK2pN/r5B1/Qrbnp b - - 0 42'\n",
    "fen = '2kr4/p1p2p2/5q2/3p1br1/1R1P1NpQ/8/P1PP1PpP/5RK1/BNNPPPbbnp w - - 1 26'\n",
    "fen = 'r1bqkbnr/pppp1ppp/2n5/4p3/2B1P3/5N2/PPPP1PPP/RNBQK2R/ b KQkq - 5 3'\n",
    "fen = 'r2q1kr1/pppb1pNp/2n1pp1P/1P6/1b1P3B/5P2/P1PQ1P1P/R4RK1/BNPn w - - 0 19'\n",
    "fen = 'r4rk1/pp3pbp/2p2p1p/3q1N2/5P2/b1P3P1/P5P1/R2Q2K1/PPRPBBNNnp w - - 0 36'\n",
    "fen = 'r4rk1/p1p2pNp/2p2p1p/6b1/3P2q1/3B4/P2Q1PPP/R4RK1/BNNPPbnpp w - - 1 24'\n",
    "fen = 'r4rk1/p1p2p1p/2p2p1p/5Nb1/3P2q1/3B4/P2Q1PPP/R4RK1/BNNPPbnpp b - - 2 24'\n",
    "fen = 'rnbqkbnr/ppp1pppp/8/3p4/3P4/8/PPP1PPPP/RNBQKBNR/ w KQkq - 2 2'\n",
    "fen = 'r1bq1k1r/p1ppbPpp/2p2n1P/4N3/4P3/8/PPP2PPP/RNBQK2R/nbp b KQ - 2 10'\n",
    "#fen = 'r1bq1k1r/p1ppbPpp/2pb1n1P/4N3/4P3/8/PPP2PPP/RNBQK2R/np w KQ - 3 11'\n",
    "#fen = 'r1bqk1nr/ppppbppp/2n5/8/2BNP3/8/PPP2PPP/RNBQK2R/Pp b KQkq - 9 5'\n",
    "#fen = 'r1bq3r/ppppbkpp/2N2n2/8/4P3/8/PPP2PPP/RNBQK2R/NPPbp b KQ - 0 7'\n",
    "#fen = 'r1bqk1nr/ppppbppp/2n5/8/2BNP3/8/PPP2PPP/RNBQK2R/Pp b KQkq - 0 5'\n",
    "fen = 'r1bq2nr/ppp1bkpp/3p4/5P2/3QP3/8/PPP2PPP/RNB1K2R[NPbnp] b KQ - 0 8'\n",
    "fen = 'r1bq1rk1/ppp1ppb1/2np2pp/4P3/2BP1BN1/2N2N1P/PPP2KP1/R2Q3R/p b - - 0 10'\n",
    "fen = 'r3kb1r/pp1b1pp1/1b1Pp1p1/8/5B2/2N2pN1/PPP2P1P/R4RK1/NQPNPpq w kq - 0 22'\n",
    "fen = 'r2q1b1r/ppp1p1pp/2n1kn2/1B2n3/8/2p2Q1P/PPPP1PP1/R1B1K2R/Bppn w KQ - 0 11'\n",
    "fen = 'r2q1rk1/ppp2pp1/3p3B/3Pp2b/8/2PP1NpP/P5P1/R2Q1RK1[BNNPbnp] b - - 0 15'\n",
    "fen = 'r2q1rk1/ppp2pp1/3p3B/3Pp2b/8/2PP1NpP/P5P1/R2Q1RK1/BNNPbnp b - - 0 15'\n",
    "#fen = 'r2q1rk1/ppp2pp1/3p3B/3Pp2b/8/2PP1NpP/P4nP1/R2Q1RK1/NPNBbp w - - 0 16'\n",
    "fen = 'rnbqk1r1/p4ppp/2p4P/2b1P3/2Bpn3/5N2/PPP2PPP/RNBQK2R[pp] w KQq - 0 10'\n",
    "fen = 'r2qkb1r/ppp3pp/2n3bN/3pPR2/3P4/2QPP3/P5pP/R2K4[BBNNPPp] b - - 0 25'\n",
    "fen = 'r2qkb1r/ppp3pp/2n3bN/3pPR2/3P4/2QPP3/P6P/R2KB1q~1/BNNPPp b - - 0 26'\n",
    "#fen = 'r1bqkb1r/ppp1pppp/2n5/1B1n4/8/2N2N2/PPPP1PPP/R1BQK2R/Pp b KQkq - 9 5'\n",
    "#fen = 'r1bqkb1r/ppp1pppp/2n5/3n4/8/2N2N2/PPPP1PPP/R1BQKB1R/Pp w KQkq - 0 5'\n",
    "#fen = 'r1b1kb1r/ppp1pppp/2B5/3q4/5n2/2P2N2/P1PP1P1P/R1BQK1R1/NNPPp b Qkq - 0 10'\n",
    "#fen = 'r1b1kb1r/p1p1pppp/2p5/3q4/5n2/2P2N2/P1PP1P1P/R1BQK1R1/NNPPbp w Qkq - 0 11'\n",
    "#fen = 'r1bqkb1r/ppp1pppp/2n5/1B6/8/2P2N2/P1PP1PRP/R1BQK3/NPPnp b Qkq - 0 8'\n",
    "#fen = 'r1b1kb1r/p1p1pppp/2p4q/8/1P1P1Nb1/2P2N2/P1P2PNP/R1BQK1R1/Pnp w Qkq - 0 14'\n",
    "#fen = 'r1b1kb1r/p1p1pppp/2p5/7q/1P1P1N2/2P1NN2/P1P2PpP/R1BQK1R1/bnp b Qkq - 0 12'\n",
    "#fen = 'r1bn1rk1/1ppp1ppp/p7/4p3/2B1P1P1/3PPN2/PPP3P1/RN1Q1RK1/BNQb b - - 0 10'\n",
    "#fen = 'r4k2/ppp3pr/2p5/q4n2/2bp1Bn1/2N2B1p/PPPB1PpP/R3R1K1/Pnqpp w - - 0 23'\n",
    "fen = 'r2qk2r/ppp3pp/2n2NbN/3pPR2/1b1P4/2QPP3/P6P/R2KB1q~1/BNPPp b - - 0 27'\n",
    "fen = 'r2qk2r/ppp4p/2n2pbN/3pPR2/1b1P4/2QPP3/P6P/R2KB1q~1/BNPPnp w - - 0 28'\n",
    "fen = 'r1bq4/2p2rk1/p2p2p1/1p2p1N1/2bnP2P/2N1K3/PPPQ1P2/3R3R/BBNPppp w - - 0 21'\n",
    "fen = 'r1bq1rk1/pppp1ppp/2n1pn2/8/1b1PP3/2NBB3/PPP2PPP/R2QK1NR/ w KQ - 0 6'\n",
    "fen = 'r2qkb1r/2p2ppp/p1p1p3/4P3/3Pp3/4BnN1/PPP1N1NP/5R1K/PRBBPq b kq - 0 19'\n",
    "#fen = 'r2qkb1r/2p2ppp/p1p1p3/4P3/3Pp3/4B1N1/PPP1N1Nn/5R1K/PRBBPpq w kq - 0 20'\n",
    "fen = 'r2qkb1r/1Bp2ppp/p1p1p3/4P3/3Pp3/4BrNK/PPP1N1N1/5N2/RQPBPp b kq - 0 25'\n",
    "\n",
    "board.set_fen(fen)\n",
    "\n",
    "#board = board.mirror()\n",
    "\n",
    "state = GameState(board)\n",
    "board"
   ]
  },
  {
   "cell_type": "code",
   "execution_count": 9,
   "metadata": {},
   "outputs": [
    {
     "data": {
      "text/plain": [
       "['black', 'white']"
      ]
     },
     "execution_count": 9,
     "metadata": {},
     "output_type": "execute_result"
    }
   ],
   "source": [
    "chess.COLOR_NAMES"
   ]
  },
  {
   "cell_type": "code",
   "execution_count": 10,
   "metadata": {},
   "outputs": [
    {
     "data": {
      "text/plain": [
       "False"
      ]
     },
     "execution_count": 10,
     "metadata": {},
     "output_type": "execute_result"
    }
   ],
   "source": [
    "board.turn"
   ]
  },
  {
   "cell_type": "code",
   "execution_count": 11,
   "metadata": {},
   "outputs": [
    {
     "data": {
      "text/plain": [
       "64"
      ]
     },
     "execution_count": 11,
     "metadata": {},
     "output_type": "execute_result"
    }
   ],
   "source": [
    "len(list(state.get_legal_moves()))"
   ]
  },
  {
   "cell_type": "code",
   "execution_count": 12,
   "metadata": {
    "collapsed": true
   },
   "outputs": [],
   "source": [
    "def plot_moves_with_prob(moves, probs, only_top_x=None):\n",
    "    \n",
    "    # revert the ordering afterwards\n",
    "    idx_order = np.argsort(probs)[::-1]\n",
    "    \n",
    "    if only_top_x is not None and only_top_x < len(idx_order):\n",
    "        idx_order = idx_order[:only_top_x]\n",
    "    \n",
    "    #moves_ordered = moves[range(len(moves))] #idx_order[::-1]]\n",
    "    probs_ordered = [] #probs[idx_order]\n",
    "    \n",
    "    moves_ordered = []\n",
    "    for idx in idx_order:\n",
    "        probs_ordered.append(probs[idx])\n",
    "        moves_ordered.append(moves[idx])\n",
    "        \n",
    "    plt.barh(range(len(probs_ordered)), probs_ordered)\n",
    "    plt.yticks(range(len(moves_ordered)), moves_ordered)\n"
   ]
  },
  {
   "cell_type": "markdown",
   "metadata": {},
   "source": [
    "### Evalution using the raw network"
   ]
  },
  {
   "cell_type": "code",
   "execution_count": 13,
   "metadata": {},
   "outputs": [
    {
     "name": "stdout",
     "output_type": "stream",
     "text": [
      "Elapsed time: 0.1122s\n"
     ]
    }
   ],
   "source": [
    "t_s = time()\n",
    "pred_value, legal_moves, p_vec_small, cp, depth, nodes, time_elapsed_s, nps, pv = raw_agent.evaluate_board_state(state)\n",
    "print('Elapsed time: %.4fs' % (time()-t_s))"
   ]
  },
  {
   "cell_type": "code",
   "execution_count": 14,
   "metadata": {},
   "outputs": [
    {
     "data": {
      "text/plain": [
       "array([-0.42055774], dtype=float32)"
      ]
     },
     "execution_count": 14,
     "metadata": {},
     "output_type": "execute_result"
    }
   ],
   "source": [
    "pred_value"
   ]
  },
  {
   "cell_type": "code",
   "execution_count": 15,
   "metadata": {},
   "outputs": [
    {
     "data": {
      "text/plain": [
       "64"
      ]
     },
     "execution_count": 15,
     "metadata": {},
     "output_type": "execute_result"
    }
   ],
   "source": [
    "len(state.get_legal_moves())"
   ]
  },
  {
   "cell_type": "code",
   "execution_count": 16,
   "metadata": {
    "scrolled": true
   },
   "outputs": [
    {
     "data": {
      "text/plain": [
       "array([2.84742168e-06, 4.56165935e-06, 5.98441329e-06, 6.18736522e-06,\n",
       "       7.00332430e-06, 9.64982428e-06, 1.08577351e-05, 1.12291909e-05,\n",
       "       1.19371898e-05, 1.34463762e-05, 1.87806418e-05, 2.15308573e-05,\n",
       "       2.28910831e-05, 2.69596840e-05, 2.71050594e-05, 3.03571815e-05,\n",
       "       3.09201314e-05, 3.24381872e-05, 3.49752700e-05, 3.88712942e-05,\n",
       "       5.78459621e-05, 5.87166833e-05, 6.59198049e-05, 6.96281131e-05,\n",
       "       7.01798344e-05, 7.32042463e-05, 9.05715715e-05, 9.61473852e-05,\n",
       "       1.06875625e-04, 1.18781383e-04, 1.24474871e-04, 2.05789489e-04,\n",
       "       2.22569884e-04, 2.40061287e-04, 2.52197875e-04, 2.93257588e-04,\n",
       "       3.09271680e-04, 3.20853549e-04, 3.30768671e-04, 3.31017683e-04,\n",
       "       4.97932720e-04, 5.36115665e-04, 5.72779973e-04, 6.14453980e-04,\n",
       "       6.95463619e-04, 7.95471191e-04, 8.50687735e-04, 8.77991202e-04,\n",
       "       1.06980407e-03, 1.29711360e-03, 1.95242057e-03, 2.46940111e-03,\n",
       "       3.16484319e-03, 5.57098771e-03, 8.45230930e-03, 1.51705742e-02,\n",
       "       2.33941488e-02, 3.74863893e-02, 4.52523716e-02, 5.22481911e-02,\n",
       "       1.06849693e-01, 1.58649802e-01, 2.28695914e-01, 2.99028486e-01],\n",
       "      dtype=float32)"
      ]
     },
     "execution_count": 16,
     "metadata": {},
     "output_type": "execute_result"
    }
   ],
   "source": [
    "np.sort(p_vec_small)"
   ]
  },
  {
   "cell_type": "code",
   "execution_count": 17,
   "metadata": {},
   "outputs": [
    {
     "data": {
      "text/plain": [
       "array([2.15308573e-05, 1.51705742e-02, 1.95242057e-03, 3.31017683e-04,\n",
       "       8.50687735e-04, 2.28910831e-05, 1.24474871e-04, 1.18781383e-04,\n",
       "       9.05715715e-05, 3.20853549e-04, 1.06875625e-04, 5.57098771e-03,\n",
       "       3.49752700e-05, 7.01798344e-05, 3.09271680e-04, 3.16484319e-03,\n",
       "       2.40061287e-04, 1.87806418e-05, 2.22569884e-04, 5.22481911e-02,\n",
       "       1.29711360e-03, 2.93257588e-04, 4.97932720e-04, 2.05789489e-04,\n",
       "       1.58649802e-01, 4.52523716e-02, 8.77991202e-04, 2.28695914e-01,\n",
       "       2.46940111e-03, 3.30768671e-04, 3.24381872e-05, 3.88712942e-05,\n",
       "       1.19371898e-05, 2.99028486e-01, 7.95471191e-04, 5.36115665e-04,\n",
       "       2.69596840e-05, 6.95463619e-04, 9.61473852e-05, 1.34463762e-05,\n",
       "       4.56165935e-06, 7.00332430e-06, 2.52197875e-04, 2.84742168e-06,\n",
       "       1.12291909e-05, 5.98441329e-06, 8.45230930e-03, 1.06849693e-01,\n",
       "       2.33941488e-02, 6.18736522e-06, 9.64982428e-06, 5.87166833e-05,\n",
       "       7.32042463e-05, 1.06980407e-03, 5.72779973e-04, 6.14453980e-04,\n",
       "       3.03571815e-05, 5.78459621e-05, 6.96281131e-05, 6.59198049e-05,\n",
       "       1.08577351e-05, 2.71050594e-05, 3.74863893e-02, 3.09201314e-05],\n",
       "      dtype=float32)"
      ]
     },
     "execution_count": 17,
     "metadata": {},
     "output_type": "execute_result"
    }
   ],
   "source": [
    "p_vec_small"
   ]
  },
  {
   "cell_type": "code",
   "execution_count": 18,
   "metadata": {},
   "outputs": [
    {
     "name": "stdout",
     "output_type": "stream",
     "text": [
      "2019-02-12 23:25:13 matplotlib.axes._base[16920] \u001b[1mDEBUG\u001b[0m \u001b[32mupdate_title_pos\u001b[0m\n",
      "2019-02-12 23:25:13 matplotlib.font_manager[16920] \u001b[1mDEBUG\u001b[0m \u001b[32mfindfont: Matching :family=sans-serif:style=normal:variant=normal:weight=normal:stretch=normal:size=10.0 to Liberation Sans ('/usr/share/fonts/truetype/liberation/LiberationSans-Regular.ttf') with score of 2.050000.\u001b[0m\n",
      "2019-02-12 23:25:13 matplotlib.axes._base[16920] \u001b[1mDEBUG\u001b[0m \u001b[32mupdate_title_pos\u001b[0m\n",
      "2019-02-12 23:25:13 matplotlib.axes._base[16920] \u001b[1mDEBUG\u001b[0m \u001b[32mupdate_title_pos\u001b[0m\n",
      "2019-02-12 23:25:13 matplotlib.axes._base[16920] \u001b[1mDEBUG\u001b[0m \u001b[32mupdate_title_pos\u001b[0m\n"
     ]
    },
    {
     "data": {
      "image/png": "[encoded data removed]",
      "text/plain": [
       "<Figure size 432x288 with 1 Axes>"
      ]
     },
     "metadata": {},
     "output_type": "display_data"
    }
   ],
   "source": [
    "plot_moves_with_prob(legal_moves, p_vec_small, only_top_x=10)"
   ]
  },
  {
   "cell_type": "markdown",
   "metadata": {},
   "source": [
    "### Evalution using the MCTS-Agent"
   ]
  },
  {
   "cell_type": "markdown",
   "metadata": {
    "scrolled": false
   },
   "source": [
    "for i in range(10):\n",
    "    value, selected_move, confidence, idx, centipawn, depth, nodes, time_elapsed_s, nps, pv = mcts_agent.perform_action(state)\n",
    "    print(\"selected_move\", selected_move.uci())"
   ]
  },
  {
   "cell_type": "code",
   "execution_count": 19,
   "metadata": {
    "scrolled": false
   },
   "outputs": [
    {
     "name": "stdout",
     "output_type": "stream",
     "text": [
      "start inference thread...\n",
      "self.thread_inference.isAlive() True\n",
      "start inference thread...\n",
      "self.thread_inference.isAlive() True\n",
      "2019-02-12 23:25:13 root[16920] \u001b[1mDEBUG\u001b[0m \u001b[32mStarting a brand new search tree...\u001b[0m\n",
      "info score cp -68 depth 8 nodes 145 pv h7h5 b7c6 P@d7 c6e4 f3f1 g3f1 N@g5 e3g5\n",
      "2019-02-12 23:25:14 root[16920] \u001b[1mDEBUG\u001b[0m \u001b[32mUpdate info\u001b[0m\n",
      "info score cp -199 depth 4 nodes 321 pv f3f1 g3f1 P@g4 h3h2\n",
      "2019-02-12 23:25:14 root[16920] \u001b[1mDEBUG\u001b[0m \u001b[32mUpdate info\u001b[0m\n",
      "info score cp -407 depth 9 nodes 433 pv h7h6 b7c6 P@d7 c6e4 f3g3 e2g3 N@g5 h3h2 g5e4\n",
      "2019-02-12 23:25:15 root[16920] \u001b[1mDEBUG\u001b[0m \u001b[32mUpdate info\u001b[0m\n",
      "info score cp -1032 depth 9 nodes 577 pv a8a7 b7c6 P@d7 c6e4 f3g3 e2g3 N@g5 e3g5 d8g5\n",
      "2019-02-12 23:25:15 root[16920] \u001b[1mDEBUG\u001b[0m \u001b[32mUpdate info\u001b[0m\n",
      "info score cp -788 depth 8 nodes 721 pv f8d6 b7c6 P@d7 c6e4 f3g3 e2g3 d6e5 d4e5\n",
      "2019-02-12 23:25:16 root[16920] \u001b[1mDEBUG\u001b[0m \u001b[32mUpdate info\u001b[0m\n",
      "info score cp -505 depth 14 nodes 865 pv P@f5 b7c6 e8e7 B@h4 f7f6 e5f6 g7f6 h4f6 e7f6 P@e5 f6f7 Q@h5 B@g6 R@d7\n",
      "2019-02-12 23:25:16 root[16920] \u001b[1mDEBUG\u001b[0m \u001b[32mUpdate info\u001b[0m\n",
      "info score cp -795 depth 12 nodes 1009 pv h7h6 b7c6 P@d7 c6e4 f3g3 e2g3 N@g5 h3h2 g5e4 g3e4 B@d5 N@f6\n",
      "2019-02-12 23:25:17 root[16920] \u001b[1mDEBUG\u001b[0m \u001b[32mUpdate info\u001b[0m\n",
      "info score cp 11 depth 3 nodes 1153 pv f3g3 f1g3 h7h5\n",
      "2019-02-12 23:25:17 root[16920] \u001b[1mDEBUG\u001b[0m \u001b[32mUpdate info\u001b[0m\n",
      "info score cp -1947 depth 10 nodes 1281 pv f3f1 g3f1 P@g4 h3h2 N@f3 h2h1 a8b8 b7c6 e8e7 B@c5\n",
      "2019-02-12 23:25:18 root[16920] \u001b[1mDEBUG\u001b[0m \u001b[32mUpdate info\u001b[0m\n",
      "info score cp -817 depth 7 nodes 1425 pv f8e7 b7c6 P@d7 c6e4 f3e3 f1e3 B@f5\n",
      "2019-02-12 23:25:18 root[16920] \u001b[1mDEBUG\u001b[0m \u001b[32mUpdate info\u001b[0m\n",
      "info score cp -196 depth 17 nodes 1569 pv a8b8 b7c6 P@d7 c6e4 f3f1 g3f1 N@g5 e3g5 d8g5 B@h4 B@g4 h3h2 g5h4 g2h4 g4e2 P@a7 b8d8\n",
      "2019-02-12 23:25:19 root[16920] \u001b[1mDEBUG\u001b[0m \u001b[32mUpdate info\u001b[0m\n",
      "info score cp -480 depth 9 nodes 1713 pv a8b8 b7c6 P@d7 c6e4 f3f1 g3f1 b8b2 B@h4 P@f6\n",
      "2019-02-12 23:25:19 root[16920] \u001b[1mDEBUG\u001b[0m \u001b[32mUpdate info\u001b[0m\n",
      "info score cp -49 depth 12 nodes 1825 pv h7h5 b7c6 P@d7 c6e4 f3e3 f1e3 h5h4 P@g6 h4g3 h3g3 B@h4 g3f3\n",
      "2019-02-12 23:25:20 root[16920] \u001b[1mDEBUG\u001b[0m \u001b[32mUpdate info\u001b[0m\n",
      "info score cp -754 depth 11 nodes 1969 pv P@g4 h3h2 f3f1 b7c6 N@d7 g3f1 a8b8 c6e4 b8b2 P@c6 P@f3\n",
      "2019-02-12 23:25:21 root[16920] \u001b[1mDEBUG\u001b[0m \u001b[32mUpdate info\u001b[0m\n",
      "info score cp -512 depth 14 nodes 2113 pv h7h6 b7c6 P@d7 c6e4 f3g3 e2g3 N@g5 h3h2 g5e4 g3e4 B@f3 N@f6 g7f6 e4f6\n",
      "2019-02-12 23:25:21 root[16920] \u001b[1mDEBUG\u001b[0m \u001b[32mUpdate info\u001b[0m\n",
      "info score cp -659 depth 7 nodes 2241 pv f3g3 e2g3 a8b8 b7c6 P@d7 c6e4 N@g5\n",
      "2019-02-12 23:25:22 root[16920] \u001b[1mDEBUG\u001b[0m \u001b[32mUpdate info\u001b[0m\n",
      "info score cp -30 depth 16 nodes 2369 pv h7h6 b7c6 P@d7 c6e4 f3f1 g3f1 N@g5 e3g5 h6g5 P@h7 B@f5 e4f5 e6f5 h3h2 h8h7 P@h3\n",
      "2019-02-12 23:25:22 root[16920] \u001b[1mDEBUG\u001b[0m \u001b[32mUpdate info\u001b[0m\n",
      "info score cp -9999 depth 8 nodes 2497 pv P@f5 b7c6 e8e7 P@f6 g7f6 e5f6 e7f6 Q@g5\n",
      "2019-02-12 23:25:23 root[16920] \u001b[1mDEBUG\u001b[0m \u001b[32mUpdate info\u001b[0m\n",
      "info string move overhead is 50ms\n",
      "f3g3 e2g3 h7h5 b7c6 P@d7 c6e4 N@g5 e3g5 d8g5 B@h4 g5g4 h3h2 -0.7328404188156128\n",
      "f3e3 f1e3 h7h5 b7c6 P@d7 c6e4 h5h4 g3f1 B@f5 e4f5 -0.22889910638332367\n",
      "f3f1 g3f1 P@f3 b7c6 N@d7 e2f4 f3g2 h3g2 N@h4 g2f2 f8e7 c6e4 e7g5 P@g3 -0.40474266558885574\n",
      "h7h6 b7c6 P@d7 c6e4 f3f1 g3f1 N@g5 e3g5 h6g5 P@h7 B@f5 e4f5 e6f5 B@g8 g5g4 h3g3 B@h4 -0.5279418453574181\n",
      "h7h5 b7c6 P@d7 c6e4 f3e3 f1e3 h5h4 P@h7 h4g3 h3g3 N@h5 g3f2 B@h4 P@g3 -0.4035750478506088\n",
      "P@d7 B@h4 f3f1 g3f1 f8e7 h4e7 d8e7 B@h4 B@f5 -0.10047551058232784\n",
      "2019-02-12 23:25:23 root[16920] \u001b[1mINFO\u001b[0m \u001b[94minfo string score cp -190 depth 21 nodes 2513 time 10068 nps 249 pv f3e3 f1e3 h7h5 b7c6 P@d7 c6e4 h5h4 g3f1 B@f5 e4f5 e6f5 e3f5 B@e6 P@g4 h8g8\u001b[0m\n",
      "Elapsed time: 10.0770s\n"
     ]
    }
   ],
   "source": [
    "t_s = time()\n",
    "pred_value, legal_moves, p_vec_small, cp, depth, nodes, time_elapsed_s, nps, pv = mcts_agent.evaluate_board_state(state)\n",
    "print('Elapsed time: %.4fs' % (time()-t_s))"
   ]
  },
  {
   "cell_type": "code",
   "execution_count": 20,
   "metadata": {},
   "outputs": [
    {
     "data": {
      "text/plain": [
       "2513"
      ]
     },
     "execution_count": 20,
     "metadata": {},
     "output_type": "execute_result"
    }
   ],
   "source": [
    "mcts_agent.root_node.n_sum"
   ]
  },
  {
   "cell_type": "code",
   "execution_count": 21,
   "metadata": {},
   "outputs": [
    {
     "data": {
      "text/plain": [
       "Move.from_uci('f3f1')"
      ]
     },
     "execution_count": 21,
     "metadata": {},
     "output_type": "execute_result"
    }
   ],
   "source": [
    "mcts_agent.root_node.legal_moves[mcts_agent.root_node.child_number_visits.argmax()]"
   ]
  },
  {
   "cell_type": "code",
   "execution_count": 22,
   "metadata": {},
   "outputs": [
    {
     "data": {
      "text/plain": [
       "Move.from_uci('f3e3')"
      ]
     },
     "execution_count": 22,
     "metadata": {},
     "output_type": "execute_result"
    }
   ],
   "source": [
    "mcts_agent.root_node.legal_moves[mcts_agent.root_node.q_value.argmax()]"
   ]
  },
  {
   "cell_type": "code",
   "execution_count": 23,
   "metadata": {
    "collapsed": true
   },
   "outputs": [],
   "source": [
    "pb_c_base = 19652 / 10\n",
    "pb_c_init = 3.6\n",
    "import math\n",
    "cpuct = math.log((3000 + pb_c_base + 1) / pb_c_base) + pb_c_init"
   ]
  },
  {
   "cell_type": "code",
   "execution_count": 24,
   "metadata": {},
   "outputs": [
    {
     "data": {
      "text/plain": [
       "4.527060938824912"
      ]
     },
     "execution_count": 24,
     "metadata": {},
     "output_type": "execute_result"
    }
   ],
   "source": [
    "cpuct"
   ]
  },
  {
   "cell_type": "code",
   "execution_count": 25,
   "metadata": {
    "collapsed": true
   },
   "outputs": [],
   "source": [
    "#c = (a * b ) + (0.3 * a + 0.7 * b)"
   ]
  },
  {
   "cell_type": "code",
   "execution_count": 26,
   "metadata": {
    "collapsed": true
   },
   "outputs": [],
   "source": [
    "def sigmoid(x, derivative=False):\n",
    "    return x*(1-x) if derivative else 1/(1+np.exp(-x))"
   ]
  },
  {
   "cell_type": "code",
   "execution_count": 27,
   "metadata": {},
   "outputs": [
    {
     "name": "stdout",
     "output_type": "stream",
     "text": [
      "f3g3 e2g3 h7h5 b7c6 P@d7 c6e4 N@g5 e3g5 d8g5 B@h4 -0.663948405534029\n",
      "f3e3 f1e3 h7h5 b7c6 P@d7 c6e4 h5h4 -0.33182330263985527\n",
      "f3f1 g3f1 P@f3 b7c6 N@d7 e2f4 f3g2 h3g2 N@h4 g2f2 -0.5368450648254819\n",
      "h7h6 b7c6 P@d7 c6e4 f3f1 g3f1 N@g5 e3g5 h6g5 P@h7 B@f5 e4f5 e6f5 B@g8 g5g4 -0.5521996898783578\n",
      "h7h5 b7c6 P@d7 c6e4 f3e3 f1e3 h5h4 P@h7 h4g3 h3g3 -0.5357448644936085\n",
      "P@d7 B@h4 f3f1 g3f1 f8e7 -0.19655680609866977\n"
     ]
    },
    {
     "data": {
      "text/plain": [
       "(array([ 0.        ,  0.        ,  0.        ,  0.        ,  0.        ,\n",
       "         0.        ,  0.        ,  0.        ,  0.        ,  0.        ,\n",
       "         0.        ,  0.        ,  0.        ,  0.        ,  0.        ,\n",
       "         0.        ,  0.        ,  0.        ,  0.        ,  0.        ,\n",
       "         0.        ,  0.        ,  0.        ,  0.        , -0.66394841,\n",
       "        -0.3318233 ,  0.        , -0.53684506, -0.55219969,  0.        ,\n",
       "         0.        ,  0.        ,  0.        , -0.53574486,  0.        ,\n",
       "         0.        ,  0.        ,  0.        ,  0.        ,  0.        ,\n",
       "         0.        ,  0.        ,  0.        ,  0.        ,  0.        ,\n",
       "         0.        ,  0.        ,  0.        ,  0.        ,  0.        ,\n",
       "         0.        ,  0.        ,  0.        ,  0.        ,  0.        ,\n",
       "         0.        ,  0.        ,  0.        ,  0.        ,  0.        ,\n",
       "         0.        ,  0.        , -0.19655681,  0.        ]),\n",
       " [24, 25, 27, 28, 33, 62])"
      ]
     },
     "execution_count": 27,
     "metadata": {},
     "output_type": "execute_result"
    }
   ],
   "source": [
    "mcts_agent.get_last_q_values(min_nb_visits=10)"
   ]
  },
  {
   "cell_type": "code",
   "execution_count": 28,
   "metadata": {},
   "outputs": [
    {
     "name": "stdout",
     "output_type": "stream",
     "text": [
      "2019-02-12 23:25:23 matplotlib.axes._base[16920] \u001b[1mDEBUG\u001b[0m \u001b[32mupdate_title_pos\u001b[0m\n",
      "2019-02-12 23:25:23 matplotlib.axes._base[16920] \u001b[1mDEBUG\u001b[0m \u001b[32mupdate_title_pos\u001b[0m\n",
      "2019-02-12 23:25:23 matplotlib.axes._base[16920] \u001b[1mDEBUG\u001b[0m \u001b[32mupdate_title_pos\u001b[0m\n",
      "2019-02-12 23:25:23 matplotlib.axes._base[16920] \u001b[1mDEBUG\u001b[0m \u001b[32mupdate_title_pos\u001b[0m\n"
     ]
    },
    {
     "data": {
      "image/png": "[encoded data removed]",
      "text/plain": [
       "<Figure size 432x288 with 1 Axes>"
      ]
     },
     "metadata": {},
     "output_type": "display_data"
    }
   ],
   "source": [
    "plot_moves_with_prob(legal_moves, mcts_agent.root_node.child_number_visits, only_top_x=10)"
   ]
  },
  {
   "cell_type": "code",
   "execution_count": 29,
   "metadata": {},
   "outputs": [
    {
     "name": "stdout",
     "output_type": "stream",
     "text": [
      "2019-02-12 23:25:23 matplotlib.axes._base[16920] \u001b[1mDEBUG\u001b[0m \u001b[32mupdate_title_pos\u001b[0m\n",
      "2019-02-12 23:25:23 matplotlib.axes._base[16920] \u001b[1mDEBUG\u001b[0m \u001b[32mupdate_title_pos\u001b[0m\n",
      "2019-02-12 23:25:23 matplotlib.axes._base[16920] \u001b[1mDEBUG\u001b[0m \u001b[32mupdate_title_pos\u001b[0m\n",
      "2019-02-12 23:25:23 matplotlib.axes._base[16920] \u001b[1mDEBUG\u001b[0m \u001b[32mupdate_title_pos\u001b[0m\n"
     ]
    },
    {
     "data": {
      "image/png": "[encoded data removed]",
      "text/plain": [
       "<Figure size 432x288 with 1 Axes>"
      ]
     },
     "metadata": {},
     "output_type": "display_data"
    }
   ],
   "source": [
    "plot_moves_with_prob(legal_moves, mcts_agent.root_node.q_value, only_top_x=4)"
   ]
  },
  {
   "cell_type": "code",
   "execution_count": 30,
   "metadata": {},
   "outputs": [
    {
     "name": "stdout",
     "output_type": "stream",
     "text": [
      "2019-02-12 23:25:24 matplotlib.axes._base[16920] \u001b[1mDEBUG\u001b[0m \u001b[32mupdate_title_pos\u001b[0m\n",
      "2019-02-12 23:25:24 matplotlib.axes._base[16920] \u001b[1mDEBUG\u001b[0m \u001b[32mupdate_title_pos\u001b[0m\n",
      "2019-02-12 23:25:24 matplotlib.axes._base[16920] \u001b[1mDEBUG\u001b[0m \u001b[32mupdate_title_pos\u001b[0m\n",
      "2019-02-12 23:25:24 matplotlib.axes._base[16920] \u001b[1mDEBUG\u001b[0m \u001b[32mupdate_title_pos\u001b[0m\n"
     ]
    },
    {
     "data": {
      "image/png": "[encoded data removed]",
      "text/plain": [
       "<Figure size 432x288 with 1 Axes>"
      ]
     },
     "metadata": {},
     "output_type": "display_data"
    }
   ],
   "source": [
    "plot_moves_with_prob(legal_moves, p_vec_small, only_top_x=10)"
   ]
  },
  {
   "cell_type": "code",
   "execution_count": 31,
   "metadata": {},
   "outputs": [
    {
     "name": "stdout",
     "output_type": "stream",
     "text": [
      "2019-02-12 23:25:24 matplotlib.axes._base[16920] \u001b[1mDEBUG\u001b[0m \u001b[32mupdate_title_pos\u001b[0m\n",
      "2019-02-12 23:25:24 matplotlib.axes._base[16920] \u001b[1mDEBUG\u001b[0m \u001b[32mupdate_title_pos\u001b[0m\n",
      "2019-02-12 23:25:24 matplotlib.axes._base[16920] \u001b[1mDEBUG\u001b[0m \u001b[32mupdate_title_pos\u001b[0m\n",
      "2019-02-12 23:25:24 matplotlib.axes._base[16920] \u001b[1mDEBUG\u001b[0m \u001b[32mupdate_title_pos\u001b[0m\n"
     ]
    },
    {
     "data": {
      "image/png": "[encoded data removed]",
      "text/plain": [
       "<Figure size 432x288 with 1 Axes>"
      ]
     },
     "metadata": {},
     "output_type": "display_data"
    }
   ],
   "source": [
    "plot_moves_with_prob(legal_moves, p_vec_small, only_top_x=10)"
   ]
  },
  {
   "cell_type": "code",
   "execution_count": 32,
   "metadata": {
    "scrolled": false
   },
   "outputs": [
    {
     "name": "stdout",
     "output_type": "stream",
     "text": [
      "Timer unit: 1e-06 s\n",
      "\n",
      "Total time: 0.010856 s\n",
      "File: ../../../DeepCrazyhouse/src/domain/agent/player/mcts_agent.py\n",
      "Function: _run_single_playout at line 556\n",
      "\n",
      "Line #      Hits         Time  Per Hit   % Time  Line Contents\n",
      "==============================================================\n",
      "   556                                               def _run_single_playout(self, state: GameState, parent_node: Node, pipe_id=0, depth=1, chosen_nodes=None):\n",
      "   557                                                   \"\"\"\n",
      "   558                                                   This function works recursively until a leaf or terminal node is reached.\n",
      "   559                                                   It ends by back-propagating the value of the new expanded node or by propagating the value of a terminal state.\n",
      "   560                                           \n",
      "   561                                                   :param state: Current game-state for the evaluation. This state differs between the treads\n",
      "   562                                                   :param parent_node: Current parent-node of the selected node. In the first  expansion this is the root node.\n",
      "   563                                                   :param depth: Current depth for the evaluation. Depth is increased by 1 for every recursive call\n",
      "   564                                                   :param chosen_nodes: List of moves which have been taken in the current path.\n",
      "   565                                                                   For each selected child node this list is expanded by one move recursively.\n",
      "   566                                                   :param chosen_nodes: List of all nodes that this thread has explored with respect to the root node\n",
      "   567                                                   :return: -value: The inverse value prediction of the current board state. The flipping by -1 each turn is needed\n",
      "   568                                                                   because the point of view changes each half-move\n",
      "   569                                                           depth: Current depth reach by this evaluation\n",
      "   570                                                           mv_list: List of moves which have been selected\n",
      "   571                                                   \"\"\"\n",
      "   572                                                   # Probably is better to be refactored\n",
      "   573                                                   # Too many arguments (6/5) - Too many local variables (27/15) - Too many branches (28/12) -\n",
      "   574                                                   # Too many statements (86/50)\n",
      "   575         4          8.0      2.0      0.1          if chosen_nodes is None:  # select a legal move on the chess board\n",
      "   576         1          2.0      2.0      0.0              chosen_nodes = []\n",
      "   577         4        135.0     33.8      1.2          node, move, child_idx = self._select_node(parent_node)\n",
      "   578                                           \n",
      "   579         4          8.0      2.0      0.1          if move is None:\n",
      "   580                                                       raise Exception(\"Illegal tree setup. A 'None' move was selected which shouldn't be possible\")\n",
      "   581                                                   # update the visit counts to this node\n",
      "   582                                                   # temporarily reduce the attraction of this node by applying a virtual loss /\n",
      "   583                                                   # the effect of virtual loss will be undone if the playout is over\n",
      "   584         4         40.0     10.0      0.4          parent_node.apply_virtual_loss_to_child(child_idx, self.virtual_loss)\n",
      "   585                                           \n",
      "   586         4          7.0      1.8      0.1          if depth == 1:\n",
      "   587         1        141.0    141.0      1.3              state = GameState(deepcopy(state.get_pythonchess_board()))\n",
      "   588                                           \n",
      "   589         4        254.0     63.5      2.3          state.apply_move(move)  # apply the selected move on the board\n",
      "   590                                                   # append the selected move to the move list\n",
      "   591         4          8.0      2.0      0.1          chosen_nodes.append(child_idx)  # append the chosen child idx to the chosen_nodes list\n",
      "   592                                           \n",
      "   593         4          8.0      2.0      0.1          if node is None:\n",
      "   594                                                       # get the transposition-key which is used as an identifier for the board positions in the look-up table\n",
      "   595         1         38.0     38.0      0.4              transposition_key = state.get_transposition_key()\n",
      "   596                                                       # check if the addressed fen exist in the look-up table\n",
      "   597                                                       # note: It's important to use also the halfmove-counter here, otherwise the system can create an infinite\n",
      "   598                                                       # feed-back-loop\n",
      "   599         1          4.0      4.0      0.0              key = transposition_key + (state.get_fullmove_number(),)\n",
      "   600         1          3.0      3.0      0.0              use_tran_table = True\n",
      "   601         1          3.0      3.0      0.0              node_verified = False\n",
      "   602                                           \n",
      "   603         1          4.0      4.0      0.0              if use_tran_table and key in self.node_lookup:\n",
      "   604                                                           # if self.check_for_duplicate(transposition_key, chosen_nodes) is False:\n",
      "   605                                                           node = self.node_lookup[key]  # get the node from the look-up list\n",
      "   606                                           \n",
      "   607                                                           if node.n_sum > parent_node.n_sum:  # make sure that you don't connect to a node with lower visits\n",
      "   608                                                               node_verified = True\n",
      "   609                                           \n",
      "   610         1          2.0      2.0      0.0              if node_verified:\n",
      "   611                                                           with parent_node.lock:\n",
      "   612                                                               # setup a new connection from the parent to the child\n",
      "   613                                                               parent_node.child_nodes[child_idx] = node\n",
      "   614                                                           # logging.debug('found key: %s' % state.get_board_fen())\n",
      "   615                                                           # get the prior value from the leaf node which has already been expanded\n",
      "   616                                                           value = node.initial_value\n",
      "   617                                                       else:\n",
      "   618                                                           # expand and evaluate the new board state (the node wasn't found in the look-up table)\n",
      "   619                                                           # its value will be back-propagated through the tree and flipped after every layer\n",
      "   620         1          3.0      3.0      0.0                  my_pipe = self.my_pipe_endings[pipe_id]  # receive a free available pipe\n",
      "   621                                           \n",
      "   622         1          2.0      2.0      0.0                  if self.send_batches:\n",
      "   623                                                               my_pipe.send(state.get_state_planes())\n",
      "   624                                                               # this pipe waits for the predictions of the network inference service\n",
      "   625                                                               [value, policy_vec] = my_pipe.recv()\n",
      "   626                                                           else:\n",
      "   627         1        596.0    596.0      5.5                      state_planes = state.get_state_planes()\n",
      "   628         1          7.0      7.0      0.1                      self.batch_state_planes[pipe_id] = state_planes\n",
      "   629         1         63.0     63.0      0.6                      my_pipe.send(pipe_id)\n",
      "   630         1       8324.0   8324.0     76.7                      result_channel = my_pipe.recv()\n",
      "   631         1         19.0     19.0      0.2                      value = np.array(self.batch_value_results[result_channel])\n",
      "   632         1         15.0     15.0      0.1                      policy_vec = np.array(self.batch_policy_results[result_channel])\n",
      "   633                                           \n",
      "   634         1          5.0      5.0      0.0                  is_leaf = is_won = False  # initialize is_leaf by default to false and check if the game is won\n",
      "   635                                                           # check if the current player has won the game\n",
      "   636                                                           # (we don't need to check for is_lost() because the game is already over\n",
      "   637                                                           #  if the current player checkmated his opponent)\n",
      "   638         1         75.0     75.0      0.7                  if state.is_check():\n",
      "   639         1        227.0    227.0      2.1                      if state.is_won():\n",
      "   640                                                                   is_won = True\n",
      "   641                                           \n",
      "   642         1          5.0      5.0      0.0                  if is_won:\n",
      "   643                                                               value = -1\n",
      "   644                                                               is_leaf = True\n",
      "   645                                                               legal_moves = []\n",
      "   646                                                               p_vec_small = None\n",
      "   647                                                               # establish a mate in one connection in order to stop exploring different alternatives\n",
      "   648                                                               parent_node.mate_child_idx = child_idx\n",
      "   649                                                           # get the value from the leaf node (the current function is called recursively)\n",
      "   650                                                           # check if you can claim a draw - its assumed that the draw is always claimed\n",
      "   651                                                           elif (\n",
      "   652         1         39.0     39.0      0.4                      self.can_claim_threefold_repetition(transposition_key, chosen_nodes)\n",
      "   653         1          9.0      9.0      0.1                      or state.get_pythonchess_board().can_claim_fifty_moves() is True\n",
      "   654                                                           ):\n",
      "   655                                                               # raise Exception('Threefold!')\n",
      "   656                                                               value = 0\n",
      "   657                                                               is_leaf = True\n",
      "   658                                                               legal_moves = []\n",
      "   659                                                               p_vec_small = None\n",
      "   660                                                           else:\n",
      "   661         1        418.0    418.0      3.9                      legal_moves = state.get_legal_moves()  # get the current legal move of its board state\n",
      "   662                                           \n",
      "   663         1          5.0      5.0      0.0                      if not legal_moves:\n",
      "   664                                                                   raise Exception(\"No legal move is available for state: %s\" % state)\n",
      "   665         1          4.0      4.0      0.0                      try:  # extract a sparse policy vector with normalized probabilities\n",
      "   666         1          5.0      5.0      0.0                          p_vec_small = get_probs_of_move_list(\n",
      "   667         1        126.0    126.0      1.2                              policy_vec, legal_moves, is_white_to_move=state.is_white_to_move(), normalize=True\n",
      "   668                                                                   )\n",
      "   669                                                               except KeyError:\n",
      "   670                                                                   raise Exception(\"Key Error for state: %s\" % state)\n",
      "   671                                                           # convert all legal moves to a string if the option check_mate_in_one was enabled\n",
      "   672         1          6.0      6.0      0.1                  if self.check_mate_in_one:\n",
      "   673                                                               str_legal_moves = str(state.get_legal_moves())\n",
      "   674                                                           else:\n",
      "   675         1          4.0      4.0      0.0                      str_legal_moves = \"\"\n",
      "   676                                                           # clip the visit nodes for all nodes in the search tree except the director opp. move\n",
      "   677         1          5.0      5.0      0.0                  clip_low_visit = self.use_pruning and depth != 1 # and depth > 4\n",
      "   678         1          4.0      4.0      0.0                  new_node = Node(\n",
      "   679         1         89.0     89.0      0.8                      value, p_vec_small, legal_moves, str_legal_moves, is_leaf, transposition_key, clip_low_visit\n",
      "   680                                                           )  # create a new node\n",
      "   681                                           \n",
      "   682         1          5.0      5.0      0.0                  if depth == 1:\n",
      "   683                                                               # disable uncertain moves from being visited by giving them a very bad score\n",
      "   684                                                               if not is_leaf and self.use_pruning:\n",
      "   685                                                                   if self.root_node_prior_policy[child_idx] < 1e-3 and value * -1 < self.root_node.initial_value:\n",
      "   686                                                                       with parent_node.lock:\n",
      "   687                                                                           value = 99\n",
      "   688                                           \n",
      "   689                                                               if parent_node.initial_value > 0.65:  # and state.are_pocket_empty(): #and pipe_id == 0:\n",
      "   690                                                                   fac = 0.25  # test of adding dirichlet noise to a new node\n",
      "   691                                           \n",
      "   692                                                                   if len(parent_node.legal_moves) < 20:\n",
      "   693                                                                       fac *= 5\n",
      "   694                                                                   new_node.apply_dirichlet_noise_to_prior_policy(\n",
      "   695                                                                       epsilon=self.dirichlet_epsilon * fac, alpha=self.dirichlet_alpha\n",
      "   696                                                                   )\n",
      "   697                                           \n",
      "   698                                                               if value < 0:\n",
      "   699                                                                   # test of adding dirichlet noise to a new node\n",
      "   700                                                                   new_node.apply_dirichlet_noise_to_prior_policy(\n",
      "   701                                                                       epsilon=self.dirichlet_epsilon * 0.02, alpha=self.dirichlet_alpha\n",
      "   702                                                                   )\n",
      "   703                                           \n",
      "   704         1          4.0      4.0      0.0                  if not self.use_pruning:\n",
      "   705                                                               self.node_lookup[key] = new_node  # include a reference to the new node in the look-up table\n",
      "   706                                           \n",
      "   707         1          7.0      7.0      0.1                  with parent_node.lock:\n",
      "   708         1          6.0      6.0      0.1                      parent_node.child_nodes[child_idx] = new_node  # add the new node to its parent\n",
      "   709         3          7.0      2.3      0.1          elif node.is_leaf:  # check if we have reached a leaf node\n",
      "   710                                                       value = node.initial_value\n",
      "   711                                                   else:\n",
      "   712                                                       # get the value from the leaf node (the current function is called recursively)\n",
      "   713         3          7.0      2.3      0.1              value, depth, chosen_nodes = self._run_single_playout(state, node, pipe_id, depth + 1, chosen_nodes)\n",
      "   714                                                   # revert the virtual loss and apply the predicted value by the network to the node\n",
      "   715         4         81.0     20.2      0.7          parent_node.revert_virtual_loss_and_update(child_idx, self.virtual_loss, -value)\n",
      "   716                                                   # invert the value prediction for the parent of the above node layer because the player's changes every turn\n",
      "   717         4         19.0      4.8      0.2          return -value, depth, chosen_nodes\n",
      "\n"
     ]
    }
   ],
   "source": [
    "\n",
    "\n",
    "%load_ext line_profiler\n",
    "r = %lprun -r -f mcts_agent._run_single_playout mcts_agent._run_single_playout(state, mcts_agent.root_node)\n",
    "r.print_stats()\n",
    "\n"
   ]
  },
  {
   "cell_type": "code",
   "execution_count": 33,
   "metadata": {
    "collapsed": true
   },
   "outputs": [],
   "source": [
    "from DeepCrazyhouse.src.domain.crazyhouse.input_representation import board_to_planes\n"
   ]
  },
  {
   "cell_type": "code",
   "execution_count": 34,
   "metadata": {
    "scrolled": false
   },
   "outputs": [
    {
     "name": "stdout",
     "output_type": "stream",
     "text": [
      "The line_profiler extension is already loaded. To reload it, use:\n",
      "  %reload_ext line_profiler\n",
      "Timer unit: 1e-06 s\n",
      "\n",
      "Total time: 0.000728 s\n",
      "File: ../../../DeepCrazyhouse/src/domain/crazyhouse/input_representation.py\n",
      "Function: board_to_planes at line 27\n",
      "\n",
      "Line #      Hits         Time  Per Hit   % Time  Line Contents\n",
      "==============================================================\n",
      "    27                                           def board_to_planes(board, board_occ=0, normalize=True):\n",
      "    28                                               \"\"\"\n",
      "    29                                               Gets the plane representation of a given board state.\n",
      "    30                                               (Now history of past board positions is used.)\n",
      "    31                                           \n",
      "    32                                               ## Crazyhouse:\n",
      "    33                                           \n",
      "    34                                               Feature | Planes\n",
      "    35                                           \n",
      "    36                                               --- | ---\n",
      "    37                                           \n",
      "    38                                               P1 piece | 6 (pieces are ordered: PAWN, KNIGHT, BISHOP, ROOK, QUEEN, KING)\n",
      "    39                                           \n",
      "    40                                               P2 piece | 6 (pieces are ordered: PAWN, KNIGHT, BISHOP, ROOK, QUEEN, KING)\n",
      "    41                                           \n",
      "    42                                               Repetitions | 2 (two planes (full zeros/ones) indicating how often the board positions has occurred)\n",
      "    43                                           \n",
      "    44                                               P1 prisoner count | 5 (pieces are ordered: PAWN, KNIGHT, BISHOP, ROOK, QUEEN) (excluding the KING)\n",
      "    45                                           \n",
      "    46                                               P2 prisoner count | 5 (pieces are ordered: PAWN, KNIGHT, BISHOP, ROOK, QUEEN) (excluding the KING)\n",
      "    47                                           \n",
      "    48                                               P1 Promoted Pawns Mask | 1 (binary map indicating the pieces which have been promoted)\n",
      "    49                                           \n",
      "    50                                               P2 Promoted Pawns Mask | 1 (binary map indicating the pieces which have been promoted)\n",
      "    51                                           \n",
      "    52                                               En-passant square | 1 (Binary map indicating the square where en-passant capture is possible)\n",
      "    53                                           \n",
      "    54                                               ---\n",
      "    55                                               27 planes\n",
      "    56                                           \n",
      "    57                                               * * *\n",
      "    58                                           \n",
      "    59                                               Colour | 1 (all zeros for black and all ones for white)\n",
      "    60                                           \n",
      "    61                                               Total move count | 1 (integer value setting the move count (uci notation))\n",
      "    62                                           \n",
      "    63                                               P1 castling | 2 (One if castling is possible, else zero)\n",
      "    64                                           \n",
      "    65                                               P2 castling | 2 (One if castling is possible, else zero)\n",
      "    66                                           \n",
      "    67                                               No-progress count | 1 (Setting the no progress counter as integer values, (described by uci halfmoves format)\n",
      "    68                                           \n",
      "    69                                               # --------------\n",
      "    70                                               7 planes\n",
      "    71                                           \n",
      "    72                                               The history list of the past 7 board states have been removed\n",
      "    73                                               The total number of planes is calculated as follows:\n",
      "    74                                           \n",
      "    75                                               27 + 7\n",
      "    76                                               Total: 34 planes\n",
      "    77                                           \n",
      "    78                                               :param board: Board handle (Python-chess object)\n",
      "    79                                               :param board_occ: Sets how often the board state has occurred before (by default 0)\n",
      "    80                                               :param normalize: True if the inputs shall be normalized to the range [0.-1.]\n",
      "    81                                               :return: planes - the plane representation of the current board state\n",
      "    82                                               \"\"\"\n",
      "    83                                           \n",
      "    84                                               # TODO: Remove board.mirror() for black by addressing the according color channel\n",
      "    85                                           \n",
      "    86                                               # (I) Define the Input Representation for one position\n",
      "    87         1        112.0    112.0     15.4      planes_pos = np.zeros((NB_CHANNELS_POS, BOARD_HEIGHT, BOARD_WIDTH))\n",
      "    88         1          5.0      5.0      0.7      planes_const = np.zeros((NB_CHANNELS_CONST, BOARD_HEIGHT, BOARD_WIDTH))\n",
      "    89                                           \n",
      "    90                                               # save whose turn it is\n",
      "    91         1          2.0      2.0      0.3      board_turn = chess.WHITE\n",
      "    92                                           \n",
      "    93                                               # check who's player turn it is and flip the board if it's black turn\n",
      "    94         1          3.0      3.0      0.4      if board.turn == chess.BLACK:\n",
      "    95         1          1.0      1.0      0.1          board_turn = chess.BLACK\n",
      "    96         1         99.0     99.0     13.6          board = board.mirror()\n",
      "    97                                           \n",
      "    98                                               # Fill in the piece positions\n",
      "    99                                           \n",
      "   100                                               # Iterate over both color starting with WHITE\n",
      "   101         3          6.0      2.0      0.8      for idx, color in enumerate(chess.COLORS):\n",
      "   102                                                   # the PIECE_TYPE is an integer list in python-chess\n",
      "   103        14         18.0      1.3      2.5          for piece_type in chess.PIECE_TYPES:\n",
      "   104                                                       # define the channel by the piece_type (the input representation uses the same ordering as python-chess)\n",
      "   105                                                       # we add an offset for the black pieces\n",
      "   106                                                       # note that we subtract 1 because in python chess the PAWN has index 1 and not 0\n",
      "   107        12         19.0      1.6      2.6              channel = (piece_type - 1) + idx * len(chess.PIECE_TYPES)\n",
      "   108                                                       # iterate over the piece mask and receive every position square of it\n",
      "   109        38        154.0      4.1     21.2              for pos in board.pieces(piece_type, color):\n",
      "   110        26         66.0      2.5      9.1                  row, col = get_row_col(pos)\n",
      "   111                                                           # set the bit at the right position\n",
      "   112        26         42.0      1.6      5.8                  planes_pos[channel, row, col] = 1\n",
      "   113                                           \n",
      "   114                                               # (II) Fill in the Repetition Data\n",
      "   115                                               # a game to test out if everything is working correctly is: https://lichess.org/jkItXBWy#73\n",
      "   116         1          2.0      2.0      0.3      channel = CHANNEL_MAPPING_POS[\"repetitions\"]\n",
      "   117                                           \n",
      "   118                                               # set how often the position has already occurred in the game (default 0 times)\n",
      "   119                                               # this is used to check for claiming the 3 fold repetition rule\n",
      "   120         1          1.0      1.0      0.1      if board_occ >= 1:\n",
      "   121                                                   planes_pos[channel, :, :] = 1\n",
      "   122                                                   if board_occ >= 2:\n",
      "   123                                                       planes_pos[channel + 1, :, :] = 1\n",
      "   124                                           \n",
      "   125                                               # Fill in the Prisoners / Pocket Pieces\n",
      "   126                                           \n",
      "   127                                               # iterate over all pieces except the king\n",
      "   128         6          9.0      1.5      1.2      for p_type in chess.PIECE_TYPES[:-1]:\n",
      "   129                                                   # p_type -1 because p_type starts with 1\n",
      "   130         5          7.0      1.4      1.0          channel = CHANNEL_MAPPING_POS[\"prisoners\"] + p_type - 1\n",
      "   131                                           \n",
      "   132         5         26.0      5.2      3.6          planes_pos[channel, :, :] = board.pockets[chess.WHITE].count(p_type)\n",
      "   133                                                   # the prison for black begins 5 channels later\n",
      "   134         5         17.0      3.4      2.3          planes_pos[channel + 5, :, :] = board.pockets[chess.BLACK].count(p_type)\n",
      "   135                                           \n",
      "   136                                               # (III) Fill in the promoted pieces\n",
      "   137                                               # iterate over all promoted pieces according to the mask and set the according bit\n",
      "   138         1          1.0      1.0      0.1      channel = CHANNEL_MAPPING_POS[\"promo\"]\n",
      "   139         1          5.0      5.0      0.7      for pos in chess.SquareSet(board.promoted):\n",
      "   140                                                   row, col = get_row_col(pos)\n",
      "   141                                           \n",
      "   142                                                   if board.piece_at(pos).color == chess.WHITE:\n",
      "   143                                                       planes_pos[channel, row, col] = 1\n",
      "   144                                                   else:\n",
      "   145                                                       planes_pos[channel + 1, row, col] = 1\n",
      "   146                                           \n",
      "   147                                               # (III.2) En Passant Square\n",
      "   148                                               # mark the square where an en-passant capture is possible\n",
      "   149         1          2.0      2.0      0.3      channel = CHANNEL_MAPPING_POS[\"ep_square\"]\n",
      "   150         1          1.0      1.0      0.1      if board.ep_square is not None:\n",
      "   151                                                   row, col = get_row_col(board.ep_square)\n",
      "   152                                                   planes_pos[channel, row, col] = 1\n",
      "   153                                           \n",
      "   154                                               # (IV) Constant Value Inputs\n",
      "   155                                               # (IV.1) Color\n",
      "   156         1          2.0      2.0      0.3      if board_turn == chess.WHITE:\n",
      "   157                                                   planes_const[CHANNEL_MAPPING_CONST[\"color\"], :, :] = 1\n",
      "   158                                               # otherwise the mat will remain zero\n",
      "   159                                           \n",
      "   160                                               # (IV.2) Total Move Count\n",
      "   161         1          3.0      3.0      0.4      planes_const[CHANNEL_MAPPING_CONST[\"total_mv_cnt\"], :, :] = board.fullmove_number\n",
      "   162                                               # alternatively, you could use the half-moves-counter: len(board.move_stack)\n",
      "   163                                           \n",
      "   164                                               # (IV.3) Castling Rights\n",
      "   165         1          2.0      2.0      0.3      channel = CHANNEL_MAPPING_CONST[\"castling\"]\n",
      "   166                                           \n",
      "   167                                               # WHITE\n",
      "   168                                               # check for King Side Castling\n",
      "   169         1          3.0      3.0      0.4      if bool(board.castling_rights & chess.BB_H1) is True:\n",
      "   170                                                   # White can castle with the h1 rook\n",
      "   171         1          2.0      2.0      0.3          planes_const[channel, :, :] = 1\n",
      "   172                                               # check for Queen Side Castling\n",
      "   173         1          2.0      2.0      0.3      if bool(board.castling_rights & chess.BB_A1) is True:\n",
      "   174         1          2.0      2.0      0.3          planes_const[channel + 1, :, :] = 1\n",
      "   175                                           \n",
      "   176                                               # BLACK\n",
      "   177                                               # check for King Side Castling\n",
      "   178         1          2.0      2.0      0.3      if bool(board.castling_rights & chess.BB_H8) is True:\n",
      "   179                                                   # White can castle with the h1 rook\n",
      "   180                                                   planes_const[channel + 2, :, :] = 1\n",
      "   181                                               # check for Queen Side Castling\n",
      "   182         1          2.0      2.0      0.3      if bool(board.castling_rights & chess.BB_A8) is True:\n",
      "   183                                                   planes_const[channel + 3, :, :] = 1\n",
      "   184                                           \n",
      "   185                                               # (IV.4) No Progress Count\n",
      "   186                                               # define a no 'progress' counter\n",
      "   187                                               # it gets incremented by 1 each move\n",
      "   188                                               # however, whenever a piece gets dropped, a piece is captured or a pawn is moved, it is reset to 0\n",
      "   189                                               # halfmove_clock is an official metric in fen notation\n",
      "   190                                               #  -> see: https://en.wikipedia.org/wiki/Forsyth%E2%80%93Edwards_Notation\n",
      "   191         1          1.0      1.0      0.1      no_progress_cnt = board.halfmove_clock\n",
      "   192                                           \n",
      "   193                                               # check how often the position has already occurred in the game\n",
      "   194         1          3.0      3.0      0.4      planes_const[CHANNEL_MAPPING_CONST[\"no_progress_cnt\"], :, :] = no_progress_cnt\n",
      "   195                                           \n",
      "   196                                               # (V) Merge the Matrix-Stack\n",
      "   197         1         15.0     15.0      2.1      planes = np.concatenate((planes_pos, planes_const), axis=0)\n",
      "   198                                           \n",
      "   199                                               # revert the board if the players turn was black\n",
      "   200                                               # ! DO NOT DELETE OR UNCOMMENT THIS BLOCK BECAUSE THE PARAMETER board IS CHANGED IN PLACE !\n",
      "   201         1          2.0      2.0      0.3      if board_turn == chess.BLACK:\n",
      "   202         1         58.0     58.0      8.0          board = board.mirror()\n",
      "   203                                           \n",
      "   204         1          1.0      1.0      0.1      if normalize is True:\n",
      "   205         1         29.0     29.0      4.0          planes *= MATRIX_NORMALIZER\n",
      "   206                                                   # planes = normalize_input_planes(planes)\n",
      "   207                                           \n",
      "   208                                               # return the plane representation of the given board\n",
      "   209         1          1.0      1.0      0.1      return planes\n",
      "\n"
     ]
    }
   ],
   "source": [
    "%load_ext line_profiler\n",
    "r = %lprun -r -f board_to_planes board_to_planes(board)\n",
    "r.print_stats()"
   ]
  },
  {
   "cell_type": "code",
   "execution_count": 35,
   "metadata": {
    "scrolled": false
   },
   "outputs": [
    {
     "name": "stdout",
     "output_type": "stream",
     "text": [
      "The line_profiler extension is already loaded. To reload it, use:\n",
      "  %reload_ext line_profiler\n",
      "Timer unit: 1e-06 s\n",
      "\n",
      "Total time: 0.000594 s\n",
      "File: ../../../DeepCrazyhouse/src/domain/crazyhouse/input_representation.py\n",
      "Function: board_to_planes at line 27\n",
      "\n",
      "Line #      Hits         Time  Per Hit   % Time  Line Contents\n",
      "==============================================================\n",
      "    27                                           def board_to_planes(board, board_occ=0, normalize=True):\n",
      "    28                                               \"\"\"\n",
      "    29                                               Gets the plane representation of a given board state.\n",
      "    30                                               (Now history of past board positions is used.)\n",
      "    31                                           \n",
      "    32                                               ## Crazyhouse:\n",
      "    33                                           \n",
      "    34                                               Feature | Planes\n",
      "    35                                           \n",
      "    36                                               --- | ---\n",
      "    37                                           \n",
      "    38                                               P1 piece | 6 (pieces are ordered: PAWN, KNIGHT, BISHOP, ROOK, QUEEN, KING)\n",
      "    39                                           \n",
      "    40                                               P2 piece | 6 (pieces are ordered: PAWN, KNIGHT, BISHOP, ROOK, QUEEN, KING)\n",
      "    41                                           \n",
      "    42                                               Repetitions | 2 (two planes (full zeros/ones) indicating how often the board positions has occurred)\n",
      "    43                                           \n",
      "    44                                               P1 prisoner count | 5 (pieces are ordered: PAWN, KNIGHT, BISHOP, ROOK, QUEEN) (excluding the KING)\n",
      "    45                                           \n",
      "    46                                               P2 prisoner count | 5 (pieces are ordered: PAWN, KNIGHT, BISHOP, ROOK, QUEEN) (excluding the KING)\n",
      "    47                                           \n",
      "    48                                               P1 Promoted Pawns Mask | 1 (binary map indicating the pieces which have been promoted)\n",
      "    49                                           \n",
      "    50                                               P2 Promoted Pawns Mask | 1 (binary map indicating the pieces which have been promoted)\n",
      "    51                                           \n",
      "    52                                               En-passant square | 1 (Binary map indicating the square where en-passant capture is possible)\n",
      "    53                                           \n",
      "    54                                               ---\n",
      "    55                                               27 planes\n",
      "    56                                           \n",
      "    57                                               * * *\n",
      "    58                                           \n",
      "    59                                               Colour | 1 (all zeros for black and all ones for white)\n",
      "    60                                           \n",
      "    61                                               Total move count | 1 (integer value setting the move count (uci notation))\n",
      "    62                                           \n",
      "    63                                               P1 castling | 2 (One if castling is possible, else zero)\n",
      "    64                                           \n",
      "    65                                               P2 castling | 2 (One if castling is possible, else zero)\n",
      "    66                                           \n",
      "    67                                               No-progress count | 1 (Setting the no progress counter as integer values, (described by uci halfmoves format)\n",
      "    68                                           \n",
      "    69                                               # --------------\n",
      "    70                                               7 planes\n",
      "    71                                           \n",
      "    72                                               The history list of the past 7 board states have been removed\n",
      "    73                                               The total number of planes is calculated as follows:\n",
      "    74                                           \n",
      "    75                                               27 + 7\n",
      "    76                                               Total: 34 planes\n",
      "    77                                           \n",
      "    78                                               :param board: Board handle (Python-chess object)\n",
      "    79                                               :param board_occ: Sets how often the board state has occurred before (by default 0)\n",
      "    80                                               :param normalize: True if the inputs shall be normalized to the range [0.-1.]\n",
      "    81                                               :return: planes - the plane representation of the current board state\n",
      "    82                                               \"\"\"\n",
      "    83                                           \n",
      "    84                                               # TODO: Remove board.mirror() for black by addressing the according color channel\n",
      "    85                                           \n",
      "    86                                               # (I) Define the Input Representation for one position\n",
      "    87         1         13.0     13.0      2.2      planes_pos = np.zeros((NB_CHANNELS_POS, BOARD_HEIGHT, BOARD_WIDTH))\n",
      "    88         1          4.0      4.0      0.7      planes_const = np.zeros((NB_CHANNELS_CONST, BOARD_HEIGHT, BOARD_WIDTH))\n",
      "    89                                           \n",
      "    90                                               # save whose turn it is\n",
      "    91         1          1.0      1.0      0.2      board_turn = chess.WHITE\n",
      "    92                                           \n",
      "    93                                               # check who's player turn it is and flip the board if it's black turn\n",
      "    94         1          3.0      3.0      0.5      if board.turn == chess.BLACK:\n",
      "    95         1          1.0      1.0      0.2          board_turn = chess.BLACK\n",
      "    96         1         83.0     83.0     14.0          board = board.mirror()\n",
      "    97                                           \n",
      "    98                                               # Fill in the piece positions\n",
      "    99                                           \n",
      "   100                                               # Iterate over both color starting with WHITE\n",
      "   101         3          6.0      2.0      1.0      for idx, color in enumerate(chess.COLORS):\n",
      "   102                                                   # the PIECE_TYPE is an integer list in python-chess\n",
      "   103        14         15.0      1.1      2.5          for piece_type in chess.PIECE_TYPES:\n",
      "   104                                                       # define the channel by the piece_type (the input representation uses the same ordering as python-chess)\n",
      "   105                                                       # we add an offset for the black pieces\n",
      "   106                                                       # note that we subtract 1 because in python chess the PAWN has index 1 and not 0\n",
      "   107        12         20.0      1.7      3.4              channel = (piece_type - 1) + idx * len(chess.PIECE_TYPES)\n",
      "   108                                                       # iterate over the piece mask and receive every position square of it\n",
      "   109        38        143.0      3.8     24.1              for pos in board.pieces(piece_type, color):\n",
      "   110        26         58.0      2.2      9.8                  row, col = get_row_col(pos)\n",
      "   111                                                           # set the bit at the right position\n",
      "   112        26         42.0      1.6      7.1                  planes_pos[channel, row, col] = 1\n",
      "   113                                           \n",
      "   114                                               # (II) Fill in the Repetition Data\n",
      "   115                                               # a game to test out if everything is working correctly is: https://lichess.org/jkItXBWy#73\n",
      "   116         1          2.0      2.0      0.3      channel = CHANNEL_MAPPING_POS[\"repetitions\"]\n",
      "   117                                           \n",
      "   118                                               # set how often the position has already occurred in the game (default 0 times)\n",
      "   119                                               # this is used to check for claiming the 3 fold repetition rule\n",
      "   120         1          1.0      1.0      0.2      if board_occ >= 1:\n",
      "   121                                                   planes_pos[channel, :, :] = 1\n",
      "   122                                                   if board_occ >= 2:\n",
      "   123                                                       planes_pos[channel + 1, :, :] = 1\n",
      "   124                                           \n",
      "   125                                               # Fill in the Prisoners / Pocket Pieces\n",
      "   126                                           \n",
      "   127                                               # iterate over all pieces except the king\n",
      "   128         6         10.0      1.7      1.7      for p_type in chess.PIECE_TYPES[:-1]:\n",
      "   129                                                   # p_type -1 because p_type starts with 1\n",
      "   130         5          8.0      1.6      1.3          channel = CHANNEL_MAPPING_POS[\"prisoners\"] + p_type - 1\n",
      "   131                                           \n",
      "   132         5         33.0      6.6      5.6          planes_pos[channel, :, :] = board.pockets[chess.WHITE].count(p_type)\n",
      "   133                                                   # the prison for black begins 5 channels later\n",
      "   134         5         20.0      4.0      3.4          planes_pos[channel + 5, :, :] = board.pockets[chess.BLACK].count(p_type)\n",
      "   135                                           \n",
      "   136                                               # (III) Fill in the promoted pieces\n",
      "   137                                               # iterate over all promoted pieces according to the mask and set the according bit\n",
      "   138         1          2.0      2.0      0.3      channel = CHANNEL_MAPPING_POS[\"promo\"]\n",
      "   139         1          6.0      6.0      1.0      for pos in chess.SquareSet(board.promoted):\n",
      "   140                                                   row, col = get_row_col(pos)\n",
      "   141                                           \n",
      "   142                                                   if board.piece_at(pos).color == chess.WHITE:\n",
      "   143                                                       planes_pos[channel, row, col] = 1\n",
      "   144                                                   else:\n",
      "   145                                                       planes_pos[channel + 1, row, col] = 1\n",
      "   146                                           \n",
      "   147                                               # (III.2) En Passant Square\n",
      "   148                                               # mark the square where an en-passant capture is possible\n",
      "   149         1          2.0      2.0      0.3      channel = CHANNEL_MAPPING_POS[\"ep_square\"]\n",
      "   150         1          2.0      2.0      0.3      if board.ep_square is not None:\n",
      "   151                                                   row, col = get_row_col(board.ep_square)\n",
      "   152                                                   planes_pos[channel, row, col] = 1\n",
      "   153                                           \n",
      "   154                                               # (IV) Constant Value Inputs\n",
      "   155                                               # (IV.1) Color\n",
      "   156         1          1.0      1.0      0.2      if board_turn == chess.WHITE:\n",
      "   157                                                   planes_const[CHANNEL_MAPPING_CONST[\"color\"], :, :] = 1\n",
      "   158                                               # otherwise the mat will remain zero\n",
      "   159                                           \n",
      "   160                                               # (IV.2) Total Move Count\n",
      "   161         1          3.0      3.0      0.5      planes_const[CHANNEL_MAPPING_CONST[\"total_mv_cnt\"], :, :] = board.fullmove_number\n",
      "   162                                               # alternatively, you could use the half-moves-counter: len(board.move_stack)\n",
      "   163                                           \n",
      "   164                                               # (IV.3) Castling Rights\n",
      "   165         1          1.0      1.0      0.2      channel = CHANNEL_MAPPING_CONST[\"castling\"]\n",
      "   166                                           \n",
      "   167                                               # WHITE\n",
      "   168                                               # check for King Side Castling\n",
      "   169         1          2.0      2.0      0.3      if bool(board.castling_rights & chess.BB_H1) is True:\n",
      "   170                                                   # White can castle with the h1 rook\n",
      "   171         1          2.0      2.0      0.3          planes_const[channel, :, :] = 1\n",
      "   172                                               # check for Queen Side Castling\n",
      "   173         1          2.0      2.0      0.3      if bool(board.castling_rights & chess.BB_A1) is True:\n",
      "   174         1          2.0      2.0      0.3          planes_const[channel + 1, :, :] = 1\n",
      "   175                                           \n",
      "   176                                               # BLACK\n",
      "   177                                               # check for King Side Castling\n",
      "   178         1          2.0      2.0      0.3      if bool(board.castling_rights & chess.BB_H8) is True:\n",
      "   179                                                   # White can castle with the h1 rook\n",
      "   180                                                   planes_const[channel + 2, :, :] = 1\n",
      "   181                                               # check for Queen Side Castling\n",
      "   182         1          1.0      1.0      0.2      if bool(board.castling_rights & chess.BB_A8) is True:\n",
      "   183                                                   planes_const[channel + 3, :, :] = 1\n",
      "   184                                           \n",
      "   185                                               # (IV.4) No Progress Count\n",
      "   186                                               # define a no 'progress' counter\n",
      "   187                                               # it gets incremented by 1 each move\n",
      "   188                                               # however, whenever a piece gets dropped, a piece is captured or a pawn is moved, it is reset to 0\n",
      "   189                                               # halfmove_clock is an official metric in fen notation\n",
      "   190                                               #  -> see: https://en.wikipedia.org/wiki/Forsyth%E2%80%93Edwards_Notation\n",
      "   191         1          1.0      1.0      0.2      no_progress_cnt = board.halfmove_clock\n",
      "   192                                           \n",
      "   193                                               # check how often the position has already occurred in the game\n",
      "   194         1          2.0      2.0      0.3      planes_const[CHANNEL_MAPPING_CONST[\"no_progress_cnt\"], :, :] = no_progress_cnt\n",
      "   195                                           \n",
      "   196                                               # (V) Merge the Matrix-Stack\n",
      "   197         1         13.0     13.0      2.2      planes = np.concatenate((planes_pos, planes_const), axis=0)\n",
      "   198                                           \n",
      "   199                                               # revert the board if the players turn was black\n",
      "   200                                               # ! DO NOT DELETE OR UNCOMMENT THIS BLOCK BECAUSE THE PARAMETER board IS CHANGED IN PLACE !\n",
      "   201         1          1.0      1.0      0.2      if board_turn == chess.BLACK:\n",
      "   202         1         58.0     58.0      9.8          board = board.mirror()\n",
      "   203                                           \n",
      "   204         1          1.0      1.0      0.2      if normalize is True:\n",
      "   205         1         25.0     25.0      4.2          planes *= MATRIX_NORMALIZER\n",
      "   206                                                   # planes = normalize_input_planes(planes)\n",
      "   207                                           \n",
      "   208                                               # return the plane representation of the given board\n",
      "   209         1          2.0      2.0      0.3      return planes\n",
      "\n"
     ]
    }
   ],
   "source": [
    "%load_ext line_profiler\n",
    "r = %lprun -r -f board_to_planes board_to_planes(board)\n",
    "r.print_stats()"
   ]
  },
  {
   "cell_type": "code",
   "execution_count": null,
   "metadata": {
    "collapsed": true
   },
   "outputs": [],
   "source": []
  },
  {
   "cell_type": "code",
   "execution_count": null,
   "metadata": {
    "collapsed": true
   },
   "outputs": [],
   "source": []
  }
 ],
 "metadata": {
  "kernelspec": {
   "display_name": "Python 3",
   "language": "python",
   "name": "python3"
  },
  "language_info": {
   "codemirror_mode": {
    "name": "ipython",
    "version": 3
   },
   "file_extension": ".py",
   "mimetype": "text/x-python",
   "name": "python",
   "nbconvert_exporter": "python",
   "pygments_lexer": "ipython3",
   "version": "3.6.2"
  }
 },
 "nbformat": 4,
 "nbformat_minor": 2
}

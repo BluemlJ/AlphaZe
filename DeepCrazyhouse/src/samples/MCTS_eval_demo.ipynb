{
 "cells": [
  {
   "cell_type": "markdown",
   "metadata": {},
   "source": [
    "### Demonstration of an evaluation based on the MCTSAgent"
   ]
  },
  {
   "cell_type": "code",
   "execution_count": 1,
   "metadata": {
    "collapsed": true
   },
   "outputs": [],
   "source": [
    "%load_ext autoreload\n",
    "%autoreload 2"
   ]
  },
  {
   "cell_type": "code",
   "execution_count": 2,
   "metadata": {
    "collapsed": true
   },
   "outputs": [],
   "source": [
    "%reload_ext autoreload"
   ]
  },
  {
   "cell_type": "code",
   "execution_count": 3,
   "metadata": {
    "collapsed": true
   },
   "outputs": [],
   "source": [
    "import chess\n",
    "import chess.variant\n",
    "import matplotlib.pyplot as plt\n",
    "import numpy as np\n",
    "import sys\n",
    "sys.path.insert(0,'../../../')\n",
    "from DeepCrazyhouse.src.runtime.color_logger import enable_color_logging\n",
    "from DeepCrazyhouse.src.domain.agent.neural_net_api import NeuralNetAPI\n",
    "from DeepCrazyhouse.src.domain.agent.player.mcts_agent import MCTSAgent\n",
    "from DeepCrazyhouse.src.domain.agent.player.raw_net_agent import RawNetAgent\n",
    "from DeepCrazyhouse.src.domain.crazyhouse.game_state import GameState\n",
    "from DeepCrazyhouse.src.runtime.color_logger import enable_color_logging\n",
    "from time import time\n",
    "%matplotlib inline\n",
    "plt.style.use('seaborn-whitegrid')\n",
    "enable_color_logging()"
   ]
  },
  {
   "cell_type": "code",
   "execution_count": 4,
   "metadata": {
    "collapsed": true
   },
   "outputs": [],
   "source": [
    "batch_size = 8 #32 #8\n",
    "threads = 16"
   ]
  },
  {
   "cell_type": "code",
   "execution_count": 5,
   "metadata": {},
   "outputs": [
    {
     "name": "stdout",
     "output_type": "stream",
     "text": [
      "self.symbol_path: /media/queensgambit/5C483A84483A5CC8/Deep_Learning/data/lichess/Crazyhouse/model/symbol/model-1.25948-0.589-symbol.json\n",
      "self.params_path: /media/queensgambit/5C483A84483A5CC8/Deep_Learning/data/lichess/Crazyhouse/model/params/model-1.25948-0.589-0246.params\n",
      "self.symbol_path: /media/queensgambit/5C483A84483A5CC8/Deep_Learning/data/lichess/Crazyhouse/model/symbol/model-1.25948-0.589-symbol.json\n",
      "self.params_path: /media/queensgambit/5C483A84483A5CC8/Deep_Learning/data/lichess/Crazyhouse/model/params/model-1.25948-0.589-0246.params\n"
     ]
    }
   ],
   "source": [
    "nets = []\n",
    "for idx in range(2):\n",
    "    nets.append(NeuralNetAPI(ctx='gpu', batch_size=batch_size))"
   ]
  },
  {
   "cell_type": "code",
   "execution_count": 6,
   "metadata": {
    "collapsed": true
   },
   "outputs": [],
   "source": [
    "raw_agent = RawNetAgent(nets[0])"
   ]
  },
  {
   "cell_type": "code",
   "execution_count": 7,
   "metadata": {
    "collapsed": true
   },
   "outputs": [],
   "source": [
    "mcts_agent = MCTSAgent(nets, threads=threads,\n",
    "                       playouts_empty_pockets=4096*5, playouts_filled_pockets=4096*5,\n",
    "                       #playouts_empty_pockets=800, playouts_filled_pockets=800,\n",
    "                 cpuct=2.5, dirichlet_epsilon=.25, dirichlet_alpha=0.2, batch_size=batch_size, q_value_weight=0.7,\n",
    "                 max_search_depth=40, temperature=.07, virtual_loss=6, verbose=True, temperature_moves=0,\n",
    "                 min_movetime=60000*1, check_mate_in_one=False, use_oscillating_cpuct=True, use_pruning=False, opening_guard_moves=0)"
   ]
  },
  {
   "cell_type": "code",
   "execution_count": 25,
   "metadata": {},
   "outputs": [
    {
     "data": {
      "image/svg+xml": [
       "<svg height=\"400\" version=\"1.1\" viewBox=\"0 0 400 400\" width=\"400\" xmlns=\"http://www.w3.org/2000/svg\" xmlns:xlink=\"http://www.w3.org/1999/xlink\"><defs><g class=\"white pawn\" id=\"white-pawn\"><path d=\"M22 9c-2.21 0-4 1.79-4 4 0 .89.29 1.71.78 2.38-1.95 1.12-3.28 3.21-3.28 5.62 0 2.03.94 3.84 2.41 5.03-3 1.06-7.41 5.55-7.41 13.47h23c0-7.92-4.41-12.41-7.41-13.47 1.47-1.19 2.41-3 2.41-5.03 0-2.41-1.33-4.5-3.28-5.62.49-.67.78-1.49.78-2.38 0-2.21-1.79-4-4-4z\" fill=\"#fff\" stroke=\"#000\" stroke-linecap=\"round\" stroke-width=\"1.5\" /></g><g class=\"white knight\" fill=\"none\" fill-rule=\"evenodd\" id=\"white-knight\" stroke=\"#000\" stroke-linecap=\"round\" stroke-linejoin=\"round\" stroke-width=\"1.5\"><path d=\"M 22,10 C 32.5,11 38.5,18 38,39 L 15,39 C 15,30 25,32.5 23,18\" style=\"fill:#ffffff; stroke:#000000;\" /><path d=\"M 24,18 C 24.38,20.91 18.45,25.37 16,27 C 13,29 13.18,31.34 11,31 C 9.958,30.06 12.41,27.96 11,28 C 10,28 11.19,29.23 10,30 C 9,30 5.997,31 6,26 C 6,24 12,14 12,14 C 12,14 13.89,12.1 14,10.5 C 13.27,9.506 13.5,8.5 13.5,7.5 C 14.5,6.5 16.5,10 16.5,10 L 18.5,10 C 18.5,10 19.28,8.008 21,7 C 22,7 22,10 22,10\" style=\"fill:#ffffff; stroke:#000000;\" /><path d=\"M 9.5 25.5 A 0.5 0.5 0 1 1 8.5,25.5 A 0.5 0.5 0 1 1 9.5 25.5 z\" style=\"fill:#000000; stroke:#000000;\" /><path d=\"M 15 15.5 A 0.5 1.5 0 1 1 14,15.5 A 0.5 1.5 0 1 1 15 15.5 z\" style=\"fill:#000000; stroke:#000000;\" transform=\"matrix(0.866,0.5,-0.5,0.866,9.693,-5.173)\" /></g><g class=\"white bishop\" fill=\"none\" fill-rule=\"evenodd\" id=\"white-bishop\" stroke=\"#000\" stroke-linecap=\"round\" stroke-linejoin=\"round\" stroke-width=\"1.5\"><g fill=\"#fff\" stroke-linecap=\"butt\"><path d=\"M9 36c3.39-.97 10.11.43 13.5-2 3.39 2.43 10.11 1.03 13.5 2 0 0 1.65.54 3 2-.68.97-1.65.99-3 .5-3.39-.97-10.11.46-13.5-1-3.39 1.46-10.11.03-13.5 1-1.354.49-2.323.47-3-.5 1.354-1.94 3-2 3-2zM15 32c2.5 2.5 12.5 2.5 15 0 .5-1.5 0-2 0-2 0-2.5-2.5-4-2.5-4 5.5-1.5 6-11.5-5-15.5-11 4-10.5 14-5 15.5 0 0-2.5 1.5-2.5 4 0 0-.5.5 0 2zM25 8a2.5 2.5 0 1 1-5 0 2.5 2.5 0 1 1 5 0z\" /></g><path d=\"M17.5 26h10M15 30h15m-7.5-14.5v5M20 18h5\" stroke-linejoin=\"miter\" /></g><g class=\"white rook\" fill=\"#fff\" fill-rule=\"evenodd\" id=\"white-rook\" stroke=\"#000\" stroke-linecap=\"round\" stroke-linejoin=\"round\" stroke-width=\"1.5\"><path d=\"M9 39h27v-3H9v3zM12 36v-4h21v4H12zM11 14V9h4v2h5V9h5v2h5V9h4v5\" stroke-linecap=\"butt\" /><path d=\"M34 14l-3 3H14l-3-3\" /><path d=\"M31 17v12.5H14V17\" stroke-linecap=\"butt\" stroke-linejoin=\"miter\" /><path d=\"M31 29.5l1.5 2.5h-20l1.5-2.5\" /><path d=\"M11 14h23\" fill=\"none\" stroke-linejoin=\"miter\" /></g><g class=\"white queen\" fill=\"#fff\" fill-rule=\"evenodd\" id=\"white-queen\" stroke=\"#000\" stroke-linecap=\"round\" stroke-linejoin=\"round\" stroke-width=\"1.5\"><path d=\"M8 12a2 2 0 1 1-4 0 2 2 0 1 1 4 0zM24.5 7.5a2 2 0 1 1-4 0 2 2 0 1 1 4 0zM41 12a2 2 0 1 1-4 0 2 2 0 1 1 4 0zM16 8.5a2 2 0 1 1-4 0 2 2 0 1 1 4 0zM33 9a2 2 0 1 1-4 0 2 2 0 1 1 4 0z\" /><path d=\"M9 26c8.5-1.5 21-1.5 27 0l2-12-7 11V11l-5.5 13.5-3-15-3 15-5.5-14V25L7 14l2 12zM9 26c0 2 1.5 2 2.5 4 1 1.5 1 1 .5 3.5-1.5 1-1.5 2.5-1.5 2.5-1.5 1.5.5 2.5.5 2.5 6.5 1 16.5 1 23 0 0 0 1.5-1 0-2.5 0 0 .5-1.5-1-2.5-.5-2.5-.5-2 .5-3.5 1-2 2.5-2 2.5-4-8.5-1.5-18.5-1.5-27 0z\" stroke-linecap=\"butt\" /><path d=\"M11.5 30c3.5-1 18.5-1 22 0M12 33.5c6-1 15-1 21 0\" fill=\"none\" /></g><g class=\"white king\" fill=\"none\" fill-rule=\"evenodd\" id=\"white-king\" stroke=\"#000\" stroke-linecap=\"round\" stroke-linejoin=\"round\" stroke-width=\"1.5\"><path d=\"M22.5 11.63V6M20 8h5\" stroke-linejoin=\"miter\" /><path d=\"M22.5 25s4.5-7.5 3-10.5c0 0-1-2.5-3-2.5s-3 2.5-3 2.5c-1.5 3 3 10.5 3 10.5\" fill=\"#fff\" stroke-linecap=\"butt\" stroke-linejoin=\"miter\" /><path d=\"M11.5 37c5.5 3.5 15.5 3.5 21 0v-7s9-4.5 6-10.5c-4-6.5-13.5-3.5-16 4V27v-3.5c-3.5-7.5-13-10.5-16-4-3 6 5 10 5 10V37z\" fill=\"#fff\" /><path d=\"M11.5 30c5.5-3 15.5-3 21 0m-21 3.5c5.5-3 15.5-3 21 0m-21 3.5c5.5-3 15.5-3 21 0\" /></g><g class=\"black pawn\" id=\"black-pawn\"><path d=\"M22 9c-2.21 0-4 1.79-4 4 0 .89.29 1.71.78 2.38-1.95 1.12-3.28 3.21-3.28 5.62 0 2.03.94 3.84 2.41 5.03-3 1.06-7.41 5.55-7.41 13.47h23c0-7.92-4.41-12.41-7.41-13.47 1.47-1.19 2.41-3 2.41-5.03 0-2.41-1.33-4.5-3.28-5.62.49-.67.78-1.49.78-2.38 0-2.21-1.79-4-4-4z\" stroke=\"#000\" stroke-linecap=\"round\" stroke-width=\"1.5\" /></g><g class=\"black bishop\" fill=\"none\" fill-rule=\"evenodd\" id=\"black-bishop\" stroke=\"#000\" stroke-linecap=\"round\" stroke-linejoin=\"round\" stroke-width=\"1.5\"><path d=\"M9 36c3.39-.97 10.11.43 13.5-2 3.39 2.43 10.11 1.03 13.5 2 0 0 1.65.54 3 2-.68.97-1.65.99-3 .5-3.39-.97-10.11.46-13.5-1-3.39 1.46-10.11.03-13.5 1-1.354.49-2.323.47-3-.5 1.354-1.94 3-2 3-2zm6-4c2.5 2.5 12.5 2.5 15 0 .5-1.5 0-2 0-2 0-2.5-2.5-4-2.5-4 5.5-1.5 6-11.5-5-15.5-11 4-10.5 14-5 15.5 0 0-2.5 1.5-2.5 4 0 0-.5.5 0 2zM25 8a2.5 2.5 0 1 1-5 0 2.5 2.5 0 1 1 5 0z\" fill=\"#000\" stroke-linecap=\"butt\" /><path d=\"M17.5 26h10M15 30h15m-7.5-14.5v5M20 18h5\" stroke=\"#fff\" stroke-linejoin=\"miter\" /></g><g class=\"black rook\" fill=\"#000\" fill-rule=\"evenodd\" id=\"black-rook\" stroke=\"#000\" stroke-linecap=\"round\" stroke-linejoin=\"round\" stroke-width=\"1.5\"><path d=\"M9 39h27v-3H9v3zM12.5 32l1.5-2.5h17l1.5 2.5h-20zM12 36v-4h21v4H12z\" stroke-linecap=\"butt\" /><path d=\"M14 29.5v-13h17v13H14z\" stroke-linecap=\"butt\" stroke-linejoin=\"miter\" /><path d=\"M14 16.5L11 14h23l-3 2.5H14zM11 14V9h4v2h5V9h5v2h5V9h4v5H11z\" stroke-linecap=\"butt\" /><path d=\"M12 35.5h21M13 31.5h19M14 29.5h17M14 16.5h17M11 14h23\" fill=\"none\" stroke=\"#fff\" stroke-linejoin=\"miter\" stroke-width=\"1\" /></g><g class=\"black queen\" fill=\"#000\" fill-rule=\"evenodd\" id=\"black-queen\" stroke=\"#000\" stroke-linecap=\"round\" stroke-linejoin=\"round\" stroke-width=\"1.5\"><g fill=\"#000\" stroke=\"none\"><circle cx=\"6\" cy=\"12\" r=\"2.75\" /><circle cx=\"14\" cy=\"9\" r=\"2.75\" /><circle cx=\"22.5\" cy=\"8\" r=\"2.75\" /><circle cx=\"31\" cy=\"9\" r=\"2.75\" /><circle cx=\"39\" cy=\"12\" r=\"2.75\" /></g><path d=\"M9 26c8.5-1.5 21-1.5 27 0l2.5-12.5L31 25l-.3-14.1-5.2 13.6-3-14.5-3 14.5-5.2-13.6L14 25 6.5 13.5 9 26zM9 26c0 2 1.5 2 2.5 4 1 1.5 1 1 .5 3.5-1.5 1-1.5 2.5-1.5 2.5-1.5 1.5.5 2.5.5 2.5 6.5 1 16.5 1 23 0 0 0 1.5-1 0-2.5 0 0 .5-1.5-1-2.5-.5-2.5-.5-2 .5-3.5 1-2 2.5-2 2.5-4-8.5-1.5-18.5-1.5-27 0z\" stroke-linecap=\"butt\" /><path d=\"M11 38.5a35 35 1 0 0 23 0\" fill=\"none\" stroke-linecap=\"butt\" /><path d=\"M11 29a35 35 1 0 1 23 0M12.5 31.5h20M11.5 34.5a35 35 1 0 0 22 0M10.5 37.5a35 35 1 0 0 24 0\" fill=\"none\" stroke=\"#fff\" /></g><g class=\"black king\" fill=\"none\" fill-rule=\"evenodd\" id=\"black-king\" stroke=\"#000\" stroke-linecap=\"round\" stroke-linejoin=\"round\" stroke-width=\"1.5\"><path d=\"M22.5 11.63V6\" stroke-linejoin=\"miter\" /><path d=\"M22.5 25s4.5-7.5 3-10.5c0 0-1-2.5-3-2.5s-3 2.5-3 2.5c-1.5 3 3 10.5 3 10.5\" fill=\"#000\" stroke-linecap=\"butt\" stroke-linejoin=\"miter\" /><path d=\"M11.5 37c5.5 3.5 15.5 3.5 21 0v-7s9-4.5 6-10.5c-4-6.5-13.5-3.5-16 4V27v-3.5c-3.5-7.5-13-10.5-16-4-3 6 5 10 5 10V37z\" fill=\"#000\" /><path d=\"M20 8h5\" stroke-linejoin=\"miter\" /><path d=\"M32 29.5s8.5-4 6.03-9.65C34.15 14 25 18 22.5 24.5l.01 2.1-.01-2.1C20 18 9.906 14 6.997 19.85c-2.497 5.65 4.853 9 4.853 9M11.5 30c5.5-3 15.5-3 21 0m-21 3.5c5.5-3 15.5-3 21 0m-21 3.5c5.5-3 15.5-3 21 0\" stroke=\"#fff\" /></g></defs><rect class=\"square dark a1\" fill=\"#d18b47\" height=\"45\" stroke=\"none\" width=\"45\" x=\"20\" y=\"335\" /><use transform=\"translate(20, 335)\" xlink:href=\"#white-rook\" /><rect class=\"square light b1\" fill=\"#ffce9e\" height=\"45\" stroke=\"none\" width=\"45\" x=\"65\" y=\"335\" /><rect class=\"square dark c1\" fill=\"#d18b47\" height=\"45\" stroke=\"none\" width=\"45\" x=\"110\" y=\"335\" /><use transform=\"translate(110, 335)\" xlink:href=\"#white-bishop\" /><rect class=\"square light d1\" fill=\"#ffce9e\" height=\"45\" stroke=\"none\" width=\"45\" x=\"155\" y=\"335\" /><rect class=\"square dark e1\" fill=\"#d18b47\" height=\"45\" stroke=\"none\" width=\"45\" x=\"200\" y=\"335\" /><use transform=\"translate(200, 335)\" xlink:href=\"#white-king\" /><rect class=\"square light f1\" fill=\"#ffce9e\" height=\"45\" stroke=\"none\" width=\"45\" x=\"245\" y=\"335\" /><rect class=\"square dark g1\" fill=\"#d18b47\" height=\"45\" stroke=\"none\" width=\"45\" x=\"290\" y=\"335\" /><rect class=\"square light h1\" fill=\"#ffce9e\" height=\"45\" stroke=\"none\" width=\"45\" x=\"335\" y=\"335\" /><use transform=\"translate(335, 335)\" xlink:href=\"#white-rook\" /><rect class=\"square light a2\" fill=\"#ffce9e\" height=\"45\" stroke=\"none\" width=\"45\" x=\"20\" y=\"290\" /><use transform=\"translate(20, 290)\" xlink:href=\"#white-pawn\" /><rect class=\"square dark b2\" fill=\"#d18b47\" height=\"45\" stroke=\"none\" width=\"45\" x=\"65\" y=\"290\" /><use transform=\"translate(65, 290)\" xlink:href=\"#white-pawn\" /><rect class=\"square light c2\" fill=\"#ffce9e\" height=\"45\" stroke=\"none\" width=\"45\" x=\"110\" y=\"290\" /><use transform=\"translate(110, 290)\" xlink:href=\"#white-pawn\" /><rect class=\"square dark d2\" fill=\"#d18b47\" height=\"45\" stroke=\"none\" width=\"45\" x=\"155\" y=\"290\" /><use transform=\"translate(155, 290)\" xlink:href=\"#white-pawn\" /><rect class=\"square light e2\" fill=\"#ffce9e\" height=\"45\" stroke=\"none\" width=\"45\" x=\"200\" y=\"290\" /><use transform=\"translate(200, 290)\" xlink:href=\"#white-queen\" /><rect class=\"square dark f2\" fill=\"#d18b47\" height=\"45\" stroke=\"none\" width=\"45\" x=\"245\" y=\"290\" /><use transform=\"translate(245, 290)\" xlink:href=\"#white-pawn\" /><rect class=\"square light g2\" fill=\"#ffce9e\" height=\"45\" stroke=\"none\" width=\"45\" x=\"290\" y=\"290\" /><use transform=\"translate(290, 290)\" xlink:href=\"#white-pawn\" /><rect class=\"square dark h2\" fill=\"#d18b47\" height=\"45\" stroke=\"none\" width=\"45\" x=\"335\" y=\"290\" /><rect class=\"square dark a3\" fill=\"#d18b47\" height=\"45\" stroke=\"none\" width=\"45\" x=\"20\" y=\"245\" /><rect class=\"square light b3\" fill=\"#ffce9e\" height=\"45\" stroke=\"none\" width=\"45\" x=\"65\" y=\"245\" /><rect class=\"square dark c3\" fill=\"#d18b47\" height=\"45\" stroke=\"none\" width=\"45\" x=\"110\" y=\"245\" /><use transform=\"translate(110, 245)\" xlink:href=\"#white-knight\" /><rect class=\"square light d3\" fill=\"#ffce9e\" height=\"45\" stroke=\"none\" width=\"45\" x=\"155\" y=\"245\" /><rect class=\"square dark e3\" fill=\"#d18b47\" height=\"45\" stroke=\"none\" width=\"45\" x=\"200\" y=\"245\" /><use transform=\"translate(200, 245)\" xlink:href=\"#white-pawn\" /><rect class=\"square light f3\" fill=\"#ffce9e\" height=\"45\" stroke=\"none\" width=\"45\" x=\"245\" y=\"245\" /><rect class=\"square dark g3\" fill=\"#d18b47\" height=\"45\" stroke=\"none\" width=\"45\" x=\"290\" y=\"245\" /><use transform=\"translate(290, 245)\" xlink:href=\"#black-bishop\" /><rect class=\"square light h3\" fill=\"#ffce9e\" height=\"45\" stroke=\"none\" width=\"45\" x=\"335\" y=\"245\" /><rect class=\"square light a4\" fill=\"#ffce9e\" height=\"45\" stroke=\"none\" width=\"45\" x=\"20\" y=\"200\" /><rect class=\"square dark b4\" fill=\"#d18b47\" height=\"45\" stroke=\"none\" width=\"45\" x=\"65\" y=\"200\" /><rect class=\"square light c4\" fill=\"#ffce9e\" height=\"45\" stroke=\"none\" width=\"45\" x=\"110\" y=\"200\" /><rect class=\"square dark d4\" fill=\"#d18b47\" height=\"45\" stroke=\"none\" width=\"45\" x=\"155\" y=\"200\" /><use transform=\"translate(155, 200)\" xlink:href=\"#white-knight\" /><rect class=\"square light e4\" fill=\"#ffce9e\" height=\"45\" stroke=\"none\" width=\"45\" x=\"200\" y=\"200\" /><rect class=\"square dark f4\" fill=\"#d18b47\" height=\"45\" stroke=\"none\" width=\"45\" x=\"245\" y=\"200\" /><rect class=\"square light g4\" fill=\"#ffce9e\" height=\"45\" stroke=\"none\" width=\"45\" x=\"290\" y=\"200\" /><rect class=\"square dark h4\" fill=\"#d18b47\" height=\"45\" stroke=\"none\" width=\"45\" x=\"335\" y=\"200\" /><use transform=\"translate(335, 200)\" xlink:href=\"#white-pawn\" /><rect class=\"square dark a5\" fill=\"#d18b47\" height=\"45\" stroke=\"none\" width=\"45\" x=\"20\" y=\"155\" /><rect class=\"square light b5\" fill=\"#ffce9e\" height=\"45\" stroke=\"none\" width=\"45\" x=\"65\" y=\"155\" /><rect class=\"square dark c5\" fill=\"#d18b47\" height=\"45\" stroke=\"none\" width=\"45\" x=\"110\" y=\"155\" /><rect class=\"square light d5\" fill=\"#ffce9e\" height=\"45\" stroke=\"none\" width=\"45\" x=\"155\" y=\"155\" /><use transform=\"translate(155, 155)\" xlink:href=\"#black-pawn\" /><rect class=\"square dark e5\" fill=\"#d18b47\" height=\"45\" stroke=\"none\" width=\"45\" x=\"200\" y=\"155\" /><rect class=\"square light f5\" fill=\"#ffce9e\" height=\"45\" stroke=\"none\" width=\"45\" x=\"245\" y=\"155\" /><rect class=\"square dark g5\" fill=\"#d18b47\" height=\"45\" stroke=\"none\" width=\"45\" x=\"290\" y=\"155\" /><rect class=\"square light h5\" fill=\"#ffce9e\" height=\"45\" stroke=\"none\" width=\"45\" x=\"335\" y=\"155\" /><rect class=\"square light a6\" fill=\"#ffce9e\" height=\"45\" stroke=\"none\" width=\"45\" x=\"20\" y=\"110\" /><rect class=\"square dark b6\" fill=\"#d18b47\" height=\"45\" stroke=\"none\" width=\"45\" x=\"65\" y=\"110\" /><rect class=\"square light c6\" fill=\"#ffce9e\" height=\"45\" stroke=\"none\" width=\"45\" x=\"110\" y=\"110\" /><use transform=\"translate(110, 110)\" xlink:href=\"#black-pawn\" /><rect class=\"square dark d6\" fill=\"#d18b47\" height=\"45\" stroke=\"none\" width=\"45\" x=\"155\" y=\"110\" /><rect class=\"square light e6\" fill=\"#ffce9e\" height=\"45\" stroke=\"none\" width=\"45\" x=\"200\" y=\"110\" /><use transform=\"translate(200, 110)\" xlink:href=\"#white-bishop\" /><rect class=\"square dark f6\" fill=\"#d18b47\" height=\"45\" stroke=\"none\" width=\"45\" x=\"245\" y=\"110\" /><use transform=\"translate(245, 110)\" xlink:href=\"#black-queen\" /><rect class=\"square light g6\" fill=\"#ffce9e\" height=\"45\" stroke=\"none\" width=\"45\" x=\"290\" y=\"110\" /><use transform=\"translate(290, 110)\" xlink:href=\"#black-pawn\" /><rect class=\"square dark h6\" fill=\"#d18b47\" height=\"45\" stroke=\"none\" width=\"45\" x=\"335\" y=\"110\" /><rect class=\"square dark a7\" fill=\"#d18b47\" height=\"45\" stroke=\"none\" width=\"45\" x=\"20\" y=\"65\" /><use transform=\"translate(20, 65)\" xlink:href=\"#black-pawn\" /><rect class=\"square light b7\" fill=\"#ffce9e\" height=\"45\" stroke=\"none\" width=\"45\" x=\"65\" y=\"65\" /><rect class=\"square dark c7\" fill=\"#d18b47\" height=\"45\" stroke=\"none\" width=\"45\" x=\"110\" y=\"65\" /><use transform=\"translate(110, 65)\" xlink:href=\"#black-pawn\" /><rect class=\"square light d7\" fill=\"#ffce9e\" height=\"45\" stroke=\"none\" width=\"45\" x=\"155\" y=\"65\" /><rect class=\"square dark e7\" fill=\"#d18b47\" height=\"45\" stroke=\"none\" width=\"45\" x=\"200\" y=\"65\" /><rect class=\"square light f7\" fill=\"#ffce9e\" height=\"45\" stroke=\"none\" width=\"45\" x=\"245\" y=\"65\" /><rect class=\"square dark g7\" fill=\"#d18b47\" height=\"45\" stroke=\"none\" width=\"45\" x=\"290\" y=\"65\" /><use transform=\"translate(290, 65)\" xlink:href=\"#black-pawn\" /><rect class=\"square light h7\" fill=\"#ffce9e\" height=\"45\" stroke=\"none\" width=\"45\" x=\"335\" y=\"65\" /><rect class=\"square light a8\" fill=\"#ffce9e\" height=\"45\" stroke=\"none\" width=\"45\" x=\"20\" y=\"20\" /><use transform=\"translate(20, 20)\" xlink:href=\"#black-rook\" /><rect class=\"square dark b8\" fill=\"#d18b47\" height=\"45\" stroke=\"none\" width=\"45\" x=\"65\" y=\"20\" /><rect class=\"square light c8\" fill=\"#ffce9e\" height=\"45\" stroke=\"none\" width=\"45\" x=\"110\" y=\"20\" /><rect class=\"square dark d8\" fill=\"#d18b47\" height=\"45\" stroke=\"none\" width=\"45\" x=\"155\" y=\"20\" /><rect class=\"square light e8\" fill=\"#ffce9e\" height=\"45\" stroke=\"none\" width=\"45\" x=\"200\" y=\"20\" /><rect class=\"square dark f8\" fill=\"#d18b47\" height=\"45\" stroke=\"none\" width=\"45\" x=\"245\" y=\"20\" /><use transform=\"translate(245, 20)\" xlink:href=\"#black-king\" /><rect class=\"square light g8\" fill=\"#ffce9e\" height=\"45\" stroke=\"none\" width=\"45\" x=\"290\" y=\"20\" /><rect class=\"square dark h8\" fill=\"#d18b47\" height=\"45\" stroke=\"none\" width=\"45\" x=\"335\" y=\"20\" /><use transform=\"translate(335, 20)\" xlink:href=\"#black-rook\" /><text alignment-baseline=\"middle\" font-size=\"14\" text-anchor=\"middle\" x=\"42\" y=\"10\">a</text><text alignment-baseline=\"middle\" font-size=\"14\" text-anchor=\"middle\" x=\"42\" y=\"390\">a</text><text alignment-baseline=\"middle\" font-size=\"14\" text-anchor=\"middle\" x=\"87\" y=\"10\">b</text><text alignment-baseline=\"middle\" font-size=\"14\" text-anchor=\"middle\" x=\"87\" y=\"390\">b</text><text alignment-baseline=\"middle\" font-size=\"14\" text-anchor=\"middle\" x=\"132\" y=\"10\">c</text><text alignment-baseline=\"middle\" font-size=\"14\" text-anchor=\"middle\" x=\"132\" y=\"390\">c</text><text alignment-baseline=\"middle\" font-size=\"14\" text-anchor=\"middle\" x=\"177\" y=\"10\">d</text><text alignment-baseline=\"middle\" font-size=\"14\" text-anchor=\"middle\" x=\"177\" y=\"390\">d</text><text alignment-baseline=\"middle\" font-size=\"14\" text-anchor=\"middle\" x=\"222\" y=\"10\">e</text><text alignment-baseline=\"middle\" font-size=\"14\" text-anchor=\"middle\" x=\"222\" y=\"390\">e</text><text alignment-baseline=\"middle\" font-size=\"14\" text-anchor=\"middle\" x=\"267\" y=\"10\">f</text><text alignment-baseline=\"middle\" font-size=\"14\" text-anchor=\"middle\" x=\"267\" y=\"390\">f</text><text alignment-baseline=\"middle\" font-size=\"14\" text-anchor=\"middle\" x=\"312\" y=\"10\">g</text><text alignment-baseline=\"middle\" font-size=\"14\" text-anchor=\"middle\" x=\"312\" y=\"390\">g</text><text alignment-baseline=\"middle\" font-size=\"14\" text-anchor=\"middle\" x=\"357\" y=\"10\">h</text><text alignment-baseline=\"middle\" font-size=\"14\" text-anchor=\"middle\" x=\"357\" y=\"390\">h</text><text alignment-baseline=\"middle\" font-size=\"14\" text-anchor=\"middle\" x=\"10\" y=\"357\">1</text><text alignment-baseline=\"middle\" font-size=\"14\" text-anchor=\"middle\" x=\"390\" y=\"357\">1</text><text alignment-baseline=\"middle\" font-size=\"14\" text-anchor=\"middle\" x=\"10\" y=\"312\">2</text><text alignment-baseline=\"middle\" font-size=\"14\" text-anchor=\"middle\" x=\"390\" y=\"312\">2</text><text alignment-baseline=\"middle\" font-size=\"14\" text-anchor=\"middle\" x=\"10\" y=\"267\">3</text><text alignment-baseline=\"middle\" font-size=\"14\" text-anchor=\"middle\" x=\"390\" y=\"267\">3</text><text alignment-baseline=\"middle\" font-size=\"14\" text-anchor=\"middle\" x=\"10\" y=\"222\">4</text><text alignment-baseline=\"middle\" font-size=\"14\" text-anchor=\"middle\" x=\"390\" y=\"222\">4</text><text alignment-baseline=\"middle\" font-size=\"14\" text-anchor=\"middle\" x=\"10\" y=\"177\">5</text><text alignment-baseline=\"middle\" font-size=\"14\" text-anchor=\"middle\" x=\"390\" y=\"177\">5</text><text alignment-baseline=\"middle\" font-size=\"14\" text-anchor=\"middle\" x=\"10\" y=\"132\">6</text><text alignment-baseline=\"middle\" font-size=\"14\" text-anchor=\"middle\" x=\"390\" y=\"132\">6</text><text alignment-baseline=\"middle\" font-size=\"14\" text-anchor=\"middle\" x=\"10\" y=\"87\">7</text><text alignment-baseline=\"middle\" font-size=\"14\" text-anchor=\"middle\" x=\"390\" y=\"87\">7</text><text alignment-baseline=\"middle\" font-size=\"14\" text-anchor=\"middle\" x=\"10\" y=\"42\">8</text><text alignment-baseline=\"middle\" font-size=\"14\" text-anchor=\"middle\" x=\"390\" y=\"42\">8</text></svg>"
      ],
      "text/plain": [
       "CrazyhouseBoard('r4k1r/p1p3p1/2p1Bqp1/3p4/3N3P/2N1P1b1/PPPPQPP1/R1B1K2R[Pbnnp] b KQ - 0 22')"
      ]
     },
     "execution_count": 25,
     "metadata": {},
     "output_type": "execute_result"
    }
   ],
   "source": [
    "board = chess.variant.CrazyhouseBoard()\n",
    "\n",
    "board.push_uci('e2e4')\n",
    "#board.push_uci('e7e6')\n",
    "\n",
    "fen = 'rnbqkb1r/ppp1pppp/5n2/3P4/8/8/PPPP1PPP/RNBQKBNR/P w KQkq - 1 3'\n",
    "fen = 'rnb2rk1/p3bppp/2p5/3p2P1/4n3/8/PPPPBPPP/RNB1K1NR/QPPq w KQ - 0 11'\n",
    "#fen = 'r1b1kbnr/ppp1pppp/2n5/3q4/3P4/8/PPP1NPPP/RNBQKB1R/Pp b KQkq - 1 4'\n",
    "#fen = 'r1b1k2r/ppp2ppp/2n5/3np3/3P4/2PBP3/PpPB1PPP/1Q2K1NR/QNrb b Kkq - 27 14'\n",
    "#fen = 'r1bb4/ppp2pkp/5npb/4p3/4P3/2N5/PPP1BPPP/3RK2R/QNRqpnp w K - 3 16'\n",
    "#fen = '3R1b2/1bP1kp2/3Npn1p/3p4/5p2/5N1b/PPP2P1P/5Q1K/RPRPRQPnpbp b - - 4 36'\n",
    "#fen = 'r3k1nr/ppp2ppp/2n5/8/q7/Pp6/1PnRN1PP/1K3B1R/BBQBppppp b kq - 3 27'\n",
    "#fen = 'rn2N2k/pp5p/3pp1pN/3p4/3q1P2/3P1p2/PP3PPP/RN3RK1/Qrbbpbb b - - 0 27'\n",
    "#fen = 'rn2N2k/pp5p/3pp1pN/3p4/3q1P2/3P1p2/PP3PPP/RN3RK1/Qrbbpbb b - - 0 30'\n",
    "#fen = 'rn2N2k/pp5p/3pp1pN/3p4/5P2/3P1p2/PP3RPP/RN4K1/QQprbbpbb b - - 1 30'\n",
    "\n",
    "# Test positions\n",
    "#fen = '3R1b2/1bP1kp2/3Npn1p/3p4/5p2/5N1b/PPP1QP1P/3R1RK1/QPpprnpbp b - - 0 29'\n",
    "fen = 'rn2N2k/pp5p/3pp1pN/3p4/3q1P2/3P1p2/PP3PPP/RN3RK1[Qrbbpbb] b - - 3 30'\n",
    "#fen = 'q6r/p2P1pkp/1p1b1n2/2p2B2/8/6n1/PPP2KPp/R4R2/PNNRPBPbqpp w - - 2 26'\n",
    "#fen ='2kr1b2/1bp2p1p/p3pP1p/1p5Q/5B2/3B1p2/PPP2PrP/R4R1K/QNpnnnp w - - 0 18'\n",
    "#fen = 'q6r/p2P1pkp/1p1b1n2/2p2B2/8/6n1/PPP2KPp/R4R2/PNNRPBPbqpp w - - 50 26'\n",
    "#fen = 'r4r1k/ppp1q1bp/4Ppp1/1P6/2NN3P/2BPPb2/P2PNPpR/R3K3/PBQn b Q - 2 34'\n",
    "#fen = 'r1bq1b1r/ppp1kPpp/4Pn2/n2Pp3/2B4n/3P4/PPP2PPP/RNBQK2R/ w KQ - 0 10'\n",
    "\n",
    "#fen = 'r4rk1/ppp2pbp/1nnp4/6P1/4Pp2/1P1P1N1P/2P2PPK/R2Q1R2/QNbbpb w - - 0 23'\n",
    "#fen = 'r4rk1/ppp2pPp/1nn3nP/4b3/5p1B/1P1P3P/2P2PPK/R2Q1R2/Qbpnpb w - - 2 37'\n",
    "#fen = 'r4rk1/ppp2pPp/1nn2bnP/4b3/6Q1/1P1P1pBP/2P2PPK/R4R2/Qpnpb w - - 2 39'\n",
    "#fen = 'B2q1r1k/p3pp2/6pb/3pB2p/3N4/B2NP1pn/P1PP2P1/R2Q3K/PPrnprp b - - 0 28'\n",
    "#fen = 'r1bq3r/p1ppbkpp/2p2n2/8/4P3/8/PPP2PPP/RNBQK2R/NPPnbp w KQ - 2 8'\n",
    "#fen = 'r1bqk2r/1pp1nppp/1p3p2/3p4/3P3n/1B6/PP2BPPP/RNBQ1KNR/Pp b kq - 0 14'\n",
    "#fen = '3qk2r/1pp1nppp/1p3p2/3p4/3P3n/1B5P/RP2BPpP/1NBQ2KR/RBPPn b k - 2 18'\n",
    "#fen = 'r2q2kb/ppp4p/1nn1P1p1/4p1N1/2Pb4/1P1P2NP/2PB1rP1/Q4RK1/RPppb w - - 0 27'\n",
    "#fen = 'r1bqk1r1/ppppbppp/5n2/4nN2/2B1P3/2N5/PPP2PPP/R1BQK2R/Pp w KQq - 2 8'\n",
    "#fen = 'r2q1rk1/pP2ppbp/2p3pb/2Q5/4Pp2/2NB1NpP/PPP3P1/R4RK1/NBpn b - - 0 19'\n",
    "#fen = 'r1bqkb1r/ppp1pppp/2n2n2/3p4/3P4/2N2N2/PPP1PPPP/R1BQKB1R/ w KQkq - 6 4'\n",
    "#fen = 'r1bq1b2/2p1pk2/p1p2npp/8/3P4/P4N2/1PP2PPP/R1B1K2R/RPNPbnqp w KQ - 26 0'\n",
    "#fen = 'r5k1/ppp2Rp1/1bnp1qP1/2b1pP2/8/3P1N1p/PPP2PPP/R2Q1R1K/Nbbn w - - 42 0'\n",
    "#fen = 'r2q3r/ppp1k1pp/2npN3/2b1p3/4P1n1/2NP4/PPP2PPP/R1B2RK1/BPqb w - - 0 11'\n",
    "#fen = 'r2qk1r1/ppp2p2/2np3p/2bBp1p1/4P1bn/3P1NB1/PPP2PPP/R2Q1RK1/N w q - 0 12'\n",
    "#fen = 'r2k3r/pppb2pp/5b2/6N1/4P2n/3Q4/PPP2PPP/R1B1K2R/PPNPqbnp w KQ - 0 14'\n",
    "#fen = 'r1bqk2r/ppp1bppp/5n2/3p4/2BQP3/2N5/PPP2PPP/R1B1K2R/NPnp w KQkq - 0 8'\n",
    "#fen = '3r1rk1/p1p1npp1/2pp3p/2b1p1NQ/4P3/3P1P2/PPP2P1P/R2Q1RK1/BBnbn w - - 2 18'\n",
    "#fen = 'r2q1rk1/p1p1bpp1/2pp1n1p/2b1pN2/4P1nB/3P1N2/PPP2PPP/R2Q1RK1/B w - - 0 13'\n",
    "#fen = 'r1bq1rk1/ppp2pp1/2np1n1p/2b1p1B1/2B1P3/2NP1N2/PPP2PPP/R2Q1RK1/ w - - 14 8'\n",
    "#fen = 'r1bqk1r1/pppp1ppp/2n2n2/5N2/1bB1P3/2N4p/PPP2PPP/R1BQK1R1/P w Qq - 2 9'\n",
    "#fen = 'r1bqk1r1/ppp2ppp/2n2n2/3p1N2/1bB1P3/2N4P/PPP2P1P/R1BQK1R1/PP w Qq - 0 10'\n",
    "#fen = 'r1bqk2r/ppppbppp/2n2n2/8/2BNP3/8/PPP2PPP/RNBQK2R/Pp w KQkq - 1 6'\n",
    "#fen = 'r1b1k1r1/pp1p1ppp/1q1B1nn1/1B3N2/4P3/2P1p3/P1P1QPpP/R3K1R1/BPPn w Qq - 34 18'\n",
    "#fen = 'r1bqk3/ppp1bprp/3p1n2/5PP1/4P2n/2NQ4/PPP2PBP/R1B1K2R/Npp w KQq - 1 13'\n",
    "#fen = 'r1bqk1nr/pppp1ppp/5b2/4nNP1/2B1P3/7p/PPP2PPP/RNBQK2R/ w KQkq - 1 8'\n",
    "#fen = 'r1b1k1nr/ppp2ppp/5q2/3pnN2/4P3/7p/PPP2PPP/RNBQKB1R/Bp w KQkq - 1 10'\n",
    "#fen = 'r3k2r/ppp2ppp/5n2/3pnb2/4P3/7p/PPP2PPP/RNBQKB1R/Qbnp w KQkq - 22 12'\n",
    "#fen = 'rnbqkbnr/pppp1ppp/8/4p3/4P3/8/PPPP1PPP/RNBQKBNR/ w KQkq - 2 2'\n",
    "#fen = 'r1bq1rk1/ppp2ppp/2np4/2bBp3/4P1n1/3P1N2/PPP1QPPP/R1B2RK1/N w - - 2 10'\n",
    "#fen = 'r1bq1rk1/pppp1ppp/2n2n2/2b1p3/2B1P3/2NP1N2/PPP2PPP/R1BQ1RK1/ w - - 12 7'\n",
    "#fen = 'r1bq1rk1/pppp1ppp/2n5/2bBp3/4P1n1/3P1N2/PPP2PPP/R1BQ1RK1/N w - - 2 9'\n",
    "#fen = 'r1bqk1r1/ppppbppp/5n2/1B2nN2/4P3/2N4p/PPP2PPP/R1BQK2R/P w KQq - 16 9'\n",
    "#fen = 'r1bqkb1r/ppp2ppp/3p4/6P1/4n3/2N5/PPP2P1P/R1BQK1Rb/NPNpp w Qkq - 2 13'\n",
    "\n",
    "fen = 'r1b1kb1r/p1p1pppp/2N5/1B2N3/2pPn3/2PKB3/P1PP2p1/3q1rR1/QPPNP w - - 0 25' # mate threat\n",
    "#fen = 'r1b1kb1r/p1p1pppp/2N5/4N3/2BPn3/2PKB3/P1PP2p1/3q1rR1/PQPPNP b - - 0 25'\n",
    "#fen = 'r1b1kb1r/p1p1pppp/2N5/1B6/2NPn3/2PKB3/P1PP2p1/3q1rR1/PQPPNP b - - 1 25'\n",
    "#fen = '3rkb1r/2pb1pp1/q2Pp3/3pP2p/3P4/2PPnP2/P1P1N1PP/R2R2K1/NNQbb b k - 0 21' # mate threat\n",
    "\n",
    "# previous stalled connection fen\n",
    "#fen = 'r1bk3r/ppppbpQp/4p3/8/4n3/4P2N/PPPP2PP/R1Bq1BKR/PNNp b - - 2 13'\n",
    "#fen = 'r1bqkbnr/ppp2ppp/3p4/8/3QP3/2N4p/PPP2PPP/R1B1KB1R/PNn w KQkq - 1 7'\n",
    "#fen = 'r1bq1rk1/ppp2pp1/2np1n1p/2b1p1B1/2B1P3/2NP1N2/PPP2PPP/R2Q1RK1/ w - - 14 8'\n",
    "#fen = 'rnb1kb1r/ppp1pppp/5n2/q7/8/2N2N2/PPPP1PPP/R1BQKB1R/Pp w KQkq - 0 5'\n",
    "#fen = 'rnb2b1r/ppp1pkpp/5n2/2q5/3N2p1/2N5/PPPP1PPP/R1BQK2R/PPb w KQ - 0 8'\n",
    "#fen = 'r1b1kr2/ppp3pp/3bPq2/1N1Ppn1n/2B4n/3PPP2/PPP2QPP/R1B2RK1/ b - - 9 15'\n",
    "#fen = 'r1bk4/p1p1qP1p/2pn1p2/5pB1/2B1P3/8/PPPQ1PnP/R1B1rK2/RNPPPn w - - 0 23'\n",
    "#fen = 'r1b1k2r/p1p1qppp/2p4P/5p2/2B1n3/5p2/PPP1QPPP/R1B1K2R[BNPnn] w KQkq - 0 12'\n",
    "#fen = 'r1bbk2r/pp4pp/3Q4/1N2N3/7n/8/PPP2PpP/R1B3K1[PPPqrbnppp] w - - 1 20'\n",
    "#fen = 'r2qkb1r/ppp3pp/4Pn2/4p3/2Bn4/8/PPPP1PPP/RNBQK2R/BPnp b KQkq - 0 8'\n",
    "#fen = 'r2q1b1r/ppp1kBpp/4Pn2/3pp3/2Bn4/4P3/PPPP1PPP/RNBQK2R/n b KQ - 0 10'\n",
    "#fen = 'r2qkb1r/ppp3pp/4Pn2/4p3/2Bn1n2/8/PPPP1PPP/RNBQK2R/BPp w KQkq - 0 9'\n",
    "#fen = 'r1bqkbnr/pppp1ppp/2n5/4p3/2B1P3/5N2/PPPP1PPP/RNBQK2R/ b KQkq - 5 3'\n",
    "#fen = 'r1bqkb1r/pppp1ppp/2n2n2/4p3/2B1P3/5N2/PPPP1PPP/RNBQK2R/ w KQkq - 6 4'\n",
    "#fen = 'r2q1br1/ppp1k1pp/3p4/4p2Q/2BB1N1n/8/PPPP1P1P/RNB2K1R/ppnp b - - 0 17'\n",
    "#fen = 'r2q1br1/ppp3pp/3pk3/4p3/2BB1N1n/8/PPPP1P1P/RNBQ1K1R/ppnp b - - 0 16'\n",
    "#fen = 'r2qkb1r/ppp3pp/4Pn2/4p3/2Bn4/8/PPPP1PPP/RNBQK2R/BPnp b KQkq - 0 8'\n",
    "#fen = 'r1b1k1q1/pp1n1prp/3Ppb1Q/bR4NB/8/8/PpP1pPPP/1R1q~N1K1/PPn w q - 0 29'\n",
    "#fen = 'r1bbk3/pppn1prp/4p3/1p4B1/3PN3/5N2/PpPR1PPP/5RK1/QPpqnb w q - 0 18'\n",
    "#fen = '2r5/p1p1qpPp/1k2p2P/1q1p3N/2RP4/2n4P/PpP2P1P/4R2K/NBBBBPNr w - - 0 37'\n",
    "#fen = 'r4rk1/pp3pbp/2p2p1p/3q1N2/5P2/b1P3P1/P5P1/R2Q2K1/PPRPBBNNnp w - - 0 36'\n",
    "#fen = 'rnbqkbnr/ppp1pppp/8/3p4/3PP3/8/PPP2PPP/RNBQKBNR/ b KQkq - 3 2'\n",
    "#fen = 'r1bqkbnr/pppp1ppp/2n5/4p3/2B1P3/5N2/PPPP1PPP/RNBQK2R/ b KQkq - 5 3'\n",
    "#fen = '2rq1rk1/ppp1bppp/2n1pn2/1N1p4/3P1B2/3PP1B1/PP2NPPP/R2Q1RK1[b] b - - 2 10'\n",
    "#fen = 'rnbqkb1r/ppp2ppp/3ppn2/8/3PP1P1/2N5/PPP2P1P/R1BQKBNR/ b KQkq - 3 4'\n",
    "#fen = 'r2qkb1r/pppn1ppp/4pn2/3p4/3N4/2N1P2B/PPPPQPPP/R1B1K2R/b b KQkq - 0 7'\n",
    "#fen = 'r1bq1r1k/ppp2p1p/3p1p2/4p3/2BbP1nB/2PP4/PP1Q1PKP/R4R2[NNNp] b - - 0 16'\n",
    "#fen = 'r2q3k/ppp2pRp/3p1p2/4p2N/4P2B/2PP1p1K/PP1b3P/R7[RBNNNPqb] b - - 0 29'\n",
    "fen = '5r2/pppQ1p1k/3p1pPp/4p1n1/1b1BP3/2PP3p/PrNK2pN/r5B1/Qrbnp b - - 0 42'\n",
    "fen = '2kr4/p1p2p2/5q2/3p1br1/1R1P1NpQ/8/P1PP1PpP/5RK1/BNNPPPbbnp w - - 1 26'\n",
    "fen = 'r1bqkbnr/pppp1ppp/2n5/4p3/2B1P3/5N2/PPPP1PPP/RNBQK2R/ b KQkq - 5 3'\n",
    "fen = 'r2q1kr1/pppb1pNp/2n1pp1P/1P6/1b1P3B/5P2/P1PQ1P1P/R4RK1/BNPn w - - 0 19'\n",
    "fen = 'r4rk1/pp3pbp/2p2p1p/3q1N2/5P2/b1P3P1/P5P1/R2Q2K1/PPRPBBNNnp w - - 0 36'\n",
    "fen = 'r4rk1/p1p2pNp/2p2p1p/6b1/3P2q1/3B4/P2Q1PPP/R4RK1/BNNPPbnpp w - - 1 24'\n",
    "fen = 'r4rk1/p1p2p1p/2p2p1p/5Nb1/3P2q1/3B4/P2Q1PPP/R4RK1/BNNPPbnpp b - - 2 24'\n",
    "fen = 'rnbqkbnr/ppp1pppp/8/3p4/3P4/8/PPP1PPPP/RNBQKBNR/ w KQkq - 2 2'\n",
    "fen = 'r1bq1k1r/p1ppbPpp/2p2n1P/4N3/4P3/8/PPP2PPP/RNBQK2R/nbp b KQ - 2 10'\n",
    "#fen = 'r1bq1k1r/p1ppbPpp/2pb1n1P/4N3/4P3/8/PPP2PPP/RNBQK2R/np w KQ - 3 11'\n",
    "#fen = 'r1bqk1nr/ppppbppp/2n5/8/2BNP3/8/PPP2PPP/RNBQK2R/Pp b KQkq - 9 5'\n",
    "#fen = 'r1bq3r/ppppbkpp/2N2n2/8/4P3/8/PPP2PPP/RNBQK2R/NPPbp b KQ - 0 7'\n",
    "#fen = 'r1bqk1nr/ppppbppp/2n5/8/2BNP3/8/PPP2PPP/RNBQK2R/Pp b KQkq - 0 5'\n",
    "fen = 'r1bq2nr/ppp1bkpp/3p4/5P2/3QP3/8/PPP2PPP/RNB1K2R[NPbnp] b KQ - 0 8'\n",
    "fen = 'r1bq1rk1/ppp1ppb1/2np2pp/4P3/2BP1BN1/2N2N1P/PPP2KP1/R2Q3R/p b - - 0 10'\n",
    "fen = 'r3kb1r/pp1b1pp1/1b1Pp1p1/8/5B2/2N2pN1/PPP2P1P/R4RK1/NQPNPpq w kq - 0 22'\n",
    "fen = 'r2q1b1r/ppp1p1pp/2n1kn2/1B2n3/8/2p2Q1P/PPPP1PP1/R1B1K2R/Bppn w KQ - 0 11'\n",
    "fen = 'r2q1rk1/ppp2pp1/3p3B/3Pp2b/8/2PP1NpP/P5P1/R2Q1RK1[BNNPbnp] b - - 0 15'\n",
    "fen = 'r2q1rk1/ppp2pp1/3p3B/3Pp2b/8/2PP1NpP/P5P1/R2Q1RK1/BNNPbnp b - - 0 15'\n",
    "#fen = 'r2q1rk1/ppp2pp1/3p3B/3Pp2b/8/2PP1NpP/P4nP1/R2Q1RK1/NPNBbp w - - 0 16'\n",
    "fen = 'rnbqk1r1/p4ppp/2p4P/2b1P3/2Bpn3/5N2/PPP2PPP/RNBQK2R[pp] w KQq - 0 10'\n",
    "fen = 'r2qkb1r/ppp3pp/2n3bN/3pPR2/3P4/2QPP3/P5pP/R2K4[BBNNPPp] b - - 0 25'\n",
    "fen = 'r2qkb1r/ppp3pp/2n3bN/3pPR2/3P4/2QPP3/P6P/R2KB1q~1/BNNPPp b - - 0 26'\n",
    "#fen = 'r1bqkb1r/ppp1pppp/2n5/1B1n4/8/2N2N2/PPPP1PPP/R1BQK2R/Pp b KQkq - 9 5'\n",
    "#fen = 'r1bqkb1r/ppp1pppp/2n5/3n4/8/2N2N2/PPPP1PPP/R1BQKB1R/Pp w KQkq - 0 5'\n",
    "#fen = 'r1b1kb1r/ppp1pppp/2B5/3q4/5n2/2P2N2/P1PP1P1P/R1BQK1R1/NNPPp b Qkq - 0 10'\n",
    "#fen = 'r1b1kb1r/p1p1pppp/2p5/3q4/5n2/2P2N2/P1PP1P1P/R1BQK1R1/NNPPbp w Qkq - 0 11'\n",
    "#fen = 'r1bqkb1r/ppp1pppp/2n5/1B6/8/2P2N2/P1PP1PRP/R1BQK3/NPPnp b Qkq - 0 8'\n",
    "#fen = 'r1b1kb1r/p1p1pppp/2p4q/8/1P1P1Nb1/2P2N2/P1P2PNP/R1BQK1R1/Pnp w Qkq - 0 14'\n",
    "#fen = 'r1b1kb1r/p1p1pppp/2p5/7q/1P1P1N2/2P1NN2/P1P2PpP/R1BQK1R1/bnp b Qkq - 0 12'\n",
    "#fen = 'r1bn1rk1/1ppp1ppp/p7/4p3/2B1P1P1/3PPN2/PPP3P1/RN1Q1RK1/BNQb b - - 0 10'\n",
    "#fen = 'r4k2/ppp3pr/2p5/q4n2/2bp1Bn1/2N2B1p/PPPB1PpP/R3R1K1/Pnqpp w - - 0 23'\n",
    "fen = 'r2qk2r/ppp3pp/2n2NbN/3pPR2/1b1P4/2QPP3/P6P/R2KB1q~1/BNPPp b - - 0 27'\n",
    "fen = 'r2qk2r/ppp4p/2n2pbN/3pPR2/1b1P4/2QPP3/P6P/R2KB1q~1/BNPPnp w - - 0 28'\n",
    "fen = 'r1bq4/2p2rk1/p2p2p1/1p2p1N1/2bnP2P/2N1K3/PPPQ1P2/3R3R/BBNPppp w - - 0 21'\n",
    "fen = 'r1bq1rk1/pppp1ppp/2n1pn2/8/1b1PP3/2NBB3/PPP2PPP/R2QK1NR/ w KQ - 0 6'\n",
    "fen = 'r2qkb1r/2p2ppp/p1p1p3/4P3/3Pp3/4BnN1/PPP1N1NP/5R1K/PRBBPq b kq - 0 19'\n",
    "#fen = 'r2qkb1r/2p2ppp/p1p1p3/4P3/3Pp3/4B1N1/PPP1N1Nn/5R1K/PRBBPpq w kq - 0 20'\n",
    "fen = 'r2qkb1r/1Bp2ppp/p1p1p3/4P3/3Pp3/4BrNK/PPP1N1N1/5N2/RQPBPp b kq - 0 25'\n",
    "fen = 'r4k1r/p1p3p1/2p1Bqp1/3p4/3N3P/2N1P1b1/PPPPQPP1/R1B1K2R[Pbnnp] b KQ - 0 22'\n",
    "#fen = 'r4k1r/p1p3p1/2p1Bqp1/3p4/3N3P/2N1P3/PPPPQbP1/R1B1K2R/Ppbnnp w KQ - 0 23'\n",
    "#fen = 'r4k1r/p1p3p1/2p1Bqp1/3p4/3N3P/2N1P3/PPPP1QP1/R1B1K2R/BPpbnnp b KQ - 0 23'\n",
    "#fen = 'r4k1r/p1p3p1/2p1B1p1/3p4/3N3P/2N1P3/PPPP1qP1/R1B1K2R/BPqpbnnp w KQ - 0 24'\n",
    "#fen = 'r4k1r/p1p3p1/2p1B1p1/3p4/3N3P/2N1P3/PPPP1KP1/R1B4R/QBPqpbnnp b - - 0 24'\n",
    "#fen = 'r4k1r/p1p3p1/2p1B1p1/3p4/3N3P/2N1P1K1/PPPP2P1/R1B4R/PQBPqbnnp b - - 0 25'\n",
    "#fen = 'r4k1r/p1p3p1/2p1B1p1/3p3n/3N3P/2N1P1K1/PPPP2P1/R1B4R/PQBPqbnp w - - 0 26'\n",
    "#fen = 'r4k1r/p1p3p1/2p1B1p1/3p4/3N3P/2N1P1p1/PPPPK1P1/R1B3nR/QBPqbnp w - - 0 26'\n",
    "#fen = 'r4k1r/p1p3p1/2p1B1p1/3p3b/3N3P/2N1P1p1/PPPPK1P1/R1B4R/QBPqnnp w - - 0 26'\n",
    "#fen = 'r4k1r/p1p3p1/2p1Bqp1/3p4/3N3P/2N1P3/PPPPQbP1/R1BK3R/Ppbnnp b - - 0 23'\n",
    "#fen = 'r4k1r/p1p3p1/2p1Bqp1/3p3b/3N2PP/2N1P1n1/PPPPQbP1/R1BK3R/pnp w - - 0 25'\n",
    "#fen = '3rkb1r/ppp2ppp/2n5/3NPb2/4n3/8/PPPQPPPP/R3KB1R[QBPPn] w KQk - 0 12'\n",
    "#fen = '3rkb1r/2pb1pp1/q2Pp3/3pP2p/3P4/2PPnP2/P1P1N1PP/R2R2K1/NNQbb b k - 0 21'\n",
    "#fen = 'r1b1k2r/pppbnppp/4p3/3pP3/3Pb3/5Q2/PPP2P1P/RN4KR/BPNQn w kq - 0 17'\n",
    "#fen = 'r1b1k2r/pppbn1pp/4p3/3pP1N1/3Pb3/8/PPP2P1P/RN4KR/PBPQqn w - - 0 19'\n",
    "#fen = 'r3k2r/pppbqppp/2nbpn2/1N1p4/3P4/P2BPN1P/1PP2PP1/R1BQK2R b KQkq - 4 8'\n",
    "#fen = 'r1bn1r2/ppp1bkp1/5n1p/8/2B1p2n/1PN1PpQP/PBP2PP1/R4RK1/PPq b - - 1 15'\n",
    "#fen = 'r4k1r/p1p3p1/2p1B1p1/3p4/3N3P/2N1P1p1/PPPPK1P1/R1B4R/QBPqbnnp b - - 0 25'\n",
    "#fn = '5b1k/prp1p1p1/2n3n1/8/8/2P1BN2/P1PP1P1P/R1BQK3/QPRrnpbpppp w Q - 0 27'\n",
    "#en = 'r1b1k2r/pppbnppp/4p3/3pP3/3P4/5Q2/PPP2P1P/RN4KR/BPNQbn b kq - 0 16'\n",
    "#en = 'r1b1k2r/pppbnppp/4p3/3pP3/3Pb3/5Q2/PPP2P1P/RN4KR/BPNQn w kq - 0 17'\n",
    "#fen = '3rkb1r/2pb1pp1/q2Pp3/3pP2p/3P4/2PPnP2/P1P1N1PP/R2R2K1/NNQbb b k - 0 21'\n",
    "\n",
    "board.set_fen(fen)\n",
    "\n",
    "#board = board.mirror()\n",
    "\n",
    "state = GameState(board)\n",
    "board"
   ]
  },
  {
   "cell_type": "code",
   "execution_count": 9,
   "metadata": {},
   "outputs": [
    {
     "data": {
      "text/plain": [
       "['black', 'white']"
      ]
     },
     "execution_count": 9,
     "metadata": {},
     "output_type": "execute_result"
    }
   ],
   "source": [
    "chess.COLOR_NAMES"
   ]
  },
  {
   "cell_type": "code",
   "execution_count": 10,
   "metadata": {},
   "outputs": [
    {
     "data": {
      "text/plain": [
       "True"
      ]
     },
     "execution_count": 10,
     "metadata": {},
     "output_type": "execute_result"
    }
   ],
   "source": [
    "board.turn"
   ]
  },
  {
   "cell_type": "code",
   "execution_count": 11,
   "metadata": {},
   "outputs": [
    {
     "data": {
      "text/plain": [
       "170"
      ]
     },
     "execution_count": 11,
     "metadata": {},
     "output_type": "execute_result"
    }
   ],
   "source": [
    "len(list(state.get_legal_moves()))"
   ]
  },
  {
   "cell_type": "code",
   "execution_count": 12,
   "metadata": {
    "collapsed": true
   },
   "outputs": [],
   "source": [
    "import copy"
   ]
  },
  {
   "cell_type": "code",
   "execution_count": 13,
   "metadata": {},
   "outputs": [
    {
     "name": "stdout",
     "output_type": "stream",
     "text": [
      "f3f7\n",
      "f3e4\n"
     ]
    }
   ],
   "source": [
    "for mv in board.generate_legal_captures():\n",
    "    print(mv)"
   ]
  },
  {
   "cell_type": "code",
   "execution_count": 14,
   "metadata": {
    "collapsed": true
   },
   "outputs": [],
   "source": [
    "def get_check_moves(board, legal_moves):\n",
    "    check_idcs = []\n",
    "    for idx, move in enumerate(legal_moves):\n",
    "        board_tmp = copy.deepcopy(board)\n",
    "        board_tmp.push(move)\n",
    "        if board_tmp.is_check():\n",
    "            check_idcs.append(idx)\n",
    "    return check_idcs"
   ]
  },
  {
   "cell_type": "code",
   "execution_count": 15,
   "metadata": {
    "collapsed": true
   },
   "outputs": [],
   "source": [
    "mat = np.zeros(99)"
   ]
  },
  {
   "cell_type": "code",
   "execution_count": 16,
   "metadata": {
    "collapsed": true
   },
   "outputs": [],
   "source": [
    "idcs = get_check_moves(state.board, state.get_legal_moves())"
   ]
  },
  {
   "cell_type": "code",
   "execution_count": 17,
   "metadata": {
    "collapsed": true
   },
   "outputs": [],
   "source": [
    "def plot_moves_with_prob(moves, probs, only_top_x=None):\n",
    "    \n",
    "    # revert the ordering afterwards\n",
    "    idx_order = np.argsort(probs)[::-1]\n",
    "    \n",
    "    if only_top_x is not None and only_top_x < len(idx_order):\n",
    "        idx_order = idx_order[:only_top_x]\n",
    "    \n",
    "    #moves_ordered = moves[range(len(moves))] #idx_order[::-1]]\n",
    "    probs_ordered = [] #probs[idx_order]\n",
    "    \n",
    "    moves_ordered = []\n",
    "    for idx in idx_order:\n",
    "        probs_ordered.append(probs[idx])\n",
    "        moves_ordered.append(moves[idx])\n",
    "        \n",
    "    plt.barh(range(len(probs_ordered)), probs_ordered)\n",
    "    plt.yticks(range(len(moves_ordered)), moves_ordered)\n"
   ]
  },
  {
   "cell_type": "markdown",
   "metadata": {},
   "source": [
    "### Evalution using the raw network"
   ]
  },
  {
   "cell_type": "code",
   "execution_count": 18,
   "metadata": {},
   "outputs": [
    {
     "name": "stdout",
     "output_type": "stream",
     "text": [
      "Elapsed time: 0.1108s\n"
     ]
    }
   ],
   "source": [
    "t_s = time()\n",
    "pred_value, legal_moves, p_vec_small, cp, depth, nodes, time_elapsed_s, nps, pv = raw_agent.evaluate_board_state(state)\n",
    "print('Elapsed time: %.4fs' % (time()-t_s))"
   ]
  },
  {
   "cell_type": "code",
   "execution_count": 19,
   "metadata": {},
   "outputs": [
    {
     "data": {
      "text/plain": [
       "array([-0.43916535], dtype=float32)"
      ]
     },
     "execution_count": 19,
     "metadata": {},
     "output_type": "execute_result"
    }
   ],
   "source": [
    "pred_value"
   ]
  },
  {
   "cell_type": "code",
   "execution_count": 20,
   "metadata": {},
   "outputs": [
    {
     "data": {
      "text/plain": [
       "170"
      ]
     },
     "execution_count": 20,
     "metadata": {},
     "output_type": "execute_result"
    }
   ],
   "source": [
    "len(state.get_legal_moves())"
   ]
  },
  {
   "cell_type": "code",
   "execution_count": 21,
   "metadata": {},
   "outputs": [
    {
     "name": "stdout",
     "output_type": "stream",
     "text": [
      "2019-03-27 20:05:34 matplotlib.axes._base[18264] \u001b[1mDEBUG\u001b[0m \u001b[32mupdate_title_pos\u001b[0m\n",
      "2019-03-27 20:05:34 matplotlib.font_manager[18264] \u001b[1mDEBUG\u001b[0m \u001b[32mfindfont: Matching :family=sans-serif:style=normal:variant=normal:weight=normal:stretch=normal:size=10.0 to Liberation Sans ('/usr/share/fonts/truetype/liberation/LiberationSans-Regular.ttf') with score of 2.050000.\u001b[0m\n",
      "2019-03-27 20:05:35 matplotlib.axes._base[18264] \u001b[1mDEBUG\u001b[0m \u001b[32mupdate_title_pos\u001b[0m\n",
      "2019-03-27 20:05:35 matplotlib.axes._base[18264] \u001b[1mDEBUG\u001b[0m \u001b[32mupdate_title_pos\u001b[0m\n",
      "2019-03-27 20:05:35 matplotlib.axes._base[18264] \u001b[1mDEBUG\u001b[0m \u001b[32mupdate_title_pos\u001b[0m\n"
     ]
    },
    {
     "data": {
      "image/png": "[encoded data removed]",
      "text/plain": [
       "<Figure size 432x288 with 1 Axes>"
      ]
     },
     "metadata": {},
     "output_type": "display_data"
    }
   ],
   "source": [
    "plot_moves_with_prob(legal_moves, p_vec_small, only_top_x=10)"
   ]
  },
  {
   "cell_type": "markdown",
   "metadata": {},
   "source": [
    "### Evalution using the MCTS-Agent"
   ]
  },
  {
   "cell_type": "markdown",
   "metadata": {
    "scrolled": false
   },
   "source": [
    "for i in range(10):\n",
    "    value, selected_move, confidence, idx, centipawn, depth, nodes, time_elapsed_s, nps, pv = mcts_agent.perform_action(state)\n",
    "    print(\"selected_move\", selected_move.uci())"
   ]
  },
  {
   "cell_type": "code",
   "execution_count": 22,
   "metadata": {
    "collapsed": true
   },
   "outputs": [],
   "source": [
    "l = [1,2,3,4,5]"
   ]
  },
  {
   "cell_type": "code",
   "execution_count": 23,
   "metadata": {},
   "outputs": [
    {
     "data": {
      "text/plain": [
       "1"
      ]
     },
     "execution_count": 23,
     "metadata": {},
     "output_type": "execute_result"
    }
   ],
   "source": [
    "np.random.randint(0, 2)"
   ]
  },
  {
   "cell_type": "code",
   "execution_count": 24,
   "metadata": {
    "scrolled": false
   },
   "outputs": [
    {
     "name": "stdout",
     "output_type": "stream",
     "text": [
      "start inference thread...\n",
      "self.thread_inference.isAlive() True\n",
      "start inference thread...\n",
      "self.thread_inference.isAlive() True\n",
      "2019-03-27 20:05:35 root[18264] \u001b[1mDEBUG\u001b[0m \u001b[32mStarting a brand new search tree...\u001b[0m\n",
      "info score cp -43 depth 9 nodes 129 pv f3f7 e8f7 N@g5 f7e8 P@f7 e8d8 Q@g8 e7g8 f7f8q\n",
      "2019-03-27 20:05:35 root[18264] \u001b[1mDEBUG\u001b[0m \u001b[32mUpdate info\u001b[0m\n",
      "info score cp -260 depth 11 nodes 273 pv f3f7 e8f7 N@g5 f7e8 P@f7 e8d8 Q@g8 Q@f8 g8h8 f8h8 R@g8\n",
      "2019-03-27 20:05:36 root[18264] \u001b[1mDEBUG\u001b[0m \u001b[32mUpdate info\u001b[0m\n",
      "info score cp -1412 depth 7 nodes 385 pv f3g4 N@f3 g1f1 f3d4 g4g7 P@g2 f1g1\n",
      "2019-03-27 20:05:36 root[18264] \u001b[1mDEBUG\u001b[0m \u001b[32mUpdate info\u001b[0m\n",
      "info score cp -1016 depth 9 nodes 529 pv f3f7 e8f7 N@g5 f7e8 P@f7 e8d8 P@f3 Q@e1 g1g2\n",
      "2019-03-27 20:05:37 root[18264] \u001b[1mDEBUG\u001b[0m \u001b[32mUpdate info\u001b[0m\n",
      "info score cp 101 depth 10 nodes 657 pv f3f7 e8f7 N@g5 f7e8 B@h5 g7g6 P@f7 e8d8 Q@g8 e7g8\n",
      "2019-03-27 20:05:37 root[18264] \u001b[1mDEBUG\u001b[0m \u001b[32mUpdate info\u001b[0m\n",
      "info score cp 27 depth 9 nodes 817 pv N@f6 e8d8 f6e4 d5e4 f3f7 N@f3 g1f1 N@d2 f1e2\n",
      "2019-03-27 20:05:38 root[18264] \u001b[1mDEBUG\u001b[0m \u001b[32mUpdate info\u001b[0m\n",
      "info score cp -202 depth 8 nodes 977 pv f3f7 e8f7 B@h5 N@g6 h5g6 e4g6 N@g5 f7f8\n",
      "2019-03-27 20:05:38 root[18264] \u001b[1mDEBUG\u001b[0m \u001b[32mUpdate info\u001b[0m\n",
      "info score cp -553 depth 7 nodes 1121 pv N@f6 g7f6 f3f6 h8g8 P@g7 N@f3 f6f3\n",
      "2019-03-27 20:05:39 root[18264] \u001b[1mDEBUG\u001b[0m \u001b[32mUpdate info\u001b[0m\n",
      "info score cp -57 depth 13 nodes 1297 pv N@f6 g7f6 P@g7 e4f3 g7h8q Q@g8 h8g8 e7g8 R@g7 N@h3 g1f1 P@g2 f1e1\n",
      "2019-03-27 20:05:39 root[18264] \u001b[1mDEBUG\u001b[0m \u001b[32mUpdate info\u001b[0m\n",
      "info score cp -128 depth 18 nodes 1441 pv N@f6 g7f6 P@g7 e4f3 g7h8q Q@g8 h8g8 e7g8 R@f8 e8f8 B@g7 f8g7 Q@g3 P@g4 e5f6 g8f6 P@h6 g7h6\n",
      "2019-03-27 20:05:40 root[18264] \u001b[1mDEBUG\u001b[0m \u001b[32mUpdate info\u001b[0m\n",
      "info score cp 699 depth 15 nodes 1585 pv N@f6 g7f6 P@g7 e4f3 g7h8q Q@g8 Q@g7 N@e2 g1f1 g8h8 g7h8 N@f8 h8f8 e8f8 B@h6\n",
      "2019-03-27 20:05:40 root[18264] \u001b[1mDEBUG\u001b[0m \u001b[32mUpdate info\u001b[0m\n",
      "info score cp 756 depth 17 nodes 1729 pv N@f6 g7f6 P@g7 e4f3 g7h8q N@f8 h8f8 e8f8 B@h6 P@g7 h6g7 f8g7 e5f6 g7f6 P@e5 f6f5 Q@f6\n",
      "2019-03-27 20:05:41 root[18264] \u001b[1mDEBUG\u001b[0m \u001b[32mUpdate info\u001b[0m\n",
      "info score cp 9999 depth 17 nodes 1889 pv N@f6 g7f6 P@g7 e4f3 g7h8q Q@g8 Q@g7 N@e2 g1f1 g8h8 g7h8 N@g8 R@f8 e8f8 B@g7 f8e8 Q@f8\n",
      "2019-03-27 20:05:42 root[18264] \u001b[1mDEBUG\u001b[0m \u001b[32mUpdate info\u001b[0m\n",
      "info score cp 463 depth 18 nodes 2049 pv N@f6 g7f6 P@g7 e4f3 g7h8q Q@g8 Q@g7 N@h3 g1f1 d7b5 f1e1 g8h8 g7h8 N@f8 h8f8 e8f8 B@g7 f8e8\n",
      "2019-03-27 20:05:42 root[18264] \u001b[1mDEBUG\u001b[0m \u001b[32mUpdate info\u001b[0m\n",
      "info score cp 9999 depth 11 nodes 2209 pv N@f6 g7f6 P@g7 e4f3 g7h8q N@g8 R@f8 e8f8 B@g7 f8e8 Q@f8\n",
      "2019-03-27 20:05:43 root[18264] \u001b[1mDEBUG\u001b[0m \u001b[32mUpdate info\u001b[0m\n",
      "info score cp 29 depth 24 nodes 2353 pv N@f6 g7f6 P@g7 e4f3 g7h8q Q@g8 Q@g7 N@h3 g1f1 d7b5 f1e1 g8h8 g7h8 N@f8 e5f6 e7g6 R@d8 e8d8 P@e7 d8d7 Q@d8 d7c6 e7e8q c8d7\n",
      "2019-03-27 20:05:43 root[18264] \u001b[1mDEBUG\u001b[0m \u001b[32mUpdate info\u001b[0m\n",
      "info score cp 9999 depth 11 nodes 2513 pv N@f6 g7f6 P@g7 e4f3 g7h8q N@g8 R@f8 e8f8 B@g7 f8e8 Q@f8\n",
      "2019-03-27 20:05:44 root[18264] \u001b[1mDEBUG\u001b[0m \u001b[32mUpdate info\u001b[0m\n",
      "info score cp 919 depth 11 nodes 2673 pv N@f6 g7f6 P@g7 N@h3 f3h3 h8g8 e5f6 N@e2 g1f1 e2d4 Q@f8\n",
      "2019-03-27 20:05:44 root[18264] \u001b[1mDEBUG\u001b[0m \u001b[32mUpdate info\u001b[0m\n",
      "info score cp 556 depth 14 nodes 2833 pv N@f6 g7f6 P@g7 e4f3 g7h8q N@f8 h8f8 e8f8 B@h6 P@g7 Q@h8 Q@g8 h6g7 f8e8\n",
      "2019-03-27 20:05:45 root[18264] \u001b[1mDEBUG\u001b[0m \u001b[32mUpdate info\u001b[0m\n",
      "info score cp 9999 depth 9 nodes 2993 pv N@f6 e8d8 P@d6 e4f3 d6e7 d8e7 N@g8 e7f8 B@e7\n",
      "2019-03-27 20:05:45 root[18264] \u001b[1mDEBUG\u001b[0m \u001b[32mUpdate info\u001b[0m\n",
      "info score cp 9999 depth 17 nodes 3153 pv N@f6 g7f6 P@g7 h8g8 Q@f8 g8f8 g7f8q e8f8 B@h6 P@g7 h6g7 f8g7 f3f6 g7f8 P@g7 f8e8 R@f8\n",
      "2019-03-27 20:05:46 root[18264] \u001b[1mDEBUG\u001b[0m \u001b[32mUpdate info\u001b[0m\n",
      "info score cp 0 depth 13 nodes 3313 pv N@f6 g7f6 P@g7 N@e2 g1f1 e4f3 g7h8q Q@g8 h8g8 e7g8 Q@g7 P@g2 f1e1\n",
      "2019-03-27 20:05:46 root[18264] \u001b[1mDEBUG\u001b[0m \u001b[32mUpdate info\u001b[0m\n",
      "info score cp 9999 depth 21 nodes 3473 pv N@f6 g7f6 P@g7 e4f3 g7h8q Q@g8 Q@g7 N@e2 g1f1 e2g3 f1e1 N@g2 e1d2 g3e4 d2c1 g8h8 g7h8 e7g8 h8g8 e8e7 Q@d8\n",
      "2019-03-27 20:05:47 root[18264] \u001b[1mDEBUG\u001b[0m \u001b[32mUpdate info\u001b[0m\n",
      "info score cp 9999 depth 17 nodes 3633 pv N@f6 g7f6 P@g7 e4f3 g7h8q Q@g8 Q@g7 N@h3 g1f1 d7b5 f1e1 N@g2 e1d2 g8h8 g7h8 e8d7 Q@e8\n",
      "2019-03-27 20:05:48 root[18264] \u001b[1mDEBUG\u001b[0m \u001b[32mUpdate info\u001b[0m\n",
      "info score cp 1222 depth 15 nodes 3777 pv N@f6 g7f6 P@g7 N@e2 g1f1 e4f3 g7h8q Q@g8 Q@g7 d7b5 R@f8 e8d7 B@e8 d7d8 e8b5\n",
      "2019-03-27 20:05:48 root[18264] \u001b[1mDEBUG\u001b[0m \u001b[32mUpdate info\u001b[0m\n",
      "info score cp -420 depth 3 nodes 3937 pv N@f6 g7f6 Q@g7\n",
      "2019-03-27 20:05:49 root[18264] \u001b[1mDEBUG\u001b[0m \u001b[32mUpdate info\u001b[0m\n",
      "info score cp 581 depth 21 nodes 4097 pv N@f6 g7f6 P@g7 e4f3 g7h8q Q@g8 Q@g7 N@e2 g1f1 g8h8 g7h8 N@f8 h8f8 e8f8 B@h6 P@g7 h6g7 f8g7 e5f6 g7f6 P@e5\n",
      "2019-03-27 20:05:49 root[18264] \u001b[1mDEBUG\u001b[0m \u001b[32mUpdate info\u001b[0m\n",
      "info score cp 1887 depth 16 nodes 4241 pv N@f6 g7f6 P@g7 e4f3 g7h8q Q@g8 Q@g7 N@e2 g1f1 d7b5 R@f8 e8d7 B@e8 d7d8 e8b5 N@e8\n",
      "2019-03-27 20:05:50 root[18264] \u001b[1mDEBUG\u001b[0m \u001b[32mUpdate info\u001b[0m\n",
      "info score cp -197 depth 18 nodes 4385 pv N@f6 g7f6 P@g7 e4f3 g7h8q Q@g8 Q@g7 N@h3 g1f1 d7b5 B@d3 b5d3 c2d3 g8h8 g7h8 B@f8 R@d8 e8d8\n",
      "2019-03-27 20:05:50 root[18264] \u001b[1mDEBUG\u001b[0m \u001b[32mUpdate info\u001b[0m\n",
      "info score cp 9999 depth 19 nodes 4529 pv N@f6 g7f6 P@g7 e4f3 g7h8q Q@g8 Q@g7 N@h3 g1f1 N@e3 f1e1 e3c2 e1d2 g8h8 g7h8 e7g8 h8g8 e8e7 Q@d8\n",
      "2019-03-27 20:05:51 root[18264] \u001b[1mDEBUG\u001b[0m \u001b[32mUpdate info\u001b[0m\n",
      "info score cp 9999 depth 19 nodes 4689 pv N@f6 g7f6 P@g7 e4f3 g7h8q Q@g8 Q@g7 N@h3 g1f1 d7b5 f1e1 g8h8 g7h8 N@f8 B@g7 e7g6 g7f8 g6h8 Q@e7\n",
      "2019-03-27 20:05:51 root[18264] \u001b[1mDEBUG\u001b[0m \u001b[32mUpdate info\u001b[0m\n",
      "info score cp 9999 depth 17 nodes 4849 pv N@f6 g7f6 P@g7 e4f3 g7h8q Q@g8 Q@g7 N@h3 g1f1 g8h8 g7h8 N@g8 R@f8 e8f8 B@g7 f8e8 Q@f8\n",
      "2019-03-27 20:05:52 root[18264] \u001b[1mDEBUG\u001b[0m \u001b[32mUpdate info\u001b[0m\n",
      "info score cp 9999 depth 17 nodes 4993 pv N@f6 g7f6 P@g7 N@h3 f3h3 N@e2 g1f1 h8g8 e5f6 e2f4 Q@f8 g8f8 g7f8q e8f8 P@g7 f8e8 R@f8\n",
      "2019-03-27 20:05:52 root[18264] \u001b[1mDEBUG\u001b[0m \u001b[32mUpdate info\u001b[0m\n",
      "info score cp 9999 depth 13 nodes 5137 pv N@f6 e8d8 P@d6 e4f3 d6e7 d8e7 N@g8 h8g8 f6g8 e7f8 B@e7 f8g8 R@f8\n",
      "2019-03-27 20:05:53 root[18264] \u001b[1mDEBUG\u001b[0m \u001b[32mUpdate info\u001b[0m\n",
      "info score cp 9999 depth 17 nodes 5297 pv N@f6 g7f6 P@g7 N@h3 f3h3 N@e2 g1f1 h8g8 e5f6 e4h1 Q@f8 g8f8 g7f8q e8f8 P@g7 f8e8 R@f8\n",
      "2019-03-27 20:05:54 root[18264] \u001b[1mDEBUG\u001b[0m \u001b[32mUpdate info\u001b[0m\n",
      "info score cp 9999 depth 17 nodes 5409 pv N@f6 g7f6 P@g7 h8g8 Q@f8 g8f8 g7f8q e8f8 B@h6 P@g7 h6g7 f8g7 f3f6 g7f8 P@g7 f8e8 R@f8\n",
      "2019-03-27 20:05:54 root[18264] \u001b[1mDEBUG\u001b[0m \u001b[32mUpdate info\u001b[0m\n",
      "info score cp 1408 depth 20 nodes 5569 pv N@f6 g7f6 P@g7 e4f3 g7h8q Q@g8 Q@g7 N@h3 g1f1 d7b5 f1e1 g8h8 g7h8 N@f8 e5f6 e7g6 h8f8 e8f8 R@g8 f8g8\n",
      "2019-03-27 20:05:55 root[18264] \u001b[1mDEBUG\u001b[0m \u001b[32mUpdate info\u001b[0m\n",
      "info score cp 9999 depth 17 nodes 5713 pv N@f6 g7f6 P@g7 h8g8 Q@f8 g8f8 g7f8q e8f8 B@h6 P@g7 h6g7 f8g7 f3f6 g7f8 P@g7 f8e8 R@f8\n",
      "2019-03-27 20:05:55 root[18264] \u001b[1mDEBUG\u001b[0m \u001b[32mUpdate info\u001b[0m\n",
      "info score cp 9999 depth 21 nodes 5857 pv N@f6 g7f6 P@g7 e4f3 g7h8q Q@g8 Q@g7 N@h3 g1f1 d7b5 f1e1 g8h8 g7h8 N@f8 B@g7 e7g6 g7f8 e8d7 R@d8 d7c6 Q@c5\n",
      "2019-03-27 20:05:56 root[18264] \u001b[1mDEBUG\u001b[0m \u001b[32mUpdate info\u001b[0m\n",
      "info score cp 9999 depth 23 nodes 6001 pv N@f6 g7f6 P@g7 N@e2 g1f1 e4f3 g7h8q Q@g8 Q@g7 g8h8 g7h8 N@f8 h8f8 e8f8 Q@h8 e7g8 B@g7 f8e7 g7f6 g8f6 h8f6 e7e8 R@d8\n",
      "2019-03-27 20:05:56 root[18264] \u001b[1mDEBUG\u001b[0m \u001b[32mUpdate info\u001b[0m\n",
      "info score cp 333 depth 12 nodes 6145 pv N@f6 e8f8 f6e4 d5e4 P@f6 g7f6 B@h6 f8e8 f3f6 h8g8 P@g7 N@f3\n",
      "2019-03-27 20:05:57 root[18264] \u001b[1mDEBUG\u001b[0m \u001b[32mUpdate info\u001b[0m\n",
      "info score cp 1214 depth 14 nodes 6273 pv N@f6 e8f8 f6e4 d5e4 P@f6 e4f3 f6e7 f8e7 B@d6 c7d6 e5d6 e7f8 P@e7 f8g8\n",
      "2019-03-27 20:05:57 root[18264] \u001b[1mDEBUG\u001b[0m \u001b[32mUpdate info\u001b[0m\n",
      "info score cp 1483 depth 12 nodes 6401 pv N@f6 e8f8 P@h6 g7f6 e5f6 e4f3 P@g7 f8e8 g7h8q N@g8 R@f8 e8f8\n",
      "2019-03-27 20:05:58 root[18264] \u001b[1mDEBUG\u001b[0m \u001b[32mUpdate info\u001b[0m\n",
      "info score cp 823 depth 19 nodes 6529 pv N@f6 e8f8 f6e4 d5e4 Q@d8 N@e8 d8e7 f8e7 P@f6 g7f6 e5f6 e8f6 f3f6 e7f6 B@e5 f6g6 N@f4 g6f5 N@e3\n",
      "2019-03-27 20:05:59 root[18264] \u001b[1mDEBUG\u001b[0m \u001b[32mUpdate info\u001b[0m\n"
     ]
    },
    {
     "name": "stdout",
     "output_type": "stream",
     "text": [
      "info score cp 9999 depth 15 nodes 6657 pv N@f6 e8f8 P@h6 g7f6 e5f6 e4f3 P@g7 f8e8 g7h8q N@g8 R@f8 e8f8 Q@d8 N@e8 B@g7\n",
      "2019-03-27 20:05:59 root[18264] \u001b[1mDEBUG\u001b[0m \u001b[32mUpdate info\u001b[0m\n",
      "info score cp 762 depth 20 nodes 6785 pv N@f6 e8f8 P@h6 g7f6 e5f6 e4f3 P@g7 f8e8 g7h8q Q@g8 h8g8 e7g8 R@f8 e8f8 B@e7 g8e7 f6e7 f8e7 N@g8 e7d6\n",
      "2019-03-27 20:06:00 root[18264] \u001b[1mDEBUG\u001b[0m \u001b[32mUpdate info\u001b[0m\n",
      "info score cp 1360 depth 16 nodes 6913 pv N@f6 e8f8 Q@d8 N@e8 f6e8 e4f3 e8f6 Q@e8 f6e8 d7e8 d8e7 f8e7 P@f6 g7f6 e5f6 e7d7\n",
      "2019-03-27 20:06:00 root[18264] \u001b[1mDEBUG\u001b[0m \u001b[32mUpdate info\u001b[0m\n",
      "info score cp 1840 depth 8 nodes 7057 pv N@f6 e8f8 P@h6 g7f6 e5f6 N@f5 P@g7 f5g7\n",
      "2019-03-27 20:06:01 root[18264] \u001b[1mDEBUG\u001b[0m \u001b[32mUpdate info\u001b[0m\n",
      "info score cp 748 depth 20 nodes 7153 pv N@f6 e8f8 f6e4 d5e4 Q@d8 N@e8 d8e7 f8e7 P@f6 e8f6 e5f6 g7f6 f3f6 e7f6 B@e5 f6f5 N@e3 f5g6 N@f4 g6h6\n",
      "2019-03-27 20:06:01 root[18264] \u001b[1mDEBUG\u001b[0m \u001b[32mUpdate info\u001b[0m\n",
      "info score cp 9999 depth 15 nodes 7297 pv N@f6 g7f6 P@g7 h8g8 Q@f8 g8f8 g7f8q e8f8 B@h6 P@g7 h6g7 f8g7 f3f6 g7g8 R@h8\n",
      "2019-03-27 20:06:02 root[18264] \u001b[1mDEBUG\u001b[0m \u001b[32mUpdate info\u001b[0m\n",
      "info score cp 9999 depth 17 nodes 7457 pv N@f6 g7f6 P@g7 h8g8 Q@f8 g8f8 g7f8q e8f8 B@h6 P@g7 h6g7 f8g7 f3f6 g7f8 P@g7 f8e8 R@f8\n",
      "2019-03-27 20:06:02 root[18264] \u001b[1mDEBUG\u001b[0m \u001b[32mUpdate info\u001b[0m\n",
      "info score cp 9999 depth 13 nodes 7585 pv N@f6 g7f6 P@g7 N@g6 g7h8q g6h8 e5f6 e4f3 R@f8 e8f8 P@g7 f8e8 Q@f8\n",
      "2019-03-27 20:06:03 root[18264] \u001b[1mDEBUG\u001b[0m \u001b[32mUpdate info\u001b[0m\n",
      "info score cp 9999 depth 13 nodes 7745 pv N@f6 g7f6 P@g7 N@g6 g7h8q g6h8 R@f8 e8f8 B@g7 f8g7 e5f6 g7g6 Q@g7\n",
      "2019-03-27 20:06:03 root[18264] \u001b[1mDEBUG\u001b[0m \u001b[32mUpdate info\u001b[0m\n",
      "info score cp 9999 depth 15 nodes 7889 pv N@f6 g7f6 P@g7 N@g6 g7h8q N@g8 f3f6 g6h8 f6h8 P@g2 N@f6 e8d8 R@f8 d7e8 f8e8\n",
      "2019-03-27 20:06:04 root[18264] \u001b[1mDEBUG\u001b[0m \u001b[32mUpdate info\u001b[0m\n",
      "info score cp 9999 depth 11 nodes 8033 pv N@f6 g7f6 P@g7 h8g8 Q@f8 g8f8 g7f8q e8f8 B@g7 f8e8 R@f8\n",
      "2019-03-27 20:06:05 root[18264] \u001b[1mDEBUG\u001b[0m \u001b[32mUpdate info\u001b[0m\n",
      "info score cp 9999 depth 11 nodes 8193 pv N@f6 g7f6 P@g7 e4f3 g7h8q N@g8 R@f8 e8f8 Q@d8 R@e8 B@g7\n",
      "2019-03-27 20:06:05 root[18264] \u001b[1mDEBUG\u001b[0m \u001b[32mUpdate info\u001b[0m\n",
      "info score cp 9999 depth 11 nodes 8337 pv N@f6 g7f6 P@g7 e4f3 g7h8q N@g8 R@f8 e8f8 B@g7 f8e8 Q@f8\n",
      "2019-03-27 20:06:06 root[18264] \u001b[1mDEBUG\u001b[0m \u001b[32mUpdate info\u001b[0m\n",
      "info score cp 9999 depth 11 nodes 8481 pv N@f6 g7f6 P@g7 e4f3 g7h8q N@g8 R@f8 e8f8 B@g7 f8e8 Q@f8\n",
      "2019-03-27 20:06:06 root[18264] \u001b[1mDEBUG\u001b[0m \u001b[32mUpdate info\u001b[0m\n",
      "info score cp 1170 depth 10 nodes 8625 pv N@f6 g7f6 P@g7 N@e2 g1f1 e7g6 g7h8q g6h8 R@g8 N@f8\n",
      "2019-03-27 20:06:07 root[18264] \u001b[1mDEBUG\u001b[0m \u001b[32mUpdate info\u001b[0m\n",
      "info score cp 181 depth 10 nodes 8769 pv N@f6 g7f6 P@g7 e4f3 g7h8q Q@g8 Q@g7 N@e2 g1f1 N@d2\n",
      "2019-03-27 20:06:07 root[18264] \u001b[1mDEBUG\u001b[0m \u001b[32mUpdate info\u001b[0m\n",
      "info score cp 9999 depth 13 nodes 8897 pv N@f6 g7f6 P@g7 e4f3 g7h8q Q@g8 Q@g7 N@e2 g1f1 e2d4 R@f8 g8f8 g7f8\n",
      "2019-03-27 20:06:08 root[18264] \u001b[1mDEBUG\u001b[0m \u001b[32mUpdate info\u001b[0m\n",
      "info score cp 282 depth 16 nodes 9025 pv N@f6 g7f6 P@g7 e4f3 g7h8q Q@g8 Q@g7 N@e2 g1f1 N@f8 h8g8 e7g8 R@d8 e8d8 g7f8 R@e8\n",
      "2019-03-27 20:06:08 root[18264] \u001b[1mDEBUG\u001b[0m \u001b[32mUpdate info\u001b[0m\n",
      "info score cp 1295 depth 17 nodes 9153 pv N@f6 g7f6 P@g7 N@e2 g1f1 e2g3 h2g3 e4f3 g7h8q N@f8 N@g7 e8d8 h8f8 Q@e8 g7e8 d7e8 f8e7\n",
      "2019-03-27 20:06:09 root[18264] \u001b[1mDEBUG\u001b[0m \u001b[32mUpdate info\u001b[0m\n",
      "info score cp 768 depth 15 nodes 9281 pv N@f6 g7f6 P@g7 N@e2 f3e2 N@h3 g1f1 h8g8 e5f6 g8g7 f6g7 P@g2 f1e1 g2h1q B@f1\n",
      "2019-03-27 20:06:10 root[18264] \u001b[1mDEBUG\u001b[0m \u001b[32mUpdate info\u001b[0m\n",
      "info score cp 629 depth 15 nodes 9409 pv N@f6 g7f6 P@g7 N@e2 f3e2 h8g8 e5f6 N@h3 g1f1 e7g6 P@e7 g6e7 f6e7 P@g2 f1e1\n",
      "2019-03-27 20:06:10 root[18264] \u001b[1mDEBUG\u001b[0m \u001b[32mUpdate info\u001b[0m\n",
      "info score cp 584 depth 17 nodes 9489 pv N@f6 g7f6 P@g7 N@e2 g1f1 e4f3 g7h8q N@f8 h8f8 e8f8 B@h6 P@g7 h6g7 f8g7 e5f6 g7f6 P@e5\n",
      "2019-03-27 20:06:11 root[18264] \u001b[1mDEBUG\u001b[0m \u001b[32mUpdate info\u001b[0m\n",
      "info score cp 1572 depth 16 nodes 9617 pv N@f6 g7f6 P@g7 N@e2 g1f1 e2g3 h2g3 e4f3 g7h8q Q@g8 h8g8 e7g8 N@g7 e8f8 Q@d8 f8g7\n",
      "2019-03-27 20:06:11 root[18264] \u001b[1mDEBUG\u001b[0m \u001b[32mUpdate info\u001b[0m\n",
      "info score cp 872 depth 13 nodes 9745 pv N@f6 g7f6 P@g7 N@e2 g1f1 e4f3 g7h8q Q@g8 R@f8 g8f8 h8f8 e8f8 B@g7\n",
      "2019-03-27 20:06:12 root[18264] \u001b[1mDEBUG\u001b[0m \u001b[32mUpdate info\u001b[0m\n",
      "info score cp 9999 depth 17 nodes 9873 pv N@f6 g7f6 P@g7 N@e2 g1f1 e4f3 g7h8q Q@g8 Q@g7 N@f8 g7f8 g8f8 N@g7 e8d8 h8f8 d7e8 f8e8\n",
      "2019-03-27 20:06:13 root[18264] \u001b[1mDEBUG\u001b[0m \u001b[32mUpdate info\u001b[0m\n",
      "info score cp 9999 depth 17 nodes 10001 pv N@f6 g7f6 P@g7 N@e2 g1f1 e4f3 g7h8q Q@g8 R@f8 g8f8 h8f8 e8f8 Q@h8 N@g8 B@g7 f8e8 Q@f8\n",
      "2019-03-27 20:06:13 root[18264] \u001b[1mDEBUG\u001b[0m \u001b[32mUpdate info\u001b[0m\n",
      "info score cp 9999 depth 13 nodes 10145 pv N@f6 g7f6 P@g7 N@e2 g1f1 e4f3 g7h8q N@g8 R@f8 e8f8 B@g7 f8e8 Q@f8\n",
      "2019-03-27 20:06:14 root[18264] \u001b[1mDEBUG\u001b[0m \u001b[32mUpdate info\u001b[0m\n",
      "info score cp 9999 depth 17 nodes 10273 pv N@f6 g7f6 P@g7 e4f3 g7h8q Q@g8 Q@g7 N@e2 g1f1 N@f8 g7f8 e8f8 B@g7 f8e8 h8g8 e7g8 Q@f8\n",
      "2019-03-27 20:06:14 root[18264] \u001b[1mDEBUG\u001b[0m \u001b[32mUpdate info\u001b[0m\n",
      "info score cp 9999 depth 13 nodes 10401 pv N@f6 g7f6 P@g7 N@g6 g7h8q N@g8 f3f6 g6h8 R@f8 e8f8 P@g7 f8e8 Q@f8\n",
      "2019-03-27 20:06:15 root[18264] \u001b[1mDEBUG\u001b[0m \u001b[32mUpdate info\u001b[0m\n",
      "info score cp 9999 depth 15 nodes 10529 pv N@f6 g7f6 P@g7 e4f3 g7h8q Q@g8 Q@g7 N@e2 g1f1 N@f8 g7f8 e8f8 R@d8 d7e8 B@g7\n",
      "2019-03-27 20:06:15 root[18264] \u001b[1mDEBUG\u001b[0m \u001b[32mUpdate info\u001b[0m\n",
      "info score cp 9999 depth 17 nodes 10657 pv N@f6 g7f6 P@g7 N@e2 f3e2 N@h3 g1f1 h8g8 e5f6 e4h1 Q@f8 g8f8 g7f8q e8f8 P@g7 f8g8 R@h8\n",
      "2019-03-27 20:06:16 root[18264] \u001b[1mDEBUG\u001b[0m \u001b[32mUpdate info\u001b[0m\n",
      "info score cp 537 depth 16 nodes 10769 pv N@f6 g7f6 P@g7 e4f3 g7h8q Q@g8 Q@g7 N@h3 g1f1 d7b5 f1e1 N@g2 e1d2 g2f4 R@f8 e8d7\n",
      "2019-03-27 20:06:16 root[18264] \u001b[1mDEBUG\u001b[0m \u001b[32mUpdate info\u001b[0m\n",
      "info score cp 642 depth 9 nodes 10913 pv N@f6 e8d8 P@d6 c7d6 e5d6 P@c7 d6c7 d8c7 P@d6\n",
      "2019-03-27 20:06:17 root[18264] \u001b[1mDEBUG\u001b[0m \u001b[32mUpdate info\u001b[0m\n",
      "info score cp 9999 depth 17 nodes 11041 pv N@f6 g7f6 P@g7 e4f3 g7h8q Q@g8 Q@g7 N@h3 g1f1 d7b5 f1e1 N@g2 e1d2 g8h8 g7h8 e8d7 Q@e8\n",
      "2019-03-27 20:06:18 root[18264] \u001b[1mDEBUG\u001b[0m \u001b[32mUpdate info\u001b[0m\n",
      "info score cp 9999 depth 17 nodes 11169 pv N@f6 g7f6 P@g7 N@g6 g7h8q g6h8 R@f8 e8f8 B@h6 P@g7 h6g7 f8g7 e5f6 g7f8 P@g7 f8e8 Q@f8\n",
      "2019-03-27 20:06:18 root[18264] \u001b[1mDEBUG\u001b[0m \u001b[32mUpdate info\u001b[0m\n",
      "info score cp 1093 depth 10 nodes 11297 pv N@f6 e8d8 P@d6 N@f5 d6c7 d8c7 P@d6 c7b6 Q@c5 b6a6\n",
      "2019-03-27 20:06:19 root[18264] \u001b[1mDEBUG\u001b[0m \u001b[32mUpdate info\u001b[0m\n",
      "info score cp 2389 depth 18 nodes 11425 pv N@f6 e8f8 P@h6 N@f5 h6g7 f5g7 Q@d8 g7e8 B@h6 P@g7 h6g7 f8g7 f6e8 h8e8 f3f6 g7f8 P@g7 f8g8\n",
      "2019-03-27 20:06:19 root[18264] \u001b[1mDEBUG\u001b[0m \u001b[32mUpdate info\u001b[0m\n",
      "info score cp 9999 depth 11 nodes 11553 pv N@f6 g7f6 P@g7 e4f3 g7h8q N@g8 R@f8 e8f8 Q@d8 R@e8 B@g7\n",
      "2019-03-27 20:06:20 root[18264] \u001b[1mDEBUG\u001b[0m \u001b[32mUpdate info\u001b[0m\n",
      "info score cp 9999 depth 13 nodes 11681 pv N@f6 e8f8 P@h6 g7h6 B@g7 f8g7 f6h5 g7f8 Q@g7 f8e8 f3f7 e8d8 f7e7\n",
      "2019-03-27 20:06:20 root[18264] \u001b[1mDEBUG\u001b[0m \u001b[32mUpdate info\u001b[0m\n",
      "info score cp 9999 depth 15 nodes 11825 pv N@f6 g7f6 P@g7 h8g8 Q@f8 g8f8 g7f8q e8f8 B@h6 P@g7 h6g7 f8g8 R@h8 g8g7 f3f6\n",
      "2019-03-27 20:06:21 root[18264] \u001b[1mDEBUG\u001b[0m \u001b[32mUpdate info\u001b[0m\n",
      "info score cp -100 depth 9 nodes 11953 pv N@f6 e8f8 P@h6 e4f3 h6g7 f8g7 P@h6 g7h6 Q@h4\n",
      "2019-03-27 20:06:22 root[18264] \u001b[1mDEBUG\u001b[0m \u001b[32mUpdate info\u001b[0m\n",
      "info score cp 1559 depth 6 nodes 12081 pv N@f6 e8d8 P@d6 N@h3 f3h3 e7f5\n",
      "2019-03-27 20:06:22 root[18264] \u001b[1mDEBUG\u001b[0m \u001b[32mUpdate info\u001b[0m\n",
      "info score cp -249 depth 12 nodes 12225 pv N@f6 g7f6 P@g7 e4f3 g7h8q Q@g8 Q@g7 g8h8 g7h8 N@g8 Q@g7 N@h3\n",
      "2019-03-27 20:06:23 root[18264] \u001b[1mDEBUG\u001b[0m \u001b[32mUpdate info\u001b[0m\n",
      "info score cp -16 depth 11 nodes 12353 pv N@f6 g7f6 P@g7 N@h3 f3h3 N@f3 g1f1 h8g8 Q@h8 d7b5 B@d3\n",
      "2019-03-27 20:06:23 root[18264] \u001b[1mDEBUG\u001b[0m \u001b[32mUpdate info\u001b[0m\n",
      "info score cp 560 depth 20 nodes 12465 pv N@f6 g7f6 P@g7 N@e2 f3e2 h8g8 e5f6 g8g7 f6g7 N@h3 g1f1 P@g2 f1e1 g2h1q e1d2 R@d1 d2c3 e8d8 R@f8 d7e8\n",
      "2019-03-27 20:06:24 root[18264] \u001b[1mDEBUG\u001b[0m \u001b[32mUpdate info\u001b[0m\n",
      "info score cp 129 depth 19 nodes 12593 pv N@f6 g7f6 P@g7 e4f3 g7h8q Q@g8 Q@g7 N@h3 g1f1 g8h8 g7h8 N@f8 h8f8 e8f8 Q@h8 e7g8 B@g7 f8e7 e5f6\n",
      "2019-03-27 20:06:24 root[18264] \u001b[1mDEBUG\u001b[0m \u001b[32mUpdate info\u001b[0m\n"
     ]
    },
    {
     "name": "stdout",
     "output_type": "stream",
     "text": [
      "info score cp 1310 depth 14 nodes 12705 pv N@f6 g7f6 P@g7 N@e2 g1f1 N@d2 b1d2 h8g8 d2e4 d5e4 f3f6 e2d4 Q@f8 g8f8\n",
      "2019-03-27 20:06:25 root[18264] \u001b[1mDEBUG\u001b[0m \u001b[32mUpdate info\u001b[0m\n",
      "info score cp 9999 depth 13 nodes 12817 pv N@f6 e8f8 P@h6 g7h6 B@g7 f8g7 f6h5 g7f8 Q@g7 f8e8 f3f7 e8d8 f7e7\n",
      "2019-03-27 20:06:26 root[18264] \u001b[1mDEBUG\u001b[0m \u001b[32mUpdate info\u001b[0m\n",
      "info score cp 482 depth 13 nodes 12945 pv N@f6 e8f8 P@h6 g7f6 e5f6 N@e2 g1f1 e4f3 f6e7 f8e7 P@f6 e7f6 B@e5\n",
      "2019-03-27 20:06:26 root[18264] \u001b[1mDEBUG\u001b[0m \u001b[32mUpdate info\u001b[0m\n",
      "info score cp 9999 depth 17 nodes 13057 pv N@f6 g7f6 P@g7 N@h3 f3h3 h8g8 e5f6 N@e2 g1f1 e2d4 Q@f8 g8f8 g7f8q e8f8 P@g7 f8e8 R@f8\n",
      "2019-03-27 20:06:27 root[18264] \u001b[1mDEBUG\u001b[0m \u001b[32mUpdate info\u001b[0m\n",
      "info score cp 177 depth 18 nodes 13185 pv N@f6 g7f6 P@g7 N@g6 g7h8q N@g8 f3f6 g6h8 f6h8 e4h1 N@f6 e8d8 R@f8 R@e8 f6e8 d7e8 f8e8 d8e8\n",
      "2019-03-27 20:06:28 root[18264] \u001b[1mDEBUG\u001b[0m \u001b[32mUpdate info\u001b[0m\n",
      "info score cp 324 depth 8 nodes 13297 pv N@f6 e8d8 P@d6 N@e2 g1f1 c7d6 e5d6 P@g2\n",
      "2019-03-27 20:06:28 root[18264] \u001b[1mDEBUG\u001b[0m \u001b[32mUpdate info\u001b[0m\n",
      "info score cp 1426 depth 16 nodes 13425 pv N@f6 g7f6 P@g7 N@h3 f3h3 N@e2 g1f1 h8g8 e5f6 e7f5 Q@f8 g8f8 g7f8q e8f8 P@g7 f5g7\n",
      "2019-03-27 20:06:29 root[18264] \u001b[1mDEBUG\u001b[0m \u001b[32mUpdate info\u001b[0m\n",
      "info score cp 9999 depth 17 nodes 13537 pv N@f6 e8f8 P@h6 g7f6 e5f6 N@e2 g1f1 e4f3 P@g7 f8e8 g7h8q N@g8 R@f8 e8f8 Q@d8 R@e8 B@g7\n",
      "2019-03-27 20:06:29 root[18264] \u001b[1mDEBUG\u001b[0m \u001b[32mUpdate info\u001b[0m\n",
      "info score cp 9999 depth 11 nodes 13649 pv N@f6 e8d8 P@d6 c7d6 e5d6 N@e2 f3e2 g7f6 B@c7 d8e8 Q@d8\n",
      "2019-03-27 20:06:30 root[18264] \u001b[1mDEBUG\u001b[0m \u001b[32mUpdate info\u001b[0m\n",
      "info score cp 719 depth 17 nodes 13761 pv N@f6 g7f6 P@g7 N@e2 g1f1 e2g3 h2g3 d7b5 B@d3 e4f3 g7h8q N@g8 d3b5 c8d7 N@g7 e8f8 g7e6\n",
      "2019-03-27 20:06:30 root[18264] \u001b[1mDEBUG\u001b[0m \u001b[32mUpdate info\u001b[0m\n",
      "info score cp 349 depth 22 nodes 13873 pv N@f6 g7f6 P@g7 N@e2 f3e2 N@h3 g1f1 h8g8 Q@f8 g8f8 g7f8q e8f8 B@h6 P@g7 h6g7 f8g7 e5f6 g7f6 P@e5 f6g7 P@f6 g7f8\n",
      "2019-03-27 20:06:31 root[18264] \u001b[1mDEBUG\u001b[0m \u001b[32mUpdate info\u001b[0m\n",
      "info score cp 202 depth 14 nodes 13969 pv N@f6 g7f6 P@g7 N@e2 g1f1 e2g3 h2g3 d7b5 B@d3 b5d3 c2d3 B@g2 f1e1 e4f3\n",
      "2019-03-27 20:06:32 root[18264] \u001b[1mDEBUG\u001b[0m \u001b[32mUpdate info\u001b[0m\n",
      "info score cp 9999 depth 25 nodes 14065 pv N@f6 g7f6 P@g7 N@e2 f3e2 N@h3 g1f1 h8g8 e5f6 g8g7 f6g7 P@g2 f1e1 g2h1q e1d2 e7g6 g7g8q R@f8 N@g7 e8d8 B@f6 g6e7 g8f8 d7e8 f8e7\n",
      "2019-03-27 20:06:32 root[18264] \u001b[1mDEBUG\u001b[0m \u001b[32mUpdate info\u001b[0m\n",
      "info score cp 1018 depth 31 nodes 14161 pv N@f6 g7f6 P@g7 N@e2 f3e2 N@h3 g1f1 h8g8 e5f6 g8g7 f6g7 P@g2 f1e1 g2h1q e1d2 e8d8 R@f8 R@e8 f8e8 d7e8 B@f6 R@d1 d2c3 h1f3 e2f3 e4f3 f6e7 d8e7 g7g8n e7f8 P@e7\n",
      "2019-03-27 20:06:33 root[18264] \u001b[1mDEBUG\u001b[0m \u001b[32mUpdate info\u001b[0m\n",
      "info score cp 1366 depth 26 nodes 14257 pv N@f6 g7f6 P@g7 N@e2 f3e2 h8g8 e5f6 N@h3 g1f1 g8g7 f6g7 P@g2 f1e1 g2h1q e1d2 e8d8 R@f8 R@e8 B@f6 h1f3 f8e8 d7e8 f6e7 d8e7 g7g8n e7f8\n",
      "2019-03-27 20:06:33 root[18264] \u001b[1mDEBUG\u001b[0m \u001b[32mUpdate info\u001b[0m\n"
     ]
    },
    {
     "ename": "KeyboardInterrupt",
     "evalue": "",
     "output_type": "error",
     "traceback": [
      "\u001b[0;31m---------------------------------------------------------------------------\u001b[0m",
      "\u001b[0;31mKeyboardInterrupt\u001b[0m                         Traceback (most recent call last)",
      "\u001b[0;32m<ipython-input-24-fca602b9c0ac>\u001b[0m in \u001b[0;36m<module>\u001b[0;34m()\u001b[0m\n\u001b[1;32m      1\u001b[0m \u001b[0mt_s\u001b[0m \u001b[0;34m=\u001b[0m \u001b[0mtime\u001b[0m\u001b[0;34m(\u001b[0m\u001b[0;34m)\u001b[0m\u001b[0;34m\u001b[0m\u001b[0m\n\u001b[0;32m----> 2\u001b[0;31m \u001b[0mpred_value\u001b[0m\u001b[0;34m,\u001b[0m \u001b[0mlegal_moves\u001b[0m\u001b[0;34m,\u001b[0m \u001b[0mp_vec_small\u001b[0m\u001b[0;34m,\u001b[0m \u001b[0mcp\u001b[0m\u001b[0;34m,\u001b[0m \u001b[0mdepth\u001b[0m\u001b[0;34m,\u001b[0m \u001b[0mnodes\u001b[0m\u001b[0;34m,\u001b[0m \u001b[0mtime_elapsed_s\u001b[0m\u001b[0;34m,\u001b[0m \u001b[0mnps\u001b[0m\u001b[0;34m,\u001b[0m \u001b[0mpv\u001b[0m \u001b[0;34m=\u001b[0m \u001b[0mmcts_agent\u001b[0m\u001b[0;34m.\u001b[0m\u001b[0mevaluate_board_state\u001b[0m\u001b[0;34m(\u001b[0m\u001b[0mstate\u001b[0m\u001b[0;34m)\u001b[0m\u001b[0;34m\u001b[0m\u001b[0m\n\u001b[0m\u001b[1;32m      3\u001b[0m \u001b[0mprint\u001b[0m\u001b[0;34m(\u001b[0m\u001b[0;34m'Elapsed time: %.4fs'\u001b[0m \u001b[0;34m%\u001b[0m \u001b[0;34m(\u001b[0m\u001b[0mtime\u001b[0m\u001b[0;34m(\u001b[0m\u001b[0;34m)\u001b[0m\u001b[0;34m-\u001b[0m\u001b[0mt_s\u001b[0m\u001b[0;34m)\u001b[0m\u001b[0;34m)\u001b[0m\u001b[0;34m\u001b[0m\u001b[0m\n",
      "\u001b[0;32m/media/queensgambit/Volume/Deep_Learning/projects/CrazyAra/DeepCrazyhouse/src/domain/agent/player/mcts_agent.py\u001b[0m in \u001b[0;36mevaluate_board_state\u001b[0;34m(self, state)\u001b[0m\n\u001b[1;32m    269\u001b[0m             \u001b[0;31m#    self.root_node.q_value[self.root_node.policy_prob < 1e-3] = -9999\u001b[0m\u001b[0;34m\u001b[0m\u001b[0;34m\u001b[0m\u001b[0m\n\u001b[1;32m    270\u001b[0m             \u001b[0;31m# conduct the mcts-search based on the given settings\u001b[0m\u001b[0;34m\u001b[0m\u001b[0;34m\u001b[0m\u001b[0m\n\u001b[0;32m--> 271\u001b[0;31m             \u001b[0mmax_depth_reached\u001b[0m \u001b[0;34m=\u001b[0m \u001b[0mself\u001b[0m\u001b[0;34m.\u001b[0m\u001b[0m_run_mcts_search\u001b[0m\u001b[0;34m(\u001b[0m\u001b[0mstate\u001b[0m\u001b[0;34m)\u001b[0m\u001b[0;34m\u001b[0m\u001b[0m\n\u001b[0m\u001b[1;32m    272\u001b[0m             \u001b[0mt_elapsed\u001b[0m \u001b[0;34m=\u001b[0m \u001b[0mtime\u001b[0m\u001b[0;34m(\u001b[0m\u001b[0;34m)\u001b[0m \u001b[0;34m-\u001b[0m \u001b[0mself\u001b[0m\u001b[0;34m.\u001b[0m\u001b[0mt_start_eval\u001b[0m\u001b[0;34m\u001b[0m\u001b[0m\n\u001b[1;32m    273\u001b[0m             \u001b[0mprint\u001b[0m\u001b[0;34m(\u001b[0m\u001b[0;34m\"info string move overhead is %dms\"\u001b[0m \u001b[0;34m%\u001b[0m \u001b[0;34m(\u001b[0m\u001b[0mt_elapsed\u001b[0m \u001b[0;34m*\u001b[0m \u001b[0;36m1000\u001b[0m \u001b[0;34m-\u001b[0m \u001b[0mself\u001b[0m\u001b[0;34m.\u001b[0m\u001b[0mmovetime_ms\u001b[0m\u001b[0;34m)\u001b[0m\u001b[0;34m)\u001b[0m\u001b[0;34m\u001b[0m\u001b[0m\n",
      "\u001b[0;32m/media/queensgambit/Volume/Deep_Learning/projects/CrazyAra/DeepCrazyhouse/src/domain/agent/player/mcts_agent.py\u001b[0m in \u001b[0;36m_run_mcts_search\u001b[0;34m(self, state)\u001b[0m\n\u001b[1;32m    476\u001b[0m             \u001b[0mtime_show_info\u001b[0m \u001b[0;34m=\u001b[0m \u001b[0mtime\u001b[0m\u001b[0;34m(\u001b[0m\u001b[0;34m)\u001b[0m \u001b[0;34m-\u001b[0m \u001b[0mold_time\u001b[0m\u001b[0;34m\u001b[0m\u001b[0m\n\u001b[1;32m    477\u001b[0m \u001b[0;34m\u001b[0m\u001b[0m\n\u001b[0;32m--> 478\u001b[0;31m             \u001b[0;32mfor\u001b[0m \u001b[0mi\u001b[0m\u001b[0;34m,\u001b[0m \u001b[0mfuture\u001b[0m \u001b[0;32min\u001b[0m \u001b[0menumerate\u001b[0m\u001b[0;34m(\u001b[0m\u001b[0mfutures\u001b[0m\u001b[0;34m)\u001b[0m\u001b[0;34m:\u001b[0m\u001b[0;34m\u001b[0m\u001b[0m\n\u001b[0m\u001b[1;32m    479\u001b[0m                 \u001b[0mcur_value\u001b[0m\u001b[0;34m,\u001b[0m \u001b[0mcur_depth\u001b[0m\u001b[0;34m,\u001b[0m \u001b[0mchosen_nodes\u001b[0m \u001b[0;34m=\u001b[0m \u001b[0mfuture\u001b[0m\u001b[0;34m.\u001b[0m\u001b[0mresult\u001b[0m\u001b[0;34m(\u001b[0m\u001b[0;34m)\u001b[0m\u001b[0;34m\u001b[0m\u001b[0m\n\u001b[1;32m    480\u001b[0m \u001b[0;34m\u001b[0m\u001b[0m\n",
      "\u001b[0;31mKeyboardInterrupt\u001b[0m: "
     ]
    }
   ],
   "source": [
    "t_s = time()\n",
    "pred_value, legal_moves, p_vec_small, cp, depth, nodes, time_elapsed_s, nps, pv = mcts_agent.evaluate_board_state(state)\n",
    "print('Elapsed time: %.4fs' % (time()-t_s))"
   ]
  },
  {
   "cell_type": "code",
   "execution_count": 25,
   "metadata": {},
   "outputs": [
    {
     "data": {
      "text/plain": [
       "[Move.from_uci('f3f7'),\n",
       " Move.from_uci('f3f6'),\n",
       " Move.from_uci('f3h5'),\n",
       " Move.from_uci('f3f5'),\n",
       " Move.from_uci('f3g4'),\n",
       " Move.from_uci('f3f4'),\n",
       " Move.from_uci('f3e4'),\n",
       " Move.from_uci('f3h3'),\n",
       " Move.from_uci('f3g3'),\n",
       " Move.from_uci('f3e3'),\n",
       " Move.from_uci('f3d3'),\n",
       " Move.from_uci('f3c3'),\n",
       " Move.from_uci('f3b3'),\n",
       " Move.from_uci('f3a3'),\n",
       " Move.from_uci('f3g2'),\n",
       " Move.from_uci('f3e2'),\n",
       " Move.from_uci('f3d1'),\n",
       " Move.from_uci('g1g2'),\n",
       " Move.from_uci('g1f1'),\n",
       " Move.from_uci('b1c3'),\n",
       " Move.from_uci('b1a3'),\n",
       " Move.from_uci('b1d2'),\n",
       " Move.from_uci('h2h3'),\n",
       " Move.from_uci('c2c3'),\n",
       " Move.from_uci('b2b3'),\n",
       " Move.from_uci('a2a3'),\n",
       " Move.from_uci('h2h4'),\n",
       " Move.from_uci('c2c4'),\n",
       " Move.from_uci('b2b4'),\n",
       " Move.from_uci('a2a4'),\n",
       " Move.from_uci('B@c1'),\n",
       " Move.from_uci('N@c1'),\n",
       " Move.from_uci('Q@c1'),\n",
       " Move.from_uci('B@d1'),\n",
       " Move.from_uci('N@d1'),\n",
       " Move.from_uci('Q@d1'),\n",
       " Move.from_uci('B@e1'),\n",
       " Move.from_uci('N@e1'),\n",
       " Move.from_uci('Q@e1'),\n",
       " Move.from_uci('B@f1'),\n",
       " Move.from_uci('N@f1'),\n",
       " Move.from_uci('Q@f1'),\n",
       " Move.from_uci('B@d2'),\n",
       " Move.from_uci('P@d2'),\n",
       " Move.from_uci('N@d2'),\n",
       " Move.from_uci('Q@d2'),\n",
       " Move.from_uci('B@e2'),\n",
       " Move.from_uci('P@e2'),\n",
       " Move.from_uci('N@e2'),\n",
       " Move.from_uci('Q@e2'),\n",
       " Move.from_uci('B@g2'),\n",
       " Move.from_uci('P@g2'),\n",
       " Move.from_uci('N@g2'),\n",
       " Move.from_uci('Q@g2'),\n",
       " Move.from_uci('B@a3'),\n",
       " Move.from_uci('P@a3'),\n",
       " Move.from_uci('N@a3'),\n",
       " Move.from_uci('Q@a3'),\n",
       " Move.from_uci('B@b3'),\n",
       " Move.from_uci('P@b3'),\n",
       " Move.from_uci('N@b3'),\n",
       " Move.from_uci('Q@b3'),\n",
       " Move.from_uci('B@c3'),\n",
       " Move.from_uci('P@c3'),\n",
       " Move.from_uci('N@c3'),\n",
       " Move.from_uci('Q@c3'),\n",
       " Move.from_uci('B@d3'),\n",
       " Move.from_uci('P@d3'),\n",
       " Move.from_uci('N@d3'),\n",
       " Move.from_uci('Q@d3'),\n",
       " Move.from_uci('B@e3'),\n",
       " Move.from_uci('P@e3'),\n",
       " Move.from_uci('N@e3'),\n",
       " Move.from_uci('Q@e3'),\n",
       " Move.from_uci('B@g3'),\n",
       " Move.from_uci('P@g3'),\n",
       " Move.from_uci('N@g3'),\n",
       " Move.from_uci('Q@g3'),\n",
       " Move.from_uci('B@h3'),\n",
       " Move.from_uci('P@h3'),\n",
       " Move.from_uci('N@h3'),\n",
       " Move.from_uci('Q@h3'),\n",
       " Move.from_uci('B@a4'),\n",
       " Move.from_uci('P@a4'),\n",
       " Move.from_uci('N@a4'),\n",
       " Move.from_uci('Q@a4'),\n",
       " Move.from_uci('B@b4'),\n",
       " Move.from_uci('P@b4'),\n",
       " Move.from_uci('N@b4'),\n",
       " Move.from_uci('Q@b4'),\n",
       " Move.from_uci('B@c4'),\n",
       " Move.from_uci('P@c4'),\n",
       " Move.from_uci('N@c4'),\n",
       " Move.from_uci('Q@c4'),\n",
       " Move.from_uci('B@f4'),\n",
       " Move.from_uci('P@f4'),\n",
       " Move.from_uci('N@f4'),\n",
       " Move.from_uci('Q@f4'),\n",
       " Move.from_uci('B@g4'),\n",
       " Move.from_uci('P@g4'),\n",
       " Move.from_uci('N@g4'),\n",
       " Move.from_uci('Q@g4'),\n",
       " Move.from_uci('B@h4'),\n",
       " Move.from_uci('P@h4'),\n",
       " Move.from_uci('N@h4'),\n",
       " Move.from_uci('Q@h4'),\n",
       " Move.from_uci('B@a5'),\n",
       " Move.from_uci('P@a5'),\n",
       " Move.from_uci('N@a5'),\n",
       " Move.from_uci('Q@a5'),\n",
       " Move.from_uci('B@b5'),\n",
       " Move.from_uci('P@b5'),\n",
       " Move.from_uci('N@b5'),\n",
       " Move.from_uci('Q@b5'),\n",
       " Move.from_uci('B@c5'),\n",
       " Move.from_uci('P@c5'),\n",
       " Move.from_uci('N@c5'),\n",
       " Move.from_uci('Q@c5'),\n",
       " Move.from_uci('B@f5'),\n",
       " Move.from_uci('P@f5'),\n",
       " Move.from_uci('N@f5'),\n",
       " Move.from_uci('Q@f5'),\n",
       " Move.from_uci('B@g5'),\n",
       " Move.from_uci('P@g5'),\n",
       " Move.from_uci('N@g5'),\n",
       " Move.from_uci('Q@g5'),\n",
       " Move.from_uci('B@h5'),\n",
       " Move.from_uci('P@h5'),\n",
       " Move.from_uci('N@h5'),\n",
       " Move.from_uci('Q@h5'),\n",
       " Move.from_uci('B@a6'),\n",
       " Move.from_uci('P@a6'),\n",
       " Move.from_uci('N@a6'),\n",
       " Move.from_uci('Q@a6'),\n",
       " Move.from_uci('B@b6'),\n",
       " Move.from_uci('P@b6'),\n",
       " Move.from_uci('N@b6'),\n",
       " Move.from_uci('Q@b6'),\n",
       " Move.from_uci('B@c6'),\n",
       " Move.from_uci('P@c6'),\n",
       " Move.from_uci('N@c6'),\n",
       " Move.from_uci('Q@c6'),\n",
       " Move.from_uci('B@d6'),\n",
       " Move.from_uci('P@d6'),\n",
       " Move.from_uci('N@d6'),\n",
       " Move.from_uci('Q@d6'),\n",
       " Move.from_uci('B@f6'),\n",
       " Move.from_uci('P@f6'),\n",
       " Move.from_uci('N@f6'),\n",
       " Move.from_uci('Q@f6'),\n",
       " Move.from_uci('B@g6'),\n",
       " Move.from_uci('P@g6'),\n",
       " Move.from_uci('N@g6'),\n",
       " Move.from_uci('Q@g6'),\n",
       " Move.from_uci('B@h6'),\n",
       " Move.from_uci('P@h6'),\n",
       " Move.from_uci('N@h6'),\n",
       " Move.from_uci('Q@h6'),\n",
       " Move.from_uci('B@b8'),\n",
       " Move.from_uci('N@b8'),\n",
       " Move.from_uci('Q@b8'),\n",
       " Move.from_uci('B@d8'),\n",
       " Move.from_uci('N@d8'),\n",
       " Move.from_uci('Q@d8'),\n",
       " Move.from_uci('B@f8'),\n",
       " Move.from_uci('N@f8'),\n",
       " Move.from_uci('Q@f8'),\n",
       " Move.from_uci('B@g8'),\n",
       " Move.from_uci('N@g8'),\n",
       " Move.from_uci('Q@g8')]"
      ]
     },
     "execution_count": 25,
     "metadata": {},
     "output_type": "execute_result"
    }
   ],
   "source": [
    "legal_moves"
   ]
  },
  {
   "cell_type": "code",
   "execution_count": 26,
   "metadata": {},
   "outputs": [
    {
     "data": {
      "text/plain": [
       "170"
      ]
     },
     "execution_count": 26,
     "metadata": {},
     "output_type": "execute_result"
    }
   ],
   "source": [
    "len(legal_moves)"
   ]
  },
  {
   "cell_type": "code",
   "execution_count": 27,
   "metadata": {},
   "outputs": [
    {
     "data": {
      "text/plain": [
       "13"
      ]
     },
     "execution_count": 27,
     "metadata": {},
     "output_type": "execute_result"
    }
   ],
   "source": [
    "mcts_agent.root_node.child_number_visits.argmax()"
   ]
  },
  {
   "cell_type": "code",
   "execution_count": 28,
   "metadata": {},
   "outputs": [
    {
     "data": {
      "text/plain": [
       "-0.9085127115249634"
      ]
     },
     "execution_count": 28,
     "metadata": {},
     "output_type": "execute_result"
    }
   ],
   "source": [
    "mcts_agent.root_node.q_value[28]"
   ]
  },
  {
   "cell_type": "code",
   "execution_count": 29,
   "metadata": {},
   "outputs": [
    {
     "data": {
      "text/plain": [
       "Move.from_uci('b2b4')"
      ]
     },
     "execution_count": 29,
     "metadata": {},
     "output_type": "execute_result"
    }
   ],
   "source": [
    "legal_moves[28]"
   ]
  },
  {
   "cell_type": "code",
   "execution_count": 30,
   "metadata": {},
   "outputs": [
    {
     "data": {
      "text/plain": [
       "[1, 2, 3, 4, 5]"
      ]
     },
     "execution_count": 30,
     "metadata": {},
     "output_type": "execute_result"
    }
   ],
   "source": [
    "l"
   ]
  },
  {
   "cell_type": "code",
   "execution_count": 31,
   "metadata": {},
   "outputs": [
    {
     "data": {
      "text/plain": [
       "Move.from_uci('P@a6')"
      ]
     },
     "execution_count": 31,
     "metadata": {},
     "output_type": "execute_result"
    }
   ],
   "source": [
    "legal_moves[131]"
   ]
  },
  {
   "cell_type": "code",
   "execution_count": 32,
   "metadata": {},
   "outputs": [
    {
     "data": {
      "text/plain": [
       "13"
      ]
     },
     "execution_count": 32,
     "metadata": {},
     "output_type": "execute_result"
    }
   ],
   "source": [
    "mcts_agent.root_node.q_value.argmax()"
   ]
  },
  {
   "cell_type": "code",
   "execution_count": 33,
   "metadata": {
    "scrolled": false
   },
   "outputs": [
    {
     "name": "stdout",
     "output_type": "stream",
     "text": [
      "2019-03-27 20:02:11 root[29659] \u001b[1mDEBUG\u001b[0m \u001b[32mReuse the search tree. Number of nodes in search tree: 0\u001b[0m\n",
      "info score cp -2324 depth 3 nodes 13537 pv B@f6 e4f3 f6g7\n",
      "2019-03-27 20:02:12 root[29659] \u001b[1mDEBUG\u001b[0m \u001b[32mUpdate info\u001b[0m\n",
      "info score cp -130 depth 17 nodes 13713 pv f3a3 N@f3 g1f1 d7b5 B@d3 c8d7 P@f6 e4d3 c2d3 b5d3 B@e2 d3e2 f1e2 f3d4 e2d2 B@g5 B@e3\n",
      "2019-03-27 20:02:13 root[29659] \u001b[1mDEBUG\u001b[0m \u001b[32mUpdate info\u001b[0m\n",
      "info score cp -182 depth 8 nodes 13873 pv f3a3 N@f3 g1f1 d7b5 B@d3 c8d7 P@h6 b5d3\n",
      "2019-03-27 20:02:13 root[29659] \u001b[1mDEBUG\u001b[0m \u001b[32mUpdate info\u001b[0m\n",
      "info score cp -740 depth 13 nodes 14017 pv f3a3 N@f3 g1f1 d7b5 B@d3 c8d7 P@f6 e4d3 c2d3 b5d3 a3d3 B@e4 N@b8\n",
      "2019-03-27 20:02:14 root[29659] \u001b[1mDEBUG\u001b[0m \u001b[32mUpdate info\u001b[0m\n",
      "info score cp -1329 depth 21 nodes 14161 pv f3a3 N@f3 g1f1 d7b5 B@d3 c8d7 P@f6 b5d3 c2d3 e4d3 f1g2 f3h4 g2h3 B@g2 h3h4 e7f5 h4g4 d3e2 f2f3 e2f3 a3f3\n",
      "2019-03-27 20:02:14 root[29659] \u001b[1mDEBUG\u001b[0m \u001b[32mUpdate info\u001b[0m\n",
      "info score cp 542 depth 16 nodes 14305 pv f3a3 N@f3 g1f1 d7b5 B@d3 c8d7 N@h5 b5d3 c2d3 e4d3 P@e2 P@g2 f1g2 f3h4 g2g1 d3e4\n",
      "2019-03-27 20:02:15 root[29659] \u001b[1mDEBUG\u001b[0m \u001b[32mUpdate info\u001b[0m\n",
      "info score cp -305 depth 21 nodes 14433 pv f3a3 N@f3 g1f1 d7b5 B@d3 c8d7 N@h5 b5d3 c2d3 e4d3 P@e2 B@h3 B@g2 h3g2 f1g2 f3h4 g2g1 B@f8 h5g7 f8g7 a3e7\n",
      "2019-03-27 20:02:15 root[29659] \u001b[1mDEBUG\u001b[0m \u001b[32mUpdate info\u001b[0m\n",
      "info score cp 595 depth 12 nodes 14577 pv f3a3 N@f3 g1f1 d7b5 B@d3 c8d7 N@h5 b5d3 c2d3 B@h3 f1e2 d7c6\n",
      "2019-03-27 20:02:16 root[29659] \u001b[1mDEBUG\u001b[0m \u001b[32mUpdate info\u001b[0m\n",
      "info score cp -353 depth 15 nodes 14721 pv f3a3 N@f3 g1f1 d7b5 B@d3 c8d7 N@h5 e4d3 c2d3 b5d3 P@e2 d3e2 f1e2 f3d4 e2d1\n",
      "2019-03-27 20:02:16 root[29659] \u001b[1mDEBUG\u001b[0m \u001b[32mUpdate info\u001b[0m\n",
      "info score cp 13 depth 13 nodes 14865 pv f3a3 N@f3 g1f1 d7b5 B@d3 c8d7 N@h5 e4d3 c2d3 f3d4 h5g7 e8d8 a3e7\n",
      "2019-03-27 20:02:17 root[29659] \u001b[1mDEBUG\u001b[0m \u001b[32mUpdate info\u001b[0m\n",
      "info score cp -590 depth 23 nodes 14993 pv f3a3 N@f3 g1f1 d7b5 B@d3 c8d7 N@h5 e4d3 c2d3 b5d3 P@e2 d3e2 f1e2 f3d4 e2d2 B@h6 B@e3 d4f3 d2e2 d7b5 B@d3 b5d3 a3d3\n",
      "2019-03-27 20:02:17 root[29659] \u001b[1mDEBUG\u001b[0m \u001b[32mUpdate info\u001b[0m\n",
      "info score cp 438 depth 12 nodes 15121 pv f3a3 N@f3 g1f1 d7b5 B@d3 c8d7 N@h5 b5d3 c2d3 e4d3 P@e2 P@d2\n",
      "2019-03-27 20:02:18 root[29659] \u001b[1mDEBUG\u001b[0m \u001b[32mUpdate info\u001b[0m\n",
      "info score cp 268 depth 19 nodes 15265 pv f3a3 N@f3 g1f1 d7b5 B@d3 c8d7 N@h5 b5d3 c2d3 e4d3 P@e2 d3e2 f1e2 f3d4 e2d2 B@f8 B@c5 d4c6 B@f6\n",
      "2019-03-27 20:02:19 root[29659] \u001b[1mDEBUG\u001b[0m \u001b[32mUpdate info\u001b[0m\n",
      "info score cp 459 depth 14 nodes 15393 pv f3a3 N@f3 g1f1 d7b5 B@d3 c8d7 N@h5 b5d3 c2d3 e4d3 P@e2 B@h3 B@g2 e8g8\n",
      "2019-03-27 20:02:19 root[29659] \u001b[1mDEBUG\u001b[0m \u001b[32mUpdate info\u001b[0m\n",
      "info score cp 686 depth 18 nodes 15489 pv f3a3 N@f3 g1f1 d7b5 B@d3 c8d7 N@h5 b5d3 c2d3 e4d3 P@e2 B@h3 B@g2 h3g2 f1g2 d3e2 h5g7 e8f8\n",
      "2019-03-27 20:02:20 root[29659] \u001b[1mDEBUG\u001b[0m \u001b[32mUpdate info\u001b[0m\n",
      "info score cp 90 depth 18 nodes 15617 pv f3a3 N@f3 g1f1 d7b5 B@d3 c8d7 N@h5 e4d3 c2d3 B@h3 P@g2 h3g2 f1g2 f3h4 g2h3 h4f5 B@g4 h8g8\n",
      "2019-03-27 20:02:20 root[29659] \u001b[1mDEBUG\u001b[0m \u001b[32mUpdate info\u001b[0m\n",
      "info score cp 65 depth 13 nodes 15745 pv f3a3 N@f3 g1f1 d7b5 B@d3 c8d7 N@h5 b5d3 c2d3 B@g2 f1g2 f3e1 g2f1\n",
      "2019-03-27 20:02:21 root[29659] \u001b[1mDEBUG\u001b[0m \u001b[32mUpdate info\u001b[0m\n",
      "info score cp 506 depth 16 nodes 15873 pv f3a3 N@f3 g1f1 d7b5 B@d3 c8d7 N@h5 e4d3 c2d3 b5d3 P@e2 P@g2 f1g2 f3h4 g2g1 B@g6\n",
      "2019-03-27 20:02:21 root[29659] \u001b[1mDEBUG\u001b[0m \u001b[32mUpdate info\u001b[0m\n",
      "info score cp 3 depth 14 nodes 16001 pv f3a3 N@f3 g1f1 d7b5 B@d3 c8d7 N@h5 e4d3 c2d3 f3d4 h5g7 e8d8 a3e7 d8c8\n",
      "2019-03-27 20:02:22 root[29659] \u001b[1mDEBUG\u001b[0m \u001b[32mUpdate info\u001b[0m\n",
      "info score cp 417 depth 19 nodes 16145 pv f3a3 N@f3 g1f1 d7b5 B@d3 c8d7 N@h5 e4d3 c2d3 B@h3 P@g2 h3g2 f1g2 f3h4 g2h3 e7f5 h5g7 e8d8 B@f6\n",
      "2019-03-27 20:02:23 root[29659] \u001b[1mDEBUG\u001b[0m \u001b[32mUpdate info\u001b[0m\n",
      "info score cp 239 depth 15 nodes 16273 pv f3a3 N@f3 g1f1 d7b5 B@d3 c8d7 N@h5 b5d3 c2d3 B@g2 f1e2 f3d4 e2d2 d4f3 d2c1\n",
      "2019-03-27 20:02:23 root[29659] \u001b[1mDEBUG\u001b[0m \u001b[32mUpdate info\u001b[0m\n",
      "info score cp 23 depth 12 nodes 16401 pv f3a3 N@f3 g1f1 d7b5 B@d3 c8d7 N@h5 e7f5 h5g7 e8d8 P@e7 d8c8\n",
      "2019-03-27 20:02:24 root[29659] \u001b[1mDEBUG\u001b[0m \u001b[32mUpdate info\u001b[0m\n",
      "info score cp 160 depth 15 nodes 16529 pv f3a3 N@f3 g1f1 d7b5 B@d3 c8d7 N@h5 b5d3 c2d3 B@g2 f1e2 f3d4 e2d2 g2h1 h5g7\n",
      "2019-03-27 20:02:24 root[29659] \u001b[1mDEBUG\u001b[0m \u001b[32mUpdate info\u001b[0m\n",
      "info score cp 235 depth 10 nodes 16657 pv f3a3 N@f3 g1f1 f3e5 d4e5 P@g2 f1e2 g2h1r a3e7 e8e7\n",
      "2019-03-27 20:02:25 root[29659] \u001b[1mDEBUG\u001b[0m \u001b[32mUpdate info\u001b[0m\n",
      "info score cp 527 depth 10 nodes 16785 pv f3a3 N@h3 g1f1 d7b5 f1e1 e4h1 a3e7 e8e7 P@f6 e7d7\n",
      "2019-03-27 20:02:25 root[29659] \u001b[1mDEBUG\u001b[0m \u001b[32mUpdate info\u001b[0m\n",
      "info score cp -223 depth 17 nodes 16913 pv f3a3 N@f3 g1f1 d7b5 B@d3 b5d3 c2d3 B@h3 f1e2 f3d4 e2d2 P@b4 a3b4 d4c6 B@b5 e4h1 b4e7\n",
      "2019-03-27 20:02:26 root[29659] \u001b[1mDEBUG\u001b[0m \u001b[32mUpdate info\u001b[0m\n",
      "info score cp 805 depth 6 nodes 17041 pv f3a3 N@f3 g1f1 e7f5 B@g2 f5d4\n",
      "2019-03-27 20:02:26 root[29659] \u001b[1mDEBUG\u001b[0m \u001b[32mUpdate info\u001b[0m\n",
      "info score cp -230 depth 10 nodes 17185 pv f3a3 N@f3 g1f1 d7b5 B@d3 c8d7 P@e2 b5d3 e2d3 B@h3\n",
      "2019-03-27 20:02:27 root[29659] \u001b[1mDEBUG\u001b[0m \u001b[32mUpdate info\u001b[0m\n",
      "info score cp 9999 depth 15 nodes 17313 pv f3a3 N@f3 g1f1 f3d4 a3e7 e8e7 P@f6 g7f6 e5f6 e7f6 B@g5 f6g5 h2h4 g5f6 Q@g5\n",
      "2019-03-27 20:02:27 root[29659] \u001b[1mDEBUG\u001b[0m \u001b[32mUpdate info\u001b[0m\n",
      "info score cp 145 depth 14 nodes 17441 pv f3a3 N@f3 g1f1 d7b5 B@d3 c8d7 N@h5 e4d3 c2d3 B@h3 f1e2 f3d4 e2d2 e8c8\n",
      "2019-03-27 20:02:28 root[29659] \u001b[1mDEBUG\u001b[0m \u001b[32mUpdate info\u001b[0m\n",
      "info score cp -294 depth 11 nodes 17569 pv f3a3 N@f3 g1f1 d7b5 B@d3 c8d7 N@h5 f3e5 h1g1 P@g2 f1e1\n",
      "2019-03-27 20:02:28 root[29659] \u001b[1mDEBUG\u001b[0m \u001b[32mUpdate info\u001b[0m\n",
      "info score cp -186 depth 11 nodes 17697 pv f3a3 N@f3 g1f1 d7b5 B@d3 c8d7 N@h5 f3e5 P@g2 e5d3 h5g7\n",
      "2019-03-27 20:02:29 root[29659] \u001b[1mDEBUG\u001b[0m \u001b[32mUpdate info\u001b[0m\n",
      "info score cp -109 depth 19 nodes 17825 pv f3a3 N@f3 g1f1 d7b5 B@d3 c8d7 N@h5 f3e5 h5g7 e8d8 d4e5 b5d3 c2d3 P@g2 f1e2 B@f3 e2d2 g2h1q a3e7\n",
      "2019-03-27 20:02:30 root[29659] \u001b[1mDEBUG\u001b[0m \u001b[32mUpdate info\u001b[0m\n",
      "info score cp -139 depth 19 nodes 17953 pv f3a3 N@f3 g1f1 d7b5 B@d3 c8d7 N@h5 f3e5 d4e5 b5d3 c2d3 P@g2 f1e2 B@f3 e2d2 f3h5 a3e7 e8e7 P@d6\n",
      "2019-03-27 20:02:30 root[29659] \u001b[1mDEBUG\u001b[0m \u001b[32mUpdate info\u001b[0m\n",
      "info score cp -1560 depth 13 nodes 18081 pv f3a3 N@f3 g1f1 d7b5 B@d3 c8d7 N@h5 f3e5 h5g7 e8d8 a3e7 d8e7 N@f6\n",
      "2019-03-27 20:02:31 root[29659] \u001b[1mDEBUG\u001b[0m \u001b[32mUpdate info\u001b[0m\n",
      "info score cp 1726 depth 24 nodes 18193 pv f3a3 N@f3 g1f1 d7b5 B@d3 c8d7 N@h5 f3e5 d4e5 P@g2 f1e2 g2h1q h5g7 e8d8 a3e7 d8e7 Q@f6 e7f8 g7e6 d7e6 P@g7 f8e8 g7h8q R@f8\n",
      "2019-03-27 20:02:31 root[29659] \u001b[1mDEBUG\u001b[0m \u001b[32mUpdate info\u001b[0m\n",
      "info score cp -104 depth 21 nodes 18305 pv f3a3 N@f3 g1f1 d7b5 B@d3 b5d3 c2d3 B@h3 f1e2 f3d4 e2d2 P@b4 a3b4 d4f3 d2c1 f3e5 B@b5 P@c6 d3e4 c6b5 b4e7\n",
      "2019-03-27 20:02:32 root[29659] \u001b[1mDEBUG\u001b[0m \u001b[32mUpdate info\u001b[0m\n",
      "info score cp -583 depth 16 nodes 18417 pv f3a3 N@f3 g1f1 d7b5 B@d3 c8d7 N@h5 b5d3 c2d3 e4d3 P@e2 d3e2 f1e2 f3d4 e2d2 B@b4\n",
      "2019-03-27 20:02:32 root[29659] \u001b[1mDEBUG\u001b[0m \u001b[32mUpdate info\u001b[0m\n",
      "info score cp 34 depth 18 nodes 18529 pv f3a3 N@f3 g1f1 d7b5 B@d3 c8d7 N@h5 b5d3 c2d3 e4d3 P@e2 d3e2 f1e2 f3d4 e2d2 B@a5 a3a5 e7c6\n",
      "2019-03-27 20:02:33 root[29659] \u001b[1mDEBUG\u001b[0m \u001b[32mUpdate info\u001b[0m\n",
      "info score cp -946 depth 15 nodes 18641 pv f3a3 N@f3 g1f1 d7b5 B@d3 c8d7 N@h5 f3e5 h5g7 e8d8 d4e5 P@g2 f1e2 g2h1q Q@c3\n",
      "2019-03-27 20:02:33 root[29659] \u001b[1mDEBUG\u001b[0m \u001b[32mUpdate info\u001b[0m\n",
      "info score cp -250 depth 19 nodes 18753 pv f3a3 N@f3 g1f1 d7b5 B@d3 c8d7 N@h5 f3e5 h5g7 e8d8 d4e5 P@g2 f1e1 g2h1q N@f1 R@c1 e1d2 c1c2 d3c2\n",
      "2019-03-27 20:02:34 root[29659] \u001b[1mDEBUG\u001b[0m \u001b[32mUpdate info\u001b[0m\n",
      "info score cp -943 depth 13 nodes 18833 pv f3a3 N@f3 g1f1 d7b5 B@d3 c8d7 N@h5 f3e5 h5g7 e8d8 a3e7 d8e7 N@f4\n",
      "2019-03-27 20:02:35 root[29659] \u001b[1mDEBUG\u001b[0m \u001b[32mUpdate info\u001b[0m\n",
      "info score cp -663 depth 24 nodes 18945 pv f3a3 N@f3 g1f1 d7b5 B@d3 c8d7 N@h5 f3e5 h5g7 e8d8 d4e5 P@g2 f1e2 g2h1q a3e7 d8c8 Q@f8 h8f8 e7f8 R@e8 N@e7 c8d8 g7e8 b5d3\n",
      "2019-03-27 20:02:35 root[29659] \u001b[1mDEBUG\u001b[0m \u001b[32mUpdate info\u001b[0m\n",
      "info score cp -583 depth 12 nodes 19057 pv f3a3 N@f3 g1f1 d7b5 B@d3 c8d7 N@h5 f3e5 h5g7 e8d8 Q@h4 P@g2\n",
      "2019-03-27 20:02:36 root[29659] \u001b[1mDEBUG\u001b[0m \u001b[32mUpdate info\u001b[0m\n"
     ]
    },
    {
     "name": "stdout",
     "output_type": "stream",
     "text": [
      "info string move overhead is -35779ms\n",
      "f3a3 N@f3 g1f1 d7b5 B@d3 c8d7 N@h5 f3e5 h5g7 e8d8 d4e5 P@g2 f1e2 g2h1q a3e7 d8c8 Q@f8 h8f8 e7f8 R@e8 N@e7 c8d8 e7c6 b7c6 P@e7 0.07281841121822874\n",
      "2019-03-27 20:02:36 root[29659] \u001b[1mINFO\u001b[0m \u001b[94minfo string score cp -55 depth 40 nodes 5712 time 24230 nps 235 pv f3a3 N@f3 g1f1 d7b5 B@d3 c8d7 N@h5 f3e5 h5g7 e8d8 d4e5 P@g2 f1e2 g2h1q a3e7 d8c8 Q@f8 h8f8 e7f8 R@e8 N@e7 c8d8 e7c6 b7c6 P@e7 d8c8 R@d8 c8b7 N@c5 b7b6 c5d7 b6a6 d3b5 c6b5 d7c5 a6b6 c5d7 b6a6 d7c5 a6b6 f8h8\u001b[0m\n",
      "Elapsed time: 24.2319s\n"
     ]
    }
   ],
   "source": [
    "t_s = time()\n",
    "pred_value, legal_moves, p_vec_small, cp, depth, nodes, time_elapsed_s, nps, pv = mcts_agent.evaluate_board_state(state)\n",
    "print('Elapsed time: %.4fs' % (time()-t_s))"
   ]
  },
  {
   "cell_type": "code",
   "execution_count": 34,
   "metadata": {
    "collapsed": true
   },
   "outputs": [],
   "source": [
    "from DeepCrazyhouse.src.domain.agent.player.alpha_beta.minimax_agent import AlphaBetaAgent"
   ]
  },
  {
   "cell_type": "code",
   "execution_count": 35,
   "metadata": {
    "collapsed": true
   },
   "outputs": [],
   "source": [
    "# minimax(currentPosition, 3, -∞, +∞, true)"
   ]
  },
  {
   "cell_type": "code",
   "execution_count": 36,
   "metadata": {
    "collapsed": true
   },
   "outputs": [],
   "source": [
    "ab_agent = AlphaBetaAgent(net=nets[0])"
   ]
  },
  {
   "cell_type": "code",
   "execution_count": 37,
   "metadata": {},
   "outputs": [
    {
     "data": {
      "image/svg+xml": [
       "<svg height=\"400\" version=\"1.1\" viewBox=\"0 0 400 400\" width=\"400\" xmlns=\"http://www.w3.org/2000/svg\" xmlns:xlink=\"http://www.w3.org/1999/xlink\"><defs><g class=\"white pawn\" id=\"white-pawn\"><path d=\"M22 9c-2.21 0-4 1.79-4 4 0 .89.29 1.71.78 2.38-1.95 1.12-3.28 3.21-3.28 5.62 0 2.03.94 3.84 2.41 5.03-3 1.06-7.41 5.55-7.41 13.47h23c0-7.92-4.41-12.41-7.41-13.47 1.47-1.19 2.41-3 2.41-5.03 0-2.41-1.33-4.5-3.28-5.62.49-.67.78-1.49.78-2.38 0-2.21-1.79-4-4-4z\" fill=\"#fff\" stroke=\"#000\" stroke-linecap=\"round\" stroke-width=\"1.5\" /></g><g class=\"white knight\" fill=\"none\" fill-rule=\"evenodd\" id=\"white-knight\" stroke=\"#000\" stroke-linecap=\"round\" stroke-linejoin=\"round\" stroke-width=\"1.5\"><path d=\"M 22,10 C 32.5,11 38.5,18 38,39 L 15,39 C 15,30 25,32.5 23,18\" style=\"fill:#ffffff; stroke:#000000;\" /><path d=\"M 24,18 C 24.38,20.91 18.45,25.37 16,27 C 13,29 13.18,31.34 11,31 C 9.958,30.06 12.41,27.96 11,28 C 10,28 11.19,29.23 10,30 C 9,30 5.997,31 6,26 C 6,24 12,14 12,14 C 12,14 13.89,12.1 14,10.5 C 13.27,9.506 13.5,8.5 13.5,7.5 C 14.5,6.5 16.5,10 16.5,10 L 18.5,10 C 18.5,10 19.28,8.008 21,7 C 22,7 22,10 22,10\" style=\"fill:#ffffff; stroke:#000000;\" /><path d=\"M 9.5 25.5 A 0.5 0.5 0 1 1 8.5,25.5 A 0.5 0.5 0 1 1 9.5 25.5 z\" style=\"fill:#000000; stroke:#000000;\" /><path d=\"M 15 15.5 A 0.5 1.5 0 1 1 14,15.5 A 0.5 1.5 0 1 1 15 15.5 z\" style=\"fill:#000000; stroke:#000000;\" transform=\"matrix(0.866,0.5,-0.5,0.866,9.693,-5.173)\" /></g><g class=\"white rook\" fill=\"#fff\" fill-rule=\"evenodd\" id=\"white-rook\" stroke=\"#000\" stroke-linecap=\"round\" stroke-linejoin=\"round\" stroke-width=\"1.5\"><path d=\"M9 39h27v-3H9v3zM12 36v-4h21v4H12zM11 14V9h4v2h5V9h5v2h5V9h4v5\" stroke-linecap=\"butt\" /><path d=\"M34 14l-3 3H14l-3-3\" /><path d=\"M31 17v12.5H14V17\" stroke-linecap=\"butt\" stroke-linejoin=\"miter\" /><path d=\"M31 29.5l1.5 2.5h-20l1.5-2.5\" /><path d=\"M11 14h23\" fill=\"none\" stroke-linejoin=\"miter\" /></g><g class=\"white queen\" fill=\"#fff\" fill-rule=\"evenodd\" id=\"white-queen\" stroke=\"#000\" stroke-linecap=\"round\" stroke-linejoin=\"round\" stroke-width=\"1.5\"><path d=\"M8 12a2 2 0 1 1-4 0 2 2 0 1 1 4 0zM24.5 7.5a2 2 0 1 1-4 0 2 2 0 1 1 4 0zM41 12a2 2 0 1 1-4 0 2 2 0 1 1 4 0zM16 8.5a2 2 0 1 1-4 0 2 2 0 1 1 4 0zM33 9a2 2 0 1 1-4 0 2 2 0 1 1 4 0z\" /><path d=\"M9 26c8.5-1.5 21-1.5 27 0l2-12-7 11V11l-5.5 13.5-3-15-3 15-5.5-14V25L7 14l2 12zM9 26c0 2 1.5 2 2.5 4 1 1.5 1 1 .5 3.5-1.5 1-1.5 2.5-1.5 2.5-1.5 1.5.5 2.5.5 2.5 6.5 1 16.5 1 23 0 0 0 1.5-1 0-2.5 0 0 .5-1.5-1-2.5-.5-2.5-.5-2 .5-3.5 1-2 2.5-2 2.5-4-8.5-1.5-18.5-1.5-27 0z\" stroke-linecap=\"butt\" /><path d=\"M11.5 30c3.5-1 18.5-1 22 0M12 33.5c6-1 15-1 21 0\" fill=\"none\" /></g><g class=\"white king\" fill=\"none\" fill-rule=\"evenodd\" id=\"white-king\" stroke=\"#000\" stroke-linecap=\"round\" stroke-linejoin=\"round\" stroke-width=\"1.5\"><path d=\"M22.5 11.63V6M20 8h5\" stroke-linejoin=\"miter\" /><path d=\"M22.5 25s4.5-7.5 3-10.5c0 0-1-2.5-3-2.5s-3 2.5-3 2.5c-1.5 3 3 10.5 3 10.5\" fill=\"#fff\" stroke-linecap=\"butt\" stroke-linejoin=\"miter\" /><path d=\"M11.5 37c5.5 3.5 15.5 3.5 21 0v-7s9-4.5 6-10.5c-4-6.5-13.5-3.5-16 4V27v-3.5c-3.5-7.5-13-10.5-16-4-3 6 5 10 5 10V37z\" fill=\"#fff\" /><path d=\"M11.5 30c5.5-3 15.5-3 21 0m-21 3.5c5.5-3 15.5-3 21 0m-21 3.5c5.5-3 15.5-3 21 0\" /></g><g class=\"black pawn\" id=\"black-pawn\"><path d=\"M22 9c-2.21 0-4 1.79-4 4 0 .89.29 1.71.78 2.38-1.95 1.12-3.28 3.21-3.28 5.62 0 2.03.94 3.84 2.41 5.03-3 1.06-7.41 5.55-7.41 13.47h23c0-7.92-4.41-12.41-7.41-13.47 1.47-1.19 2.41-3 2.41-5.03 0-2.41-1.33-4.5-3.28-5.62.49-.67.78-1.49.78-2.38 0-2.21-1.79-4-4-4z\" stroke=\"#000\" stroke-linecap=\"round\" stroke-width=\"1.5\" /></g><g class=\"black knight\" fill=\"none\" fill-rule=\"evenodd\" id=\"black-knight\" stroke=\"#000\" stroke-linecap=\"round\" stroke-linejoin=\"round\" stroke-width=\"1.5\"><path d=\"M 22,10 C 32.5,11 38.5,18 38,39 L 15,39 C 15,30 25,32.5 23,18\" style=\"fill:#000000; stroke:#000000;\" /><path d=\"M 24,18 C 24.38,20.91 18.45,25.37 16,27 C 13,29 13.18,31.34 11,31 C 9.958,30.06 12.41,27.96 11,28 C 10,28 11.19,29.23 10,30 C 9,30 5.997,31 6,26 C 6,24 12,14 12,14 C 12,14 13.89,12.1 14,10.5 C 13.27,9.506 13.5,8.5 13.5,7.5 C 14.5,6.5 16.5,10 16.5,10 L 18.5,10 C 18.5,10 19.28,8.008 21,7 C 22,7 22,10 22,10\" style=\"fill:#000000; stroke:#000000;\" /><path d=\"M 9.5 25.5 A 0.5 0.5 0 1 1 8.5,25.5 A 0.5 0.5 0 1 1 9.5 25.5 z\" style=\"fill:#ececec; stroke:#ececec;\" /><path d=\"M 15 15.5 A 0.5 1.5 0 1 1 14,15.5 A 0.5 1.5 0 1 1 15 15.5 z\" style=\"fill:#ececec; stroke:#ececec;\" transform=\"matrix(0.866,0.5,-0.5,0.866,9.693,-5.173)\" /><path d=\"M 24.55,10.4 L 24.1,11.85 L 24.6,12 C 27.75,13 30.25,14.49 32.5,18.75 C 34.75,23.01 35.75,29.06 35.25,39 L 35.2,39.5 L 37.45,39.5 L 37.5,39 C 38,28.94 36.62,22.15 34.25,17.66 C 31.88,13.17 28.46,11.02 25.06,10.5 L 24.55,10.4 z \" style=\"fill:#ececec; stroke:none;\" /></g><g class=\"black bishop\" fill=\"none\" fill-rule=\"evenodd\" id=\"black-bishop\" stroke=\"#000\" stroke-linecap=\"round\" stroke-linejoin=\"round\" stroke-width=\"1.5\"><path d=\"M9 36c3.39-.97 10.11.43 13.5-2 3.39 2.43 10.11 1.03 13.5 2 0 0 1.65.54 3 2-.68.97-1.65.99-3 .5-3.39-.97-10.11.46-13.5-1-3.39 1.46-10.11.03-13.5 1-1.354.49-2.323.47-3-.5 1.354-1.94 3-2 3-2zm6-4c2.5 2.5 12.5 2.5 15 0 .5-1.5 0-2 0-2 0-2.5-2.5-4-2.5-4 5.5-1.5 6-11.5-5-15.5-11 4-10.5 14-5 15.5 0 0-2.5 1.5-2.5 4 0 0-.5.5 0 2zM25 8a2.5 2.5 0 1 1-5 0 2.5 2.5 0 1 1 5 0z\" fill=\"#000\" stroke-linecap=\"butt\" /><path d=\"M17.5 26h10M15 30h15m-7.5-14.5v5M20 18h5\" stroke=\"#fff\" stroke-linejoin=\"miter\" /></g><g class=\"black rook\" fill=\"#000\" fill-rule=\"evenodd\" id=\"black-rook\" stroke=\"#000\" stroke-linecap=\"round\" stroke-linejoin=\"round\" stroke-width=\"1.5\"><path d=\"M9 39h27v-3H9v3zM12.5 32l1.5-2.5h17l1.5 2.5h-20zM12 36v-4h21v4H12z\" stroke-linecap=\"butt\" /><path d=\"M14 29.5v-13h17v13H14z\" stroke-linecap=\"butt\" stroke-linejoin=\"miter\" /><path d=\"M14 16.5L11 14h23l-3 2.5H14zM11 14V9h4v2h5V9h5v2h5V9h4v5H11z\" stroke-linecap=\"butt\" /><path d=\"M12 35.5h21M13 31.5h19M14 29.5h17M14 16.5h17M11 14h23\" fill=\"none\" stroke=\"#fff\" stroke-linejoin=\"miter\" stroke-width=\"1\" /></g><g class=\"black king\" fill=\"none\" fill-rule=\"evenodd\" id=\"black-king\" stroke=\"#000\" stroke-linecap=\"round\" stroke-linejoin=\"round\" stroke-width=\"1.5\"><path d=\"M22.5 11.63V6\" stroke-linejoin=\"miter\" /><path d=\"M22.5 25s4.5-7.5 3-10.5c0 0-1-2.5-3-2.5s-3 2.5-3 2.5c-1.5 3 3 10.5 3 10.5\" fill=\"#000\" stroke-linecap=\"butt\" stroke-linejoin=\"miter\" /><path d=\"M11.5 37c5.5 3.5 15.5 3.5 21 0v-7s9-4.5 6-10.5c-4-6.5-13.5-3.5-16 4V27v-3.5c-3.5-7.5-13-10.5-16-4-3 6 5 10 5 10V37z\" fill=\"#000\" /><path d=\"M20 8h5\" stroke-linejoin=\"miter\" /><path d=\"M32 29.5s8.5-4 6.03-9.65C34.15 14 25 18 22.5 24.5l.01 2.1-.01-2.1C20 18 9.906 14 6.997 19.85c-2.497 5.65 4.853 9 4.853 9M11.5 30c5.5-3 15.5-3 21 0m-21 3.5c5.5-3 15.5-3 21 0m-21 3.5c5.5-3 15.5-3 21 0\" stroke=\"#fff\" /></g></defs><rect class=\"square dark a1\" fill=\"#d18b47\" height=\"45\" stroke=\"none\" width=\"45\" x=\"20\" y=\"335\" /><use transform=\"translate(20, 335)\" xlink:href=\"#white-rook\" /><rect class=\"square light b1\" fill=\"#ffce9e\" height=\"45\" stroke=\"none\" width=\"45\" x=\"65\" y=\"335\" /><use transform=\"translate(65, 335)\" xlink:href=\"#white-knight\" /><rect class=\"square dark c1\" fill=\"#d18b47\" height=\"45\" stroke=\"none\" width=\"45\" x=\"110\" y=\"335\" /><rect class=\"square light d1\" fill=\"#ffce9e\" height=\"45\" stroke=\"none\" width=\"45\" x=\"155\" y=\"335\" /><rect class=\"square dark e1\" fill=\"#d18b47\" height=\"45\" stroke=\"none\" width=\"45\" x=\"200\" y=\"335\" /><rect class=\"square light f1\" fill=\"#ffce9e\" height=\"45\" stroke=\"none\" width=\"45\" x=\"245\" y=\"335\" /><rect class=\"square dark g1\" fill=\"#d18b47\" height=\"45\" stroke=\"none\" width=\"45\" x=\"290\" y=\"335\" /><use transform=\"translate(290, 335)\" xlink:href=\"#white-king\" /><rect class=\"square light h1\" fill=\"#ffce9e\" height=\"45\" stroke=\"none\" width=\"45\" x=\"335\" y=\"335\" /><use transform=\"translate(335, 335)\" xlink:href=\"#white-rook\" /><rect class=\"square light a2\" fill=\"#ffce9e\" height=\"45\" stroke=\"none\" width=\"45\" x=\"20\" y=\"290\" /><use transform=\"translate(20, 290)\" xlink:href=\"#white-pawn\" /><rect class=\"square dark b2\" fill=\"#d18b47\" height=\"45\" stroke=\"none\" width=\"45\" x=\"65\" y=\"290\" /><use transform=\"translate(65, 290)\" xlink:href=\"#white-pawn\" /><rect class=\"square light c2\" fill=\"#ffce9e\" height=\"45\" stroke=\"none\" width=\"45\" x=\"110\" y=\"290\" /><use transform=\"translate(110, 290)\" xlink:href=\"#white-pawn\" /><rect class=\"square dark d2\" fill=\"#d18b47\" height=\"45\" stroke=\"none\" width=\"45\" x=\"155\" y=\"290\" /><rect class=\"square light e2\" fill=\"#ffce9e\" height=\"45\" stroke=\"none\" width=\"45\" x=\"200\" y=\"290\" /><rect class=\"square dark f2\" fill=\"#d18b47\" height=\"45\" stroke=\"none\" width=\"45\" x=\"245\" y=\"290\" /><use transform=\"translate(245, 290)\" xlink:href=\"#white-pawn\" /><rect class=\"square light g2\" fill=\"#ffce9e\" height=\"45\" stroke=\"none\" width=\"45\" x=\"290\" y=\"290\" /><rect class=\"square dark h2\" fill=\"#d18b47\" height=\"45\" stroke=\"none\" width=\"45\" x=\"335\" y=\"290\" /><use transform=\"translate(335, 290)\" xlink:href=\"#white-pawn\" /><rect class=\"square dark a3\" fill=\"#d18b47\" height=\"45\" stroke=\"none\" width=\"45\" x=\"20\" y=\"245\" /><rect class=\"square light b3\" fill=\"#ffce9e\" height=\"45\" stroke=\"none\" width=\"45\" x=\"65\" y=\"245\" /><rect class=\"square dark c3\" fill=\"#d18b47\" height=\"45\" stroke=\"none\" width=\"45\" x=\"110\" y=\"245\" /><rect class=\"square light d3\" fill=\"#ffce9e\" height=\"45\" stroke=\"none\" width=\"45\" x=\"155\" y=\"245\" /><rect class=\"square dark e3\" fill=\"#d18b47\" height=\"45\" stroke=\"none\" width=\"45\" x=\"200\" y=\"245\" /><rect class=\"square light f3\" fill=\"#ffce9e\" height=\"45\" stroke=\"none\" width=\"45\" x=\"245\" y=\"245\" /><use transform=\"translate(245, 245)\" xlink:href=\"#white-queen\" /><rect class=\"square dark g3\" fill=\"#d18b47\" height=\"45\" stroke=\"none\" width=\"45\" x=\"290\" y=\"245\" /><rect class=\"square light h3\" fill=\"#ffce9e\" height=\"45\" stroke=\"none\" width=\"45\" x=\"335\" y=\"245\" /><rect class=\"square light a4\" fill=\"#ffce9e\" height=\"45\" stroke=\"none\" width=\"45\" x=\"20\" y=\"200\" /><rect class=\"square dark b4\" fill=\"#d18b47\" height=\"45\" stroke=\"none\" width=\"45\" x=\"65\" y=\"200\" /><rect class=\"square light c4\" fill=\"#ffce9e\" height=\"45\" stroke=\"none\" width=\"45\" x=\"110\" y=\"200\" /><rect class=\"square dark d4\" fill=\"#d18b47\" height=\"45\" stroke=\"none\" width=\"45\" x=\"155\" y=\"200\" /><use transform=\"translate(155, 200)\" xlink:href=\"#white-pawn\" /><rect class=\"square light e4\" fill=\"#ffce9e\" height=\"45\" stroke=\"none\" width=\"45\" x=\"200\" y=\"200\" /><use transform=\"translate(200, 200)\" xlink:href=\"#black-bishop\" /><rect class=\"square dark f4\" fill=\"#d18b47\" height=\"45\" stroke=\"none\" width=\"45\" x=\"245\" y=\"200\" /><rect class=\"square light g4\" fill=\"#ffce9e\" height=\"45\" stroke=\"none\" width=\"45\" x=\"290\" y=\"200\" /><rect class=\"square dark h4\" fill=\"#d18b47\" height=\"45\" stroke=\"none\" width=\"45\" x=\"335\" y=\"200\" /><rect class=\"square dark a5\" fill=\"#d18b47\" height=\"45\" stroke=\"none\" width=\"45\" x=\"20\" y=\"155\" /><rect class=\"square light b5\" fill=\"#ffce9e\" height=\"45\" stroke=\"none\" width=\"45\" x=\"65\" y=\"155\" /><rect class=\"square dark c5\" fill=\"#d18b47\" height=\"45\" stroke=\"none\" width=\"45\" x=\"110\" y=\"155\" /><rect class=\"square light d5\" fill=\"#ffce9e\" height=\"45\" stroke=\"none\" width=\"45\" x=\"155\" y=\"155\" /><use transform=\"translate(155, 155)\" xlink:href=\"#black-pawn\" /><rect class=\"square dark e5\" fill=\"#d18b47\" height=\"45\" stroke=\"none\" width=\"45\" x=\"200\" y=\"155\" /><use transform=\"translate(200, 155)\" xlink:href=\"#white-pawn\" /><rect class=\"square light f5\" fill=\"#ffce9e\" height=\"45\" stroke=\"none\" width=\"45\" x=\"245\" y=\"155\" /><rect class=\"square dark g5\" fill=\"#d18b47\" height=\"45\" stroke=\"none\" width=\"45\" x=\"290\" y=\"155\" /><rect class=\"square light h5\" fill=\"#ffce9e\" height=\"45\" stroke=\"none\" width=\"45\" x=\"335\" y=\"155\" /><rect class=\"square light a6\" fill=\"#ffce9e\" height=\"45\" stroke=\"none\" width=\"45\" x=\"20\" y=\"110\" /><rect class=\"square dark b6\" fill=\"#d18b47\" height=\"45\" stroke=\"none\" width=\"45\" x=\"65\" y=\"110\" /><rect class=\"square light c6\" fill=\"#ffce9e\" height=\"45\" stroke=\"none\" width=\"45\" x=\"110\" y=\"110\" /><rect class=\"square dark d6\" fill=\"#d18b47\" height=\"45\" stroke=\"none\" width=\"45\" x=\"155\" y=\"110\" /><rect class=\"square light e6\" fill=\"#ffce9e\" height=\"45\" stroke=\"none\" width=\"45\" x=\"200\" y=\"110\" /><use transform=\"translate(200, 110)\" xlink:href=\"#black-pawn\" /><rect class=\"square dark f6\" fill=\"#d18b47\" height=\"45\" stroke=\"none\" width=\"45\" x=\"245\" y=\"110\" /><rect class=\"square light g6\" fill=\"#ffce9e\" height=\"45\" stroke=\"none\" width=\"45\" x=\"290\" y=\"110\" /><rect class=\"square dark h6\" fill=\"#d18b47\" height=\"45\" stroke=\"none\" width=\"45\" x=\"335\" y=\"110\" /><rect class=\"square dark a7\" fill=\"#d18b47\" height=\"45\" stroke=\"none\" width=\"45\" x=\"20\" y=\"65\" /><use transform=\"translate(20, 65)\" xlink:href=\"#black-pawn\" /><rect class=\"square light b7\" fill=\"#ffce9e\" height=\"45\" stroke=\"none\" width=\"45\" x=\"65\" y=\"65\" /><use transform=\"translate(65, 65)\" xlink:href=\"#black-pawn\" /><rect class=\"square dark c7\" fill=\"#d18b47\" height=\"45\" stroke=\"none\" width=\"45\" x=\"110\" y=\"65\" /><use transform=\"translate(110, 65)\" xlink:href=\"#black-pawn\" /><rect class=\"square light d7\" fill=\"#ffce9e\" height=\"45\" stroke=\"none\" width=\"45\" x=\"155\" y=\"65\" /><use transform=\"translate(155, 65)\" xlink:href=\"#black-bishop\" /><rect class=\"square dark e7\" fill=\"#d18b47\" height=\"45\" stroke=\"none\" width=\"45\" x=\"200\" y=\"65\" /><use transform=\"translate(200, 65)\" xlink:href=\"#black-knight\" /><rect class=\"square light f7\" fill=\"#ffce9e\" height=\"45\" stroke=\"none\" width=\"45\" x=\"245\" y=\"65\" /><use transform=\"translate(245, 65)\" xlink:href=\"#black-pawn\" /><rect class=\"square dark g7\" fill=\"#d18b47\" height=\"45\" stroke=\"none\" width=\"45\" x=\"290\" y=\"65\" /><use transform=\"translate(290, 65)\" xlink:href=\"#black-pawn\" /><rect class=\"square light h7\" fill=\"#ffce9e\" height=\"45\" stroke=\"none\" width=\"45\" x=\"335\" y=\"65\" /><use transform=\"translate(335, 65)\" xlink:href=\"#black-pawn\" /><rect class=\"square light a8\" fill=\"#ffce9e\" height=\"45\" stroke=\"none\" width=\"45\" x=\"20\" y=\"20\" /><use transform=\"translate(20, 20)\" xlink:href=\"#black-rook\" /><rect class=\"square dark b8\" fill=\"#d18b47\" height=\"45\" stroke=\"none\" width=\"45\" x=\"65\" y=\"20\" /><rect class=\"square light c8\" fill=\"#ffce9e\" height=\"45\" stroke=\"none\" width=\"45\" x=\"110\" y=\"20\" /><use transform=\"translate(110, 20)\" xlink:href=\"#black-bishop\" /><rect class=\"square dark d8\" fill=\"#d18b47\" height=\"45\" stroke=\"none\" width=\"45\" x=\"155\" y=\"20\" /><rect class=\"square light e8\" fill=\"#ffce9e\" height=\"45\" stroke=\"none\" width=\"45\" x=\"200\" y=\"20\" /><use transform=\"translate(200, 20)\" xlink:href=\"#black-king\" /><rect class=\"square dark f8\" fill=\"#d18b47\" height=\"45\" stroke=\"none\" width=\"45\" x=\"245\" y=\"20\" /><rect class=\"square light g8\" fill=\"#ffce9e\" height=\"45\" stroke=\"none\" width=\"45\" x=\"290\" y=\"20\" /><rect class=\"square dark h8\" fill=\"#d18b47\" height=\"45\" stroke=\"none\" width=\"45\" x=\"335\" y=\"20\" /><use transform=\"translate(335, 20)\" xlink:href=\"#black-rook\" /><text alignment-baseline=\"middle\" font-size=\"14\" text-anchor=\"middle\" x=\"42\" y=\"10\">a</text><text alignment-baseline=\"middle\" font-size=\"14\" text-anchor=\"middle\" x=\"42\" y=\"390\">a</text><text alignment-baseline=\"middle\" font-size=\"14\" text-anchor=\"middle\" x=\"87\" y=\"10\">b</text><text alignment-baseline=\"middle\" font-size=\"14\" text-anchor=\"middle\" x=\"87\" y=\"390\">b</text><text alignment-baseline=\"middle\" font-size=\"14\" text-anchor=\"middle\" x=\"132\" y=\"10\">c</text><text alignment-baseline=\"middle\" font-size=\"14\" text-anchor=\"middle\" x=\"132\" y=\"390\">c</text><text alignment-baseline=\"middle\" font-size=\"14\" text-anchor=\"middle\" x=\"177\" y=\"10\">d</text><text alignment-baseline=\"middle\" font-size=\"14\" text-anchor=\"middle\" x=\"177\" y=\"390\">d</text><text alignment-baseline=\"middle\" font-size=\"14\" text-anchor=\"middle\" x=\"222\" y=\"10\">e</text><text alignment-baseline=\"middle\" font-size=\"14\" text-anchor=\"middle\" x=\"222\" y=\"390\">e</text><text alignment-baseline=\"middle\" font-size=\"14\" text-anchor=\"middle\" x=\"267\" y=\"10\">f</text><text alignment-baseline=\"middle\" font-size=\"14\" text-anchor=\"middle\" x=\"267\" y=\"390\">f</text><text alignment-baseline=\"middle\" font-size=\"14\" text-anchor=\"middle\" x=\"312\" y=\"10\">g</text><text alignment-baseline=\"middle\" font-size=\"14\" text-anchor=\"middle\" x=\"312\" y=\"390\">g</text><text alignment-baseline=\"middle\" font-size=\"14\" text-anchor=\"middle\" x=\"357\" y=\"10\">h</text><text alignment-baseline=\"middle\" font-size=\"14\" text-anchor=\"middle\" x=\"357\" y=\"390\">h</text><text alignment-baseline=\"middle\" font-size=\"14\" text-anchor=\"middle\" x=\"10\" y=\"357\">1</text><text alignment-baseline=\"middle\" font-size=\"14\" text-anchor=\"middle\" x=\"390\" y=\"357\">1</text><text alignment-baseline=\"middle\" font-size=\"14\" text-anchor=\"middle\" x=\"10\" y=\"312\">2</text><text alignment-baseline=\"middle\" font-size=\"14\" text-anchor=\"middle\" x=\"390\" y=\"312\">2</text><text alignment-baseline=\"middle\" font-size=\"14\" text-anchor=\"middle\" x=\"10\" y=\"267\">3</text><text alignment-baseline=\"middle\" font-size=\"14\" text-anchor=\"middle\" x=\"390\" y=\"267\">3</text><text alignment-baseline=\"middle\" font-size=\"14\" text-anchor=\"middle\" x=\"10\" y=\"222\">4</text><text alignment-baseline=\"middle\" font-size=\"14\" text-anchor=\"middle\" x=\"390\" y=\"222\">4</text><text alignment-baseline=\"middle\" font-size=\"14\" text-anchor=\"middle\" x=\"10\" y=\"177\">5</text><text alignment-baseline=\"middle\" font-size=\"14\" text-anchor=\"middle\" x=\"390\" y=\"177\">5</text><text alignment-baseline=\"middle\" font-size=\"14\" text-anchor=\"middle\" x=\"10\" y=\"132\">6</text><text alignment-baseline=\"middle\" font-size=\"14\" text-anchor=\"middle\" x=\"390\" y=\"132\">6</text><text alignment-baseline=\"middle\" font-size=\"14\" text-anchor=\"middle\" x=\"10\" y=\"87\">7</text><text alignment-baseline=\"middle\" font-size=\"14\" text-anchor=\"middle\" x=\"390\" y=\"87\">7</text><text alignment-baseline=\"middle\" font-size=\"14\" text-anchor=\"middle\" x=\"10\" y=\"42\">8</text><text alignment-baseline=\"middle\" font-size=\"14\" text-anchor=\"middle\" x=\"390\" y=\"42\">8</text></svg>"
      ],
      "text/plain": [
       "CrazyhouseBoard('r1b1k2r/pppbnppp/4p3/3pP3/3Pb3/5Q2/PPP2P1P/RN4KR[QBNPn] w kq - 0 17')"
      ]
     },
     "execution_count": 37,
     "metadata": {},
     "output_type": "execute_result"
    }
   ],
   "source": [
    "state.board"
   ]
  },
  {
   "cell_type": "code",
   "execution_count": 38,
   "metadata": {},
   "outputs": [
    {
     "data": {
      "text/plain": [
       "[None]"
      ]
     },
     "execution_count": 38,
     "metadata": {},
     "output_type": "execute_result"
    }
   ],
   "source": [
    "ab_agent.best_moves"
   ]
  },
  {
   "cell_type": "code",
   "execution_count": 39,
   "metadata": {},
   "outputs": [
    {
     "data": {
      "text/plain": [
       "[None]"
      ]
     },
     "execution_count": 39,
     "metadata": {},
     "output_type": "execute_result"
    }
   ],
   "source": [
    "ab_agent.best_moves"
   ]
  },
  {
   "cell_type": "code",
   "execution_count": 40,
   "metadata": {},
   "outputs": [
    {
     "data": {
      "text/plain": [
       "[3, 4, 3]"
      ]
     },
     "execution_count": 40,
     "metadata": {},
     "output_type": "execute_result"
    }
   ],
   "source": [
    "[3,4] + [3]"
   ]
  },
  {
   "cell_type": "code",
   "execution_count": 41,
   "metadata": {},
   "outputs": [
    {
     "data": {
      "text/plain": [
       "[Move.from_uci('f3f7'), Move.from_uci('f3e4')]"
      ]
     },
     "execution_count": 41,
     "metadata": {},
     "output_type": "execute_result"
    }
   ],
   "source": [
    "list(board.generate_legal_captures())"
   ]
  },
  {
   "cell_type": "code",
   "execution_count": 42,
   "metadata": {},
   "outputs": [
    {
     "data": {
      "text/plain": [
       "1"
      ]
     },
     "execution_count": 42,
     "metadata": {},
     "output_type": "execute_result"
    }
   ],
   "source": [
    "int(True)"
   ]
  },
  {
   "cell_type": "code",
   "execution_count": 43,
   "metadata": {},
   "outputs": [
    {
     "name": "stdout",
     "output_type": "stream",
     "text": [
      "value [0.92249376]\n",
      "2019-03-27 20:02:41 root[29659] \u001b[1mINFO\u001b[0m \u001b[94m[Move.from_uci('Q@f8'), Move.from_uci('h8g8'), Move.from_uci('N@f6'), Move.from_uci('e8f8'), Move.from_uci('f6d7')]\u001b[0m\n",
      "2019-03-27 20:02:41 root[29659] \u001b[1mINFO\u001b[0m \u001b[94mValue: [0.92249376], Centipawn: [1402.6848]\u001b[0m\n",
      "Elapsed time: 4.5417s\n"
     ]
    }
   ],
   "source": [
    "t_s = time()\n",
    "pred_value, legal_moves, p_vec_small, cp, depth, nodes, time_elapsed_s, nps, pv = ab_agent.evaluate_board_state(\n",
    "    state, depth=5)\n",
    "print('Elapsed time: %.4fs' % (time()-t_s))"
   ]
  },
  {
   "cell_type": "code",
   "execution_count": 44,
   "metadata": {},
   "outputs": [
    {
     "name": "stdout",
     "output_type": "stream",
     "text": [
      "value [0.7009132]\n",
      "2019-03-27 20:02:41 root[29659] \u001b[1mINFO\u001b[0m \u001b[94m[Move.from_uci('Q@f8')]\u001b[0m\n",
      "2019-03-27 20:02:41 root[29659] \u001b[1mINFO\u001b[0m \u001b[94mValue: [0.7009132], Centipawn: [662.02893]\u001b[0m\n",
      "Elapsed time: 0.0551s\n"
     ]
    }
   ],
   "source": [
    "t_s = time()\n",
    "pred_value, legal_moves, p_vec_small, cp, depth, nodes, time_elapsed_s, nps, pv = ab_agent.evaluate_board_state(\n",
    "    state, depth=1)\n",
    "print('Elapsed time: %.4fs' % (time()-t_s))"
   ]
  },
  {
   "cell_type": "code",
   "execution_count": null,
   "metadata": {
    "collapsed": true
   },
   "outputs": [],
   "source": []
  },
  {
   "cell_type": "code",
   "execution_count": 45,
   "metadata": {},
   "outputs": [
    {
     "data": {
      "text/plain": [
       "[Move.from_uci('Q@f8')]"
      ]
     },
     "execution_count": 45,
     "metadata": {},
     "output_type": "execute_result"
    }
   ],
   "source": [
    "ab_agent.best_moves"
   ]
  },
  {
   "cell_type": "code",
   "execution_count": 46,
   "metadata": {},
   "outputs": [
    {
     "data": {
      "text/plain": [
       "19057"
      ]
     },
     "execution_count": 46,
     "metadata": {},
     "output_type": "execute_result"
    }
   ],
   "source": [
    "mcts_agent.root_node.n_sum"
   ]
  },
  {
   "cell_type": "code",
   "execution_count": 47,
   "metadata": {},
   "outputs": [
    {
     "data": {
      "image/svg+xml": [
       "<svg height=\"400\" version=\"1.1\" viewBox=\"0 0 400 400\" width=\"400\" xmlns=\"http://www.w3.org/2000/svg\" xmlns:xlink=\"http://www.w3.org/1999/xlink\"><defs><g class=\"white pawn\" id=\"white-pawn\"><path d=\"M22 9c-2.21 0-4 1.79-4 4 0 .89.29 1.71.78 2.38-1.95 1.12-3.28 3.21-3.28 5.62 0 2.03.94 3.84 2.41 5.03-3 1.06-7.41 5.55-7.41 13.47h23c0-7.92-4.41-12.41-7.41-13.47 1.47-1.19 2.41-3 2.41-5.03 0-2.41-1.33-4.5-3.28-5.62.49-.67.78-1.49.78-2.38 0-2.21-1.79-4-4-4z\" fill=\"#fff\" stroke=\"#000\" stroke-linecap=\"round\" stroke-width=\"1.5\" /></g><g class=\"white knight\" fill=\"none\" fill-rule=\"evenodd\" id=\"white-knight\" stroke=\"#000\" stroke-linecap=\"round\" stroke-linejoin=\"round\" stroke-width=\"1.5\"><path d=\"M 22,10 C 32.5,11 38.5,18 38,39 L 15,39 C 15,30 25,32.5 23,18\" style=\"fill:#ffffff; stroke:#000000;\" /><path d=\"M 24,18 C 24.38,20.91 18.45,25.37 16,27 C 13,29 13.18,31.34 11,31 C 9.958,30.06 12.41,27.96 11,28 C 10,28 11.19,29.23 10,30 C 9,30 5.997,31 6,26 C 6,24 12,14 12,14 C 12,14 13.89,12.1 14,10.5 C 13.27,9.506 13.5,8.5 13.5,7.5 C 14.5,6.5 16.5,10 16.5,10 L 18.5,10 C 18.5,10 19.28,8.008 21,7 C 22,7 22,10 22,10\" style=\"fill:#ffffff; stroke:#000000;\" /><path d=\"M 9.5 25.5 A 0.5 0.5 0 1 1 8.5,25.5 A 0.5 0.5 0 1 1 9.5 25.5 z\" style=\"fill:#000000; stroke:#000000;\" /><path d=\"M 15 15.5 A 0.5 1.5 0 1 1 14,15.5 A 0.5 1.5 0 1 1 15 15.5 z\" style=\"fill:#000000; stroke:#000000;\" transform=\"matrix(0.866,0.5,-0.5,0.866,9.693,-5.173)\" /></g><g class=\"white rook\" fill=\"#fff\" fill-rule=\"evenodd\" id=\"white-rook\" stroke=\"#000\" stroke-linecap=\"round\" stroke-linejoin=\"round\" stroke-width=\"1.5\"><path d=\"M9 39h27v-3H9v3zM12 36v-4h21v4H12zM11 14V9h4v2h5V9h5v2h5V9h4v5\" stroke-linecap=\"butt\" /><path d=\"M34 14l-3 3H14l-3-3\" /><path d=\"M31 17v12.5H14V17\" stroke-linecap=\"butt\" stroke-linejoin=\"miter\" /><path d=\"M31 29.5l1.5 2.5h-20l1.5-2.5\" /><path d=\"M11 14h23\" fill=\"none\" stroke-linejoin=\"miter\" /></g><g class=\"white queen\" fill=\"#fff\" fill-rule=\"evenodd\" id=\"white-queen\" stroke=\"#000\" stroke-linecap=\"round\" stroke-linejoin=\"round\" stroke-width=\"1.5\"><path d=\"M8 12a2 2 0 1 1-4 0 2 2 0 1 1 4 0zM24.5 7.5a2 2 0 1 1-4 0 2 2 0 1 1 4 0zM41 12a2 2 0 1 1-4 0 2 2 0 1 1 4 0zM16 8.5a2 2 0 1 1-4 0 2 2 0 1 1 4 0zM33 9a2 2 0 1 1-4 0 2 2 0 1 1 4 0z\" /><path d=\"M9 26c8.5-1.5 21-1.5 27 0l2-12-7 11V11l-5.5 13.5-3-15-3 15-5.5-14V25L7 14l2 12zM9 26c0 2 1.5 2 2.5 4 1 1.5 1 1 .5 3.5-1.5 1-1.5 2.5-1.5 2.5-1.5 1.5.5 2.5.5 2.5 6.5 1 16.5 1 23 0 0 0 1.5-1 0-2.5 0 0 .5-1.5-1-2.5-.5-2.5-.5-2 .5-3.5 1-2 2.5-2 2.5-4-8.5-1.5-18.5-1.5-27 0z\" stroke-linecap=\"butt\" /><path d=\"M11.5 30c3.5-1 18.5-1 22 0M12 33.5c6-1 15-1 21 0\" fill=\"none\" /></g><g class=\"white king\" fill=\"none\" fill-rule=\"evenodd\" id=\"white-king\" stroke=\"#000\" stroke-linecap=\"round\" stroke-linejoin=\"round\" stroke-width=\"1.5\"><path d=\"M22.5 11.63V6M20 8h5\" stroke-linejoin=\"miter\" /><path d=\"M22.5 25s4.5-7.5 3-10.5c0 0-1-2.5-3-2.5s-3 2.5-3 2.5c-1.5 3 3 10.5 3 10.5\" fill=\"#fff\" stroke-linecap=\"butt\" stroke-linejoin=\"miter\" /><path d=\"M11.5 37c5.5 3.5 15.5 3.5 21 0v-7s9-4.5 6-10.5c-4-6.5-13.5-3.5-16 4V27v-3.5c-3.5-7.5-13-10.5-16-4-3 6 5 10 5 10V37z\" fill=\"#fff\" /><path d=\"M11.5 30c5.5-3 15.5-3 21 0m-21 3.5c5.5-3 15.5-3 21 0m-21 3.5c5.5-3 15.5-3 21 0\" /></g><g class=\"black pawn\" id=\"black-pawn\"><path d=\"M22 9c-2.21 0-4 1.79-4 4 0 .89.29 1.71.78 2.38-1.95 1.12-3.28 3.21-3.28 5.62 0 2.03.94 3.84 2.41 5.03-3 1.06-7.41 5.55-7.41 13.47h23c0-7.92-4.41-12.41-7.41-13.47 1.47-1.19 2.41-3 2.41-5.03 0-2.41-1.33-4.5-3.28-5.62.49-.67.78-1.49.78-2.38 0-2.21-1.79-4-4-4z\" stroke=\"#000\" stroke-linecap=\"round\" stroke-width=\"1.5\" /></g><g class=\"black knight\" fill=\"none\" fill-rule=\"evenodd\" id=\"black-knight\" stroke=\"#000\" stroke-linecap=\"round\" stroke-linejoin=\"round\" stroke-width=\"1.5\"><path d=\"M 22,10 C 32.5,11 38.5,18 38,39 L 15,39 C 15,30 25,32.5 23,18\" style=\"fill:#000000; stroke:#000000;\" /><path d=\"M 24,18 C 24.38,20.91 18.45,25.37 16,27 C 13,29 13.18,31.34 11,31 C 9.958,30.06 12.41,27.96 11,28 C 10,28 11.19,29.23 10,30 C 9,30 5.997,31 6,26 C 6,24 12,14 12,14 C 12,14 13.89,12.1 14,10.5 C 13.27,9.506 13.5,8.5 13.5,7.5 C 14.5,6.5 16.5,10 16.5,10 L 18.5,10 C 18.5,10 19.28,8.008 21,7 C 22,7 22,10 22,10\" style=\"fill:#000000; stroke:#000000;\" /><path d=\"M 9.5 25.5 A 0.5 0.5 0 1 1 8.5,25.5 A 0.5 0.5 0 1 1 9.5 25.5 z\" style=\"fill:#ececec; stroke:#ececec;\" /><path d=\"M 15 15.5 A 0.5 1.5 0 1 1 14,15.5 A 0.5 1.5 0 1 1 15 15.5 z\" style=\"fill:#ececec; stroke:#ececec;\" transform=\"matrix(0.866,0.5,-0.5,0.866,9.693,-5.173)\" /><path d=\"M 24.55,10.4 L 24.1,11.85 L 24.6,12 C 27.75,13 30.25,14.49 32.5,18.75 C 34.75,23.01 35.75,29.06 35.25,39 L 35.2,39.5 L 37.45,39.5 L 37.5,39 C 38,28.94 36.62,22.15 34.25,17.66 C 31.88,13.17 28.46,11.02 25.06,10.5 L 24.55,10.4 z \" style=\"fill:#ececec; stroke:none;\" /></g><g class=\"black bishop\" fill=\"none\" fill-rule=\"evenodd\" id=\"black-bishop\" stroke=\"#000\" stroke-linecap=\"round\" stroke-linejoin=\"round\" stroke-width=\"1.5\"><path d=\"M9 36c3.39-.97 10.11.43 13.5-2 3.39 2.43 10.11 1.03 13.5 2 0 0 1.65.54 3 2-.68.97-1.65.99-3 .5-3.39-.97-10.11.46-13.5-1-3.39 1.46-10.11.03-13.5 1-1.354.49-2.323.47-3-.5 1.354-1.94 3-2 3-2zm6-4c2.5 2.5 12.5 2.5 15 0 .5-1.5 0-2 0-2 0-2.5-2.5-4-2.5-4 5.5-1.5 6-11.5-5-15.5-11 4-10.5 14-5 15.5 0 0-2.5 1.5-2.5 4 0 0-.5.5 0 2zM25 8a2.5 2.5 0 1 1-5 0 2.5 2.5 0 1 1 5 0z\" fill=\"#000\" stroke-linecap=\"butt\" /><path d=\"M17.5 26h10M15 30h15m-7.5-14.5v5M20 18h5\" stroke=\"#fff\" stroke-linejoin=\"miter\" /></g><g class=\"black rook\" fill=\"#000\" fill-rule=\"evenodd\" id=\"black-rook\" stroke=\"#000\" stroke-linecap=\"round\" stroke-linejoin=\"round\" stroke-width=\"1.5\"><path d=\"M9 39h27v-3H9v3zM12.5 32l1.5-2.5h17l1.5 2.5h-20zM12 36v-4h21v4H12z\" stroke-linecap=\"butt\" /><path d=\"M14 29.5v-13h17v13H14z\" stroke-linecap=\"butt\" stroke-linejoin=\"miter\" /><path d=\"M14 16.5L11 14h23l-3 2.5H14zM11 14V9h4v2h5V9h5v2h5V9h4v5H11z\" stroke-linecap=\"butt\" /><path d=\"M12 35.5h21M13 31.5h19M14 29.5h17M14 16.5h17M11 14h23\" fill=\"none\" stroke=\"#fff\" stroke-linejoin=\"miter\" stroke-width=\"1\" /></g><g class=\"black king\" fill=\"none\" fill-rule=\"evenodd\" id=\"black-king\" stroke=\"#000\" stroke-linecap=\"round\" stroke-linejoin=\"round\" stroke-width=\"1.5\"><path d=\"M22.5 11.63V6\" stroke-linejoin=\"miter\" /><path d=\"M22.5 25s4.5-7.5 3-10.5c0 0-1-2.5-3-2.5s-3 2.5-3 2.5c-1.5 3 3 10.5 3 10.5\" fill=\"#000\" stroke-linecap=\"butt\" stroke-linejoin=\"miter\" /><path d=\"M11.5 37c5.5 3.5 15.5 3.5 21 0v-7s9-4.5 6-10.5c-4-6.5-13.5-3.5-16 4V27v-3.5c-3.5-7.5-13-10.5-16-4-3 6 5 10 5 10V37z\" fill=\"#000\" /><path d=\"M20 8h5\" stroke-linejoin=\"miter\" /><path d=\"M32 29.5s8.5-4 6.03-9.65C34.15 14 25 18 22.5 24.5l.01 2.1-.01-2.1C20 18 9.906 14 6.997 19.85c-2.497 5.65 4.853 9 4.853 9M11.5 30c5.5-3 15.5-3 21 0m-21 3.5c5.5-3 15.5-3 21 0m-21 3.5c5.5-3 15.5-3 21 0\" stroke=\"#fff\" /></g></defs><rect class=\"square dark a1\" fill=\"#d18b47\" height=\"45\" stroke=\"none\" width=\"45\" x=\"20\" y=\"335\" /><use transform=\"translate(20, 335)\" xlink:href=\"#white-rook\" /><rect class=\"square light b1\" fill=\"#ffce9e\" height=\"45\" stroke=\"none\" width=\"45\" x=\"65\" y=\"335\" /><use transform=\"translate(65, 335)\" xlink:href=\"#white-knight\" /><rect class=\"square dark c1\" fill=\"#d18b47\" height=\"45\" stroke=\"none\" width=\"45\" x=\"110\" y=\"335\" /><rect class=\"square light d1\" fill=\"#ffce9e\" height=\"45\" stroke=\"none\" width=\"45\" x=\"155\" y=\"335\" /><rect class=\"square dark e1\" fill=\"#d18b47\" height=\"45\" stroke=\"none\" width=\"45\" x=\"200\" y=\"335\" /><rect class=\"square light f1\" fill=\"#ffce9e\" height=\"45\" stroke=\"none\" width=\"45\" x=\"245\" y=\"335\" /><rect class=\"square dark g1\" fill=\"#d18b47\" height=\"45\" stroke=\"none\" width=\"45\" x=\"290\" y=\"335\" /><use transform=\"translate(290, 335)\" xlink:href=\"#white-king\" /><rect class=\"square light h1\" fill=\"#ffce9e\" height=\"45\" stroke=\"none\" width=\"45\" x=\"335\" y=\"335\" /><use transform=\"translate(335, 335)\" xlink:href=\"#white-rook\" /><rect class=\"square light a2\" fill=\"#ffce9e\" height=\"45\" stroke=\"none\" width=\"45\" x=\"20\" y=\"290\" /><use transform=\"translate(20, 290)\" xlink:href=\"#white-pawn\" /><rect class=\"square dark b2\" fill=\"#d18b47\" height=\"45\" stroke=\"none\" width=\"45\" x=\"65\" y=\"290\" /><use transform=\"translate(65, 290)\" xlink:href=\"#white-pawn\" /><rect class=\"square light c2\" fill=\"#ffce9e\" height=\"45\" stroke=\"none\" width=\"45\" x=\"110\" y=\"290\" /><use transform=\"translate(110, 290)\" xlink:href=\"#white-pawn\" /><rect class=\"square dark d2\" fill=\"#d18b47\" height=\"45\" stroke=\"none\" width=\"45\" x=\"155\" y=\"290\" /><rect class=\"square light e2\" fill=\"#ffce9e\" height=\"45\" stroke=\"none\" width=\"45\" x=\"200\" y=\"290\" /><rect class=\"square dark f2\" fill=\"#d18b47\" height=\"45\" stroke=\"none\" width=\"45\" x=\"245\" y=\"290\" /><use transform=\"translate(245, 290)\" xlink:href=\"#white-pawn\" /><rect class=\"square light g2\" fill=\"#ffce9e\" height=\"45\" stroke=\"none\" width=\"45\" x=\"290\" y=\"290\" /><rect class=\"square dark h2\" fill=\"#d18b47\" height=\"45\" stroke=\"none\" width=\"45\" x=\"335\" y=\"290\" /><use transform=\"translate(335, 290)\" xlink:href=\"#white-pawn\" /><rect class=\"square dark a3\" fill=\"#d18b47\" height=\"45\" stroke=\"none\" width=\"45\" x=\"20\" y=\"245\" /><rect class=\"square light b3\" fill=\"#ffce9e\" height=\"45\" stroke=\"none\" width=\"45\" x=\"65\" y=\"245\" /><rect class=\"square dark c3\" fill=\"#d18b47\" height=\"45\" stroke=\"none\" width=\"45\" x=\"110\" y=\"245\" /><rect class=\"square light d3\" fill=\"#ffce9e\" height=\"45\" stroke=\"none\" width=\"45\" x=\"155\" y=\"245\" /><rect class=\"square dark e3\" fill=\"#d18b47\" height=\"45\" stroke=\"none\" width=\"45\" x=\"200\" y=\"245\" /><rect class=\"square light f3\" fill=\"#ffce9e\" height=\"45\" stroke=\"none\" width=\"45\" x=\"245\" y=\"245\" /><use transform=\"translate(245, 245)\" xlink:href=\"#white-queen\" /><rect class=\"square dark g3\" fill=\"#d18b47\" height=\"45\" stroke=\"none\" width=\"45\" x=\"290\" y=\"245\" /><rect class=\"square light h3\" fill=\"#ffce9e\" height=\"45\" stroke=\"none\" width=\"45\" x=\"335\" y=\"245\" /><rect class=\"square light a4\" fill=\"#ffce9e\" height=\"45\" stroke=\"none\" width=\"45\" x=\"20\" y=\"200\" /><rect class=\"square dark b4\" fill=\"#d18b47\" height=\"45\" stroke=\"none\" width=\"45\" x=\"65\" y=\"200\" /><rect class=\"square light c4\" fill=\"#ffce9e\" height=\"45\" stroke=\"none\" width=\"45\" x=\"110\" y=\"200\" /><rect class=\"square dark d4\" fill=\"#d18b47\" height=\"45\" stroke=\"none\" width=\"45\" x=\"155\" y=\"200\" /><use transform=\"translate(155, 200)\" xlink:href=\"#white-pawn\" /><rect class=\"square light e4\" fill=\"#ffce9e\" height=\"45\" stroke=\"none\" width=\"45\" x=\"200\" y=\"200\" /><use transform=\"translate(200, 200)\" xlink:href=\"#black-bishop\" /><rect class=\"square dark f4\" fill=\"#d18b47\" height=\"45\" stroke=\"none\" width=\"45\" x=\"245\" y=\"200\" /><rect class=\"square light g4\" fill=\"#ffce9e\" height=\"45\" stroke=\"none\" width=\"45\" x=\"290\" y=\"200\" /><rect class=\"square dark h4\" fill=\"#d18b47\" height=\"45\" stroke=\"none\" width=\"45\" x=\"335\" y=\"200\" /><rect class=\"square dark a5\" fill=\"#d18b47\" height=\"45\" stroke=\"none\" width=\"45\" x=\"20\" y=\"155\" /><rect class=\"square light b5\" fill=\"#ffce9e\" height=\"45\" stroke=\"none\" width=\"45\" x=\"65\" y=\"155\" /><rect class=\"square dark c5\" fill=\"#d18b47\" height=\"45\" stroke=\"none\" width=\"45\" x=\"110\" y=\"155\" /><rect class=\"square light d5\" fill=\"#ffce9e\" height=\"45\" stroke=\"none\" width=\"45\" x=\"155\" y=\"155\" /><use transform=\"translate(155, 155)\" xlink:href=\"#black-pawn\" /><rect class=\"square dark e5\" fill=\"#d18b47\" height=\"45\" stroke=\"none\" width=\"45\" x=\"200\" y=\"155\" /><use transform=\"translate(200, 155)\" xlink:href=\"#white-pawn\" /><rect class=\"square light f5\" fill=\"#ffce9e\" height=\"45\" stroke=\"none\" width=\"45\" x=\"245\" y=\"155\" /><rect class=\"square dark g5\" fill=\"#d18b47\" height=\"45\" stroke=\"none\" width=\"45\" x=\"290\" y=\"155\" /><rect class=\"square light h5\" fill=\"#ffce9e\" height=\"45\" stroke=\"none\" width=\"45\" x=\"335\" y=\"155\" /><rect class=\"square light a6\" fill=\"#ffce9e\" height=\"45\" stroke=\"none\" width=\"45\" x=\"20\" y=\"110\" /><rect class=\"square dark b6\" fill=\"#d18b47\" height=\"45\" stroke=\"none\" width=\"45\" x=\"65\" y=\"110\" /><rect class=\"square light c6\" fill=\"#ffce9e\" height=\"45\" stroke=\"none\" width=\"45\" x=\"110\" y=\"110\" /><rect class=\"square dark d6\" fill=\"#d18b47\" height=\"45\" stroke=\"none\" width=\"45\" x=\"155\" y=\"110\" /><rect class=\"square light e6\" fill=\"#ffce9e\" height=\"45\" stroke=\"none\" width=\"45\" x=\"200\" y=\"110\" /><use transform=\"translate(200, 110)\" xlink:href=\"#black-pawn\" /><rect class=\"square dark f6\" fill=\"#d18b47\" height=\"45\" stroke=\"none\" width=\"45\" x=\"245\" y=\"110\" /><rect class=\"square light g6\" fill=\"#ffce9e\" height=\"45\" stroke=\"none\" width=\"45\" x=\"290\" y=\"110\" /><rect class=\"square dark h6\" fill=\"#d18b47\" height=\"45\" stroke=\"none\" width=\"45\" x=\"335\" y=\"110\" /><rect class=\"square dark a7\" fill=\"#d18b47\" height=\"45\" stroke=\"none\" width=\"45\" x=\"20\" y=\"65\" /><use transform=\"translate(20, 65)\" xlink:href=\"#black-pawn\" /><rect class=\"square light b7\" fill=\"#ffce9e\" height=\"45\" stroke=\"none\" width=\"45\" x=\"65\" y=\"65\" /><use transform=\"translate(65, 65)\" xlink:href=\"#black-pawn\" /><rect class=\"square dark c7\" fill=\"#d18b47\" height=\"45\" stroke=\"none\" width=\"45\" x=\"110\" y=\"65\" /><use transform=\"translate(110, 65)\" xlink:href=\"#black-pawn\" /><rect class=\"square light d7\" fill=\"#ffce9e\" height=\"45\" stroke=\"none\" width=\"45\" x=\"155\" y=\"65\" /><use transform=\"translate(155, 65)\" xlink:href=\"#black-bishop\" /><rect class=\"square dark e7\" fill=\"#d18b47\" height=\"45\" stroke=\"none\" width=\"45\" x=\"200\" y=\"65\" /><use transform=\"translate(200, 65)\" xlink:href=\"#black-knight\" /><rect class=\"square light f7\" fill=\"#ffce9e\" height=\"45\" stroke=\"none\" width=\"45\" x=\"245\" y=\"65\" /><use transform=\"translate(245, 65)\" xlink:href=\"#black-pawn\" /><rect class=\"square dark g7\" fill=\"#d18b47\" height=\"45\" stroke=\"none\" width=\"45\" x=\"290\" y=\"65\" /><use transform=\"translate(290, 65)\" xlink:href=\"#black-pawn\" /><rect class=\"square light h7\" fill=\"#ffce9e\" height=\"45\" stroke=\"none\" width=\"45\" x=\"335\" y=\"65\" /><use transform=\"translate(335, 65)\" xlink:href=\"#black-pawn\" /><rect class=\"square light a8\" fill=\"#ffce9e\" height=\"45\" stroke=\"none\" width=\"45\" x=\"20\" y=\"20\" /><use transform=\"translate(20, 20)\" xlink:href=\"#black-rook\" /><rect class=\"square dark b8\" fill=\"#d18b47\" height=\"45\" stroke=\"none\" width=\"45\" x=\"65\" y=\"20\" /><rect class=\"square light c8\" fill=\"#ffce9e\" height=\"45\" stroke=\"none\" width=\"45\" x=\"110\" y=\"20\" /><use transform=\"translate(110, 20)\" xlink:href=\"#black-bishop\" /><rect class=\"square dark d8\" fill=\"#d18b47\" height=\"45\" stroke=\"none\" width=\"45\" x=\"155\" y=\"20\" /><rect class=\"square light e8\" fill=\"#ffce9e\" height=\"45\" stroke=\"none\" width=\"45\" x=\"200\" y=\"20\" /><use transform=\"translate(200, 20)\" xlink:href=\"#black-king\" /><rect class=\"square dark f8\" fill=\"#d18b47\" height=\"45\" stroke=\"none\" width=\"45\" x=\"245\" y=\"20\" /><rect class=\"square light g8\" fill=\"#ffce9e\" height=\"45\" stroke=\"none\" width=\"45\" x=\"290\" y=\"20\" /><rect class=\"square dark h8\" fill=\"#d18b47\" height=\"45\" stroke=\"none\" width=\"45\" x=\"335\" y=\"20\" /><use transform=\"translate(335, 20)\" xlink:href=\"#black-rook\" /><text alignment-baseline=\"middle\" font-size=\"14\" text-anchor=\"middle\" x=\"42\" y=\"10\">a</text><text alignment-baseline=\"middle\" font-size=\"14\" text-anchor=\"middle\" x=\"42\" y=\"390\">a</text><text alignment-baseline=\"middle\" font-size=\"14\" text-anchor=\"middle\" x=\"87\" y=\"10\">b</text><text alignment-baseline=\"middle\" font-size=\"14\" text-anchor=\"middle\" x=\"87\" y=\"390\">b</text><text alignment-baseline=\"middle\" font-size=\"14\" text-anchor=\"middle\" x=\"132\" y=\"10\">c</text><text alignment-baseline=\"middle\" font-size=\"14\" text-anchor=\"middle\" x=\"132\" y=\"390\">c</text><text alignment-baseline=\"middle\" font-size=\"14\" text-anchor=\"middle\" x=\"177\" y=\"10\">d</text><text alignment-baseline=\"middle\" font-size=\"14\" text-anchor=\"middle\" x=\"177\" y=\"390\">d</text><text alignment-baseline=\"middle\" font-size=\"14\" text-anchor=\"middle\" x=\"222\" y=\"10\">e</text><text alignment-baseline=\"middle\" font-size=\"14\" text-anchor=\"middle\" x=\"222\" y=\"390\">e</text><text alignment-baseline=\"middle\" font-size=\"14\" text-anchor=\"middle\" x=\"267\" y=\"10\">f</text><text alignment-baseline=\"middle\" font-size=\"14\" text-anchor=\"middle\" x=\"267\" y=\"390\">f</text><text alignment-baseline=\"middle\" font-size=\"14\" text-anchor=\"middle\" x=\"312\" y=\"10\">g</text><text alignment-baseline=\"middle\" font-size=\"14\" text-anchor=\"middle\" x=\"312\" y=\"390\">g</text><text alignment-baseline=\"middle\" font-size=\"14\" text-anchor=\"middle\" x=\"357\" y=\"10\">h</text><text alignment-baseline=\"middle\" font-size=\"14\" text-anchor=\"middle\" x=\"357\" y=\"390\">h</text><text alignment-baseline=\"middle\" font-size=\"14\" text-anchor=\"middle\" x=\"10\" y=\"357\">1</text><text alignment-baseline=\"middle\" font-size=\"14\" text-anchor=\"middle\" x=\"390\" y=\"357\">1</text><text alignment-baseline=\"middle\" font-size=\"14\" text-anchor=\"middle\" x=\"10\" y=\"312\">2</text><text alignment-baseline=\"middle\" font-size=\"14\" text-anchor=\"middle\" x=\"390\" y=\"312\">2</text><text alignment-baseline=\"middle\" font-size=\"14\" text-anchor=\"middle\" x=\"10\" y=\"267\">3</text><text alignment-baseline=\"middle\" font-size=\"14\" text-anchor=\"middle\" x=\"390\" y=\"267\">3</text><text alignment-baseline=\"middle\" font-size=\"14\" text-anchor=\"middle\" x=\"10\" y=\"222\">4</text><text alignment-baseline=\"middle\" font-size=\"14\" text-anchor=\"middle\" x=\"390\" y=\"222\">4</text><text alignment-baseline=\"middle\" font-size=\"14\" text-anchor=\"middle\" x=\"10\" y=\"177\">5</text><text alignment-baseline=\"middle\" font-size=\"14\" text-anchor=\"middle\" x=\"390\" y=\"177\">5</text><text alignment-baseline=\"middle\" font-size=\"14\" text-anchor=\"middle\" x=\"10\" y=\"132\">6</text><text alignment-baseline=\"middle\" font-size=\"14\" text-anchor=\"middle\" x=\"390\" y=\"132\">6</text><text alignment-baseline=\"middle\" font-size=\"14\" text-anchor=\"middle\" x=\"10\" y=\"87\">7</text><text alignment-baseline=\"middle\" font-size=\"14\" text-anchor=\"middle\" x=\"390\" y=\"87\">7</text><text alignment-baseline=\"middle\" font-size=\"14\" text-anchor=\"middle\" x=\"10\" y=\"42\">8</text><text alignment-baseline=\"middle\" font-size=\"14\" text-anchor=\"middle\" x=\"390\" y=\"42\">8</text></svg>"
      ],
      "text/plain": [
       "CrazyhouseBoard('r1b1k2r/pppbnppp/4p3/3pP3/3Pb3/5Q2/PPP2P1P/RN4KR[QBNPn] w kq - 0 17')"
      ]
     },
     "execution_count": 47,
     "metadata": {},
     "output_type": "execute_result"
    }
   ],
   "source": [
    "board"
   ]
  },
  {
   "cell_type": "code",
   "execution_count": 48,
   "metadata": {
    "scrolled": false
   },
   "outputs": [],
   "source": [
    "for i, child_node in enumerate(mcts_agent.root_node.child_nodes):\n",
    "    if child_node.initial_value < 0:\n",
    "        print(legal_moves[i], child_node.initial_value)"
   ]
  },
  {
   "cell_type": "code",
   "execution_count": 49,
   "metadata": {},
   "outputs": [
    {
     "data": {
      "text/plain": [
       "Move.from_uci('f3a3')"
      ]
     },
     "execution_count": 49,
     "metadata": {},
     "output_type": "execute_result"
    }
   ],
   "source": [
    "mcts_agent.root_node.legal_moves[mcts_agent.root_node.child_number_visits.argmax()]"
   ]
  },
  {
   "cell_type": "code",
   "execution_count": 50,
   "metadata": {},
   "outputs": [
    {
     "data": {
      "text/plain": [
       "Move.from_uci('f3a3')"
      ]
     },
     "execution_count": 50,
     "metadata": {},
     "output_type": "execute_result"
    }
   ],
   "source": [
    "mcts_agent.root_node.legal_moves[mcts_agent.root_node.q_value.argmax()]"
   ]
  },
  {
   "cell_type": "code",
   "execution_count": 51,
   "metadata": {
    "collapsed": true
   },
   "outputs": [],
   "source": [
    "pb_c_base = 19652 / 10\n",
    "pb_c_init = 3.6\n",
    "import math\n",
    "cpuct = math.log((3000 + pb_c_base + 1) / pb_c_base) + pb_c_init"
   ]
  },
  {
   "cell_type": "code",
   "execution_count": 52,
   "metadata": {},
   "outputs": [
    {
     "data": {
      "text/plain": [
       "4.527060938824912"
      ]
     },
     "execution_count": 52,
     "metadata": {},
     "output_type": "execute_result"
    }
   ],
   "source": [
    "cpuct"
   ]
  },
  {
   "cell_type": "code",
   "execution_count": 53,
   "metadata": {
    "collapsed": true
   },
   "outputs": [],
   "source": [
    "#c = (a * b ) + (0.3 * a + 0.7 * b)"
   ]
  },
  {
   "cell_type": "code",
   "execution_count": 54,
   "metadata": {
    "collapsed": true
   },
   "outputs": [],
   "source": [
    "def sigmoid(x, derivative=False):\n",
    "    return x*(1-x) if derivative else 1/(1+np.exp(-x))"
   ]
  },
  {
   "cell_type": "code",
   "execution_count": 55,
   "metadata": {},
   "outputs": [
    {
     "name": "stdout",
     "output_type": "stream",
     "text": [
      "f3a3 N@f3 g1f1 d7b5 B@d3 c8d7 N@h5 f3e5 h5g7 e8d8 d4e5 P@g2 f1e2 g2h1q a3e7 d8c8 Q@f8 h8f8 e7f8 R@e8 N@e7 c8d8 e7c6 b7c6 P@e7 0.07281841121822874\n"
     ]
    },
    {
     "data": {
      "text/plain": [
       "(array([0.        , 0.        , 0.        , 0.        , 0.        ,\n",
       "        0.        , 0.        , 0.        , 0.        , 0.        ,\n",
       "        0.        , 0.        , 0.        , 0.07281841, 0.        ,\n",
       "        0.        , 0.        , 0.        , 0.        , 0.        ,\n",
       "        0.        , 0.        , 0.        , 0.        , 0.        ,\n",
       "        0.        , 0.        , 0.        , 0.        , 0.        ,\n",
       "        0.        , 0.        , 0.        , 0.        , 0.        ,\n",
       "        0.        , 0.        , 0.        , 0.        , 0.        ,\n",
       "        0.        , 0.        , 0.        , 0.        , 0.        ,\n",
       "        0.        , 0.        , 0.        , 0.        , 0.        ,\n",
       "        0.        , 0.        , 0.        , 0.        , 0.        ,\n",
       "        0.        , 0.        , 0.        , 0.        , 0.        ,\n",
       "        0.        , 0.        , 0.        , 0.        , 0.        ,\n",
       "        0.        , 0.        , 0.        , 0.        , 0.        ,\n",
       "        0.        , 0.        , 0.        , 0.        , 0.        ,\n",
       "        0.        , 0.        , 0.        , 0.        , 0.        ,\n",
       "        0.        , 0.        , 0.        , 0.        , 0.        ,\n",
       "        0.        , 0.        , 0.        , 0.        , 0.        ,\n",
       "        0.        , 0.        , 0.        , 0.        , 0.        ,\n",
       "        0.        , 0.        , 0.        , 0.        , 0.        ,\n",
       "        0.        , 0.        , 0.        , 0.        , 0.        ,\n",
       "        0.        , 0.        , 0.        , 0.        , 0.        ,\n",
       "        0.        , 0.        , 0.        , 0.        , 0.        ,\n",
       "        0.        , 0.        , 0.        , 0.        , 0.        ,\n",
       "        0.        , 0.        , 0.        , 0.        , 0.        ,\n",
       "        0.        , 0.        , 0.        , 0.        , 0.        ,\n",
       "        0.        , 0.        , 0.        , 0.        , 0.        ,\n",
       "        0.        , 0.        , 0.        , 0.        , 0.        ,\n",
       "        0.        , 0.        , 0.        , 0.        , 0.        ,\n",
       "        0.        , 0.        , 0.        , 0.        , 0.        ,\n",
       "        0.        , 0.        , 0.        , 0.        , 0.        ,\n",
       "        0.        , 0.        , 0.        , 0.        , 0.        ,\n",
       "        0.        , 0.        , 0.        , 0.        , 0.        ,\n",
       "        0.        , 0.        , 0.        , 0.        , 0.        ]), [13])"
      ]
     },
     "execution_count": 55,
     "metadata": {},
     "output_type": "execute_result"
    }
   ],
   "source": [
    "mcts_agent.get_last_q_values(min_nb_visits=10)"
   ]
  },
  {
   "cell_type": "code",
   "execution_count": 56,
   "metadata": {},
   "outputs": [
    {
     "data": {
      "text/plain": [
       "array([1.4318e+04, 2.7570e+03, 1.0650e+03, 1.3500e+02, 8.4000e+01,\n",
       "       5.5000e+01, 5.0000e+01, 4.3000e+01, 2.0000e+01, 1.8000e+01,\n",
       "       1.7000e+01, 1.5000e+01, 1.4000e+01, 1.3000e+01, 1.2000e+01,\n",
       "       1.2000e+01, 1.1000e+01, 1.0000e+01, 9.0000e+00, 9.0000e+00,\n",
       "       9.0000e+00, 7.0000e+00, 7.0000e+00, 7.0000e+00, 7.0000e+00,\n",
       "       7.0000e+00, 6.0000e+00, 6.0000e+00, 6.0000e+00, 5.0000e+00,\n",
       "       5.0000e+00, 5.0000e+00, 5.0000e+00, 5.0000e+00, 5.0000e+00,\n",
       "       4.0000e+00, 4.0000e+00, 4.0000e+00, 4.0000e+00, 4.0000e+00,\n",
       "       4.0000e+00, 3.0000e+00, 3.0000e+00, 3.0000e+00, 3.0000e+00,\n",
       "       3.0000e+00, 3.0000e+00, 3.0000e+00, 3.0000e+00, 3.0000e+00,\n",
       "       3.0000e+00, 3.0000e+00, 3.0000e+00, 3.0000e+00, 3.0000e+00,\n",
       "       3.0000e+00, 3.0000e+00, 2.0000e+00, 2.0000e+00, 2.0000e+00,\n",
       "       2.0000e+00, 2.0000e+00, 2.0000e+00, 2.0000e+00, 2.0000e+00,\n",
       "       2.0000e+00, 2.0000e+00, 2.0000e+00, 2.0000e+00, 2.0000e+00,\n",
       "       2.0000e+00, 2.0000e+00, 2.0000e+00, 2.0000e+00, 2.0000e+00,\n",
       "       2.0000e+00, 2.0000e+00, 2.0000e+00, 2.0000e+00, 2.0000e+00,\n",
       "       2.0000e+00, 2.0000e+00, 2.0000e+00, 2.0000e+00, 2.0000e+00,\n",
       "       2.0000e+00, 2.0000e+00, 2.0000e+00, 2.0000e+00, 2.0000e+00,\n",
       "       2.0000e+00, 2.0000e+00, 2.0000e+00, 2.0000e+00, 2.0000e+00,\n",
       "       2.0000e+00, 2.0000e+00, 2.0000e+00, 2.0000e+00, 2.0000e+00])"
      ]
     },
     "execution_count": 56,
     "metadata": {},
     "output_type": "execute_result"
    }
   ],
   "source": [
    "np.sort(mcts_agent.root_node.child_number_visits)[::-1][:100]"
   ]
  },
  {
   "cell_type": "code",
   "execution_count": 57,
   "metadata": {},
   "outputs": [
    {
     "name": "stdout",
     "output_type": "stream",
     "text": [
      "2019-03-27 20:02:41 matplotlib.axes._base[29659] \u001b[1mDEBUG\u001b[0m \u001b[32mupdate_title_pos\u001b[0m\n",
      "2019-03-27 20:02:41 matplotlib.axes._base[29659] \u001b[1mDEBUG\u001b[0m \u001b[32mupdate_title_pos\u001b[0m\n",
      "2019-03-27 20:02:41 matplotlib.axes._base[29659] \u001b[1mDEBUG\u001b[0m \u001b[32mupdate_title_pos\u001b[0m\n",
      "2019-03-27 20:02:41 matplotlib.axes._base[29659] \u001b[1mDEBUG\u001b[0m \u001b[32mupdate_title_pos\u001b[0m\n"
     ]
    },
    {
     "data": {
      "image/png": "[encoded data removed]",
      "text/plain": [
       "<Figure size 432x288 with 1 Axes>"
      ]
     },
     "metadata": {},
     "output_type": "display_data"
    }
   ],
   "source": [
    "plot_moves_with_prob(legal_moves, mcts_agent.root_node.child_number_visits, only_top_x=20)"
   ]
  },
  {
   "cell_type": "code",
   "execution_count": 58,
   "metadata": {},
   "outputs": [
    {
     "name": "stdout",
     "output_type": "stream",
     "text": [
      "2019-03-27 20:02:41 matplotlib.axes._base[29659] \u001b[1mDEBUG\u001b[0m \u001b[32mupdate_title_pos\u001b[0m\n",
      "2019-03-27 20:02:41 matplotlib.axes._base[29659] \u001b[1mDEBUG\u001b[0m \u001b[32mupdate_title_pos\u001b[0m\n",
      "2019-03-27 20:02:41 matplotlib.axes._base[29659] \u001b[1mDEBUG\u001b[0m \u001b[32mupdate_title_pos\u001b[0m\n",
      "2019-03-27 20:02:41 matplotlib.axes._base[29659] \u001b[1mDEBUG\u001b[0m \u001b[32mupdate_title_pos\u001b[0m\n"
     ]
    },
    {
     "data": {
      "image/png": "[encoded data removed]",
      "text/plain": [
       "<Figure size 432x288 with 1 Axes>"
      ]
     },
     "metadata": {},
     "output_type": "display_data"
    }
   ],
   "source": [
    "plot_moves_with_prob(legal_moves, mcts_agent.root_node.q_value, only_top_x=4)"
   ]
  },
  {
   "cell_type": "code",
   "execution_count": 59,
   "metadata": {},
   "outputs": [
    {
     "name": "stdout",
     "output_type": "stream",
     "text": [
      "2019-03-27 20:02:41 matplotlib.axes._base[29659] \u001b[1mDEBUG\u001b[0m \u001b[32mupdate_title_pos\u001b[0m\n",
      "2019-03-27 20:02:41 matplotlib.axes._base[29659] \u001b[1mDEBUG\u001b[0m \u001b[32mupdate_title_pos\u001b[0m\n",
      "2019-03-27 20:02:41 matplotlib.axes._base[29659] \u001b[1mDEBUG\u001b[0m \u001b[32mupdate_title_pos\u001b[0m\n",
      "2019-03-27 20:02:41 matplotlib.axes._base[29659] \u001b[1mDEBUG\u001b[0m \u001b[32mupdate_title_pos\u001b[0m\n"
     ]
    },
    {
     "data": {
      "image/png": "[encoded data removed]",
      "text/plain": [
       "<Figure size 432x288 with 1 Axes>"
      ]
     },
     "metadata": {},
     "output_type": "display_data"
    }
   ],
   "source": [
    "plot_moves_with_prob(legal_moves, p_vec_small, only_top_x=10)"
   ]
  },
  {
   "cell_type": "code",
   "execution_count": 60,
   "metadata": {},
   "outputs": [
    {
     "name": "stdout",
     "output_type": "stream",
     "text": [
      "2019-03-27 20:02:42 matplotlib.axes._base[29659] \u001b[1mDEBUG\u001b[0m \u001b[32mupdate_title_pos\u001b[0m\n",
      "2019-03-27 20:02:42 matplotlib.axes._base[29659] \u001b[1mDEBUG\u001b[0m \u001b[32mupdate_title_pos\u001b[0m\n",
      "2019-03-27 20:02:42 matplotlib.axes._base[29659] \u001b[1mDEBUG\u001b[0m \u001b[32mupdate_title_pos\u001b[0m\n",
      "2019-03-27 20:02:42 matplotlib.axes._base[29659] \u001b[1mDEBUG\u001b[0m \u001b[32mupdate_title_pos\u001b[0m\n"
     ]
    },
    {
     "data": {
      "image/png": "[encoded data removed]",
      "text/plain": [
       "<Figure size 432x288 with 1 Axes>"
      ]
     },
     "metadata": {},
     "output_type": "display_data"
    }
   ],
   "source": [
    "plot_moves_with_prob(legal_moves, p_vec_small, only_top_x=10)"
   ]
  },
  {
   "cell_type": "code",
   "execution_count": 61,
   "metadata": {
    "scrolled": false
   },
   "outputs": [
    {
     "name": "stdout",
     "output_type": "stream",
     "text": [
      "Timer unit: 1e-06 s\n",
      "\n",
      "Total time: 0.000524 s\n",
      "File: ../../../DeepCrazyhouse/src/domain/agent/player/mcts_agent.py\n",
      "Function: _run_single_playout at line 545\n",
      "\n",
      "Line #      Hits         Time  Per Hit   % Time  Line Contents\n",
      "==============================================================\n",
      "   545                                               def _run_single_playout(self, parent_node: Node, pipe_id=0, depth=1, chosen_nodes=None):\n",
      "   546                                                   \"\"\"\n",
      "   547                                                   This function works recursively until a leaf or terminal node is reached.\n",
      "   548                                                   It ends by back-propagating the value of the new expanded node or by propagating the value of a terminal state.\n",
      "   549                                           \n",
      "   550                                                   :param state: Current game-state for the evaluation. This state differs between the treads\n",
      "   551                                                   :param parent_node: Current parent-node of the selected node. In the first  expansion this is the root node.\n",
      "   552                                                   :param depth: Current depth for the evaluation. Depth is increased by 1 for every recursive call\n",
      "   553                                                   :param chosen_nodes: List of moves which have been taken in the current path.\n",
      "   554                                                                   For each selected child node this list is expanded by one move recursively.\n",
      "   555                                                   :param chosen_nodes: List of all nodes that this thread has explored with respect to the root node\n",
      "   556                                                   :return: -value: The inverse value prediction of the current board state. The flipping by -1 each turn is needed\n",
      "   557                                                                   because the point of view changes each half-move\n",
      "   558                                                           depth: Current depth reach by this evaluation\n",
      "   559                                                           mv_list: List of moves which have been selected\n",
      "   560                                                   \"\"\"\n",
      "   561                                                   # Probably is better to be refactored\n",
      "   562                                                   # Too many arguments (6/5) - Too many local variables (27/15) - Too many branches (28/12) -\n",
      "   563                                                   # Too many statements (86/50)\n",
      "   564         9         19.0      2.1      3.6          if chosen_nodes is None:  # select a legal move on the chess board\n",
      "   565         1          2.0      2.0      0.4              chosen_nodes = []\n",
      "   566         9        224.0     24.9     42.7          node, move, child_idx = self._select_node(parent_node)\n",
      "   567                                           \n",
      "   568         9         18.0      2.0      3.4          if move is None:\n",
      "   569                                                       raise Exception(\"Illegal tree setup. A 'None' move was selected which shouldn't be possible\")\n",
      "   570                                                   # update the visit counts to this node\n",
      "   571                                                   # temporarily reduce the attraction of this node by applying a virtual loss /\n",
      "   572                                                   # the effect of virtual loss will be undone if the playout is over\n",
      "   573                                                   #if depth == 1:\n",
      "   574                                                   #    parent_node.apply_virtual_loss_to_child(child_idx, self.virtual_loss*2)\n",
      "   575                                                   #else:\n",
      "   576         9         81.0      9.0     15.5          parent_node.apply_virtual_loss_to_child(child_idx, self.virtual_loss)\n",
      "   577                                           \n",
      "   578                                                   # if depth == 1:\n",
      "   579                                                   #     state = GameState(deepcopy(state.get_pythonchess_board()))\n",
      "   580                                           \n",
      "   581                                                   # state.apply_move(move)  # apply the selected move on the board\n",
      "   582                                                   # append the selected move to the move list\n",
      "   583         9         22.0      2.4      4.2          chosen_nodes.append(child_idx)  # append the chosen child idx to the chosen_nodes list\n",
      "   584                                           \n",
      "   585         9         19.0      2.1      3.6          if node is None:\n",
      "   586                                           \n",
      "   587                                                       state = GameState(deepcopy(parent_node.board))\n",
      "   588                                                       state.apply_move(move)  # apply the selected move on the board\n",
      "   589                                           \n",
      "   590                                                       # get the transposition-key which is used as an identifier for the board positions in the look-up table\n",
      "   591                                                       transposition_key = state.get_transposition_key()\n",
      "   592                                                       # check if the addressed fen exist in the look-up table\n",
      "   593                                                       # note: It's important to use also the halfmove-counter here, otherwise the system can create an infinite\n",
      "   594                                                       # feed-back-loop\n",
      "   595                                                       key = transposition_key + (state.get_fullmove_number(),)\n",
      "   596                                                       use_tran_table = True\n",
      "   597                                                       node_verified = False\n",
      "   598                                           \n",
      "   599                                                       if use_tran_table and key in self.node_lookup:\n",
      "   600                                                           # if self.check_for_duplicate(transposition_key, chosen_nodes) is False:\n",
      "   601                                                           node = self.node_lookup[key]  # get the node from the look-up list\n",
      "   602                                           \n",
      "   603                                                           if node.n_sum > parent_node.n_sum:  # make sure that you don't connect to a node with lower visits\n",
      "   604                                                               node_verified = True\n",
      "   605                                           \n",
      "   606                                                       if node_verified:\n",
      "   607                                                           with parent_node.lock:\n",
      "   608                                                               # setup a new connection from the parent to the child\n",
      "   609                                                               parent_node.child_nodes[child_idx] = node\n",
      "   610                                                           # logging.debug('found key: %s' % state.get_board_fen())\n",
      "   611                                                           # get the prior value from the leaf node which has already been expanded\n",
      "   612                                                           value = node.initial_value\n",
      "   613                                                       else:\n",
      "   614                                                           # expand and evaluate the new board state (the node wasn't found in the look-up table)\n",
      "   615                                                           # its value will be back-propagated through the tree and flipped after every layer\n",
      "   616                                                           my_pipe = self.my_pipe_endings[pipe_id]  # receive a free available pipe\n",
      "   617                                           \n",
      "   618                                                           if self.send_batches:\n",
      "   619                                                               my_pipe.send(state.get_state_planes())\n",
      "   620                                                               # this pipe waits for the predictions of the network inference service\n",
      "   621                                                               [value, policy_vec] = my_pipe.recv()\n",
      "   622                                                           else:\n",
      "   623                                                               state_planes = state.get_state_planes()\n",
      "   624                                                               self.batch_state_planes[pipe_id] = state_planes\n",
      "   625                                                               my_pipe.send(pipe_id)\n",
      "   626                                                               result_channel = my_pipe.recv()\n",
      "   627                                                               value = np.array(self.batch_value_results[result_channel])\n",
      "   628                                                               policy_vec = np.array(self.batch_policy_results[result_channel])\n",
      "   629                                           \n",
      "   630                                                           is_leaf = is_won = False  # initialize is_leaf by default to false and check if the game is won\n",
      "   631                                                           # check if the current player has won the game\n",
      "   632                                                           # (we don't need to check for is_lost() because the game is already over\n",
      "   633                                                           #  if the current player checkmated his opponent)\n",
      "   634                                                           if state.is_check():\n",
      "   635                                                               if state.is_won():\n",
      "   636                                                                   is_won = True\n",
      "   637                                                           # else:\n",
      "   638                                                           #     parent_node.remove_check(child_idx)\n",
      "   639                                           \n",
      "   640                                                           if is_won:\n",
      "   641                                                               value = -1\n",
      "   642                                                               is_leaf = True\n",
      "   643                                                               legal_moves = []\n",
      "   644                                                               p_vec_small = None\n",
      "   645                                                               # establish a mate in one connection in order to stop exploring different alternatives\n",
      "   646                                                               parent_node.mate_child_idx = child_idx\n",
      "   647                                                           # get the value from the leaf node (the current function is called recursively)\n",
      "   648                                                           # check if you can claim a draw - its assumed that the draw is always claimed\n",
      "   649                                                           elif (\n",
      "   650                                                               self.can_claim_threefold_repetition(transposition_key, chosen_nodes)\n",
      "   651                                                               or state.get_pythonchess_board().can_claim_fifty_moves() is True\n",
      "   652                                                           ):\n",
      "   653                                                               # raise Exception('Threefold!')\n",
      "   654                                                               value = 0\n",
      "   655                                                               is_leaf = True\n",
      "   656                                                               legal_moves = []\n",
      "   657                                                               p_vec_small = None\n",
      "   658                                                           else:\n",
      "   659                                                               legal_moves = state.get_legal_moves()  # get the current legal move of its board state\n",
      "   660                                           \n",
      "   661                                                               if not legal_moves:\n",
      "   662                                                                   raise Exception(\"No legal move is available for state: %s\" % state)\n",
      "   663                                                               try:  # extract a sparse policy vector with normalized probabilities\n",
      "   664                                                                   p_vec_small = get_probs_of_move_list(\n",
      "   665                                                                       policy_vec, legal_moves, is_white_to_move=state.is_white_to_move(), normalize=True\n",
      "   666                                                                   )\n",
      "   667                                                               except KeyError:\n",
      "   668                                                                   raise Exception(\"Key Error for state: %s\" % state)\n",
      "   669                                                           # convert all legal moves to a string if the option check_mate_in_one was enabled\n",
      "   670                                                           if self.check_mate_in_one:\n",
      "   671                                                               str_legal_moves = str(state.get_legal_moves())\n",
      "   672                                                           else:\n",
      "   673                                                               str_legal_moves = \"\"\n",
      "   674                                                           # clip the visit nodes for all nodes in the search tree except the director opp. move\n",
      "   675                                                           clip_low_visit = self.use_pruning and depth != 1 # and depth > 4\n",
      "   676                                           \n",
      "   677                                                           # check_mv_idcs = get_check_moves_idcs(board=state.board, legal_moves=legal_moves)\n",
      "   678                                                           # check_move_mask = get_check_move_mask(board=state.board, legal_moves=legal_moves)\n",
      "   679                                           \n",
      "   680                                                           # for idx in check_mv_idcs:\n",
      "   681                                                           #     print(legal_moves[idx])\n",
      "   682                                                           # raise Exception\n",
      "   683                                           \n",
      "   684                                                           new_node = Node(\n",
      "   685                                                               state.get_pythonchess_board(), value, p_vec_small, legal_moves, str_legal_moves, is_leaf,\n",
      "   686                                                               transposition_key, clip_low_visit #, check_move_mask\n",
      "   687                                                           )  # create a new node\n",
      "   688                                           \n",
      "   689                                                           if depth == 1:\n",
      "   690                                                               # disable uncertain moves from being visited by giving them a very bad score\n",
      "   691                                                               if not is_leaf and self.use_pruning:\n",
      "   692                                                                   if self.root_node_prior_policy[child_idx] < 1e-3 and value * -1 < self.root_node.initial_value:\n",
      "   693                                                                       with parent_node.lock:\n",
      "   694                                                                           value = 99\n",
      "   695                                           \n",
      "   696                                                               if parent_node.initial_value > 0.65:  # and state.are_pocket_empty(): #and pipe_id == 0:\n",
      "   697                                                                   fac = 0.25  # test of adding dirichlet noise to a new node\n",
      "   698                                           \n",
      "   699                                                                   if len(parent_node.legal_moves) < 20:\n",
      "   700                                                                       fac *= 5\n",
      "   701                                                                   new_node.apply_dirichlet_noise_to_prior_policy(\n",
      "   702                                                                       epsilon=self.dirichlet_epsilon * fac, alpha=self.dirichlet_alpha\n",
      "   703                                                                   )\n",
      "   704                                           \n",
      "   705                                                               if value < 0:\n",
      "   706                                                                   # test of adding dirichlet noise to a new node\n",
      "   707                                                                   new_node.apply_dirichlet_noise_to_prior_policy(\n",
      "   708                                                                       epsilon=self.dirichlet_epsilon * 0.02, alpha=self.dirichlet_alpha\n",
      "   709                                                                   )\n",
      "   710                                           \n",
      "   711                                                           # noise test\n",
      "   712                                                           # if depth < 10:\n",
      "   713                                                           #     new_node.apply_dirichlet_noise_to_prior_policy(epsilon=self.dirichlet_epsilon,# / 2,\n",
      "   714                                                           #                                                    alpha=self.dirichlet_alpha)\n",
      "   715                                           \n",
      "   716                                                           if not self.use_pruning:\n",
      "   717                                                               self.node_lookup[key] = new_node  # include a reference to the new node in the look-up table\n",
      "   718                                           \n",
      "   719                                                           with parent_node.lock:\n",
      "   720                                                               parent_node.child_nodes[child_idx] = new_node  # add the new node to its parent\n",
      "   721         9         21.0      2.3      4.0          elif node.is_leaf:  # check if we have reached a leaf node\n",
      "   722         1          2.0      2.0      0.4              value = node.initial_value\n",
      "   723                                                   else:\n",
      "   724                                                       # get the value from the leaf node (the current function is called recursively)\n",
      "   725         8         20.0      2.5      3.8              value, depth, chosen_nodes = self._run_single_playout(node, pipe_id, depth + 1, chosen_nodes)\n",
      "   726                                                   # revert the virtual loss and apply the predicted value by the network to the node\n",
      "   727                                                   # if depth == 1:\n",
      "   728                                                   #     parent_node.revert_virtual_loss_and_update(child_idx, self.virtual_loss*2, -value)\n",
      "   729                                                   # else:\n",
      "   730         9         77.0      8.6     14.7          parent_node.revert_virtual_loss_and_update(child_idx, self.virtual_loss, -value)\n",
      "   731                                                   # invert the value prediction for the parent of the above node layer because the player's changes every turn\n",
      "   732         9         19.0      2.1      3.6          return -value, depth, chosen_nodes\n",
      "\n"
     ]
    }
   ],
   "source": [
    "\n",
    "\n",
    "%load_ext line_profiler\n",
    "r = %lprun -r -f mcts_agent._run_single_playout mcts_agent._run_single_playout(mcts_agent.root_node)\n",
    "r.print_stats()\n",
    "\n"
   ]
  },
  {
   "cell_type": "code",
   "execution_count": 62,
   "metadata": {
    "collapsed": true
   },
   "outputs": [],
   "source": [
    "from DeepCrazyhouse.src.domain.crazyhouse.input_representation import board_to_planes\n"
   ]
  },
  {
   "cell_type": "code",
   "execution_count": 63,
   "metadata": {
    "scrolled": false
   },
   "outputs": [
    {
     "name": "stdout",
     "output_type": "stream",
     "text": [
      "The line_profiler extension is already loaded. To reload it, use:\n",
      "  %reload_ext line_profiler\n",
      "Timer unit: 1e-06 s\n",
      "\n",
      "Total time: 0.001019 s\n",
      "File: ../../../DeepCrazyhouse/src/domain/crazyhouse/input_representation.py\n",
      "Function: board_to_planes at line 27\n",
      "\n",
      "Line #      Hits         Time  Per Hit   % Time  Line Contents\n",
      "==============================================================\n",
      "    27                                           def board_to_planes(board, board_occ=0, normalize=True):\n",
      "    28                                               \"\"\"\n",
      "    29                                               Gets the plane representation of a given board state.\n",
      "    30                                               (Now history of past board positions is used.)\n",
      "    31                                           \n",
      "    32                                               ## Crazyhouse:\n",
      "    33                                           \n",
      "    34                                               Feature | Planes\n",
      "    35                                           \n",
      "    36                                               --- | ---\n",
      "    37                                           \n",
      "    38                                               P1 piece | 6 (pieces are ordered: PAWN, KNIGHT, BISHOP, ROOK, QUEEN, KING)\n",
      "    39                                           \n",
      "    40                                               P2 piece | 6 (pieces are ordered: PAWN, KNIGHT, BISHOP, ROOK, QUEEN, KING)\n",
      "    41                                           \n",
      "    42                                               Repetitions | 2 (two planes (full zeros/ones) indicating how often the board positions has occurred)\n",
      "    43                                           \n",
      "    44                                               P1 prisoner count | 5 (pieces are ordered: PAWN, KNIGHT, BISHOP, ROOK, QUEEN) (excluding the KING)\n",
      "    45                                           \n",
      "    46                                               P2 prisoner count | 5 (pieces are ordered: PAWN, KNIGHT, BISHOP, ROOK, QUEEN) (excluding the KING)\n",
      "    47                                           \n",
      "    48                                               P1 Promoted Pawns Mask | 1 (binary map indicating the pieces which have been promoted)\n",
      "    49                                           \n",
      "    50                                               P2 Promoted Pawns Mask | 1 (binary map indicating the pieces which have been promoted)\n",
      "    51                                           \n",
      "    52                                               En-passant square | 1 (Binary map indicating the square where en-passant capture is possible)\n",
      "    53                                           \n",
      "    54                                               ---\n",
      "    55                                               27 planes\n",
      "    56                                           \n",
      "    57                                               * * *\n",
      "    58                                           \n",
      "    59                                               Colour | 1 (all zeros for black and all ones for white)\n",
      "    60                                           \n",
      "    61                                               Total move count | 1 (integer value setting the move count (uci notation))\n",
      "    62                                           \n",
      "    63                                               P1 castling | 2 (One if castling is possible, else zero)\n",
      "    64                                           \n",
      "    65                                               P2 castling | 2 (One if castling is possible, else zero)\n",
      "    66                                           \n",
      "    67                                               No-progress count | 1 (Setting the no progress counter as integer values, (described by uci halfmoves format)\n",
      "    68                                           \n",
      "    69                                               # --------------\n",
      "    70                                               7 planes\n",
      "    71                                           \n",
      "    72                                               The history list of the past 7 board states have been removed\n",
      "    73                                               The total number of planes is calculated as follows:\n",
      "    74                                           \n",
      "    75                                               27 + 7\n",
      "    76                                               Total: 34 planes\n",
      "    77                                           \n",
      "    78                                               :param board: Board handle (Python-chess object)\n",
      "    79                                               :param board_occ: Sets how often the board state has occurred before (by default 0)\n",
      "    80                                               :param normalize: True if the inputs shall be normalized to the range [0.-1.]\n",
      "    81                                               :return: planes - the plane representation of the current board state\n",
      "    82                                               \"\"\"\n",
      "    83                                           \n",
      "    84                                               # TODO: Remove board.mirror() for black by addressing the according color channel\n",
      "    85                                           \n",
      "    86                                               # (I) Define the Input Representation for one position\n",
      "    87         1         17.0     17.0      1.7      planes_pos = np.zeros((NB_CHANNELS_POS, BOARD_HEIGHT, BOARD_WIDTH))\n",
      "    88         1          7.0      7.0      0.7      planes_const = np.zeros((NB_CHANNELS_CONST, BOARD_HEIGHT, BOARD_WIDTH))\n",
      "    89                                           \n",
      "    90                                               # save whose turn it is\n",
      "    91         1          3.0      3.0      0.3      board_turn = chess.WHITE\n",
      "    92                                           \n",
      "    93                                               # check who's player turn it is and flip the board if it's black turn\n",
      "    94         1          2.0      2.0      0.2      if board.turn == chess.BLACK:\n",
      "    95                                                   board_turn = chess.BLACK\n",
      "    96                                                   board = board.mirror()\n",
      "    97                                           \n",
      "    98                                               # Fill in the piece positions\n",
      "    99                                           \n",
      "   100                                               # Iterate over both color starting with WHITE\n",
      "   101         3          7.0      2.3      0.7      for idx, color in enumerate(chess.COLORS):\n",
      "   102                                                   # the PIECE_TYPE is an integer list in python-chess\n",
      "   103        14         19.0      1.4      1.9          for piece_type in chess.PIECE_TYPES:\n",
      "   104                                                       # define the channel by the piece_type (the input representation uses the same ordering as python-chess)\n",
      "   105                                                       # we add an offset for the black pieces\n",
      "   106                                                       # note that we subtract 1 because in python chess the PAWN has index 1 and not 0\n",
      "   107        12         24.0      2.0      2.4              channel = (piece_type - 1) + idx * len(chess.PIECE_TYPES)\n",
      "   108                                                       # iterate over the piece mask and receive every position square of it\n",
      "   109        39        189.0      4.8     18.5              for pos in board.pieces(piece_type, color):\n",
      "   110        27         79.0      2.9      7.8                  row, col = get_row_col(pos)\n",
      "   111                                                           # set the bit at the right position\n",
      "   112        27         48.0      1.8      4.7                  planes_pos[channel, row, col] = 1\n",
      "   113                                           \n",
      "   114                                               # (II) Fill in the Repetition Data\n",
      "   115                                               # a game to test out if everything is working correctly is: https://lichess.org/jkItXBWy#73\n",
      "   116         1          2.0      2.0      0.2      channel = CHANNEL_MAPPING_POS[\"repetitions\"]\n",
      "   117                                           \n",
      "   118                                               # set how often the position has already occurred in the game (default 0 times)\n",
      "   119                                               # this is used to check for claiming the 3 fold repetition rule\n",
      "   120         1          1.0      1.0      0.1      if board_occ >= 1:\n",
      "   121                                                   planes_pos[channel, :, :] = 1\n",
      "   122                                                   if board_occ >= 2:\n",
      "   123                                                       planes_pos[channel + 1, :, :] = 1\n",
      "   124                                           \n",
      "   125                                               # Fill in the Prisoners / Pocket Pieces\n",
      "   126                                           \n",
      "   127                                               # iterate over all pieces except the king\n",
      "   128         6         12.0      2.0      1.2      for p_type in chess.PIECE_TYPES[:-1]:\n",
      "   129                                                   # p_type -1 because p_type starts with 1\n",
      "   130         5          7.0      1.4      0.7          channel = CHANNEL_MAPPING_POS[\"prisoners\"] + p_type - 1\n",
      "   131                                           \n",
      "   132         5         34.0      6.8      3.3          planes_pos[channel, :, :] = board.pockets[chess.WHITE].count(p_type)\n",
      "   133                                                   # the prison for black begins 5 channels later\n",
      "   134         5         21.0      4.2      2.1          planes_pos[channel + 5, :, :] = board.pockets[chess.BLACK].count(p_type)\n",
      "   135                                           \n",
      "   136                                               # (III) Fill in the promoted pieces\n",
      "   137                                               # iterate over all promoted pieces according to the mask and set the according bit\n",
      "   138         1          2.0      2.0      0.2      channel = CHANNEL_MAPPING_POS[\"promo\"]\n",
      "   139         1          7.0      7.0      0.7      for pos in chess.SquareSet(board.promoted):\n",
      "   140                                                   row, col = get_row_col(pos)\n",
      "   141                                           \n",
      "   142                                                   if board.piece_at(pos).color == chess.WHITE:\n",
      "   143                                                       planes_pos[channel, row, col] = 1\n",
      "   144                                                   else:\n",
      "   145                                                       planes_pos[channel + 1, row, col] = 1\n",
      "   146                                           \n",
      "   147                                               # (III.2) En Passant Square\n",
      "   148                                               # mark the square where an en-passant capture is possible\n",
      "   149         1          1.0      1.0      0.1      channel = CHANNEL_MAPPING_POS[\"ep_square\"]\n",
      "   150         1          2.0      2.0      0.2      if board.ep_square is not None:\n",
      "   151                                                   row, col = get_row_col(board.ep_square)\n",
      "   152                                                   planes_pos[channel, row, col] = 1\n",
      "   153                                           \n",
      "   154                                               # (IV) Constant Value Inputs\n",
      "   155                                               # (IV.1) Color\n",
      "   156         1          2.0      2.0      0.2      if board_turn == chess.WHITE:\n",
      "   157         1          3.0      3.0      0.3          planes_const[CHANNEL_MAPPING_CONST[\"color\"], :, :] = 1\n",
      "   158                                               # otherwise the mat will remain zero\n",
      "   159                                           \n",
      "   160                                               # (IV.2) Total Move Count\n",
      "   161         1          4.0      4.0      0.4      planes_const[CHANNEL_MAPPING_CONST[\"total_mv_cnt\"], :, :] = board.fullmove_number\n",
      "   162                                               # alternatively, you could use the half-moves-counter: len(board.move_stack)\n",
      "   163                                           \n",
      "   164                                               # (IV.3) Castling Rights\n",
      "   165         1          1.0      1.0      0.1      channel = CHANNEL_MAPPING_CONST[\"castling\"]\n",
      "   166                                           \n",
      "   167                                               # WHITE\n",
      "   168                                               # check for King Side Castling\n",
      "   169         1          3.0      3.0      0.3      if bool(board.castling_rights & chess.BB_H1) is True:\n",
      "   170                                                   # White can castle with the h1 rook\n",
      "   171                                                   planes_const[channel, :, :] = 1\n",
      "   172                                               # check for Queen Side Castling\n",
      "   173         1          2.0      2.0      0.2      if bool(board.castling_rights & chess.BB_A1) is True:\n",
      "   174                                                   planes_const[channel + 1, :, :] = 1\n",
      "   175                                           \n",
      "   176                                               # BLACK\n",
      "   177                                               # check for King Side Castling\n",
      "   178         1          3.0      3.0      0.3      if bool(board.castling_rights & chess.BB_H8) is True:\n",
      "   179                                                   # White can castle with the h1 rook\n",
      "   180         1          3.0      3.0      0.3          planes_const[channel + 2, :, :] = 1\n",
      "   181                                               # check for Queen Side Castling\n",
      "   182         1          2.0      2.0      0.2      if bool(board.castling_rights & chess.BB_A8) is True:\n",
      "   183         1          3.0      3.0      0.3          planes_const[channel + 3, :, :] = 1\n",
      "   184                                           \n",
      "   185                                               # (IV.4) No Progress Count\n",
      "   186                                               # define a no 'progress' counter\n",
      "   187                                               # it gets incremented by 1 each move\n",
      "   188                                               # however, whenever a piece gets dropped, a piece is captured or a pawn is moved, it is reset to 0\n",
      "   189                                               # halfmove_clock is an official metric in fen notation\n",
      "   190                                               #  -> see: https://en.wikipedia.org/wiki/Forsyth%E2%80%93Edwards_Notation\n",
      "   191         1          1.0      1.0      0.1      no_progress_cnt = board.halfmove_clock\n",
      "   192                                           \n",
      "   193                                               # check how often the position has already occurred in the game\n",
      "   194         1          3.0      3.0      0.3      planes_const[CHANNEL_MAPPING_CONST[\"no_progress_cnt\"], :, :] = no_progress_cnt\n",
      "   195                                           \n",
      "   196                                               # (V) Merge the Matrix-Stack\n",
      "   197         1        418.0    418.0     41.0      planes = np.concatenate((planes_pos, planes_const), axis=0)\n",
      "   198                                           \n",
      "   199                                               # revert the board if the players turn was black\n",
      "   200                                               # ! DO NOT DELETE OR UNCOMMENT THIS BLOCK BECAUSE THE PARAMETER board IS CHANGED IN PLACE !\n",
      "   201         1         11.0     11.0      1.1      if board_turn == chess.BLACK:\n",
      "   202                                                   board = board.mirror()\n",
      "   203                                           \n",
      "   204         1          4.0      4.0      0.4      if normalize is True:\n",
      "   205         1         67.0     67.0      6.6          planes *= MATRIX_NORMALIZER\n",
      "   206                                                   # planes = normalize_input_planes(planes)\n",
      "   207                                           \n",
      "   208                                               # return the plane representation of the given board\n",
      "   209         1          5.0      5.0      0.5      return planes\n",
      "\n"
     ]
    }
   ],
   "source": [
    "%load_ext line_profiler\n",
    "r = %lprun -r -f board_to_planes board_to_planes(board)\n",
    "r.print_stats()"
   ]
  },
  {
   "cell_type": "code",
   "execution_count": 64,
   "metadata": {
    "scrolled": false
   },
   "outputs": [
    {
     "name": "stdout",
     "output_type": "stream",
     "text": [
      "The line_profiler extension is already loaded. To reload it, use:\n",
      "  %reload_ext line_profiler\n",
      "Timer unit: 1e-06 s\n",
      "\n",
      "Total time: 0.000564 s\n",
      "File: ../../../DeepCrazyhouse/src/domain/crazyhouse/input_representation.py\n",
      "Function: board_to_planes at line 27\n",
      "\n",
      "Line #      Hits         Time  Per Hit   % Time  Line Contents\n",
      "==============================================================\n",
      "    27                                           def board_to_planes(board, board_occ=0, normalize=True):\n",
      "    28                                               \"\"\"\n",
      "    29                                               Gets the plane representation of a given board state.\n",
      "    30                                               (Now history of past board positions is used.)\n",
      "    31                                           \n",
      "    32                                               ## Crazyhouse:\n",
      "    33                                           \n",
      "    34                                               Feature | Planes\n",
      "    35                                           \n",
      "    36                                               --- | ---\n",
      "    37                                           \n",
      "    38                                               P1 piece | 6 (pieces are ordered: PAWN, KNIGHT, BISHOP, ROOK, QUEEN, KING)\n",
      "    39                                           \n",
      "    40                                               P2 piece | 6 (pieces are ordered: PAWN, KNIGHT, BISHOP, ROOK, QUEEN, KING)\n",
      "    41                                           \n",
      "    42                                               Repetitions | 2 (two planes (full zeros/ones) indicating how often the board positions has occurred)\n",
      "    43                                           \n",
      "    44                                               P1 prisoner count | 5 (pieces are ordered: PAWN, KNIGHT, BISHOP, ROOK, QUEEN) (excluding the KING)\n",
      "    45                                           \n",
      "    46                                               P2 prisoner count | 5 (pieces are ordered: PAWN, KNIGHT, BISHOP, ROOK, QUEEN) (excluding the KING)\n",
      "    47                                           \n",
      "    48                                               P1 Promoted Pawns Mask | 1 (binary map indicating the pieces which have been promoted)\n",
      "    49                                           \n",
      "    50                                               P2 Promoted Pawns Mask | 1 (binary map indicating the pieces which have been promoted)\n",
      "    51                                           \n",
      "    52                                               En-passant square | 1 (Binary map indicating the square where en-passant capture is possible)\n",
      "    53                                           \n",
      "    54                                               ---\n",
      "    55                                               27 planes\n",
      "    56                                           \n",
      "    57                                               * * *\n",
      "    58                                           \n",
      "    59                                               Colour | 1 (all zeros for black and all ones for white)\n",
      "    60                                           \n",
      "    61                                               Total move count | 1 (integer value setting the move count (uci notation))\n",
      "    62                                           \n",
      "    63                                               P1 castling | 2 (One if castling is possible, else zero)\n",
      "    64                                           \n",
      "    65                                               P2 castling | 2 (One if castling is possible, else zero)\n",
      "    66                                           \n",
      "    67                                               No-progress count | 1 (Setting the no progress counter as integer values, (described by uci halfmoves format)\n",
      "    68                                           \n",
      "    69                                               # --------------\n",
      "    70                                               7 planes\n",
      "    71                                           \n",
      "    72                                               The history list of the past 7 board states have been removed\n",
      "    73                                               The total number of planes is calculated as follows:\n",
      "    74                                           \n",
      "    75                                               27 + 7\n",
      "    76                                               Total: 34 planes\n",
      "    77                                           \n",
      "    78                                               :param board: Board handle (Python-chess object)\n",
      "    79                                               :param board_occ: Sets how often the board state has occurred before (by default 0)\n",
      "    80                                               :param normalize: True if the inputs shall be normalized to the range [0.-1.]\n",
      "    81                                               :return: planes - the plane representation of the current board state\n",
      "    82                                               \"\"\"\n",
      "    83                                           \n",
      "    84                                               # TODO: Remove board.mirror() for black by addressing the according color channel\n",
      "    85                                           \n",
      "    86                                               # (I) Define the Input Representation for one position\n",
      "    87         1         16.0     16.0      2.8      planes_pos = np.zeros((NB_CHANNELS_POS, BOARD_HEIGHT, BOARD_WIDTH))\n",
      "    88         1          6.0      6.0      1.1      planes_const = np.zeros((NB_CHANNELS_CONST, BOARD_HEIGHT, BOARD_WIDTH))\n",
      "    89                                           \n",
      "    90                                               # save whose turn it is\n",
      "    91         1          3.0      3.0      0.5      board_turn = chess.WHITE\n",
      "    92                                           \n",
      "    93                                               # check who's player turn it is and flip the board if it's black turn\n",
      "    94         1          2.0      2.0      0.4      if board.turn == chess.BLACK:\n",
      "    95                                                   board_turn = chess.BLACK\n",
      "    96                                                   board = board.mirror()\n",
      "    97                                           \n",
      "    98                                               # Fill in the piece positions\n",
      "    99                                           \n",
      "   100                                               # Iterate over both color starting with WHITE\n",
      "   101         3          7.0      2.3      1.2      for idx, color in enumerate(chess.COLORS):\n",
      "   102                                                   # the PIECE_TYPE is an integer list in python-chess\n",
      "   103        14         23.0      1.6      4.1          for piece_type in chess.PIECE_TYPES:\n",
      "   104                                                       # define the channel by the piece_type (the input representation uses the same ordering as python-chess)\n",
      "   105                                                       # we add an offset for the black pieces\n",
      "   106                                                       # note that we subtract 1 because in python chess the PAWN has index 1 and not 0\n",
      "   107        12         24.0      2.0      4.3              channel = (piece_type - 1) + idx * len(chess.PIECE_TYPES)\n",
      "   108                                                       # iterate over the piece mask and receive every position square of it\n",
      "   109        39        191.0      4.9     33.9              for pos in board.pieces(piece_type, color):\n",
      "   110        27         76.0      2.8     13.5                  row, col = get_row_col(pos)\n",
      "   111                                                           # set the bit at the right position\n",
      "   112        27         55.0      2.0      9.8                  planes_pos[channel, row, col] = 1\n",
      "   113                                           \n",
      "   114                                               # (II) Fill in the Repetition Data\n",
      "   115                                               # a game to test out if everything is working correctly is: https://lichess.org/jkItXBWy#73\n",
      "   116         1          2.0      2.0      0.4      channel = CHANNEL_MAPPING_POS[\"repetitions\"]\n",
      "   117                                           \n",
      "   118                                               # set how often the position has already occurred in the game (default 0 times)\n",
      "   119                                               # this is used to check for claiming the 3 fold repetition rule\n",
      "   120         1          1.0      1.0      0.2      if board_occ >= 1:\n",
      "   121                                                   planes_pos[channel, :, :] = 1\n",
      "   122                                                   if board_occ >= 2:\n",
      "   123                                                       planes_pos[channel + 1, :, :] = 1\n",
      "   124                                           \n",
      "   125                                               # Fill in the Prisoners / Pocket Pieces\n",
      "   126                                           \n",
      "   127                                               # iterate over all pieces except the king\n",
      "   128         6         12.0      2.0      2.1      for p_type in chess.PIECE_TYPES[:-1]:\n",
      "   129                                                   # p_type -1 because p_type starts with 1\n",
      "   130         5         10.0      2.0      1.8          channel = CHANNEL_MAPPING_POS[\"prisoners\"] + p_type - 1\n",
      "   131                                           \n",
      "   132         5         31.0      6.2      5.5          planes_pos[channel, :, :] = board.pockets[chess.WHITE].count(p_type)\n",
      "   133                                                   # the prison for black begins 5 channels later\n",
      "   134         5         23.0      4.6      4.1          planes_pos[channel + 5, :, :] = board.pockets[chess.BLACK].count(p_type)\n",
      "   135                                           \n",
      "   136                                               # (III) Fill in the promoted pieces\n",
      "   137                                               # iterate over all promoted pieces according to the mask and set the according bit\n",
      "   138         1          1.0      1.0      0.2      channel = CHANNEL_MAPPING_POS[\"promo\"]\n",
      "   139         1          5.0      5.0      0.9      for pos in chess.SquareSet(board.promoted):\n",
      "   140                                                   row, col = get_row_col(pos)\n",
      "   141                                           \n",
      "   142                                                   if board.piece_at(pos).color == chess.WHITE:\n",
      "   143                                                       planes_pos[channel, row, col] = 1\n",
      "   144                                                   else:\n",
      "   145                                                       planes_pos[channel + 1, row, col] = 1\n",
      "   146                                           \n",
      "   147                                               # (III.2) En Passant Square\n",
      "   148                                               # mark the square where an en-passant capture is possible\n",
      "   149         1          2.0      2.0      0.4      channel = CHANNEL_MAPPING_POS[\"ep_square\"]\n",
      "   150         1          1.0      1.0      0.2      if board.ep_square is not None:\n",
      "   151                                                   row, col = get_row_col(board.ep_square)\n",
      "   152                                                   planes_pos[channel, row, col] = 1\n",
      "   153                                           \n",
      "   154                                               # (IV) Constant Value Inputs\n",
      "   155                                               # (IV.1) Color\n",
      "   156         1          2.0      2.0      0.4      if board_turn == chess.WHITE:\n",
      "   157         1          4.0      4.0      0.7          planes_const[CHANNEL_MAPPING_CONST[\"color\"], :, :] = 1\n",
      "   158                                               # otherwise the mat will remain zero\n",
      "   159                                           \n",
      "   160                                               # (IV.2) Total Move Count\n",
      "   161         1          3.0      3.0      0.5      planes_const[CHANNEL_MAPPING_CONST[\"total_mv_cnt\"], :, :] = board.fullmove_number\n",
      "   162                                               # alternatively, you could use the half-moves-counter: len(board.move_stack)\n",
      "   163                                           \n",
      "   164                                               # (IV.3) Castling Rights\n",
      "   165         1          2.0      2.0      0.4      channel = CHANNEL_MAPPING_CONST[\"castling\"]\n",
      "   166                                           \n",
      "   167                                               # WHITE\n",
      "   168                                               # check for King Side Castling\n",
      "   169         1          2.0      2.0      0.4      if bool(board.castling_rights & chess.BB_H1) is True:\n",
      "   170                                                   # White can castle with the h1 rook\n",
      "   171                                                   planes_const[channel, :, :] = 1\n",
      "   172                                               # check for Queen Side Castling\n",
      "   173         1          2.0      2.0      0.4      if bool(board.castling_rights & chess.BB_A1) is True:\n",
      "   174                                                   planes_const[channel + 1, :, :] = 1\n",
      "   175                                           \n",
      "   176                                               # BLACK\n",
      "   177                                               # check for King Side Castling\n",
      "   178         1          3.0      3.0      0.5      if bool(board.castling_rights & chess.BB_H8) is True:\n",
      "   179                                                   # White can castle with the h1 rook\n",
      "   180         1          3.0      3.0      0.5          planes_const[channel + 2, :, :] = 1\n",
      "   181                                               # check for Queen Side Castling\n",
      "   182         1          2.0      2.0      0.4      if bool(board.castling_rights & chess.BB_A8) is True:\n",
      "   183         1          3.0      3.0      0.5          planes_const[channel + 3, :, :] = 1\n",
      "   184                                           \n",
      "   185                                               # (IV.4) No Progress Count\n",
      "   186                                               # define a no 'progress' counter\n",
      "   187                                               # it gets incremented by 1 each move\n",
      "   188                                               # however, whenever a piece gets dropped, a piece is captured or a pawn is moved, it is reset to 0\n",
      "   189                                               # halfmove_clock is an official metric in fen notation\n",
      "   190                                               #  -> see: https://en.wikipedia.org/wiki/Forsyth%E2%80%93Edwards_Notation\n",
      "   191         1          1.0      1.0      0.2      no_progress_cnt = board.halfmove_clock\n",
      "   192                                           \n",
      "   193                                               # check how often the position has already occurred in the game\n",
      "   194         1          3.0      3.0      0.5      planes_const[CHANNEL_MAPPING_CONST[\"no_progress_cnt\"], :, :] = no_progress_cnt\n",
      "   195                                           \n",
      "   196                                               # (V) Merge the Matrix-Stack\n",
      "   197         1         14.0     14.0      2.5      planes = np.concatenate((planes_pos, planes_const), axis=0)\n",
      "   198                                           \n",
      "   199                                               # revert the board if the players turn was black\n",
      "   200                                               # ! DO NOT DELETE OR UNCOMMENT THIS BLOCK BECAUSE THE PARAMETER board IS CHANGED IN PLACE !\n",
      "   201         1          1.0      1.0      0.2      if board_turn == chess.BLACK:\n",
      "   202                                                   board = board.mirror()\n",
      "   203                                           \n",
      "   204         1          2.0      2.0      0.4      if normalize is True:\n",
      "   205         1         25.0     25.0      4.4          planes *= MATRIX_NORMALIZER\n",
      "   206                                                   # planes = normalize_input_planes(planes)\n",
      "   207                                           \n",
      "   208                                               # return the plane representation of the given board\n",
      "   209         1          1.0      1.0      0.2      return planes\n",
      "\n"
     ]
    }
   ],
   "source": [
    "%load_ext line_profiler\n",
    "r = %lprun -r -f board_to_planes board_to_planes(board)\n",
    "r.print_stats()"
   ]
  },
  {
   "cell_type": "code",
   "execution_count": null,
   "metadata": {
    "collapsed": true
   },
   "outputs": [],
   "source": []
  },
  {
   "cell_type": "code",
   "execution_count": null,
   "metadata": {
    "collapsed": true
   },
   "outputs": [],
   "source": []
  }
 ],
 "metadata": {
  "kernelspec": {
   "display_name": "Python 3",
   "language": "python",
   "name": "python3"
  }
 },
 "nbformat": 4,
 "nbformat_minor": 2
}

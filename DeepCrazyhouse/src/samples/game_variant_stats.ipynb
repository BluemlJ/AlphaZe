{
 "cells": [
  {
   "cell_type": "markdown",
   "metadata": {},
   "source": [
    "### Runtime test to check wether recreating the board state based on uci or\n",
    "### copying and pushing is faster in python-chess"
   ]
  },
  {
   "cell_type": "code",
   "execution_count": null,
   "metadata": {},
   "outputs": [],
   "source": [
    "import chess\n",
    "import chess.variant\n",
    "import matplotlib.pyplot as plt\n",
    "import random\n",
    "import numpy as nps\n",
    "from copy import deepcopy\n",
    "\n",
    "%matplotlib inline\n",
    "plt.style.use('seaborn-whitegrid')"
   ]
  },
  {
   "cell_type": "code",
   "execution_count": null,
   "metadata": {},
   "outputs": [],
   "source": [
    "def game_stats_random_play(board_in, nb_games, use_mate_shortcut=True):\n",
    "    half_moves_stats = np.zeros(nb_games)\n",
    "    game_outcomes = []\n",
    "    final_board_states = []\n",
    "    nb_legal_moves = []\n",
    "    \n",
    "    for i in range(nb_games):\n",
    "        \n",
    "        # create deepcopy of the board\n",
    "        board = deepcopy(board_in)\n",
    "        # reset the half moves counter\n",
    "        nb_half_moves = 0\n",
    "        while board.is_checkmate() is False and board.can_claim_draw() is False:\n",
    "\n",
    "            str_moves = str(board.legal_moves)\n",
    "\n",
    "            # select a random legal move\n",
    "            mv_list = list(board.legal_moves)\n",
    "\n",
    "            # log the number of legal moves\n",
    "            nb_legal_moves.append(len(mv_list))\n",
    "            \n",
    "            mate_mv_idx = str_moves.find('#')\n",
    "            \n",
    "            if  len(mv_list) > 0:\n",
    "                # check if there's a possible mate on the board -> execute it\n",
    "                if mate_mv_idx != -1 and use_mate_shortcut is True:\n",
    "                    # find the according index of the move in the legal_moves generator list\n",
    "                    mv_idx = str_moves[:mate_mv_idx].count(',')\n",
    "                else:\n",
    "                    # take a random legal move\n",
    "                    mv_idx = np.random.randint(len(mv_list))\n",
    "\n",
    "                # apply the move to the board\n",
    "                board.push(mv_list[mv_idx])\n",
    "                nb_half_moves += 1\n",
    "            else:\n",
    "                break\n",
    "\n",
    "        # record the number of half moves to the list\n",
    "        half_moves_stats[i] = nb_half_moves\n",
    "        # log the winner of the last board state\n",
    "        game_outcomes.append(board.result())\n",
    "        # log the final board state to the list\n",
    "        final_board_states.append(board)\n",
    "        \n",
    "    return half_moves_stats, game_outcomes, final_board_states, nb_legal_moves"
   ]
  },
  {
   "cell_type": "code",
   "execution_count": null,
   "metadata": {},
   "outputs": [],
   "source": [
    "def analyze_varariants(game_variant: dict, use_mate_shortcut=True, nb_sims=10):\n",
    "    for game_name in game_variant:\n",
    "        game = game_variant[game_name]\n",
    "        game['half_moves_stats'], game['game_outcomes'], game['final_board_states'], game['nb_legal_moves'] = game_stats_random_play(game['board'], nb_sims, use_mate_shortcut)\n",
    "        \n",
    "        \n",
    "    return game_variant"
   ]
  },
  {
   "cell_type": "code",
   "execution_count": null,
   "metadata": {},
   "outputs": [],
   "source": [
    "game_variant = {}\n",
    "#game_variant['antichess'] = {'board': chess.variant.GiveawayBoard()}\n",
    "#game_variant['king of the hill'] = {'board': chess.variant.KingOfTheHillBoard()}\n",
    "game_variant['chess'] = {'board': chess.Board()}\n",
    "game_variant['atomic'] = {'board': chess.variant.AtomicBoard()}\n",
    "game_variant['crazyhouse'] = {'board': chess.variant.CrazyhouseBoard()}\n",
    "game_variant = analyze_varariants(game_variant, use_mate_shortcut=True, nb_sims=30)"
   ]
  },
  {
   "cell_type": "code",
   "execution_count": null,
   "metadata": {},
   "outputs": [],
   "source": [
    "# select all  the stats\n",
    "stats = list(game_variant[list(game_variant.keys())[0]].keys())\n",
    "\n",
    "for stat in stats:\n",
    "    \n",
    "    if 'board' not in stat:\n",
    "        # show a new histogram plot\n",
    "        plt.figure()\n",
    "        for variant in game_variant:\n",
    "            game_variant[variant][stat] = plt.hist(game_variant[variant][stat], alpha=1/len(game_variant), label=variant)\n",
    "            #xmax_list.append(max(game_variant[variant]['nb_legal_moves_stats'][1]))\n",
    "            #ymax_list.append(max(game_variant[variant]['nb_legal_moves_stats'][0]))\n",
    "            plt.legend()\n",
    "            plt.title(stat)"
   ]
  },
  {
   "cell_type": "markdown",
   "metadata": {},
   "source": [
    "## Comparision speed test copy vs recreation"
   ]
  },
  {
   "cell_type": "code",
   "execution_count": null,
   "metadata": {},
   "outputs": [],
   "source": [
    "from time import time\n",
    "import datetime"
   ]
  },
  {
   "cell_type": "code",
   "execution_count": null,
   "metadata": {},
   "outputs": [],
   "source": [
    "board_in = chess.variant.CrazyhouseBoard()\n",
    "\n",
    "t_s = time()\n",
    "\n",
    "nb_half_moves = 0\n",
    "boards = []\n",
    "nb_sims = 4000\n",
    "nb_moves_per_game = 10\n",
    "moves = []\n",
    "for i in range(nb_sims):\n",
    "    # create deepcopy of the board\n",
    "    board = deepcopy(board_in)\n",
    "\n",
    "    for z in range(nb_moves_per_game):\n",
    "\n",
    "        # select a random legal move\n",
    "        mv_list = list(board.legal_moves)\n",
    "\n",
    "        if  len(mv_list) > 0:\n",
    "            # take a random legal move\n",
    "            mv_idx = np.random.randint(len(mv_list))\n",
    "\n",
    "            move = mv_list[mv_idx]\n",
    "            # apply the move to the board\n",
    "            board.push(move)\n",
    "            nb_half_moves += 1\n",
    "            \n",
    "            boards.append(board.fen())\n",
    "            moves.append(move)\n",
    "        else:\n",
    "            break\n",
    "\n",
    "\n",
    "print('Elapsed time(hh:mm:ss): ' + str(datetime.timedelta(seconds=round(time() - t_s))))            "
   ]
  },
  {
   "cell_type": "code",
   "execution_count": null,
   "metadata": {},
   "outputs": [],
   "source": [
    "mv_idx = 0\n",
    "\n",
    "t_s = time()\n",
    "\n",
    "# create deepcopy of the board\n",
    "board = deepcopy(board_in)\n",
    "for board_fen in boards:\n",
    "    board.set_fen(board_fen)\n",
    "    mv_idx += 1\n",
    "\n",
    "print('Elapsed time (hh:mm:ss): ' + str(datetime.timedelta(seconds=round(time() - t_s))))                    "
   ]
  },
  {
   "cell_type": "code",
   "execution_count": null,
   "metadata": {},
   "outputs": [],
   "source": [
    "nb_sims"
   ]
  },
  {
   "cell_type": "code",
   "execution_count": null,
   "metadata": {},
   "outputs": [],
   "source": [
    "t_s = time()\n",
    "\n",
    "for i in range(nb_sims*10):\n",
    "    # create deepcopy of the board\n",
    "    board = deepcopy(board_in)    \n",
    "    board.set_fen(board_fen)\n",
    "print('Elapsed time(hh:mm:ss): ' + str(datetime.timedelta(seconds=round(time() - t_s))))                    "
   ]
  },
  {
   "cell_type": "code",
   "execution_count": null,
   "metadata": {},
   "outputs": [],
   "source": [
    "chess.variant.CrazyhouseBoard."
   ]
  },
  {
   "cell_type": "code",
   "execution_count": null,
   "metadata": {},
   "outputs": [],
   "source": [
    "board = chess.variant.CrazyhouseBoard()"
   ]
  },
  {
   "cell_type": "code",
   "execution_count": null,
   "metadata": {},
   "outputs": [],
   "source": [
    "board.push_uci('e2e4')"
   ]
  },
  {
   "cell_type": "code",
   "execution_count": null,
   "metadata": {},
   "outputs": [],
   "source": [
    "board"
   ]
  },
  {
   "cell_type": "code",
   "execution_count": null,
   "metadata": {},
   "outputs": [],
   "source": [
    "mv = chess.Move.from_uci('c3c5')"
   ]
  },
  {
   "cell_type": "code",
   "execution_count": null,
   "metadata": {},
   "outputs": [],
   "source": [
    "board.push(mv)"
   ]
  },
  {
   "cell_type": "code",
   "execution_count": null,
   "metadata": {},
   "outputs": [],
   "source": [
    "t_s = time()\n",
    "for i in range(nb_sims*100):\n",
    "    board = deepcopy(board_in)\n",
    "    board.push(mv)\n",
    "print('Elapsed time(hh:mm:ss): ' + str(datetime.timedelta(seconds=round(time() - t_s))))                        "
   ]
  },
  {
   "cell_type": "code",
   "execution_count": null,
   "metadata": {},
   "outputs": [],
   "source": [
    "t_s = time()\n",
    "for i in range(nb_sims*100):\n",
    "    board = deepcopy(board_in)\n",
    "    board.push_uci('e2e4')\n",
    "print('Elapsed time(hh:mm:ss): ' + str(datetime.timedelta(seconds=round(time() - t_s))))      "
   ]
  },
  {
   "cell_type": "code",
   "execution_count": null,
   "metadata": {},
   "outputs": [],
   "source": [
    "board.push_uci('c3c5')"
   ]
  },
  {
   "cell_type": "code",
   "execution_count": null,
   "metadata": {},
   "outputs": [],
   "source": [
    "t_s = time()\n",
    "\n",
    "for i in range(nb_sims*10):\n",
    "    # create deepcopy of the board\n",
    "    board = deepcopy(board_in)\n",
    "    for z in range(nb_moves_per_game):\n",
    "        board.push(moves[z])\n",
    "print('Elapsed time(hh:mm:ss): ' + str(datetime.timedelta(seconds=round(time() - t_s))))    "
   ]
  },
  {
   "cell_type": "code",
   "execution_count": null,
   "metadata": {},
   "outputs": [],
   "source": [
    "mv_idx = 0\n",
    "\n",
    "t_s = time()\n",
    "\n",
    "for i in range(nb_sims):\n",
    "    # create deepcopy of the board\n",
    "    board = deepcopy(board_in)\n",
    "    for z in range(nb_moves_per_game):\n",
    "        try:\n",
    "            board.push(moves[mv_idx])\n",
    "            mv_idx += 1\n",
    "        except:\n",
    "            pass\n",
    "        \n",
    "print('Elapsed time(hh:mm:ss): ' + str(datetime.timedelta(seconds=round(time() - t_s)))) "
   ]
  },
  {
   "cell_type": "code",
   "execution_count": null,
   "metadata": {},
   "outputs": [],
   "source": [
    "len(moves)"
   ]
  },
  {
   "cell_type": "code",
   "execution_count": null,
   "metadata": {},
   "outputs": [],
   "source": [
    "mv_idx"
   ]
  },
  {
   "cell_type": "code",
   "execution_count": null,
   "metadata": {},
   "outputs": [],
   "source": [
    "board_in = chess.variant.CrazyhouseBoard()\n",
    "\n",
    "t_s = time()\n",
    "\n",
    "nb_half_moves = 0\n",
    "boards = []\n",
    "nb_sims = 1000\n",
    "nb_moves_per_game = 42\n",
    "\n",
    "for board_fen in boards:\n",
    "    # create deepcopy of the board\n",
    "    board = deepcopy(board_in)\n",
    "\n",
    "    board.set_fen(board.fen())\n",
    "    \n",
    "    for z in range(nb_moves_per_game):\n",
    "\n",
    "        # select a random legal move\n",
    "        mv_list = list(board.legal_moves)\n",
    "\n",
    "        if  len(mv_list) > 0:\n",
    "            # take a random legal move\n",
    "            mv_idx = np.random.randint(len(mv_list))\n",
    "\n",
    "            # apply the move to the board\n",
    "            board.push(mv_list[mv_idx])\n",
    "            nb_half_moves += 1\n",
    "        else:\n",
    "            break\n",
    "\n",
    "        boards.append(board)\n",
    "\n",
    "print('Elapsed time(hh:mm:ss): ' + str(datetime.timedelta(seconds=round(time() - t_s))))    "
   ]
  },
  {
   "cell_type": "code",
   "execution_count": null,
   "metadata": {},
   "outputs": [],
   "source": []
  }
 ],
 "metadata": {
  "kernelspec": {
   "display_name": "Python 3",
   "language": "python",
   "name": "python3"
  },
  "language_info": {
   "codemirror_mode": {
    "name": "ipython",
    "version": 3
   },
   "file_extension": ".py",
   "mimetype": "text/x-python",
   "name": "python",
   "nbconvert_exporter": "python",
   "pygments_lexer": "ipython3"
  }
 },
 "nbformat": 4,
 "nbformat_minor": 2
}

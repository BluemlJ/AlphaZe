{
 "cells": [
  {
   "cell_type": "markdown",
   "metadata": {},
   "source": [
    "# Deep Crazyhouse\n",
    "\n",
    "\n",
    "## Conversion of PGN files to Image-Plane Representation\n",
    "\n",
    "* file: convert_pgn_to_planes.ipynb\n",
    "* brief: Loads in a png-file from the lichess crazyhouse dataset and converts it to plane representation. The plane representations can later be used by a convolutional neural network.\n",
    "\n",
    "* author: QueensGambit\n",
    "* contact: johannes.czech@stud.tu-darmstadt.de\n",
    "* versions:\n",
    "    * 2018-06-10 initial version\n",
    "    * 2019-09-28 added support for all lichess variants\n",
    "    * 2020-08-14 added min_number_moves (default: 5), fixed min_elo_both threshold       "
   ]
  },
  {
   "cell_type": "code",
   "execution_count": null,
   "metadata": {},
   "outputs": [],
   "source": [
    "%load_ext autoreload\n",
    "%autoreload 2"
   ]
  },
  {
   "cell_type": "code",
   "execution_count": null,
   "metadata": {},
   "outputs": [],
   "source": [
    "%reload_ext autoreload"
   ]
  },
  {
   "cell_type": "code",
   "execution_count": null,
   "metadata": {},
   "outputs": [],
   "source": [
    "import sys, os\n",
    "sys.path.insert(0,'../../../')\n",
    "import os\n",
    "import sys\n",
    "from DeepCrazyhouse.src.preprocessing.pgn_to_planes_converter import PGN2PlanesConverter\n",
    "from DeepCrazyhouse.src.runtime.color_logger import enable_color_logging\n",
    "enable_color_logging()\n",
    "import logging"
   ]
  },
  {
   "cell_type": "markdown",
   "metadata": {},
   "source": [
    "## Settings"
   ]
  },
  {
   "cell_type": "code",
   "execution_count": null,
   "metadata": {},
   "outputs": [],
   "source": [
    "nb_games_per_file = 1000\n",
    "# Rating cap at 90% cumulative rating for all varaints\n",
    "min_elo_both = {\n",
    "#    \"Chess\": 2200,\n",
    "#    \"Crazyhouse\": 2000,\n",
    "#    \"Chess960\": 1950,\n",
    "#    \"King of the Hill\": 1925,\n",
    "#    \"Three-check\": 1900,\n",
    "    \"Atomic\": 1900,\n",
    "#    \"Horde\": 1900,\n",
    "#    \"Racing Kings\": 1900\n",
    "} # is ignored if \"use_all_games\" is True\n",
    "use_all_games = False"
   ]
  },
  {
   "cell_type": "markdown",
   "metadata": {},
   "source": [
    "### Export the Train Games"
   ]
  },
  {
   "cell_type": "code",
   "execution_count": null,
   "metadata": {
    "scrolled": false
   },
   "outputs": [],
   "source": [
    "PGN2PlanesConverter(limit_nb_games_to_analyze=0, nb_games_per_file=nb_games_per_file,\n",
    "                  max_nb_files=0, min_elo_both=min_elo_both, termination_conditions=[\"Normal\"], log_lvl=logging.DEBUG,\n",
    "                  compression='lz4', clevel=5, dataset_type='train', use_all_games=use_all_games).convert_all_pgns_to_planes()"
   ]
  },
  {
   "cell_type": "markdown",
   "metadata": {},
   "source": [
    "### Export the Validation Games"
   ]
  },
  {
   "cell_type": "code",
   "execution_count": null,
   "metadata": {
    "scrolled": false
   },
   "outputs": [],
   "source": [
    "PGN2PlanesConverter(limit_nb_games_to_analyze=0, nb_games_per_file=nb_games_per_file,\n",
    "                  max_nb_files=1, min_elo_both=min_elo_both, termination_conditions=[\"Normal\"], log_lvl=logging.DEBUG,\n",
    "                  compression='lz4', clevel=5, dataset_type='val', use_all_games=use_all_games).convert_all_pgns_to_planes()"
   ]
  },
  {
   "cell_type": "markdown",
   "metadata": {},
   "source": [
    "### Export the Test Games"
   ]
  },
  {
   "cell_type": "code",
   "execution_count": null,
   "metadata": {
    "scrolled": false
   },
   "outputs": [],
   "source": [
    "PGN2PlanesConverter(limit_nb_games_to_analyze=0, nb_games_per_file=nb_games_per_file,\n",
    "                  max_nb_files=1, min_elo_both=min_elo_both, termination_conditions=[\"Normal\"], log_lvl=logging.DEBUG,\n",
    "                  compression='lz4', clevel=5, dataset_type='test', use_all_games=use_all_games).convert_all_pgns_to_planes()"
   ]
  },
  {
   "cell_type": "markdown",
   "metadata": {
    "collapsed": true
   },
   "source": [
    "### Export Mate in Ones"
   ]
  },
  {
   "cell_type": "code",
   "execution_count": null,
   "metadata": {
    "scrolled": false
   },
   "outputs": [],
   "source": [
    "PGN2PlanesConverter(limit_nb_games_to_analyze=0, nb_games_per_file=nb_games_per_file,\n",
    "                      max_nb_files=1, min_elo_both=min_elo_both, termination_conditions=[\"Normal\"], log_lvl=logging.DEBUG,\n",
    "                      compression='lz4', clevel=5, dataset_type='mate_in_one').convert_all_pgns_to_planes()"
   ]
  },
  {
   "cell_type": "code",
   "execution_count": null,
   "metadata": {},
   "outputs": [],
   "source": []
  }
 ],
 "metadata": {
  "kernelspec": {
   "display_name": "Python 3",
   "language": "python",
   "name": "python3"
  },
  "language_info": {
   "codemirror_mode": {
    "name": "ipython",
    "version": 3
   },
   "file_extension": ".py",
   "mimetype": "text/x-python",
   "name": "python",
   "nbconvert_exporter": "python",
   "pygments_lexer": "ipython3",
   "version": "3.7.6"
  }
 },
 "nbformat": 4,
 "nbformat_minor": 2
}

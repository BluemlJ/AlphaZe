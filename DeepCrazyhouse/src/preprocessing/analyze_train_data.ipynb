{
 "cells": [
  {
   "cell_type": "markdown",
   "metadata": {},
   "source": [
    "# CrazyAra\n",
    "\n",
    "## Data Analysis of the Training Data\n",
    "\n",
    "* file: analyze_train_data.ipynb\n",
    "* brief: Filterts out the used games of lichess crazyhouse dataset and does some analysis on it.\n",
    "\n",
    "* author: QueensGambit\n",
    "* contact: johannes.czech@stud.tu-darmstadt.de\n",
    "* version: 2018-11-28 initial version\n"
   ]
  },
  {
   "cell_type": "code",
   "execution_count": 21,
   "metadata": {},
   "outputs": [
    {
     "name": "stdout",
     "output_type": "stream",
     "text": [
      "The autoreload extension is already loaded. To reload it, use:\n",
      "  %reload_ext autoreload\n"
     ]
    }
   ],
   "source": [
    "%load_ext autoreload\n",
    "%autoreload 2"
   ]
  },
  {
   "cell_type": "code",
   "execution_count": 22,
   "metadata": {},
   "outputs": [],
   "source": [
    "%reload_ext autoreload"
   ]
  },
  {
   "cell_type": "code",
   "execution_count": 23,
   "metadata": {},
   "outputs": [],
   "source": [
    "import sys, os\n",
    "sys.path.insert(0,'../../../')\n",
    "import os\n",
    "import sys\n",
    "#from DeepCrazyhouse.src.preprocessing.PGN2PlanesConverter import PGN2PlanesConverter\n",
    "from DeepCrazyhouse.src.runtime.color_logger import enable_color_logging\n",
    "from DeepCrazyhouse.src.preprocessing.dataset_loader import load_pgn_dataset\n",
    "import logging\n",
    "from io import StringIO\n",
    "import matplotlib.pyplot as plt\n",
    "import seaborn as sns\n",
    "import chess.pgn\n",
    "import pandas as pd\n",
    "import numpy as np"
   ]
  },
  {
   "cell_type": "code",
   "execution_count": 25,
   "metadata": {},
   "outputs": [],
   "source": [
    "%matplotlib inline\n",
    "plt.style.use('seaborn-whitegrid')\n",
    "plt.style.use('seaborn-colorblind')\n",
    "#enable_color_logging()"
   ]
  },
  {
   "cell_type": "markdown",
   "metadata": {},
   "source": [
    "## Settings\n",
    "_same as_ `convert_pgn_to_planes.ipynb`"
   ]
  },
  {
   "cell_type": "code",
   "execution_count": 5,
   "metadata": {},
   "outputs": [],
   "source": [
    "min_elo_both = 2000\n",
    "nb_games_per_file = 1000"
   ]
  },
  {
   "cell_type": "code",
   "execution_count": 6,
   "metadata": {},
   "outputs": [
    {
     "ename": "Exception",
     "evalue": "There aren't enough parts available in the given directory for partid=0",
     "output_type": "error",
     "traceback": [
      "\u001b[0;31m---------------------------------------------------------------------------\u001b[0m",
      "\u001b[0;31mException\u001b[0m                                 Traceback (most recent call last)",
      "\u001b[0;32m<ipython-input-6-59b4b591feb2>\u001b[0m in \u001b[0;36m<module>\u001b[0;34m()\u001b[0m\n\u001b[0;32m----> 1\u001b[0;31m \u001b[0ms_idcs\u001b[0m\u001b[0;34m,\u001b[0m \u001b[0mx\u001b[0m\u001b[0;34m,\u001b[0m \u001b[0myv\u001b[0m\u001b[0;34m,\u001b[0m \u001b[0myp\u001b[0m\u001b[0;34m,\u001b[0m \u001b[0mpgn_dataset\u001b[0m \u001b[0;34m=\u001b[0m \u001b[0mload_pgn_dataset\u001b[0m\u001b[0;34m(\u001b[0m\u001b[0;34m)\u001b[0m\u001b[0;34m\u001b[0m\u001b[0m\n\u001b[0m",
      "\u001b[0;32m~/Programming/Deep_Learning/CrazyAra/DeepCrazyhouse/src/preprocessing/dataset_loader.py\u001b[0m in \u001b[0;36mload_pgn_dataset\u001b[0;34m(dataset_type, part_id, print_statistics, print_parameters, verbose, normalize)\u001b[0m\n\u001b[1;32m     64\u001b[0m \u001b[0;34m\u001b[0m\u001b[0m\n\u001b[1;32m     65\u001b[0m     \u001b[0;32mif\u001b[0m \u001b[0mlen\u001b[0m\u001b[0;34m(\u001b[0m\u001b[0mzarr_filepaths\u001b[0m\u001b[0;34m)\u001b[0m \u001b[0;34m<\u001b[0m \u001b[0mpart_id\u001b[0m \u001b[0;34m+\u001b[0m \u001b[0;36m1\u001b[0m\u001b[0;34m:\u001b[0m\u001b[0;34m\u001b[0m\u001b[0m\n\u001b[0;32m---> 66\u001b[0;31m         \u001b[0;32mraise\u001b[0m \u001b[0mException\u001b[0m\u001b[0;34m(\u001b[0m\u001b[0;34m\"There aren't enough parts available in the given directory for partid=\"\u001b[0m \u001b[0;34m+\u001b[0m \u001b[0mstr\u001b[0m\u001b[0;34m(\u001b[0m\u001b[0mpart_id\u001b[0m\u001b[0;34m)\u001b[0m\u001b[0;34m)\u001b[0m\u001b[0;34m\u001b[0m\u001b[0m\n\u001b[0m\u001b[1;32m     67\u001b[0m \u001b[0;34m\u001b[0m\u001b[0m\n\u001b[1;32m     68\u001b[0m     \u001b[0;31m# load the zarr-files\u001b[0m\u001b[0;34m\u001b[0m\u001b[0;34m\u001b[0m\u001b[0m\n",
      "\u001b[0;31mException\u001b[0m: There aren't enough parts available in the given directory for partid=0"
     ]
    }
   ],
   "source": [
    "s_idcs, x, yv, yp, pgn_dataset = load_pgn_dataset()"
   ]
  },
  {
   "cell_type": "code",
   "execution_count": null,
   "metadata": {},
   "outputs": [],
   "source": [
    "pgn_dataset.tree()"
   ]
  },
  {
   "cell_type": "code",
   "execution_count": null,
   "metadata": {},
   "outputs": [],
   "source": [
    "converter = PGN2PlanesConverter(limit_nb_games_to_analyze=0, nb_games_per_file=nb_games_per_file,\n",
    "                  max_nb_files=0, min_elo_both=min_elo_both, termination_conditions=[\"Normal\"], log_lvl=logging.DEBUG,\n",
    "                  compression='lz4', clevel=5, dataset_type='train')"
   ]
  },
  {
   "cell_type": "code",
   "execution_count": null,
   "metadata": {},
   "outputs": [],
   "source": [
    "lst_all_pgn_sel, lst_nb_games_sel, lst_batch_white_won, lst_batch_black_won, lst_batch_draw = converter.filter_all_pgns()"
   ]
  },
  {
   "cell_type": "code",
   "execution_count": null,
   "metadata": {},
   "outputs": [],
   "source": [
    "sum(lst_nb_games_sel)"
   ]
  },
  {
   "cell_type": "code",
   "execution_count": null,
   "metadata": {},
   "outputs": [],
   "source": [
    "file = open('crazyara_lichess_dataset.pgn', mode='w')"
   ]
  },
  {
   "cell_type": "code",
   "execution_count": null,
   "metadata": {},
   "outputs": [],
   "source": [
    "for pgn_sel in lst_all_pgn_sel:\n",
    "    for pgn in pgn_sel:\n",
    "        file.writelines(pgn.readlines())"
   ]
  },
  {
   "cell_type": "code",
   "execution_count": null,
   "metadata": {},
   "outputs": [],
   "source": [
    "file.close()"
   ]
  },
  {
   "cell_type": "code",
   "execution_count": null,
   "metadata": {},
   "outputs": [],
   "source": [
    "pgn = open('crazyara_lichess_dataset.pgn')\n"
   ]
  },
  {
   "cell_type": "code",
   "execution_count": null,
   "metadata": {},
   "outputs": [],
   "source": [
    "columns=['Event','Site','Date','Round','White','Black','Result', 'WhiteElo', 'BlackElo', 'WhiteRatingDiff', 'BlackRatingDiff', 'Termination', 'TimeControl', 'UTCDate', 'UTCTime', 'Variant']"
   ]
  },
  {
   "cell_type": "code",
   "execution_count": null,
   "metadata": {},
   "outputs": [],
   "source": [
    "nb_games"
   ]
  },
  {
   "cell_type": "code",
   "execution_count": null,
   "metadata": {},
   "outputs": [],
   "source": [
    "len(lst_all_pgn_sel[0])"
   ]
  },
  {
   "cell_type": "code",
   "execution_count": null,
   "metadata": {},
   "outputs": [],
   "source": [
    "len(df)"
   ]
  },
  {
   "cell_type": "markdown",
   "metadata": {},
   "source": [
    "## Fill the pandas dataframe"
   ]
  },
  {
   "cell_type": "code",
   "execution_count": null,
   "metadata": {},
   "outputs": [],
   "source": [
    "# this list contains the full data of the pandas table\n",
    "data = []\n",
    "\n",
    "# read the first game\n",
    "game = chess.pgn.read_game(pgn)\n",
    "\n",
    "\n",
    "# read in all games one by one\n",
    "for offset, headers in chess.pgn.scan_headers(pgn):\n",
    "#while game is not None:\n",
    "    row = []\n",
    "    # iterate over all collumns\n",
    "    for colname in columns:\n",
    "        # fill one row of data\n",
    "        try:\n",
    "            row.append(headers[colname])\n",
    "        except KeyError:\n",
    "            # add empty value if entry is missing\n",
    "            row.append([])\n",
    "            print(headers)\n",
    "    # add the row to the full table content\n",
    "    data.append(row)\n",
    "    # read in the next game\n",
    "    #game = chess.pgn.read_game_h(pgn)\n",
    "                "
   ]
  },
  {
   "cell_type": "code",
   "execution_count": null,
   "metadata": {},
   "outputs": [],
   "source": [
    "pgn.close()"
   ]
  },
  {
   "cell_type": "code",
   "execution_count": null,
   "metadata": {},
   "outputs": [],
   "source": [
    "df = pd.DataFrame(data, columns=columns)"
   ]
  },
  {
   "cell_type": "markdown",
   "metadata": {},
   "source": [
    "## Export the dataframe"
   ]
  },
  {
   "cell_type": "code",
   "execution_count": null,
   "metadata": {},
   "outputs": [],
   "source": [
    "df.to_csv('crazyara_lichess_dataset_stats.csv')"
   ]
  },
  {
   "cell_type": "markdown",
   "metadata": {},
   "source": [
    "### Load the dataframe"
   ]
  },
  {
   "cell_type": "code",
   "execution_count": 5,
   "metadata": {},
   "outputs": [
    {
     "name": "stderr",
     "output_type": "stream",
     "text": [
      "/home/queensgambit/anaconda3/lib/python3.6/site-packages/ipykernel_launcher.py:2: FutureWarning: from_csv is deprecated. Please use read_csv(...) instead. Note that some of the default arguments are different, so please refer to the documentation for from_csv when changing your function calls\n",
      "  \n",
      "/home/queensgambit/anaconda3/lib/python3.6/site-packages/IPython/core/interactiveshell.py:2903: DtypeWarning: Columns (10,11) have mixed types. Specify dtype option on import or set low_memory=False.\n",
      "  if self.run_code(code, result):\n"
     ]
    }
   ],
   "source": [
    "file_path = '/media/queensgambit/2037-A8A6/etc/CrazyAraStuff/data/crazyara_lichess_dataset_stats.csv' # 'crazyara_lichess_dataset_stats.csv'\n",
    "df = pd.DataFrame.from_csv(file_path)"
   ]
  },
  {
   "cell_type": "code",
   "execution_count": 6,
   "metadata": {},
   "outputs": [],
   "source": [
    "df_full = pd.concat([df['White'], df['Black']])"
   ]
  },
  {
   "cell_type": "code",
   "execution_count": 7,
   "metadata": {},
   "outputs": [
    {
     "data": {
      "text/plain": [
       "mathace                4.52\n",
       "ciw                    3.68\n",
       "retardedplatypus123    3.45\n",
       "xuanet                 3.38\n",
       "dovijanic              3.14\n",
       "KyleLegion             2.67\n",
       "JannLee                2.52\n",
       "crosky                 2.51\n",
       "mariorton              2.36\n",
       "opperwezen             2.27\n",
       "dtype: float64"
      ]
     },
     "execution_count": 7,
     "metadata": {},
     "output_type": "execute_result"
    }
   ],
   "source": [
    "((df_full.value_counts()[:10] / len(df)) * 100).round(2)"
   ]
  },
  {
   "cell_type": "code",
   "execution_count": 8,
   "metadata": {},
   "outputs": [],
   "source": [
    "elo = np.concatenate((df['WhiteElo'].values, df['BlackElo'].values))"
   ]
  },
  {
   "cell_type": "code",
   "execution_count": 9,
   "metadata": {},
   "outputs": [
    {
     "data": {
      "text/plain": [
       "array([2537., 2095., 2542., ..., 2046., 2010., 2219.])"
      ]
     },
     "execution_count": 9,
     "metadata": {},
     "output_type": "execute_result"
    }
   ],
   "source": [
    "elo.astype(np.float)"
   ]
  },
  {
   "cell_type": "code",
   "execution_count": 10,
   "metadata": {},
   "outputs": [
    {
     "data": {
      "text/plain": [
       "5000"
      ]
     },
     "execution_count": 10,
     "metadata": {},
     "output_type": "execute_result"
    }
   ],
   "source": [
    "len(elo[-5000:])"
   ]
  },
  {
   "cell_type": "code",
   "execution_count": 11,
   "metadata": {},
   "outputs": [],
   "source": [
    "export_plots = False"
   ]
  },
  {
   "cell_type": "code",
   "execution_count": 12,
   "metadata": {},
   "outputs": [],
   "source": [
    "sns_cmap = sns.color_palette(palette='colorblind')"
   ]
  },
  {
   "cell_type": "code",
   "execution_count": 13,
   "metadata": {},
   "outputs": [],
   "source": [
    "# https://matplotlib.org/gallery/statistics/barchart_demo.html#sphx-glr-gallery-statistics-barchart-demo-py\n",
    "def attach_ordinal(num):\n",
    "    \"\"\"helper function to add ordinal string to integers\n",
    "\n",
    "    1 -> 1st\n",
    "    56 -> 56th\n",
    "    \"\"\"\n",
    "    suffixes = {str(i): v\n",
    "                for i, v in enumerate(['th', 'st', 'nd', 'rd', 'th',\n",
    "                                       'th', 'th', 'th', 'th', 'th'])}\n",
    "\n",
    "    v = str(num)\n",
    "    # special case early teens\n",
    "    if v in {'11', '12', '13'}:\n",
    "        return v + 'th'\n",
    "    return v + suffixes[v[-1]]\n"
   ]
  },
  {
   "cell_type": "code",
   "execution_count": 14,
   "metadata": {
    "scrolled": false
   },
   "outputs": [
    {
     "name": "stdout",
     "output_type": "stream",
     "text": [
      "2019-05-19 21:18:35 matplotlib.axes._base[5754] \u001b[1mDEBUG\u001b[0m \u001b[32mupdate_title_pos\u001b[0m\n",
      "2019-05-19 21:18:35 matplotlib.font_manager[5754] \u001b[1mDEBUG\u001b[0m \u001b[32mfindfont: Matching :family=sans-serif:style=normal:variant=normal:weight=normal:stretch=normal:size=10.0 to Liberation Sans ('/usr/share/fonts/truetype/liberation/LiberationSans-Regular.ttf') with score of 2.050000.\u001b[0m\n",
      "2019-05-19 21:18:35 matplotlib.font_manager[5754] \u001b[1mDEBUG\u001b[0m \u001b[32mfindfont: Matching :family=sans-serif:style=normal:variant=normal:weight=normal:stretch=normal:size=12.0 to Liberation Sans ('/usr/share/fonts/truetype/liberation/LiberationSans-Regular.ttf') with score of 2.050000.\u001b[0m\n",
      "2019-05-19 21:18:35 matplotlib.axes._base[5754] \u001b[1mDEBUG\u001b[0m \u001b[32mupdate_title_pos\u001b[0m\n",
      "2019-05-19 21:18:35 matplotlib.axes._base[5754] \u001b[1mDEBUG\u001b[0m \u001b[32mupdate_title_pos\u001b[0m\n",
      "2019-05-19 21:18:35 matplotlib.axes._base[5754] \u001b[1mDEBUG\u001b[0m \u001b[32mupdate_title_pos\u001b[0m\n",
      "2019-05-19 21:18:35 matplotlib.font_manager[5754] \u001b[1mDEBUG\u001b[0m \u001b[32mfindfont: Matching :family=sans-serif:style=normal:variant=normal:weight=normal:stretch=normal:size=20.0 to Liberation Sans ('/usr/share/fonts/truetype/liberation/LiberationSans-Regular.ttf') with score of 2.050000.\u001b[0m\n",
      "2019-05-19 21:18:35 matplotlib.axes._base[5754] \u001b[1mDEBUG\u001b[0m \u001b[32mupdate_title_pos\u001b[0m\n",
      "2019-05-19 21:18:35 matplotlib.axes._base[5754] \u001b[1mDEBUG\u001b[0m \u001b[32mupdate_title_pos\u001b[0m\n",
      "2019-05-19 21:18:35 matplotlib.axes._base[5754] \u001b[1mDEBUG\u001b[0m \u001b[32mupdate_title_pos\u001b[0m\n",
      "2019-05-19 21:18:35 matplotlib.axes._base[5754] \u001b[1mDEBUG\u001b[0m \u001b[32mupdate_title_pos\u001b[0m\n",
      "2019-05-19 21:18:36 matplotlib.axes._base[5754] \u001b[1mDEBUG\u001b[0m \u001b[32mupdate_title_pos\u001b[0m\n",
      "2019-05-19 21:18:36 matplotlib.axes._base[5754] \u001b[1mDEBUG\u001b[0m \u001b[32mupdate_title_pos\u001b[0m\n",
      "2019-05-19 21:18:36 matplotlib.axes._base[5754] \u001b[1mDEBUG\u001b[0m \u001b[32mupdate_title_pos\u001b[0m\n",
      "2019-05-19 21:18:36 matplotlib.axes._base[5754] \u001b[1mDEBUG\u001b[0m \u001b[32mupdate_title_pos\u001b[0m\n",
      "2019-05-19 21:18:36 matplotlib.axes._base[5754] \u001b[1mDEBUG\u001b[0m \u001b[32mupdate_title_pos\u001b[0m\n",
      "2019-05-19 21:18:36 matplotlib.axes._base[5754] \u001b[1mDEBUG\u001b[0m \u001b[32mupdate_title_pos\u001b[0m\n",
      "2019-05-19 21:18:36 matplotlib.axes._base[5754] \u001b[1mDEBUG\u001b[0m \u001b[32mupdate_title_pos\u001b[0m\n",
      "2019-05-19 21:18:36 matplotlib.axes._base[5754] \u001b[1mDEBUG\u001b[0m \u001b[32mupdate_title_pos\u001b[0m\n",
      "2019-05-19 21:18:36 matplotlib.axes._base[5754] \u001b[1mDEBUG\u001b[0m \u001b[32mupdate_title_pos\u001b[0m\n",
      "2019-05-19 21:18:36 matplotlib.axes._base[5754] \u001b[1mDEBUG\u001b[0m \u001b[32mupdate_title_pos\u001b[0m\n",
      "2019-05-19 21:18:36 matplotlib.axes._base[5754] \u001b[1mDEBUG\u001b[0m \u001b[32mupdate_title_pos\u001b[0m\n",
      "2019-05-19 21:18:36 matplotlib.axes._base[5754] \u001b[1mDEBUG\u001b[0m \u001b[32mupdate_title_pos\u001b[0m\n"
     ]
    },
    {
     "data": {
      "image/png": "[encoded data removed]",
      "text/plain": [
       "<Figure size 1080x864 with 4 Axes>"
      ]
     },
     "metadata": {},
     "output_type": "display_data"
    }
   ],
   "source": [
    "def example_plot(ax, fontsize=12):\n",
    "    ax.plot([1, 2])\n",
    "    ax.locator_params(nbins=3)\n",
    "    ax.set_xlabel('x-label', fontsize=fontsize)\n",
    "    ax.set_ylabel('y-label', fontsize=fontsize)\n",
    "    ax.set_title('Title', fontsize=fontsize)\n",
    "        \n",
    "plt.close('all')\n",
    "fig = plt.figure(figsize=(10*1.5,8*1.5))\n",
    "\n",
    "ax1 = plt.subplot(211)\n",
    "ax2 = plt.subplot(425)\n",
    "ax3 = plt.subplot(224)\n",
    "ax4 = plt.subplot(427)\n",
    "\n",
    "top_x = 20\n",
    "cum_perc = df_full.value_counts()[:top_x].sum() / len(df) * 100\n",
    "\n",
    "plt.suptitle(\"CrazyAra's Traing Data\\n569,537 Games total (%.2f\" % cum_perc + \"% \" + \"by %d players)\" % top_x, y=1.05, size=20)\n",
    "\n",
    "#ax = (df_full.value_counts()[:20][::-1] / len(df) * 100).plot('barh', title=\"CrazyAra's Traing Data\")\n",
    "ax = (df_full.value_counts()[:top_x][::-1]).plot('barh', color=sns.color_palette(\"GnBu_d\", top_x), #color=sns_cmap[0],\n",
    "                                                 title=\"\\nTop %d Active Crazyhouse-Players with Matches >= 2,000 elo for both Players\\nfrom January 2016 to June 2018 (database.lichess.org/)\" % top_x, ax=ax1)\n",
    "#rects = ax1.barh(range(top_x), df_full.value_counts()[:top_x][::-1],\n",
    "#                color=sns.cubehelix_palette(top_x, start=.5, rot=-.75)[::-1],)\n",
    "#y_labels = list(df_full[:top_x]) #[::-1])\n",
    "#ax1.set_yticklabels(y_labels)\n",
    "                # title=\"\\nTop %d Active Crazyhouse-Players with Matches >= 2,000 elo for both Players\\nfrom January 2016 to June 2018 (database.lichess.org/)\" % top_x)\n",
    "ax.set_xlabel(\"Number of Games\")\n",
    "#ax1.set_title('\\nTop %d Active Crazyhouse-Players with Matches >= 2,000 elo for both Players\\nfrom January 2016 to June 2018 (database.lichess.org/)\" % top_x)')\n",
    "rect_labels = []\n",
    "# Lastly, write in the ranking inside each bar to aid in interpretation\n",
    "for i, rect in enumerate(ax.patches):\n",
    "    # Rectangle widths are already integer-valued but are floating\n",
    "    # type, so it helps to remove the trailing decimal point and 0 by\n",
    "    # converting width to int type\n",
    "    width = int(rect.get_width())\n",
    "\n",
    "    rankStr = attach_ordinal(top_x-i)\n",
    "    # The bars aren't wide enough to print the ranking inside\n",
    "    if True: #width < 40:\n",
    "        # Shift the text to the right side of the right edge\n",
    "        xloc = 5\n",
    "        # Black against white background\n",
    "        clr = 'black'\n",
    "        align = 'left'\n",
    "    else:\n",
    "        # Shift the text to the left side of the right edge\n",
    "        xloc = -5\n",
    "        # White on magenta\n",
    "        clr = 'white'\n",
    "        align = 'right'\n",
    "\n",
    "    # Center the text vertically in the bar\n",
    "    yloc = rect.get_y() + rect.get_height() / 2\n",
    "    label = ax1.annotate(rankStr, xy=(width, yloc), xytext=(xloc, 0),\n",
    "                        textcoords=\"offset points\",\n",
    "                        ha=align, va='center',\n",
    "                        color=clr, clip_on=True) #, weight='bold')\n",
    "    rect_labels.append(label)\n",
    "    \n",
    "ax.set_ylabel(\"Crazyhouse Players on lichess.org\")\n",
    "\n",
    "ax2.hist(elo[-5000000:]) #, bins=15)\n",
    "ax2.axvline(x=elo.mean(), linewidth=2, color='lightblue')\n",
    "ax2.text(elo.mean() + elo.mean()*.02,5000000 / 20, \"mean=%.2f\" % elo.mean(), fontsize=12)\n",
    "ax2.set_title(\"Elo Rating\")\n",
    "ax2.set_xlabel(\"Rating\")\n",
    "\n",
    "#example_plot(ax1)\n",
    "#example_plot(ax2)\n",
    "#example_plot(ax3)\n",
    "\n",
    "labels = ['Bullet', 'Blitz', 'Bullet', 'Bullet', 'Blitz', 'Blitz', 'Blitz', 'Blitz', 'Bullet', 'Bullet', 'Bullet', 'Bullet', 'Bullet', 'Blitz', 'Bullet']\n",
    "df['TimeControl'].value_counts()[:15][::-1].plot('barh', title='Time Control', ax=ax3) #, label=labels[0])\n",
    "#rects = ax3.barh(y=range(15), width=df['TimeControl'].value_counts()[:15]) #, label=labels)\n",
    "#for rect, label in zip(rects, labels):\n",
    "    #rect.label = label\n",
    "\n",
    "        \n",
    "ax3.set_xlabel(\"Number of Games\")\n",
    "ax3.legend()\n",
    "\n",
    "df['Result'].value_counts()[::-1].plot('barh', ax=ax4, color=[sns_cmap[0], sns_cmap[2], sns_cmap[1]])\n",
    "ax4.set_title('Game Results')\n",
    "ax4.set_xlabel(\"Number of Games\")\n",
    "\n",
    "#plt.tight_layout()\n",
    "\n",
    "if export_plots:\n",
    "    plt.savefig(\"plots/crazyara_training_data.png\", bbox_inches='tight')\n",
    "    plt.savefig(\"plots/crazyara_training_data.pdf\", bbox_inches='tight')"
   ]
  },
  {
   "cell_type": "code",
   "execution_count": 16,
   "metadata": {},
   "outputs": [],
   "source": [
    "import matplotlib2tikz"
   ]
  },
  {
   "cell_type": "code",
   "execution_count": 14,
   "metadata": {},
   "outputs": [],
   "source": [
    "export_plots = True"
   ]
  },
  {
   "cell_type": "code",
   "execution_count": 27,
   "metadata": {},
   "outputs": [],
   "source": [
    "plt.rc('text', usetex=True)\n",
    "plt.rc('font', family='serif')"
   ]
  },
  {
   "cell_type": "code",
   "execution_count": 24,
   "metadata": {
    "scrolled": false
   },
   "outputs": [
    {
     "data": {
      "image/png": "[encoded data removed]",
      "text/plain": [
       "<Figure size 720x288 with 1 Axes>"
      ]
     },
     "metadata": {},
     "output_type": "display_data"
    }
   ],
   "source": [
    "top_x = 20\n",
    "fig = plt.figure(figsize=(10,4))\n",
    "ax = (df_full.value_counts()[:top_x][::-1]).plot('barh', color=sns.color_palette(\"GnBu_d\", top_x)) #color=sns_cmap[0],\n",
    "                                                 #title=\"\\nTop %d Active Crazyhouse-Players with Matches >= 2,000 elo for both Players\\nfrom January 2016 to June 2018 (database.lichess.org/)\" % top_x)\n",
    "#rects = ax1.barh(range(top_x), df_full.value_counts()[:top_x][::-1],\n",
    "#                color=sns.cubehelix_palette(top_x, start=.5, rot=-.75)[::-1],)\n",
    "#y_labels = list(df_full[:top_x]) #[::-1])\n",
    "#ax1.set_yticklabels(y_labels)\n",
    "                # title=\"\\nTop %d Active Crazyhouse-Players with Matches >= 2,000 elo for both Players\\nfrom January 2016 to June 2018 (database.lichess.org/)\" % top_x)\n",
    "ax.set_xlabel(\"Number of Games\")\n",
    "#ax1.set_title('\\nTop %d Active Crazyhouse-Players with Matches >= 2,000 elo for both Players\\nfrom January 2016 to June 2018 (database.lichess.org/)\" % top_x)')\n",
    "rect_labels = []\n",
    "# Lastly, write in the ranking inside each bar to aid in interpretation\n",
    "for i, rect in enumerate(ax.patches):\n",
    "    # Rectangle widths are already integer-valued but are floating\n",
    "    # type, so it helps to remove the trailing decimal point and 0 by\n",
    "    # converting width to int type\n",
    "    width = int(rect.get_width())\n",
    "\n",
    "    rankStr = attach_ordinal(top_x-i)\n",
    "    # The bars aren't wide enough to print the ranking inside\n",
    "    if True: #width < 40:\n",
    "        # Shift the text to the right side of the right edge\n",
    "        xloc = 5\n",
    "        # Black against white background\n",
    "        clr = 'black'\n",
    "        align = 'left'\n",
    "    else:\n",
    "        # Shift the text to the left side of the right edge\n",
    "        xloc = -5\n",
    "        # White on magenta\n",
    "        clr = 'white'\n",
    "        align = 'right'\n",
    "\n",
    "    # Center the text vertically in the bar\n",
    "    yloc = rect.get_y() + rect.get_height() / 2\n",
    "    label = ax.annotate(rankStr, xy=(width, yloc), xytext=(xloc, 0),\n",
    "                        textcoords=\"offset points\",\n",
    "                        ha=align, va='center',\n",
    "                        color=clr, clip_on=True) #, weight='bold')\n",
    "    rect_labels.append(label)\n",
    "    \n",
    "ax.set_ylabel(\"Crazyhouse Players on lichess.org\")\n",
    "plt.tight_layout()\n",
    "\n",
    "if export_plots:\n",
    "    plt.savefig(\"plots/top_active_cz_players.png\", bbox_inches='tight')\n",
    "    plt.savefig(\"plots/top_active_cz_players.pdf\", bbox_inches='tight')\n",
    "#matplotlib2tikz.save(\"plots/tikz/top_active_cz_players.tex\")"
   ]
  },
  {
   "cell_type": "code",
   "execution_count": 16,
   "metadata": {},
   "outputs": [],
   "source": [
    "from matplotlib import rc\n",
    "#rc('font',**{'family':'sans-serif','sans-serif':['Helvetica']})\n",
    "rc('text', usetex=True)"
   ]
  },
  {
   "cell_type": "code",
   "execution_count": 29,
   "metadata": {
    "scrolled": false
   },
   "outputs": [
    {
     "data": {
      "image/png": "[encoded data removed]",
      "text/plain": [
       "<Figure size 360x144 with 1 Axes>"
      ]
     },
     "metadata": {},
     "output_type": "display_data"
    }
   ],
   "source": [
    "fig = plt.figure(figsize=(10/2,4/2))\n",
    "plt.hist(elo[-5000000:], bins=20)\n",
    "plt.axvline(x=elo.mean(), linewidth=2, color='lightblue')\n",
    "plt.text(elo.mean() + elo.mean()*.02,2500000 / 20, r\"$\\mu=%.2f$ Elo\" % elo.mean(), fontsize=12)\n",
    "#plt.title(\"Elo Rating\")\n",
    "plt.xlabel(r\"Rating\")\n",
    "plt.ylabel(r\"Number of Games\")\n",
    "if export_plots:\n",
    "    plt.savefig(\"plots/elo_rating.png\", bbox_inches='tight')\n",
    "    plt.savefig(\"plots/elo_rating.pdf\", bbox_inches='tight')"
   ]
  },
  {
   "cell_type": "code",
   "execution_count": 52,
   "metadata": {},
   "outputs": [
    {
     "data": {
      "image/png": "[encoded data removed]",
      "text/plain": [
       "<Figure size 360x144 with 1 Axes>"
      ]
     },
     "metadata": {},
     "output_type": "display_data"
    }
   ],
   "source": [
    "fig = plt.figure(figsize=(10/2,4/2))\n",
    "ax = df['Result'].value_counts()[::-1].plot('barh', color=[sns_cmap[0], sns_cmap[2], sns_cmap[1]])\n",
    "# Lastly, write in the ranking inside each bar to aid in interpretation\n",
    "for i, rect in enumerate(ax.patches):\n",
    "    # Rectangle widths are already integer-valued but are floating\n",
    "    # type, so it helps to remove the trailing decimal point and 0 by\n",
    "    # converting width to int type\n",
    "    width = int(rect.get_width())\n",
    "    rankStr = \"%.2f\" % (width/len(df)*100) + '\\%' #attach_ordinal(top_x-i)\n",
    "    # The bars aren't wide enough to print the ranking inside\n",
    "    if width < 5000:\n",
    "        # Shift the text to the right side of the right edge\n",
    "        xloc = 5\n",
    "        # Black against white background\n",
    "        clr = 'black'\n",
    "        align = 'left'\n",
    "    else:\n",
    "        # Shift the text to the left side of the right edge\n",
    "        xloc = -5\n",
    "        # White on magenta\n",
    "        clr = 'white'\n",
    "        align = 'right'\n",
    "\n",
    "    # Center the text vertically in the bar\n",
    "    yloc = rect.get_y() + rect.get_height() / 2\n",
    "    label = ax.annotate(rankStr, xy=(width, yloc), xytext=(xloc, 0),\n",
    "                        textcoords=\"offset points\",\n",
    "                        ha=align, va='center',\n",
    "                        color=clr, clip_on=True) #, weight='bold')\n",
    "    rect_labels.append(label)\n",
    "#plt.title('Game Results')\n",
    "plt.xlabel(\"Number of Games\")\n",
    "plt.ylabel(\"Game Results\")\n",
    "if export_plots:\n",
    "    plt.savefig(\"plots/game_result.png\", bbox_inches='tight')\n",
    "    plt.savefig(\"plots/game_result.pdf\", bbox_inches='tight')"
   ]
  },
  {
   "cell_type": "markdown",
   "metadata": {},
   "source": [
    "121571  games total\n",
    "White-Black-Draw: 80303-38796-2472\n",
    "White-Black-Draw: 66.05% 31.91% 2.03%"
   ]
  },
  {
   "cell_type": "code",
   "execution_count": 70,
   "metadata": {},
   "outputs": [
    {
     "data": {
      "image/png": "[encoded data removed]",
      "text/plain": [
       "<Figure size 360x144 with 1 Axes>"
      ]
     },
     "metadata": {},
     "output_type": "display_data"
    }
   ],
   "source": [
    "sf_games = np.array([2472, 38796, 80303])\n",
    "fig = plt.figure(figsize=(10/2,4/2))\n",
    "rects = plt.barh(range(3), sf_games, height=0.5, color=[sns_cmap[0], sns_cmap[2], sns_cmap[1]])\n",
    "ax = plt.gca()\n",
    "plt.yticks(range(3), ['1/2-1/2', '0-1', '1-0'])\n",
    "for i, rect in enumerate(rects):\n",
    "    # Rectangle widths are already integer-valued but are floating\n",
    "    # type, so it helps to remove the trailing decimal point and 0 by\n",
    "    # converting width to int type\n",
    "    width = int(rect.get_width())\n",
    "    rankStr = \"%.2f\" % (width/sf_games.sum()*100) + '\\%' #attach_ordinal(top_x-i)\n",
    "    # The bars aren't wide enough to print the ranking inside\n",
    "    if width < 5000:\n",
    "        # Shift the text to the right side of the right edge\n",
    "        xloc = 5\n",
    "        # Black against white background\n",
    "        clr = 'black'\n",
    "        align = 'left'\n",
    "    else:\n",
    "        # Shift the text to the left side of the right edge\n",
    "        xloc = -5\n",
    "        # White on magenta\n",
    "        clr = 'white'\n",
    "        align = 'right'\n",
    "\n",
    "    # Center the text vertically in the bar\n",
    "    yloc = rect.get_y() + rect.get_height() / 2 - 0.015\n",
    "    label = ax.annotate(rankStr, xy=(width, yloc), xytext=(xloc, 0),\n",
    "                        textcoords=\"offset points\",\n",
    "                        ha=align, va='center',\n",
    "                        color=clr, clip_on=True) #, weight='bold')\n",
    "plt.xlabel(\"Number of Games\")\n",
    "plt.ylabel(\"Game Results\")\n",
    "plt.ylim([-0.5,2.5])\n",
    "if export_plots:\n",
    "    plt.savefig(\"plots/sf_game_result.png\", bbox_inches='tight')\n",
    "    plt.savefig(\"plots/sf_game_result.pdf\", bbox_inches='tight')"
   ]
  },
  {
   "cell_type": "code",
   "execution_count": 64,
   "metadata": {},
   "outputs": [],
   "source": [
    "df_tc['TimeControl'] = df['TimeControl'].value_counts()[:15][::-1]"
   ]
  },
  {
   "cell_type": "code",
   "execution_count": 68,
   "metadata": {},
   "outputs": [],
   "source": [
    "df_tc['TC_Type'] = labels #pd.Series(labels)"
   ]
  },
  {
   "cell_type": "code",
   "execution_count": 63,
   "metadata": {},
   "outputs": [],
   "source": [
    "df_tc = pd.DataFrame()"
   ]
  },
  {
   "cell_type": "code",
   "execution_count": 69,
   "metadata": {},
   "outputs": [
    {
     "data": {
      "text/html": [
       "<div>\n",
       "<style scoped>\n",
       "    .dataframe tbody tr th:only-of-type {\n",
       "        vertical-align: middle;\n",
       "    }\n",
       "\n",
       "    .dataframe tbody tr th {\n",
       "        vertical-align: top;\n",
       "    }\n",
       "\n",
       "    .dataframe thead th {\n",
       "        text-align: right;\n",
       "    }\n",
       "</style>\n",
       "<table border=\"1\" class=\"dataframe\">\n",
       "  <thead>\n",
       "    <tr style=\"text-align: right;\">\n",
       "      <th></th>\n",
       "      <th>TimeControl</th>\n",
       "      <th>TC_Type</th>\n",
       "    </tr>\n",
       "  </thead>\n",
       "  <tbody>\n",
       "    <tr>\n",
       "      <th>120+1</th>\n",
       "      <td>1747</td>\n",
       "      <td>Bullet</td>\n",
       "    </tr>\n",
       "    <tr>\n",
       "      <th>120+2</th>\n",
       "      <td>1873</td>\n",
       "      <td>Blitz</td>\n",
       "    </tr>\n",
       "    <tr>\n",
       "      <th>60+2</th>\n",
       "      <td>2065</td>\n",
       "      <td>Bullet</td>\n",
       "    </tr>\n",
       "    <tr>\n",
       "      <th>0+1</th>\n",
       "      <td>3056</td>\n",
       "      <td>Bullet</td>\n",
       "    </tr>\n",
       "    <tr>\n",
       "      <th>90+0</th>\n",
       "      <td>3102</td>\n",
       "      <td>Blitz</td>\n",
       "    </tr>\n",
       "    <tr>\n",
       "      <th>45+0</th>\n",
       "      <td>5468</td>\n",
       "      <td>Blitz</td>\n",
       "    </tr>\n",
       "    <tr>\n",
       "      <th>60+1</th>\n",
       "      <td>10731</td>\n",
       "      <td>Blitz</td>\n",
       "    </tr>\n",
       "    <tr>\n",
       "      <th>240+2</th>\n",
       "      <td>13208</td>\n",
       "      <td>Blitz</td>\n",
       "    </tr>\n",
       "    <tr>\n",
       "      <th>180+2</th>\n",
       "      <td>21478</td>\n",
       "      <td>Bullet</td>\n",
       "    </tr>\n",
       "    <tr>\n",
       "      <th>180+1</th>\n",
       "      <td>25772</td>\n",
       "      <td>Bullet</td>\n",
       "    </tr>\n",
       "    <tr>\n",
       "      <th>300+0</th>\n",
       "      <td>43053</td>\n",
       "      <td>Bullet</td>\n",
       "    </tr>\n",
       "    <tr>\n",
       "      <th>120+0</th>\n",
       "      <td>48711</td>\n",
       "      <td>Bullet</td>\n",
       "    </tr>\n",
       "    <tr>\n",
       "      <th>30+0</th>\n",
       "      <td>56148</td>\n",
       "      <td>Bullet</td>\n",
       "    </tr>\n",
       "    <tr>\n",
       "      <th>180+0</th>\n",
       "      <td>64930</td>\n",
       "      <td>Blitz</td>\n",
       "    </tr>\n",
       "    <tr>\n",
       "      <th>60+0</th>\n",
       "      <td>257148</td>\n",
       "      <td>Bullet</td>\n",
       "    </tr>\n",
       "  </tbody>\n",
       "</table>\n",
       "</div>"
      ],
      "text/plain": [
       "       TimeControl TC_Type\n",
       "120+1         1747  Bullet\n",
       "120+2         1873   Blitz\n",
       "60+2          2065  Bullet\n",
       "0+1           3056  Bullet\n",
       "90+0          3102   Blitz\n",
       "45+0          5468   Blitz\n",
       "60+1         10731   Blitz\n",
       "240+2        13208   Blitz\n",
       "180+2        21478  Bullet\n",
       "180+1        25772  Bullet\n",
       "300+0        43053  Bullet\n",
       "120+0        48711  Bullet\n",
       "30+0         56148  Bullet\n",
       "180+0        64930   Blitz\n",
       "60+0        257148  Bullet"
      ]
     },
     "execution_count": 69,
     "metadata": {},
     "output_type": "execute_result"
    }
   ],
   "source": [
    "df_tc"
   ]
  },
  {
   "cell_type": "code",
   "execution_count": 79,
   "metadata": {},
   "outputs": [
    {
     "data": {
      "image/png": "[encoded data removed]",
      "text/plain": [
       "<Figure size 144x72 with 1 Axes>"
      ]
     },
     "metadata": {},
     "output_type": "display_data"
    }
   ],
   "source": [
    "sns.color_palette(palette='colorblind')\n",
    "sns.palplot(sns.cubehelix_palette(2))"
   ]
  },
  {
   "cell_type": "code",
   "execution_count": 17,
   "metadata": {},
   "outputs": [],
   "source": [
    "mapping = {'Bullet': sns_cmap[0],\n",
    "           'Blitz': sns_cmap[1]}"
   ]
  },
  {
   "cell_type": "code",
   "execution_count": 18,
   "metadata": {},
   "outputs": [],
   "source": [
    "labels_color = []\n",
    "for label in labels:\n",
    "    labels_color.append(mapping[label])"
   ]
  },
  {
   "cell_type": "code",
   "execution_count": 36,
   "metadata": {},
   "outputs": [
    {
     "data": {
      "image/png": "[encoded data removed]",
      "text/plain": [
       "<Figure size 432x288 with 1 Axes>"
      ]
     },
     "metadata": {},
     "output_type": "display_data"
    }
   ],
   "source": [
    "labels = ['Bullet', 'Blitz', 'Bullet', 'Bullet', 'Blitz', 'Blitz', 'Blitz', 'Blitz', 'Bullet', 'Bullet', 'Bullet', 'Bullet', 'Bullet', 'Blitz', 'Bullet']\n",
    "#ax = df_tc.plot.barh(title='Time Control', color=labels_color)\n",
    "ax = df['TimeControl'].value_counts()[:15][::-1].plot('barh', color=labels_color) #, label=labels[0])\n",
    "for i, rect in enumerate(ax.patches):\n",
    "    # Rectangle widths are already integer-valued but are floating\n",
    "    # type, so it helps to remove the trailing decimal point and 0 by\n",
    "    # converting width to int type\n",
    "    width = int(rect.get_width())\n",
    "    rankStr = \"%.2f\" % (width/len(df)*100) + '\\%' #attach_ordinal(top_x-i)\n",
    "    # The bars aren't wide enough to print the ranking inside\n",
    "    if True: #width < 100000:\n",
    "        # Shift the text to the right side of the right edge\n",
    "        xloc = 5\n",
    "        # Black against white background\n",
    "        clr = 'black'\n",
    "        align = 'left'\n",
    "    else:\n",
    "        # Shift the text to the left side of the right edge\n",
    "        xloc = -5\n",
    "        # White on magenta\n",
    "        clr = 'white'\n",
    "        align = 'right'\n",
    "\n",
    "    # Center the text vertically in the bar\n",
    "    yloc = rect.get_y() + rect.get_height() / 2 - 0.1\n",
    "    label = ax.annotate(rankStr, xy=(width, yloc), xytext=(xloc, 0),\n",
    "                        textcoords=\"offset points\",\n",
    "                        ha=align, va='center',\n",
    "                        color=clr, clip_on=True) #, weight='bold')\n",
    "    #rect_labels.append(label)\n",
    "plt.ylabel('Time Control')\n",
    "plt.xlabel('Number of Games')\n",
    "plt.legend()\n",
    "plt.xlim([0,300000])\n",
    "from matplotlib.lines import Line2D\n",
    "custom_lines = [Line2D([0], [0], color=sns_cmap[0], lw=4),\n",
    "                Line2D([0], [0], color=sns_cmap[1], lw=4),\n",
    "               ]\n",
    "ax.legend(custom_lines, ['Bullet', 'Blitz'], loc='lower right')\n",
    "if export_plots:\n",
    "    plt.savefig(\"plots/time_contol.png\", bbox_inches='tight')\n",
    "    plt.savefig(\"plots/time_contol.pdf\", bbox_inches='tight')"
   ]
  },
  {
   "cell_type": "code",
   "execution_count": 18,
   "metadata": {
    "scrolled": false
   },
   "outputs": [
    {
     "data": {
      "image/png": "[encoded data removed]",
      "text/plain": [
       "<Figure size 432x288 with 1 Axes>"
      ]
     },
     "metadata": {},
     "output_type": "display_data"
    }
   ],
   "source": [
    "import numpy as np\n",
    "import matplotlib.pyplot as plt\n",
    "%matplotlib inline\n",
    "\n",
    "# Example data\n",
    "t = np.arange(0.0, 1.0 + 0.01, 0.01)\n",
    "s = np.cos(4 * np.pi * t) + 2\n",
    "\n",
    "plt.rc('text', usetex=True)\n",
    "plt.rc('font', family='serif')\n",
    "plt.plot(t, s)\n",
    "\n",
    "plt.xlabel(r'\\textbf{time} (s)')\n",
    "plt.ylabel(r'\\textit{voltage} (mV)',fontsize=16)\n",
    "plt.title(r\"\\TeX\\ is Number \"\n",
    "          r\"$\\displaystyle\\sum_{n=1}^\\infty\\frac{-e^{i\\pi}}{2^n}$!\",\n",
    "          fontsize=16, color='gray')\n",
    "# Make room for the ridiculously large title.\n",
    "plt.subplots_adjust(top=0.8)\n",
    "\n",
    "plt.savefig('tex_demo')\n",
    "plt.show()"
   ]
  },
  {
   "cell_type": "code",
   "execution_count": null,
   "metadata": {},
   "outputs": [],
   "source": [
    "np.array(df['WhiteElo'].values, np.int).mean()"
   ]
  },
  {
   "cell_type": "code",
   "execution_count": null,
   "metadata": {},
   "outputs": [],
   "source": [
    "np.array(df['WhiteElo'].values, np.int).std()"
   ]
  },
  {
   "cell_type": "code",
   "execution_count": null,
   "metadata": {},
   "outputs": [],
   "source": [
    "df"
   ]
  },
  {
   "cell_type": "code",
   "execution_count": null,
   "metadata": {},
   "outputs": [],
   "source": []
  }
 ],
 "metadata": {
  "kernelspec": {
   "display_name": "Python 3",
   "language": "python",
   "name": "python3"
  },
  "language_info": {
   "codemirror_mode": {
    "name": "ipython",
    "version": 3
   },
   "file_extension": ".py",
   "mimetype": "text/x-python",
   "name": "python",
   "nbconvert_exporter": "python",
   "pygments_lexer": "ipython3",
   "version": "3.6.5"
  }
 },
 "nbformat": 4,
 "nbformat_minor": 2
}
